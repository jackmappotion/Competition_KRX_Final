{
 "cells": [
  {
   "cell_type": "code",
   "execution_count": 1,
   "metadata": {},
   "outputs": [
    {
     "data": {
      "text/plain": [
       "'\\nPBR : (시가총액) / (총 자본) = (주가 * 총 주식수) / (총 자산 - 총 부채)\\n'"
      ]
     },
     "execution_count": 1,
     "metadata": {},
     "output_type": "execute_result"
    }
   ],
   "source": [
    "# LOW_PRB\n",
    "\n",
    "\"\"\"\n",
    "PBR : (시가총액) / (총 자본) = (주가 * 총 주식수) / (총 자산 - 총 부채)\n",
    "\"\"\""
   ]
  },
  {
   "cell_type": "code",
   "execution_count": 2,
   "metadata": {},
   "outputs": [],
   "source": [
    "# imports\n",
    "\n",
    "import kquant as kq\n",
    "import datetime as dt\n",
    "\n",
    "\n",
    "# TMP\n",
    "\n",
    "import random\n",
    "from tqdm import tqdm"
   ]
  },
  {
   "cell_type": "code",
   "execution_count": 3,
   "metadata": {},
   "outputs": [],
   "source": [
    "# API_account\n",
    "def set_api_account():\n",
    "    kq.set_api(\"KRX2308020\", \"EQDkUcyI3dK6oIAXqAR8BXOK4bKxHHmH\")\n",
    "    return None"
   ]
  },
  {
   "cell_type": "code",
   "execution_count": 4,
   "metadata": {},
   "outputs": [],
   "source": [
    "set_api_account()"
   ]
  },
  {
   "cell_type": "code",
   "execution_count": 5,
   "metadata": {},
   "outputs": [],
   "source": [
    "# LOAD_DATA\n",
    "# class DATA_LOADER:\n",
    "class SYMBOL_LOADER:\n",
    "    @staticmethod\n",
    "    def load_symbols_df():\n",
    "        symbols_df = kq.symbol_stock()\n",
    "        return symbols_df\n",
    "\n",
    "    class SYMBOL_FILTER:\n",
    "        @staticmethod\n",
    "        def filter__market(symbols_df):\n",
    "            filtered_symbols_df = symbols_df[\n",
    "                (symbols_df[\"MARKET\"].isin([\"코스닥\", \"유가증권\"]))\n",
    "            ].copy()\n",
    "            return filtered_symbols_df\n",
    "\n",
    "        @staticmethod\n",
    "        def filter__admin_issue(symbols_df):\n",
    "            filtered_symbols_df = symbols_df[(symbols_df[\"ADMIN_ISSUE\"] == 0)].copy()\n",
    "            return filtered_symbols_df\n",
    "\n",
    "        @staticmethod\n",
    "        def filter_sec_type(symbols_df):\n",
    "            filtered_symbols_df = symbols_df[\n",
    "                symbols_df[\"SEC_TYPE\"].isin([\"ST\", \"EF\", \"EN\"])\n",
    "            ].copy()\n",
    "            return filtered_symbols_df\n",
    "\n",
    "    def filter_symbols_df(self, symbols_df):\n",
    "        symbol_filter = self.SYMBOL_FILTER()\n",
    "        filtered_symbols_df = symbol_filter.filter__market(symbols_df)\n",
    "        filtered_symbols_df = symbol_filter.filter__admin_issue(filtered_symbols_df)\n",
    "        filtered_symbols_df = symbol_filter.filter_sec_type(filtered_symbols_df)\n",
    "        return filtered_symbols_df\n",
    "\n",
    "    @staticmethod\n",
    "    def get_symbols(symbols_df):\n",
    "        symbols = sorted(set(symbols_df[\"SYMBOL\"]))\n",
    "        return symbols\n",
    "\n",
    "    # SYMBOL_LOADER PIPELINE\n",
    "    def __call__(self):\n",
    "        symbols_df = self.load_symbols_df()\n",
    "        filtered_symbols_df = self.filter_symbols_df(symbols_df)\n",
    "        symbols = self.get_symbols(filtered_symbols_df)\n",
    "        return symbols"
   ]
  },
  {
   "cell_type": "code",
   "execution_count": 6,
   "metadata": {},
   "outputs": [],
   "source": [
    "class FUNDAMENTAL_LOADER:\n",
    "    def __init__(self, symbol, date) -> None:\n",
    "        self.symbol = symbol\n",
    "        self.date = date\n",
    "        self.daily_stock_df = kq.daily_stock(\n",
    "            symbol,\n",
    "            start_date=date - dt.timedelta(days=7),\n",
    "            end_date=date,\n",
    "        )\n",
    "\n",
    "    def load_recent_close(self):\n",
    "        daily_stock_df = self.daily_stock_df\n",
    "        _close = daily_stock_df.sort_values(\"DATE\").tail(1)[\"CLOSE\"].values[0]\n",
    "        return _close\n",
    "\n",
    "    def load_recent_marketcap(self):\n",
    "        daily_stock_df = self.daily_stock_df\n",
    "        _marketcap = daily_stock_df.sort_values(\"DATE\").tail(1)[\"MARKETCAP\"].values[0]\n",
    "        return _marketcap\n",
    "\n",
    "    def load_recent_netprofit(self):\n",
    "        netprofit_df = kq.account_history(self.symbol, \"122700\")\n",
    "        netprofit_df.sort_values(\"YEARMONTH\", inplace=True)\n",
    "        _netprofit = netprofit_df.tail(1)[\"VALUE\"].values[0]\n",
    "        return _netprofit\n",
    "\n",
    "    def load_recent_capital(self):\n",
    "        capital_df = kq.account_history(self.symbol, \"115000\")\n",
    "        capital_df.sort_values(\"YEARMONTH\", inplace=True)\n",
    "        _capital = capital_df.tail(1)[\"VALUE\"].values[0]\n",
    "        return _capital\n",
    "\n",
    "    def __call__(self):\n",
    "        _close = self.load_recent_close()\n",
    "        _marketcap = self.load_recent_marketcap()\n",
    "        _netprofit = self.load_recent_netprofit()\n",
    "        _capital = self.load_recent_capital()\n",
    "        return {\n",
    "            \"symbol\": self.symbol,\n",
    "            \"close\": _close,\n",
    "            \"marketcap\": _marketcap,\n",
    "            \"netprofit\": _netprofit,\n",
    "            \"capital\": _capital,\n",
    "        }"
   ]
  },
  {
   "cell_type": "code",
   "execution_count": 7,
   "metadata": {},
   "outputs": [],
   "source": [
    "symbol_loader = SYMBOL_LOADER()\n",
    "total_symbols = symbol_loader()"
   ]
  },
  {
   "cell_type": "code",
   "execution_count": 8,
   "metadata": {},
   "outputs": [],
   "source": [
    "date = dt.date(2023,6,7)"
   ]
  },
  {
   "cell_type": "code",
   "execution_count": 9,
   "metadata": {},
   "outputs": [
    {
     "name": "stderr",
     "output_type": "stream",
     "text": [
      "100%|██████████| 3547/3547 [14:46<00:00,  4.00it/s]\n"
     ]
    }
   ],
   "source": [
    "fundamental_data_results = list()\n",
    "for symbol in tqdm(total_symbols):\n",
    "    try:\n",
    "        fundamental_loader = FUNDAMENTAL_LOADER(symbol=symbol, date=date)\n",
    "        _fundamental_data = fundamental_loader()\n",
    "        fundamental_data_results.append(_fundamental_data)\n",
    "    except:\n",
    "        pass\n",
    "\n",
    "fundamental_df = pd.DataFrame(fundamental_data_results)"
   ]
  },
  {
   "cell_type": "code",
   "execution_count": null,
   "metadata": {},
   "outputs": [],
   "source": [
    "fundamental_df = pd.DataFrame(fundamental_data_results)"
   ]
  },
  {
   "cell_type": "code",
   "execution_count": null,
   "metadata": {},
   "outputs": [],
   "source": [
    "fundamental_df[\"pbr\"] = fundamental_df[\"marketcap\"] / fundamental_df[\"capital\"]"
   ]
  },
  {
   "cell_type": "code",
   "execution_count": null,
   "metadata": {},
   "outputs": [],
   "source": [
    "fundamental_df[\"pbr\"] = fundamental_df[\"marketcap\"] / fundamental_df[\"capital\"]\n",
    "low_pbr_df = fundamental_df.nsmallest(5, \"pbr\")"
   ]
  },
  {
   "cell_type": "code",
   "execution_count": null,
   "metadata": {},
   "outputs": [],
   "source": [
    "fundamental_df[\"pbr\"] = fundamental_df[\"marketcap\"] / fundamental_df[\"capital\"]\n",
    "low_pbr_df = fundamental_df.nsmallest(5, \"pbr\")\n",
    "low_pbr_df[\"pbr_weight\"] = low_pbr_df[\"pbr\"].sum() / low_pbr_df[\"pbr\"]"
   ]
  },
  {
   "cell_type": "code",
   "execution_count": null,
   "metadata": {},
   "outputs": [],
   "source": [
    "fundamental_df[\"pbr\"] = fundamental_df[\"marketcap\"] / fundamental_df[\"capital\"]\n",
    "low_pbr_df = fundamental_df.nsmallest(5, \"pbr\")\n",
    "low_pbr_df[\"pbr_weight\"] = low_pbr_df[\"pbr\"].sum() / low_pbr_df[\"pbr\"]\n",
    "low_pbr_df[\"price_invest\"] = (\n",
    "    low_pbr_df[\"pbr_weight\"] / low_pbr_df[\"pbr_weight\"].sum()\n",
    ") * 10000000"
   ]
  },
  {
   "cell_type": "code",
   "execution_count": null,
   "metadata": {},
   "outputs": [],
   "source": [
    "fundamental_df[\"pbr\"] = fundamental_df[\"marketcap\"] / fundamental_df[\"capital\"]\n",
    "low_pbr_df = fundamental_df.nsmallest(5, \"pbr\")\n",
    "low_pbr_df[\"pbr_weight\"] = low_pbr_df[\"pbr\"].sum() / low_pbr_df[\"pbr\"]\n",
    "low_pbr_df[\"price_invest\"] = (\n",
    "    low_pbr_df[\"pbr_weight\"] / low_pbr_df[\"pbr_weight\"].sum()\n",
    ") * 10000000\n",
    "low_pbr_df[\"cnt_invest\"] = low_pbr_df[\"price_invest\"] // low_pbr_df[\"close\"]"
   ]
  },
  {
   "cell_type": "code",
   "execution_count": null,
   "metadata": {},
   "outputs": [
    {
     "data": {
      "text/plain": [
       "[('036530', 240),\n",
       " ('128820', 469),\n",
       " ('127710', 935),\n",
       " ('001290', 2227),\n",
       " ('005380', 8)]"
      ]
     },
     "metadata": {},
     "output_type": "display_data"
    }
   ],
   "source": [
    "fundamental_df[\"pbr\"] = fundamental_df[\"marketcap\"] / fundamental_df[\"capital\"]\n",
    "low_pbr_df = fundamental_df.nsmallest(5, \"pbr\")\n",
    "low_pbr_df[\"pbr_weight\"] = low_pbr_df[\"pbr\"].sum() / low_pbr_df[\"pbr\"]\n",
    "low_pbr_df[\"price_invest\"] = (\n",
    "    low_pbr_df[\"pbr_weight\"] / low_pbr_df[\"pbr_weight\"].sum()\n",
    ") * 10000000\n",
    "low_pbr_df[\"cnt_invest\"] = low_pbr_df[\"price_invest\"] // low_pbr_df[\"close\"]\n",
    "list(low_pbr_df.set_index(\"symbol\")['cnt_invest'].astype(int).to_dict().items())"
   ]
  },
  {
   "cell_type": "code",
   "execution_count": null,
   "metadata": {},
   "outputs": [],
   "source": [
    "# Signiture\n",
    "import pandas as pd\n",
    "import datetime as dt\n",
    "import logging\n",
    "\n",
    "\n",
    "def trade_func(\n",
    "    date: dt.date,\n",
    "    dict_df_result: dict[str, pd.DataFrame],\n",
    "    dict_df_position: dict[str, pd.DataFrame],\n",
    "    logger: logging.Logger,\n",
    ") -> list[tuple[str, int]]:\n",
    "    daily_invest_money = 20000000\n",
    "\n",
    "    \"\"\"LOAD DATA\"\"\"\n",
    "\n",
    "    \"\"\" LOAD DATA (SYMBOL) \"\"\"\n",
    "    symbol_loader = SYMBOL_LOADER()\n",
    "    total_symbols = symbol_loader()\n",
    "\n",
    "    # tmp\n",
    "    total_symbols = random.sample(total_symbols, 50)\n",
    "\n",
    "    \"\"\" LOAD DATA (FUNDAMENTAL) \"\"\"\n",
    "    fundamental_data_results = list()\n",
    "\n",
    "    for symbol in total_symbols:\n",
    "        try:\n",
    "            fundamental_loader = FUNDAMENTAL_LOADER(symbol=symbol, date=date)\n",
    "            _fundamental_data = fundamental_loader()\n",
    "            fundamental_data_results.append(_fundamental_data)\n",
    "        except:\n",
    "            pass\n",
    "\n",
    "    fundamental_df = pd.DataFrame(fundamental_data_results)\n",
    "    fundamental_df[\"pbr\"] = fundamental_df[\"marketcap\"] / fundamental_df[\"capital\"]\n",
    "    low_pbr_df = fundamental_df.nsmallest(5, \"pbr\")\n",
    "    low_pbr_df[\"pbr_weight\"] = low_pbr_df[\"pbr\"].sum() / low_pbr_df[\"pbr\"]\n",
    "    low_pbr_df[\"price_invest\"] = (\n",
    "        low_pbr_df[\"pbr_weight\"] / low_pbr_df[\"pbr_weight\"].sum()\n",
    "    ) * daily_invest_money\n",
    "    low_pbr_df[\"cnt_invest\"] = low_pbr_df[\"price_invest\"] // low_pbr_df[\"close\"]\n",
    "    symbols_and_orders = list(\n",
    "        low_pbr_df.set_index(\"symbol\")[\"cnt_invest\"].astype(int).to_dict().items()\n",
    "    )\n",
    "    print(date)\n",
    "    return symbols_and_orders"
   ]
  },
  {
   "cell_type": "code",
   "execution_count": null,
   "metadata": {},
   "outputs": [
    {
     "name": "stderr",
     "output_type": "stream",
     "text": [
      "[2023-08-01] 종목: 001040, 주문전 보유수량:      0 주문수량:    132, 매매수량:    132, 주문후 보유수량:    132\n",
      "[2023-08-01] 종목: 004150, 주문전 보유수량:      0 주문수량:  1,582, 매매수량:  1,582, 주문후 보유수량:  1,582\n",
      "[2023-08-01] 종목: 005430, 주문전 보유수량:      0 주문수량:     73, 매매수량:     73, 주문후 보유수량:     73\n",
      "[2023-08-01] 종목: 010400, 주문전 보유수량:      0 주문수량:    398, 매매수량:    398, 주문후 보유수량:    398\n"
     ]
    },
    {
     "name": "stdout",
     "output_type": "stream",
     "text": [
      "2023-08-01\n"
     ]
    },
    {
     "name": "stderr",
     "output_type": "stream",
     "text": [
      "[2023-08-01] 종목: 103140, 주문전 보유수량:      0 주문수량:     46, 매매수량:     46, 주문후 보유수량:     46\n",
      "[2023-08-02] 종목: 037400, 주문전 보유수량:      0 주문수량:  3,933, 매매수량:  3,933, 주문후 보유수량:  3,933\n",
      "[2023-08-02] 종목: 084690, 주문전 보유수량:      0 주문수량:    645, 매매수량:    645, 주문후 보유수량:    645\n",
      "[2023-08-02] 종목: 006200, 주문전 보유수량:      0 주문수량:  3,707, 매매수량:  3,707, 주문후 보유수량:  3,707\n",
      "[2023-08-02] 종목: 069960, 주문전 보유수량:      0 주문수량:     57, 매매수량:     57, 주문후 보유수량:     57\n"
     ]
    },
    {
     "name": "stdout",
     "output_type": "stream",
     "text": [
      "2023-08-02\n"
     ]
    },
    {
     "name": "stderr",
     "output_type": "stream",
     "text": [
      "[2023-08-02] 종목: 057050, 주문전 보유수량:      0 주문수량:     61, 매매수량:     61, 주문후 보유수량:     61\n",
      "[2023-08-03] 종목: 016610, 주문전 보유수량:      0 주문수량:  1,491, 매매수량:  1,491, 주문후 보유수량:  1,491\n",
      "[2023-08-03] 종목: 002920, 주문전 보유수량:      0 주문수량:  1,588, 매매수량:  1,588, 주문후 보유수량:  1,588\n",
      "[2023-08-03] 종목: 015760, 주문전 보유수량:      0 주문수량:    173, 매매수량:    173, 주문후 보유수량:    173\n",
      "[2023-08-03] 종목: 104480, 주문전 보유수량:      0 주문수량:  1,470, 매매수량:  1,470, 주문후 보유수량:  1,470\n"
     ]
    },
    {
     "name": "stdout",
     "output_type": "stream",
     "text": [
      "2023-08-03\n"
     ]
    },
    {
     "name": "stderr",
     "output_type": "stream",
     "text": [
      "[2023-08-03] 종목: 015360, 주문전 보유수량:      0 주문수량:     84, 매매수량:     84, 주문후 보유수량:     84\n",
      "[2023-08-04] 종목: 005710, 주문전 보유수량:      0 주문수량:    851, 매매수량:    851, 주문후 보유수량:    851\n",
      "[2023-08-04] 종목: 033920, 주문전 보유수량:      0 주문수량:    786, 매매수량:    786, 주문후 보유수량:    786\n",
      "[2023-08-04] 종목: 004540, 주문전 보유수량:      0 주문수량:  1,748, 매매수량:  1,748, 주문후 보유수량:  1,748\n",
      "[2023-08-04] 종목: 004060, 주문전 보유수량:      0 주문수량:  7,669, 매매수량:  7,669, 주문후 보유수량:  7,669\n"
     ]
    },
    {
     "name": "stdout",
     "output_type": "stream",
     "text": [
      "2023-08-04\n"
     ]
    },
    {
     "name": "stderr",
     "output_type": "stream",
     "text": [
      "[2023-08-04] 종목: 006650, 주문전 보유수량:      0 주문수량:     21, 매매수량:     21, 주문후 보유수량:     21\n",
      "[2023-08-07] 종목: 375500, 주문전 보유수량:      0 주문수량:    166, 매매수량:    166, 주문후 보유수량:    166\n",
      "[2023-08-07] 종목: 032940, 주문전 보유수량:      0 주문수량:  1,383, 매매수량:  1,383, 주문후 보유수량:  1,383\n",
      "[2023-08-07] 종목: 060980, 주문전 보유수량:      0 주문수량:     91, 매매수량:     91, 주문후 보유수량:     91\n",
      "[2023-08-07] 종목: 083640, 주문전 보유수량:      0 주문수량:  5,717, 매매수량:  5,717, 주문후 보유수량:  5,717\n"
     ]
    },
    {
     "name": "stdout",
     "output_type": "stream",
     "text": [
      "2023-08-07\n"
     ]
    },
    {
     "name": "stderr",
     "output_type": "stream",
     "text": [
      "[2023-08-07] 종목: 377460, 주문전 보유수량:      0 주문수량:    641, 매매수량:    641, 주문후 보유수량:    641\n",
      "[2023-08-08] 종목: 151860, 주문전 보유수량:      0 주문수량:    496, 매매수량:    496, 주문후 보유수량:    496\n",
      "[2023-08-08] 종목: 004440, 주문전 보유수량:      0 주문수량:    948, 매매수량:    948, 주문후 보유수량:    948\n",
      "[2023-08-08] 종목: 363280, 주문전 보유수량:      0 주문수량:    563, 매매수량:    563, 주문후 보유수량:    563\n",
      "[2023-08-08] 종목: 011370, 주문전 보유수량:      0 주문수량:  3,518, 매매수량:  3,518, 주문후 보유수량:  3,518\n"
     ]
    },
    {
     "name": "stdout",
     "output_type": "stream",
     "text": [
      "2023-08-08\n"
     ]
    },
    {
     "name": "stderr",
     "output_type": "stream",
     "text": [
      "[2023-08-08] 종목: 013570, 주문전 보유수량:      0 주문수량:    511, 매매수량:    511, 주문후 보유수량:    511\n",
      "[2023-08-09] 종목: 005740, 주문전 보유수량:      0 주문수량:  1,348, 매매수량:  1,348, 주문후 보유수량:  1,348\n",
      "[2023-08-09] 종목: 095910, 주문전 보유수량:      0 주문수량:  1,571, 매매수량:  1,571, 주문후 보유수량:  1,571\n",
      "[2023-08-09] 종목: 016710, 주문전 보유수량:      0 주문수량:    221, 매매수량:    221, 주문후 보유수량:    221\n",
      "[2023-08-09] 종목: 010400, 주문전 보유수량:    398 주문수량:    505, 매매수량:    505, 주문후 보유수량:    903\n"
     ]
    },
    {
     "name": "stdout",
     "output_type": "stream",
     "text": [
      "2023-08-09\n"
     ]
    },
    {
     "name": "stderr",
     "output_type": "stream",
     "text": [
      "[2023-08-09] 종목: 031820, 주문전 보유수량:      0 주문수량:  3,386, 매매수량:  3,386, 주문후 보유수량:  3,386\n",
      "[2023-08-10] 종목: 091340, 주문전 보유수량:      0 주문수량:  2,011, 매매수량:  2,011, 주문후 보유수량:  2,011\n",
      "[2023-08-10] 종목: 003610, 주문전 보유수량:      0 주문수량:  1,582, 매매수량:  1,582, 주문후 보유수량:  1,582\n",
      "[2023-08-10] 종목: 075130, 주문전 보유수량:      0 주문수량:  1,559, 매매수량:  1,559, 주문후 보유수량:  1,559\n",
      "[2023-08-10] 종목: 035000, 주문전 보유수량:      0 주문수량:    574, 매매수량:    574, 주문후 보유수량:    574\n"
     ]
    },
    {
     "name": "stdout",
     "output_type": "stream",
     "text": [
      "2023-08-10\n"
     ]
    },
    {
     "name": "stderr",
     "output_type": "stream",
     "text": [
      "[2023-08-10] 종목: 036800, 주문전 보유수량:      0 주문수량:    116, 매매수량:    116, 주문후 보유수량:    116\n",
      "[2023-08-11] 종목: 034730, 주문전 보유수량:      0 주문수량:     46, 매매수량:     46, 주문후 보유수량:     46\n",
      "[2023-08-11] 종목: 002880, 주문전 보유수량:      0 주문수량:  6,291, 매매수량:  6,291, 주문후 보유수량:  6,291\n",
      "[2023-08-11] 종목: 091340, 주문전 보유수량:  2,011 주문수량:  1,107, 매매수량:  1,107, 주문후 보유수량:  3,118\n"
     ]
    },
    {
     "name": "stdout",
     "output_type": "stream",
     "text": [
      "2023-08-11\n"
     ]
    },
    {
     "name": "stderr",
     "output_type": "stream",
     "text": [
      "[2023-08-11] 종목: 032560, 주문전 보유수량:      0 주문수량:    362, 매매수량:    362, 주문후 보유수량:    362\n",
      "[2023-08-11] 종목: 130740, 주문전 보유수량:      0 주문수량:  1,076, 매매수량:  1,076, 주문후 보유수량:  1,076\n",
      "[2023-08-14] 종목: 004960, 주문전 보유수량:      0 주문수량:    881, 매매수량:    881, 주문후 보유수량:    881\n",
      "[2023-08-14] 종목: 035810, 주문전 보유수량:      0 주문수량:  1,436, 매매수량:  1,436, 주문후 보유수량:  1,436\n",
      "[2023-08-14] 종목: 027410, 주문전 보유수량:      0 주문수량:  1,012, 매매수량:  1,012, 주문후 보유수량:  1,012\n",
      "[2023-08-14] 종목: 004970, 주문전 보유수량:      0 주문수량:    334, 매매수량:    334, 주문후 보유수량:    334\n"
     ]
    },
    {
     "name": "stdout",
     "output_type": "stream",
     "text": [
      "2023-08-14\n"
     ]
    },
    {
     "name": "stderr",
     "output_type": "stream",
     "text": [
      "[2023-08-14] 종목: 009580, 주문전 보유수량:      0 주문수량:    728, 매매수량:    728, 주문후 보유수량:    728\n",
      "[2023-08-16] 종목: 000210, 주문전 보유수량:      0 주문수량:    149, 매매수량:    149, 주문후 보유수량:    149\n",
      "[2023-08-16] 종목: 006840, 주문전 보유수량:      0 주문수량:    227, 매매수량:    227, 주문후 보유수량:    227\n",
      "[2023-08-16] 종목: 000320, 주문전 보유수량:      0 주문수량:    382, 매매수량:    382, 주문후 보유수량:    382\n",
      "[2023-08-16] 종목: 016590, 주문전 보유수량:      0 주문수량:    526, 매매수량:    526, 주문후 보유수량:    526\n"
     ]
    },
    {
     "name": "stdout",
     "output_type": "stream",
     "text": [
      "2023-08-16\n"
     ]
    },
    {
     "name": "stderr",
     "output_type": "stream",
     "text": [
      "[2023-08-16] 종목: 050120, 주문전 보유수량:      0 주문수량:    668, 매매수량:    668, 주문후 보유수량:    668\n",
      "[2023-08-17] 종목: 037400, 주문전 보유수량:  3,933 주문수량:  5,537, 매매수량:  5,537, 주문후 보유수량:  9,470\n",
      "[2023-08-17] 종목: 057050, 주문전 보유수량:     61 주문수량:     86, 매매수량:     86, 주문후 보유수량:    147\n",
      "[2023-08-17] 종목: 007160, 주문전 보유수량:      0 주문수량:     81, 매매수량:     81, 주문후 보유수량:     81\n",
      "[2023-08-17] 종목: 001720, 주문전 보유수량:      0 주문수량:     47, 매매수량:     47, 주문후 보유수량:     47\n"
     ]
    },
    {
     "name": "stdout",
     "output_type": "stream",
     "text": [
      "2023-08-17\n"
     ]
    },
    {
     "name": "stderr",
     "output_type": "stream",
     "text": [
      "[2023-08-17] 종목: 083640, 주문전 보유수량:  5,717 주문수량:  4,656, 매매수량:  4,656, 주문후 보유수량: 10,373\n",
      "[2023-08-18] 종목: 032190, 주문전 보유수량:      0 주문수량:    800, 매매수량:    800, 주문후 보유수량:    800\n",
      "[2023-08-18] 종목: 006060, 주문전 보유수량:      0 주문수량:  1,001, 매매수량:  1,001, 주문후 보유수량:  1,001\n",
      "[2023-08-18] 종목: 002200, 주문전 보유수량:      0 주문수량:    846, 매매수량:    846, 주문후 보유수량:    846\n",
      "[2023-08-18] 종목: 108670, 주문전 보유수량:      0 주문수량:     33, 매매수량:     33, 주문후 보유수량:     33\n"
     ]
    },
    {
     "name": "stdout",
     "output_type": "stream",
     "text": [
      "2023-08-18\n"
     ]
    },
    {
     "name": "stderr",
     "output_type": "stream",
     "text": [
      "[2023-08-18] 종목: 079960, 주문전 보유수량:      0 주문수량:     73, 매매수량:     73, 주문후 보유수량:     73\n",
      "[2023-08-21] 종목: 006200, 주문전 보유수량:  3,707 주문수량:  6,899, 매매수량:  6,899, 주문후 보유수량: 10,606\n",
      "[2023-08-21] 종목: 101330, 주문전 보유수량:      0 주문수량:  1,411, 매매수량:  1,411, 주문후 보유수량:  1,411\n",
      "[2023-08-21] 종목: 001620, 주문전 보유수량:      0 주문수량:  4,998, 매매수량:  4,998, 주문후 보유수량:  4,998\n",
      "[2023-08-21] 종목: 005090, 주문전 보유수량:      0 주문수량:     95, 매매수량:     95, 주문후 보유수량:     95\n"
     ]
    },
    {
     "name": "stdout",
     "output_type": "stream",
     "text": [
      "2023-08-21\n"
     ]
    },
    {
     "name": "stderr",
     "output_type": "stream",
     "text": [
      "[2023-08-21] 종목: 244920, 주문전 보유수량:      0 주문수량:    515, 매매수량:    515, 주문후 보유수량:    515\n",
      "[2023-08-22] 종목: 001230, 주문전 보유수량:      0 주문수량:    973, 매매수량:    973, 주문후 보유수량:    973\n",
      "[2023-08-22] 종목: 001390, 주문전 보유수량:      0 주문수량:    323, 매매수량:    323, 주문후 보유수량:    323\n",
      "[2023-08-22] 종목: 039020, 주문전 보유수량:      0 주문수량:    986, 매매수량:    986, 주문후 보유수량:    986\n",
      "[2023-08-22] 종목: 267290, 주문전 보유수량:      0 주문수량:     99, 매매수량:     99, 주문후 보유수량:     99\n"
     ]
    },
    {
     "name": "stdout",
     "output_type": "stream",
     "text": [
      "2023-08-22\n"
     ]
    },
    {
     "name": "stderr",
     "output_type": "stream",
     "text": [
      "[2023-08-22] 종목: 122690, 주문전 보유수량:      0 주문수량:    458, 매매수량:    458, 주문후 보유수량:    458\n",
      "[2023-08-23] 종목: 003240, 주문전 보유수량:      0 주문수량:     11, 매매수량:     11, 주문후 보유수량:     11\n",
      "[2023-08-23] 종목: 002030, 주문전 보유수량:      0 주문수량:     33, 매매수량:     33, 주문후 보유수량:     33\n"
     ]
    },
    {
     "name": "stdout",
     "output_type": "stream",
     "text": [
      "2023-08-23\n"
     ]
    },
    {
     "name": "stderr",
     "output_type": "stream",
     "text": [
      "[2023-08-23] 종목: 003030, 주문전 보유수량:      0 주문수량:     15, 매매수량:     15, 주문후 보유수량:     15\n",
      "[2023-08-23] 종목: 082850, 주문전 보유수량:      0 주문수량:  1,238, 매매수량:  1,238, 주문후 보유수량:  1,238\n",
      "[2023-08-23] 종목: 000120, 주문전 보유수량:      0 주문수량:     29, 매매수량:     29, 주문후 보유수량:     29\n",
      "[2023-08-24] 종목: 036530, 주문전 보유수량:      0 주문수량:    371, 매매수량:    371, 주문후 보유수량:    371\n",
      "[2023-08-24] 종목: 016610, 주문전 보유수량:  1,491 주문수량:  1,299, 매매수량:  1,299, 주문후 보유수량:  2,790\n",
      "[2023-08-24] 종목: 004990, 주문전 보유수량:      0 주문수량:    134, 매매수량:    134, 주문후 보유수량:    134\n",
      "[2023-08-24] 종목: 024110, 주문전 보유수량:      0 주문수량:    286, 매매수량:    286, 주문후 보유수량:    286\n"
     ]
    },
    {
     "name": "stdout",
     "output_type": "stream",
     "text": [
      "2023-08-24\n"
     ]
    },
    {
     "name": "stderr",
     "output_type": "stream",
     "text": [
      "[2023-08-24] 종목: 122690, 주문전 보유수량:    458 주문수량:    700, 매매수량:    700, 주문후 보유수량:  1,158\n",
      "[2023-08-25] 종목: 021320, 주문전 보유수량:      0 주문수량:    935, 매매수량:    935, 주문후 보유수량:    935\n",
      "[2023-08-25] 종목: 065690, 주문전 보유수량:      0 주문수량:  2,571, 매매수량:  2,571, 주문후 보유수량:  2,571\n",
      "[2023-08-25] 종목: 075180, 주문전 보유수량:      0 주문수량:    865, 매매수량:    865, 주문후 보유수량:    865\n",
      "[2023-08-25] 종목: 002870, 주문전 보유수량:      0 주문수량:  4,196, 매매수량:  4,196, 주문후 보유수량:  4,196\n"
     ]
    },
    {
     "name": "stdout",
     "output_type": "stream",
     "text": [
      "2023-08-25\n"
     ]
    },
    {
     "name": "stderr",
     "output_type": "stream",
     "text": [
      "[2023-08-25] 종목: 183190, 주문전 보유수량:      0 주문수량:    370, 매매수량:    370, 주문후 보유수량:    370\n",
      "[2023-08-28] 종목: 001130, 주문전 보유수량:      0 주문수량:     37, 매매수량:     37, 주문후 보유수량:     37\n",
      "[2023-08-28] 종목: 037350, 주문전 보유수량:      0 주문수량:  1,171, 매매수량:  1,171, 주문후 보유수량:  1,171\n",
      "[2023-08-28] 종목: 000050, 주문전 보유수량:      0 주문수량:    399, 매매수량:    399, 주문후 보유수량:    399\n",
      "[2023-08-28] 종목: 213500, 주문전 보유수량:      0 주문수량:    333, 매매수량:    333, 주문후 보유수량:    333\n"
     ]
    },
    {
     "name": "stdout",
     "output_type": "stream",
     "text": [
      "2023-08-28\n"
     ]
    },
    {
     "name": "stderr",
     "output_type": "stream",
     "text": [
      "[2023-08-28] 종목: 042420, 주문전 보유수량:      0 주문수량:    127, 매매수량:    127, 주문후 보유수량:    127\n",
      "[2023-08-29] 종목: 002880, 주문전 보유수량:  6,291 주문수량:  9,897, 매매수량:  9,897, 주문후 보유수량: 16,188\n",
      "[2023-08-29] 종목: 038540, 주문전 보유수량:      0 주문수량:  1,025, 매매수량:  1,025, 주문후 보유수량:  1,025\n",
      "[2023-08-29] 종목: 084010, 주문전 보유수량:      0 주문수량:    273, 매매수량:    273, 주문후 보유수량:    273\n",
      "[2023-08-29] 종목: 036420, 주문전 보유수량:      0 주문수량:    214, 매매수량:    214, 주문후 보유수량:    214\n"
     ]
    },
    {
     "name": "stdout",
     "output_type": "stream",
     "text": [
      "2023-08-29\n"
     ]
    },
    {
     "name": "stderr",
     "output_type": "stream",
     "text": [
      "[2023-08-29] 종목: 054940, 주문전 보유수량:      0 주문수량:  2,790, 매매수량:  2,790, 주문후 보유수량:  2,790\n",
      "[2023-08-30] 종목: 003240, 주문전 보유수량:     11 주문수량:      9, 매매수량:      9, 주문후 보유수량:     20\n",
      "[2023-08-30] 종목: 001940, 주문전 보유수량:      0 주문수량:    266, 매매수량:    266, 주문후 보유수량:    266\n",
      "[2023-08-30] 종목: 011370, 주문전 보유수량:  3,518 주문수량:  3,544, 매매수량:  3,544, 주문후 보유수량:  7,062\n"
     ]
    },
    {
     "name": "stdout",
     "output_type": "stream",
     "text": [
      "2023-08-30\n"
     ]
    },
    {
     "name": "stderr",
     "output_type": "stream",
     "text": [
      "[2023-08-30] 종목: 035760, 주문전 보유수량:      0 주문수량:     52, 매매수량:     52, 주문후 보유수량:     52\n",
      "[2023-08-30] 종목: 053210, 주문전 보유수량:      0 주문수량:    414, 매매수량:    414, 주문후 보유수량:    414\n"
     ]
    }
   ],
   "source": [
    "dict_df_result = kq.backtest_stock_port_daily(\n",
    "    trade_func,\n",
    "    \"2023-08-01\",  # 실제 심사에서는 투자기간 시작일\n",
    "    \"2023-08-30\",  # 실제 심사에서는 투자기간 종료일\n",
    "    init_cash=1_000_000_000,  # 10억원\n",
    ")"
   ]
  },
  {
   "cell_type": "code",
   "execution_count": null,
   "metadata": {},
   "outputs": [],
   "source": [
    "total_df=dict_df_result['TOTAL']"
   ]
  },
  {
   "cell_type": "code",
   "execution_count": null,
   "metadata": {},
   "outputs": [
    {
     "data": {
      "text/html": [
       "<div>\n",
       "<style scoped>\n",
       "    .dataframe tbody tr th:only-of-type {\n",
       "        vertical-align: middle;\n",
       "    }\n",
       "\n",
       "    .dataframe tbody tr th {\n",
       "        vertical-align: top;\n",
       "    }\n",
       "\n",
       "    .dataframe thead th {\n",
       "        text-align: right;\n",
       "    }\n",
       "</style>\n",
       "<table border=\"1\" class=\"dataframe\">\n",
       "  <thead>\n",
       "    <tr style=\"text-align: right;\">\n",
       "      <th></th>\n",
       "      <th>DATE</th>\n",
       "      <th>SYMBOL</th>\n",
       "      <th>PRICE</th>\n",
       "      <th>ORDER</th>\n",
       "      <th>QTY</th>\n",
       "      <th>TRADE_PRICE</th>\n",
       "      <th>POSITION</th>\n",
       "      <th>AVG_PRICE</th>\n",
       "      <th>FEE</th>\n",
       "      <th>TRADE_TAX</th>\n",
       "      <th>SLIPPAGE</th>\n",
       "      <th>CASHFLOW</th>\n",
       "      <th>CASH</th>\n",
       "      <th>HIST_VALUE</th>\n",
       "      <th>STOCK_VALUE</th>\n",
       "      <th>TOTAL_VALUE</th>\n",
       "      <th>REAL_PROFIT</th>\n",
       "      <th>UNREAL_PROFIT</th>\n",
       "      <th>PROFIT</th>\n",
       "      <th>HIGHWATERMARK</th>\n",
       "      <th>DRAWDOWN</th>\n",
       "    </tr>\n",
       "  </thead>\n",
       "  <tbody>\n",
       "    <tr>\n",
       "      <th>0</th>\n",
       "      <td>2023-08-01</td>\n",
       "      <td>TOTAL</td>\n",
       "      <td>0</td>\n",
       "      <td>0</td>\n",
       "      <td>0</td>\n",
       "      <td>0</td>\n",
       "      <td>2,231</td>\n",
       "      <td>0.0000</td>\n",
       "      <td>0</td>\n",
       "      <td>0</td>\n",
       "      <td>0</td>\n",
       "      <td>-19,974,250</td>\n",
       "      <td>980,025,750</td>\n",
       "      <td>19,974,250</td>\n",
       "      <td>19,974,250</td>\n",
       "      <td>1,000,000,000</td>\n",
       "      <td>0</td>\n",
       "      <td>0</td>\n",
       "      <td>0</td>\n",
       "      <td>1,000,000,000</td>\n",
       "      <td>0</td>\n",
       "    </tr>\n",
       "    <tr>\n",
       "      <th>1</th>\n",
       "      <td>2023-08-02</td>\n",
       "      <td>TOTAL</td>\n",
       "      <td>0</td>\n",
       "      <td>0</td>\n",
       "      <td>0</td>\n",
       "      <td>0</td>\n",
       "      <td>10,634</td>\n",
       "      <td>0.0000</td>\n",
       "      <td>0</td>\n",
       "      <td>0</td>\n",
       "      <td>0</td>\n",
       "      <td>-19,977,351</td>\n",
       "      <td>960,048,399</td>\n",
       "      <td>39,951,601</td>\n",
       "      <td>39,853,321</td>\n",
       "      <td>999,901,720</td>\n",
       "      <td>0</td>\n",
       "      <td>-98,280</td>\n",
       "      <td>-98,280</td>\n",
       "      <td>1,000,000,000</td>\n",
       "      <td>98,280</td>\n",
       "    </tr>\n",
       "    <tr>\n",
       "      <th>2</th>\n",
       "      <td>2023-08-03</td>\n",
       "      <td>TOTAL</td>\n",
       "      <td>0</td>\n",
       "      <td>0</td>\n",
       "      <td>0</td>\n",
       "      <td>0</td>\n",
       "      <td>15,440</td>\n",
       "      <td>0.0000</td>\n",
       "      <td>0</td>\n",
       "      <td>0</td>\n",
       "      <td>0</td>\n",
       "      <td>-19,951,365</td>\n",
       "      <td>940,097,034</td>\n",
       "      <td>59,902,966</td>\n",
       "      <td>59,611,092</td>\n",
       "      <td>999,708,126</td>\n",
       "      <td>0</td>\n",
       "      <td>-291,874</td>\n",
       "      <td>-291,874</td>\n",
       "      <td>1,000,000,000</td>\n",
       "      <td>291,874</td>\n",
       "    </tr>\n",
       "    <tr>\n",
       "      <th>3</th>\n",
       "      <td>2023-08-04</td>\n",
       "      <td>TOTAL</td>\n",
       "      <td>0</td>\n",
       "      <td>0</td>\n",
       "      <td>0</td>\n",
       "      <td>0</td>\n",
       "      <td>26,515</td>\n",
       "      <td>0.0000</td>\n",
       "      <td>0</td>\n",
       "      <td>0</td>\n",
       "      <td>0</td>\n",
       "      <td>-19,949,765</td>\n",
       "      <td>920,147,269</td>\n",
       "      <td>79,852,731</td>\n",
       "      <td>80,157,800</td>\n",
       "      <td>1,000,305,069</td>\n",
       "      <td>0</td>\n",
       "      <td>305,069</td>\n",
       "      <td>305,069</td>\n",
       "      <td>1,000,305,069</td>\n",
       "      <td>0</td>\n",
       "    </tr>\n",
       "    <tr>\n",
       "      <th>4</th>\n",
       "      <td>2023-08-07</td>\n",
       "      <td>TOTAL</td>\n",
       "      <td>0</td>\n",
       "      <td>0</td>\n",
       "      <td>0</td>\n",
       "      <td>0</td>\n",
       "      <td>34,513</td>\n",
       "      <td>0.0000</td>\n",
       "      <td>0</td>\n",
       "      <td>0</td>\n",
       "      <td>0</td>\n",
       "      <td>-19,947,488</td>\n",
       "      <td>900,199,781</td>\n",
       "      <td>99,800,219</td>\n",
       "      <td>100,476,868</td>\n",
       "      <td>1,000,676,649</td>\n",
       "      <td>0</td>\n",
       "      <td>676,649</td>\n",
       "      <td>676,649</td>\n",
       "      <td>1,000,676,649</td>\n",
       "      <td>0</td>\n",
       "    </tr>\n",
       "    <tr>\n",
       "      <th>5</th>\n",
       "      <td>2023-08-08</td>\n",
       "      <td>TOTAL</td>\n",
       "      <td>0</td>\n",
       "      <td>0</td>\n",
       "      <td>0</td>\n",
       "      <td>0</td>\n",
       "      <td>40,549</td>\n",
       "      <td>0.0000</td>\n",
       "      <td>0</td>\n",
       "      <td>0</td>\n",
       "      <td>0</td>\n",
       "      <td>-19,983,062</td>\n",
       "      <td>880,216,719</td>\n",
       "      <td>119,783,281</td>\n",
       "      <td>119,539,877</td>\n",
       "      <td>999,756,596</td>\n",
       "      <td>0</td>\n",
       "      <td>-243,404</td>\n",
       "      <td>-243,404</td>\n",
       "      <td>1,000,676,649</td>\n",
       "      <td>920,053</td>\n",
       "    </tr>\n",
       "    <tr>\n",
       "      <th>6</th>\n",
       "      <td>2023-08-09</td>\n",
       "      <td>TOTAL</td>\n",
       "      <td>0</td>\n",
       "      <td>0</td>\n",
       "      <td>0</td>\n",
       "      <td>0</td>\n",
       "      <td>47,580</td>\n",
       "      <td>0.0000</td>\n",
       "      <td>0</td>\n",
       "      <td>0</td>\n",
       "      <td>0</td>\n",
       "      <td>-19,991,702</td>\n",
       "      <td>860,225,017</td>\n",
       "      <td>139,774,983</td>\n",
       "      <td>140,327,216</td>\n",
       "      <td>1,000,552,233</td>\n",
       "      <td>0</td>\n",
       "      <td>552,233</td>\n",
       "      <td>552,233</td>\n",
       "      <td>1,000,676,649</td>\n",
       "      <td>124,416</td>\n",
       "    </tr>\n",
       "    <tr>\n",
       "      <th>7</th>\n",
       "      <td>2023-08-10</td>\n",
       "      <td>TOTAL</td>\n",
       "      <td>0</td>\n",
       "      <td>0</td>\n",
       "      <td>0</td>\n",
       "      <td>0</td>\n",
       "      <td>53,422</td>\n",
       "      <td>0.0000</td>\n",
       "      <td>0</td>\n",
       "      <td>0</td>\n",
       "      <td>0</td>\n",
       "      <td>-19,987,620</td>\n",
       "      <td>840,237,397</td>\n",
       "      <td>159,762,603</td>\n",
       "      <td>163,019,763</td>\n",
       "      <td>1,003,257,160</td>\n",
       "      <td>0</td>\n",
       "      <td>3,257,160</td>\n",
       "      <td>3,257,160</td>\n",
       "      <td>1,003,257,160</td>\n",
       "      <td>0</td>\n",
       "    </tr>\n",
       "    <tr>\n",
       "      <th>8</th>\n",
       "      <td>2023-08-11</td>\n",
       "      <td>TOTAL</td>\n",
       "      <td>0</td>\n",
       "      <td>0</td>\n",
       "      <td>0</td>\n",
       "      <td>0</td>\n",
       "      <td>62,304</td>\n",
       "      <td>0.0000</td>\n",
       "      <td>0</td>\n",
       "      <td>0</td>\n",
       "      <td>0</td>\n",
       "      <td>-19,986,466</td>\n",
       "      <td>820,250,931</td>\n",
       "      <td>179,749,069</td>\n",
       "      <td>184,238,977</td>\n",
       "      <td>1,004,489,908</td>\n",
       "      <td>0</td>\n",
       "      <td>4,489,908</td>\n",
       "      <td>4,489,908</td>\n",
       "      <td>1,004,489,908</td>\n",
       "      <td>0</td>\n",
       "    </tr>\n",
       "    <tr>\n",
       "      <th>9</th>\n",
       "      <td>2023-08-14</td>\n",
       "      <td>TOTAL</td>\n",
       "      <td>0</td>\n",
       "      <td>0</td>\n",
       "      <td>0</td>\n",
       "      <td>0</td>\n",
       "      <td>66,695</td>\n",
       "      <td>0.0000</td>\n",
       "      <td>0</td>\n",
       "      <td>0</td>\n",
       "      <td>0</td>\n",
       "      <td>-19,988,070</td>\n",
       "      <td>800,262,861</td>\n",
       "      <td>199,737,139</td>\n",
       "      <td>202,918,918</td>\n",
       "      <td>1,003,181,779</td>\n",
       "      <td>0</td>\n",
       "      <td>3,181,779</td>\n",
       "      <td>3,181,779</td>\n",
       "      <td>1,004,489,908</td>\n",
       "      <td>1,308,129</td>\n",
       "    </tr>\n",
       "    <tr>\n",
       "      <th>10</th>\n",
       "      <td>2023-08-16</td>\n",
       "      <td>TOTAL</td>\n",
       "      <td>0</td>\n",
       "      <td>0</td>\n",
       "      <td>0</td>\n",
       "      <td>0</td>\n",
       "      <td>68,647</td>\n",
       "      <td>0.0000</td>\n",
       "      <td>0</td>\n",
       "      <td>0</td>\n",
       "      <td>0</td>\n",
       "      <td>-19,966,280</td>\n",
       "      <td>780,296,581</td>\n",
       "      <td>219,703,419</td>\n",
       "      <td>216,642,121</td>\n",
       "      <td>996,938,702</td>\n",
       "      <td>0</td>\n",
       "      <td>-3,061,298</td>\n",
       "      <td>-3,061,298</td>\n",
       "      <td>1,004,489,908</td>\n",
       "      <td>7,551,206</td>\n",
       "    </tr>\n",
       "    <tr>\n",
       "      <th>11</th>\n",
       "      <td>2023-08-17</td>\n",
       "      <td>TOTAL</td>\n",
       "      <td>0</td>\n",
       "      <td>0</td>\n",
       "      <td>0</td>\n",
       "      <td>0</td>\n",
       "      <td>79,054</td>\n",
       "      <td>0.0000</td>\n",
       "      <td>0</td>\n",
       "      <td>0</td>\n",
       "      <td>0</td>\n",
       "      <td>-19,920,941</td>\n",
       "      <td>760,375,640</td>\n",
       "      <td>239,624,359</td>\n",
       "      <td>234,183,045</td>\n",
       "      <td>994,558,685</td>\n",
       "      <td>0</td>\n",
       "      <td>-5,441,314</td>\n",
       "      <td>-5,441,315</td>\n",
       "      <td>1,004,489,908</td>\n",
       "      <td>9,931,223</td>\n",
       "    </tr>\n",
       "    <tr>\n",
       "      <th>12</th>\n",
       "      <td>2023-08-18</td>\n",
       "      <td>TOTAL</td>\n",
       "      <td>0</td>\n",
       "      <td>0</td>\n",
       "      <td>0</td>\n",
       "      <td>0</td>\n",
       "      <td>81,807</td>\n",
       "      <td>0.0000</td>\n",
       "      <td>0</td>\n",
       "      <td>0</td>\n",
       "      <td>0</td>\n",
       "      <td>-19,976,325</td>\n",
       "      <td>740,399,315</td>\n",
       "      <td>259,600,684</td>\n",
       "      <td>253,255,285</td>\n",
       "      <td>993,654,600</td>\n",
       "      <td>0</td>\n",
       "      <td>-6,345,399</td>\n",
       "      <td>-6,345,400</td>\n",
       "      <td>1,004,489,908</td>\n",
       "      <td>10,835,308</td>\n",
       "    </tr>\n",
       "    <tr>\n",
       "      <th>13</th>\n",
       "      <td>2023-08-21</td>\n",
       "      <td>TOTAL</td>\n",
       "      <td>0</td>\n",
       "      <td>0</td>\n",
       "      <td>0</td>\n",
       "      <td>0</td>\n",
       "      <td>95,725</td>\n",
       "      <td>0.0000</td>\n",
       "      <td>0</td>\n",
       "      <td>0</td>\n",
       "      <td>0</td>\n",
       "      <td>-19,978,000</td>\n",
       "      <td>720,421,315</td>\n",
       "      <td>279,578,684</td>\n",
       "      <td>273,826,266</td>\n",
       "      <td>994,247,581</td>\n",
       "      <td>0</td>\n",
       "      <td>-5,752,418</td>\n",
       "      <td>-5,752,419</td>\n",
       "      <td>1,004,489,908</td>\n",
       "      <td>10,242,327</td>\n",
       "    </tr>\n",
       "    <tr>\n",
       "      <th>14</th>\n",
       "      <td>2023-08-22</td>\n",
       "      <td>TOTAL</td>\n",
       "      <td>0</td>\n",
       "      <td>0</td>\n",
       "      <td>0</td>\n",
       "      <td>0</td>\n",
       "      <td>98,564</td>\n",
       "      <td>0.0000</td>\n",
       "      <td>0</td>\n",
       "      <td>0</td>\n",
       "      <td>0</td>\n",
       "      <td>-19,982,760</td>\n",
       "      <td>700,438,555</td>\n",
       "      <td>299,561,444</td>\n",
       "      <td>292,485,774</td>\n",
       "      <td>992,924,329</td>\n",
       "      <td>0</td>\n",
       "      <td>-7,075,670</td>\n",
       "      <td>-7,075,671</td>\n",
       "      <td>1,004,489,908</td>\n",
       "      <td>11,565,579</td>\n",
       "    </tr>\n",
       "    <tr>\n",
       "      <th>15</th>\n",
       "      <td>2023-08-23</td>\n",
       "      <td>TOTAL</td>\n",
       "      <td>0</td>\n",
       "      <td>0</td>\n",
       "      <td>0</td>\n",
       "      <td>0</td>\n",
       "      <td>99,890</td>\n",
       "      <td>0.0000</td>\n",
       "      <td>0</td>\n",
       "      <td>0</td>\n",
       "      <td>0</td>\n",
       "      <td>-19,400,024</td>\n",
       "      <td>681,038,531</td>\n",
       "      <td>318,961,468</td>\n",
       "      <td>310,310,801</td>\n",
       "      <td>991,349,332</td>\n",
       "      <td>0</td>\n",
       "      <td>-8,650,667</td>\n",
       "      <td>-8,650,668</td>\n",
       "      <td>1,004,489,908</td>\n",
       "      <td>13,140,576</td>\n",
       "    </tr>\n",
       "    <tr>\n",
       "      <th>16</th>\n",
       "      <td>2023-08-24</td>\n",
       "      <td>TOTAL</td>\n",
       "      <td>0</td>\n",
       "      <td>0</td>\n",
       "      <td>0</td>\n",
       "      <td>0</td>\n",
       "      <td>102,680</td>\n",
       "      <td>0.0000</td>\n",
       "      <td>0</td>\n",
       "      <td>0</td>\n",
       "      <td>0</td>\n",
       "      <td>-19,970,140</td>\n",
       "      <td>661,068,391</td>\n",
       "      <td>338,931,608</td>\n",
       "      <td>332,798,791</td>\n",
       "      <td>993,867,182</td>\n",
       "      <td>0</td>\n",
       "      <td>-6,132,817</td>\n",
       "      <td>-6,132,818</td>\n",
       "      <td>1,004,489,908</td>\n",
       "      <td>10,622,726</td>\n",
       "    </tr>\n",
       "    <tr>\n",
       "      <th>17</th>\n",
       "      <td>2023-08-25</td>\n",
       "      <td>TOTAL</td>\n",
       "      <td>0</td>\n",
       "      <td>0</td>\n",
       "      <td>0</td>\n",
       "      <td>0</td>\n",
       "      <td>111,617</td>\n",
       "      <td>0.0000</td>\n",
       "      <td>0</td>\n",
       "      <td>0</td>\n",
       "      <td>0</td>\n",
       "      <td>-19,996,656</td>\n",
       "      <td>641,071,735</td>\n",
       "      <td>358,928,264</td>\n",
       "      <td>354,534,702</td>\n",
       "      <td>995,606,437</td>\n",
       "      <td>0</td>\n",
       "      <td>-4,393,562</td>\n",
       "      <td>-4,393,563</td>\n",
       "      <td>1,004,489,908</td>\n",
       "      <td>8,883,471</td>\n",
       "    </tr>\n",
       "    <tr>\n",
       "      <th>18</th>\n",
       "      <td>2023-08-28</td>\n",
       "      <td>TOTAL</td>\n",
       "      <td>0</td>\n",
       "      <td>0</td>\n",
       "      <td>0</td>\n",
       "      <td>0</td>\n",
       "      <td>113,684</td>\n",
       "      <td>0.0000</td>\n",
       "      <td>0</td>\n",
       "      <td>0</td>\n",
       "      <td>0</td>\n",
       "      <td>-19,855,520</td>\n",
       "      <td>621,216,215</td>\n",
       "      <td>378,783,784</td>\n",
       "      <td>379,675,308</td>\n",
       "      <td>1,000,891,523</td>\n",
       "      <td>0</td>\n",
       "      <td>891,524</td>\n",
       "      <td>891,523</td>\n",
       "      <td>1,004,489,908</td>\n",
       "      <td>3,598,385</td>\n",
       "    </tr>\n",
       "    <tr>\n",
       "      <th>19</th>\n",
       "      <td>2023-08-29</td>\n",
       "      <td>TOTAL</td>\n",
       "      <td>0</td>\n",
       "      <td>0</td>\n",
       "      <td>0</td>\n",
       "      <td>0</td>\n",
       "      <td>127,883</td>\n",
       "      <td>0.0000</td>\n",
       "      <td>0</td>\n",
       "      <td>0</td>\n",
       "      <td>0</td>\n",
       "      <td>-19,985,215</td>\n",
       "      <td>601,231,000</td>\n",
       "      <td>398,768,999</td>\n",
       "      <td>404,111,561</td>\n",
       "      <td>1,005,342,561</td>\n",
       "      <td>0</td>\n",
       "      <td>5,342,562</td>\n",
       "      <td>5,342,561</td>\n",
       "      <td>1,005,342,561</td>\n",
       "      <td>0</td>\n",
       "    </tr>\n",
       "    <tr>\n",
       "      <th>20</th>\n",
       "      <td>2023-08-30</td>\n",
       "      <td>TOTAL</td>\n",
       "      <td>0</td>\n",
       "      <td>0</td>\n",
       "      <td>0</td>\n",
       "      <td>0</td>\n",
       "      <td>132,168</td>\n",
       "      <td>0.0000</td>\n",
       "      <td>0</td>\n",
       "      <td>0</td>\n",
       "      <td>0</td>\n",
       "      <td>-19,494,484</td>\n",
       "      <td>581,736,516</td>\n",
       "      <td>418,263,483</td>\n",
       "      <td>425,013,338</td>\n",
       "      <td>1,006,749,854</td>\n",
       "      <td>0</td>\n",
       "      <td>6,749,855</td>\n",
       "      <td>6,749,854</td>\n",
       "      <td>1,006,749,854</td>\n",
       "      <td>0</td>\n",
       "    </tr>\n",
       "  </tbody>\n",
       "</table>\n",
       "</div>"
      ],
      "text/plain": [
       "         DATE SYMBOL  PRICE  ORDER  QTY  TRADE_PRICE  POSITION  AVG_PRICE  \\\n",
       "0  2023-08-01  TOTAL      0      0    0            0     2,231     0.0000   \n",
       "1  2023-08-02  TOTAL      0      0    0            0    10,634     0.0000   \n",
       "2  2023-08-03  TOTAL      0      0    0            0    15,440     0.0000   \n",
       "3  2023-08-04  TOTAL      0      0    0            0    26,515     0.0000   \n",
       "4  2023-08-07  TOTAL      0      0    0            0    34,513     0.0000   \n",
       "5  2023-08-08  TOTAL      0      0    0            0    40,549     0.0000   \n",
       "6  2023-08-09  TOTAL      0      0    0            0    47,580     0.0000   \n",
       "7  2023-08-10  TOTAL      0      0    0            0    53,422     0.0000   \n",
       "8  2023-08-11  TOTAL      0      0    0            0    62,304     0.0000   \n",
       "9  2023-08-14  TOTAL      0      0    0            0    66,695     0.0000   \n",
       "10 2023-08-16  TOTAL      0      0    0            0    68,647     0.0000   \n",
       "11 2023-08-17  TOTAL      0      0    0            0    79,054     0.0000   \n",
       "12 2023-08-18  TOTAL      0      0    0            0    81,807     0.0000   \n",
       "13 2023-08-21  TOTAL      0      0    0            0    95,725     0.0000   \n",
       "14 2023-08-22  TOTAL      0      0    0            0    98,564     0.0000   \n",
       "15 2023-08-23  TOTAL      0      0    0            0    99,890     0.0000   \n",
       "16 2023-08-24  TOTAL      0      0    0            0   102,680     0.0000   \n",
       "17 2023-08-25  TOTAL      0      0    0            0   111,617     0.0000   \n",
       "18 2023-08-28  TOTAL      0      0    0            0   113,684     0.0000   \n",
       "19 2023-08-29  TOTAL      0      0    0            0   127,883     0.0000   \n",
       "20 2023-08-30  TOTAL      0      0    0            0   132,168     0.0000   \n",
       "\n",
       "    FEE  TRADE_TAX  SLIPPAGE     CASHFLOW         CASH   HIST_VALUE  \\\n",
       "0     0          0         0  -19,974,250  980,025,750   19,974,250   \n",
       "1     0          0         0  -19,977,351  960,048,399   39,951,601   \n",
       "2     0          0         0  -19,951,365  940,097,034   59,902,966   \n",
       "3     0          0         0  -19,949,765  920,147,269   79,852,731   \n",
       "4     0          0         0  -19,947,488  900,199,781   99,800,219   \n",
       "5     0          0         0  -19,983,062  880,216,719  119,783,281   \n",
       "6     0          0         0  -19,991,702  860,225,017  139,774,983   \n",
       "7     0          0         0  -19,987,620  840,237,397  159,762,603   \n",
       "8     0          0         0  -19,986,466  820,250,931  179,749,069   \n",
       "9     0          0         0  -19,988,070  800,262,861  199,737,139   \n",
       "10    0          0         0  -19,966,280  780,296,581  219,703,419   \n",
       "11    0          0         0  -19,920,941  760,375,640  239,624,359   \n",
       "12    0          0         0  -19,976,325  740,399,315  259,600,684   \n",
       "13    0          0         0  -19,978,000  720,421,315  279,578,684   \n",
       "14    0          0         0  -19,982,760  700,438,555  299,561,444   \n",
       "15    0          0         0  -19,400,024  681,038,531  318,961,468   \n",
       "16    0          0         0  -19,970,140  661,068,391  338,931,608   \n",
       "17    0          0         0  -19,996,656  641,071,735  358,928,264   \n",
       "18    0          0         0  -19,855,520  621,216,215  378,783,784   \n",
       "19    0          0         0  -19,985,215  601,231,000  398,768,999   \n",
       "20    0          0         0  -19,494,484  581,736,516  418,263,483   \n",
       "\n",
       "    STOCK_VALUE    TOTAL_VALUE  REAL_PROFIT  UNREAL_PROFIT      PROFIT  \\\n",
       "0    19,974,250  1,000,000,000            0              0           0   \n",
       "1    39,853,321    999,901,720            0        -98,280     -98,280   \n",
       "2    59,611,092    999,708,126            0       -291,874    -291,874   \n",
       "3    80,157,800  1,000,305,069            0        305,069     305,069   \n",
       "4   100,476,868  1,000,676,649            0        676,649     676,649   \n",
       "5   119,539,877    999,756,596            0       -243,404    -243,404   \n",
       "6   140,327,216  1,000,552,233            0        552,233     552,233   \n",
       "7   163,019,763  1,003,257,160            0      3,257,160   3,257,160   \n",
       "8   184,238,977  1,004,489,908            0      4,489,908   4,489,908   \n",
       "9   202,918,918  1,003,181,779            0      3,181,779   3,181,779   \n",
       "10  216,642,121    996,938,702            0     -3,061,298  -3,061,298   \n",
       "11  234,183,045    994,558,685            0     -5,441,314  -5,441,315   \n",
       "12  253,255,285    993,654,600            0     -6,345,399  -6,345,400   \n",
       "13  273,826,266    994,247,581            0     -5,752,418  -5,752,419   \n",
       "14  292,485,774    992,924,329            0     -7,075,670  -7,075,671   \n",
       "15  310,310,801    991,349,332            0     -8,650,667  -8,650,668   \n",
       "16  332,798,791    993,867,182            0     -6,132,817  -6,132,818   \n",
       "17  354,534,702    995,606,437            0     -4,393,562  -4,393,563   \n",
       "18  379,675,308  1,000,891,523            0        891,524     891,523   \n",
       "19  404,111,561  1,005,342,561            0      5,342,562   5,342,561   \n",
       "20  425,013,338  1,006,749,854            0      6,749,855   6,749,854   \n",
       "\n",
       "    HIGHWATERMARK    DRAWDOWN  \n",
       "0   1,000,000,000           0  \n",
       "1   1,000,000,000      98,280  \n",
       "2   1,000,000,000     291,874  \n",
       "3   1,000,305,069           0  \n",
       "4   1,000,676,649           0  \n",
       "5   1,000,676,649     920,053  \n",
       "6   1,000,676,649     124,416  \n",
       "7   1,003,257,160           0  \n",
       "8   1,004,489,908           0  \n",
       "9   1,004,489,908   1,308,129  \n",
       "10  1,004,489,908   7,551,206  \n",
       "11  1,004,489,908   9,931,223  \n",
       "12  1,004,489,908  10,835,308  \n",
       "13  1,004,489,908  10,242,327  \n",
       "14  1,004,489,908  11,565,579  \n",
       "15  1,004,489,908  13,140,576  \n",
       "16  1,004,489,908  10,622,726  \n",
       "17  1,004,489,908   8,883,471  \n",
       "18  1,004,489,908   3,598,385  \n",
       "19  1,005,342,561           0  \n",
       "20  1,006,749,854           0  "
      ]
     },
     "metadata": {},
     "output_type": "display_data"
    }
   ],
   "source": [
    "total_df"
   ]
  },
  {
   "cell_type": "code",
   "execution_count": null,
   "metadata": {},
   "outputs": [],
   "source": []
  }
 ],
 "metadata": {
  "kernelspec": {
   "display_name": "Python 3 (ipykernel)",
   "language": "python",
   "name": "python3"
  },
  "language_info": {
   "codemirror_mode": {
    "name": "ipython",
    "version": 3
   },
   "file_extension": ".py",
   "mimetype": "text/x-python",
   "name": "python",
   "nbconvert_exporter": "python",
   "pygments_lexer": "ipython3",
   "version": "3.10.13"
  },
  "orig_nbformat": 4
 },
 "nbformat": 4,
 "nbformat_minor": 2
}
