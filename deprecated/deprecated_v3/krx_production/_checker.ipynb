{
 "cells": [
  {
   "cell_type": "code",
   "execution_count": 1,
   "metadata": {},
   "outputs": [],
   "source": [
    "import kquant as kq"
   ]
  },
  {
   "cell_type": "code",
   "execution_count": 2,
   "metadata": {},
   "outputs": [],
   "source": [
    "from krx_competition_20 import trade_func"
   ]
  },
  {
   "cell_type": "code",
   "execution_count": 3,
   "metadata": {},
   "outputs": [
    {
     "name": "stderr",
     "output_type": "stream",
     "text": [
      "[2023-08-01] 종목: 002170, 주문전 보유수량:      0 주문수량:  4,698, 매매수량:  4,698, 주문후 보유수량:  4,698\n",
      "[2023-08-01] 종목: 001430, 주문전 보유수량:      0 주문수량:  7,684, 매매수량:  7,684, 주문후 보유수량:  7,684\n",
      "[2023-08-01] 종목: 010780, 주문전 보유수량:      0 주문수량:  4,678, 매매수량:  4,678, 주문후 보유수량:  4,678\n",
      "[2023-08-01] 종목: 377450, 주문전 보유수량:      0 주문수량: 12,941, 매매수량: 12,941, 주문후 보유수량: 12,941\n",
      "[2023-08-01] 종목: 026150, 주문전 보유수량:      0 주문수량:  6,148, 매매수량:  6,148, 주문후 보유수량:  6,148\n",
      "[2023-08-01] 종목: 066970, 주문전 보유수량:      0 주문수량:     15, 매매수량:     15, 주문후 보유수량:     15\n"
     ]
    }
   ],
   "source": [
    "import datetime as dt\n",
    "\n",
    "dict_df_result_1, dict_df_position_1, logger = kq.backtest_stock_port_daily(\n",
    "    trade_func,\n",
    "    \"2023-08-01\",\n",
    "    \"2023-08-01\",\n",
    "    init_cash=1_000_000_000,\n",
    "    return_position=True,\n",
    "    return_logger=True,\n",
    ")"
   ]
  },
  {
   "cell_type": "code",
   "execution_count": 6,
   "metadata": {},
   "outputs": [
    {
     "name": "stderr",
     "output_type": "stream",
     "text": [
      "[2023-08-03] 종목: 036000, 주문전 보유수량:      0 주문수량:  3,763, 매매수량:  3,763, 주문후 보유수량:  3,763\n",
      "[2023-08-03] 종목: 023600, 주문전 보유수량:      0 주문수량:    563, 매매수량:    563, 주문후 보유수량:    563\n",
      "[2023-08-03] 종목: 088910, 주문전 보유수량:      0 주문수량:  2,014, 매매수량:  2,014, 주문후 보유수량:  2,014\n",
      "[2023-08-03] 종목: 001810, 주문전 보유수량:      0 주문수량:  2,643, 매매수량:  2,643, 주문후 보유수량:  2,643\n",
      "[2023-08-03] 종목: 060980, 주문전 보유수량:      0 주문수량:    131, 매매수량:    131, 주문후 보유수량:    131\n",
      "[2023-08-03] 종목: 084110, 주문전 보유수량:      0 주문수량:    226, 매매수량:    226, 주문후 보유수량:    226\n",
      "[2023-08-03] 종목: 079650, 주문전 보유수량:      0 주문수량:  2,213, 매매수량:  2,213, 주문후 보유수량:  2,213\n",
      "[2023-08-03] 종목: 002170, 주문전 보유수량:      0 주문수량:     73, 매매수량:     73, 주문후 보유수량:     73\n",
      "[2023-08-03] 종목: 100250, 주문전 보유수량:      0 주문수량:  1,089, 매매수량:  1,089, 주문후 보유수량:  1,089\n",
      "[2023-08-03] 종목: 012320, 주문전 보유수량:      0 주문수량:     39, 매매수량:     39, 주문후 보유수량:     39\n"
     ]
    }
   ],
   "source": [
    "date = dt.date(2023, 8, 3)\n",
    "\n",
    "symbols_and_orders = trade_func(\n",
    "    date,\n",
    "    dict_df_result_2,\n",
    "    dict_df_position_2,\n",
    "    logger,\n",
    ")\n",
    "\n",
    "dict_df_result_3, dict_df_position_3 = kq.backtest_update_stock_port_daily(\n",
    "    symbols_and_orders,\n",
    "    date,\n",
    "    dict_df_result_2,\n",
    "    dict_df_position_2,\n",
    ")"
   ]
  },
  {
   "cell_type": "code",
   "execution_count": 7,
   "metadata": {},
   "outputs": [],
   "source": [
    "date = dt.date(2023, 8, 31)\n",
    "\n",
    "dict_df_result_4, dict_df_position_4 = kq.backtest_update_stock_port_daily(\n",
    "    [],\n",
    "    date,\n",
    "    dict_df_result_3,\n",
    "    dict_df_position_3,\n",
    ")\n",
    "result = dict_df_result_4[\"TOTAL\"][\"TOTAL_VALUE\"].tail(1).values[0]"
   ]
  },
  {
   "cell_type": "code",
   "execution_count": 8,
   "metadata": {},
   "outputs": [
    {
     "data": {
      "text/plain": [
       "1070611394"
      ]
     },
     "execution_count": 8,
     "metadata": {},
     "output_type": "execute_result"
    }
   ],
   "source": [
    "result"
   ]
  },
  {
   "cell_type": "code",
   "execution_count": 4,
   "metadata": {},
   "outputs": [
    {
     "name": "stderr",
     "output_type": "stream",
     "text": [
      "[2023-08-01] 종목: 035600, 주문전 보유수량:      0 주문수량: 23,784, 매매수량: 23,784, 주문후 보유수량: 23,784\n",
      "[2023-08-01] 종목: 002810, 주문전 보유수량:      0 주문수량: 20,583, 매매수량: 20,583, 주문후 보유수량: 20,583\n",
      "[2023-08-01] 종목: 270870, 주문전 보유수량:      0 주문수량: 20,286, 매매수량: 20,286, 주문후 보유수량: 20,286\n",
      "[2023-08-01] 종목: 015230, 주문전 보유수량:      0 주문수량: 12,780, 매매수량: 12,780, 주문후 보유수량: 12,780\n",
      "[2023-08-01] 종목: 272210, 주문전 보유수량:      0 주문수량:    272, 매매수량:    272, 주문후 보유수량:    272\n",
      "[2023-08-02] 종목: 060980, 주문전 보유수량:      0 주문수량:  2,601, 매매수량:  2,601, 주문후 보유수량:  2,601\n",
      "[2023-08-02] 종목: 002800, 주문전 보유수량:      0 주문수량:  5,268, 매매수량:  5,268, 주문후 보유수량:  5,268\n",
      "[2023-08-02] 종목: 006880, 주문전 보유수량:      0 주문수량:  2,924, 매매수량:  2,924, 주문후 보유수량:  2,924\n",
      "[2023-08-02] 종목: 003230, 주문전 보유수량:      0 주문수량:    173, 매매수량:    173, 주문후 보유수량:    173\n",
      "[2023-08-02] 종목: 067310, 주문전 보유수량:      0 주문수량:    859, 매매수량:    859, 주문후 보유수량:    859\n",
      "[2023-08-02] 종목: 095340, 주문전 보유수량:      0 주문수량:     36, 매매수량:     36, 주문후 보유수량:     36\n",
      "[2023-08-02] 종목: 378340, 주문전 보유수량:      0 주문수량:     12, 매매수량:     12, 주문후 보유수량:     12\n",
      "[2023-08-03] 종목: 067310, 주문전 보유수량:    859 주문수량:   -859, 매매수량:   -859, 주문후 보유수량:      0\n",
      "[2023-08-03] 종목: 095340, 주문전 보유수량:     36 주문수량:    -36, 매매수량:    -36, 주문후 보유수량:      0\n",
      "[2023-08-03] 종목: 378340, 주문전 보유수량:     12 주문수량:    -12, 매매수량:    -12, 주문후 보유수량:      0\n",
      "[2023-08-03] 종목: 033050, 주문전 보유수량:      0 주문수량:  9,979, 매매수량:  9,979, 주문후 보유수량:  9,979\n",
      "[2023-08-03] 종목: 052710, 주문전 보유수량:      0 주문수량:  1,069, 매매수량:  1,069, 주문후 보유수량:  1,069\n",
      "[2023-08-03] 종목: 051910, 주문전 보유수량:      0 주문수량:     14, 매매수량:     14, 주문후 보유수량:     14\n",
      "[2023-08-03] 종목: 204270, 주문전 보유수량:      0 주문수량:    625, 매매수량:    625, 주문후 보유수량:    625\n",
      "[2023-08-03] 종목: 241840, 주문전 보유수량:      0 주문수량:    294, 매매수량:    294, 주문후 보유수량:    294\n",
      "[2023-08-03] 종목: 352910, 주문전 보유수량:      0 주문수량:    351, 매매수량:    351, 주문후 보유수량:    351\n"
     ]
    },
    {
     "ename": "KeyboardInterrupt",
     "evalue": "",
     "output_type": "error",
     "traceback": [
      "\u001b[0;31m---------------------------------------------------------------------------\u001b[0m",
      "\u001b[0;31mKeyboardInterrupt\u001b[0m                         Traceback (most recent call last)",
      "\u001b[1;32m/Users/jack/Desktop/things/project/krx/_krx_final/krx_production/_checker.ipynb Cell 7\u001b[0m line \u001b[0;36m5\n\u001b[1;32m      <a href='vscode-notebook-cell:/Users/jack/Desktop/things/project/krx/_krx_final/krx_production/_checker.ipynb#W6sZmlsZQ%3D%3D?line=1'>2</a>\u001b[0m \u001b[39mfrom\u001b[39;00m \u001b[39mkrx_competition_20\u001b[39;00m \u001b[39mimport\u001b[39;00m trade_func\n\u001b[1;32m      <a href='vscode-notebook-cell:/Users/jack/Desktop/things/project/krx/_krx_final/krx_production/_checker.ipynb#W6sZmlsZQ%3D%3D?line=3'>4</a>\u001b[0m \u001b[39m# loop\u001b[39;00m\n\u001b[0;32m----> <a href='vscode-notebook-cell:/Users/jack/Desktop/things/project/krx/_krx_final/krx_production/_checker.ipynb#W6sZmlsZQ%3D%3D?line=4'>5</a>\u001b[0m dict_df_result \u001b[39m=\u001b[39m kq\u001b[39m.\u001b[39;49mbacktest_stock_port_daily(\n\u001b[1;32m      <a href='vscode-notebook-cell:/Users/jack/Desktop/things/project/krx/_krx_final/krx_production/_checker.ipynb#W6sZmlsZQ%3D%3D?line=5'>6</a>\u001b[0m     trade_func,\n\u001b[1;32m      <a href='vscode-notebook-cell:/Users/jack/Desktop/things/project/krx/_krx_final/krx_production/_checker.ipynb#W6sZmlsZQ%3D%3D?line=6'>7</a>\u001b[0m     \u001b[39m\"\u001b[39;49m\u001b[39m2023-08-01\u001b[39;49m\u001b[39m\"\u001b[39;49m,  \u001b[39m# 실제 심사에서는 투자기간 시작일\u001b[39;49;00m\n\u001b[1;32m      <a href='vscode-notebook-cell:/Users/jack/Desktop/things/project/krx/_krx_final/krx_production/_checker.ipynb#W6sZmlsZQ%3D%3D?line=7'>8</a>\u001b[0m     \u001b[39m\"\u001b[39;49m\u001b[39m2023-08-11\u001b[39;49m\u001b[39m\"\u001b[39;49m,  \u001b[39m# 실제 심사에서는 투자기간 종료일\u001b[39;49;00m\n\u001b[1;32m      <a href='vscode-notebook-cell:/Users/jack/Desktop/things/project/krx/_krx_final/krx_production/_checker.ipynb#W6sZmlsZQ%3D%3D?line=8'>9</a>\u001b[0m     init_cash\u001b[39m=\u001b[39;49m\u001b[39m1_000_000_000\u001b[39;49m,  \u001b[39m# 10억원\u001b[39;49;00m\n\u001b[1;32m     <a href='vscode-notebook-cell:/Users/jack/Desktop/things/project/krx/_krx_final/krx_production/_checker.ipynb#W6sZmlsZQ%3D%3D?line=9'>10</a>\u001b[0m )\n",
      "File \u001b[0;32mkquant/analysis/stock/backtest/__init__.py:2228\u001b[0m, in \u001b[0;36mkquant.analysis.stock.backtest.backtest_stock_port_daily\u001b[0;34m()\u001b[0m\n",
      "File \u001b[0;32mkquant/analysis/stock/backtest/__init__.py:1832\u001b[0m, in \u001b[0;36mkquant.analysis.stock.backtest.backtest_update_stock_port_daily\u001b[0;34m()\u001b[0m\n",
      "File \u001b[0;32mkquant/analysis/stock/backtest/__init__.py:1454\u001b[0m, in \u001b[0;36mkquant.analysis.stock.backtest.interpolate_df_result\u001b[0;34m()\u001b[0m\n",
      "File \u001b[0;32mkquant/data/market/daily.py:146\u001b[0m, in \u001b[0;36mkquant.data.market.daily.daily_stock\u001b[0;34m()\u001b[0m\n",
      "File \u001b[0;32mkquant/data/market/daily.py:66\u001b[0m, in \u001b[0;36mkquant.data.market.daily._daily_stock\u001b[0;34m()\u001b[0m\n",
      "File \u001b[0;32mkquant/data/_core_.py:47\u001b[0m, in \u001b[0;36mkquant.data._core_.call_api\u001b[0;34m()\u001b[0m\n",
      "File \u001b[0;32m~/anaconda3/envs/fundamental_based/lib/python3.10/site-packages/requests/api.py:115\u001b[0m, in \u001b[0;36mpost\u001b[0;34m(url, data, json, **kwargs)\u001b[0m\n\u001b[1;32m    103\u001b[0m \u001b[39mdef\u001b[39;00m \u001b[39mpost\u001b[39m(url, data\u001b[39m=\u001b[39m\u001b[39mNone\u001b[39;00m, json\u001b[39m=\u001b[39m\u001b[39mNone\u001b[39;00m, \u001b[39m*\u001b[39m\u001b[39m*\u001b[39mkwargs):\n\u001b[1;32m    104\u001b[0m \u001b[39m    \u001b[39m\u001b[39mr\u001b[39m\u001b[39m\"\"\"Sends a POST request.\u001b[39;00m\n\u001b[1;32m    105\u001b[0m \n\u001b[1;32m    106\u001b[0m \u001b[39m    :param url: URL for the new :class:`Request` object.\u001b[39;00m\n\u001b[0;32m   (...)\u001b[0m\n\u001b[1;32m    112\u001b[0m \u001b[39m    :rtype: requests.Response\u001b[39;00m\n\u001b[1;32m    113\u001b[0m \u001b[39m    \"\"\"\u001b[39;00m\n\u001b[0;32m--> 115\u001b[0m     \u001b[39mreturn\u001b[39;00m request(\u001b[39m\"\u001b[39;49m\u001b[39mpost\u001b[39;49m\u001b[39m\"\u001b[39;49m, url, data\u001b[39m=\u001b[39;49mdata, json\u001b[39m=\u001b[39;49mjson, \u001b[39m*\u001b[39;49m\u001b[39m*\u001b[39;49mkwargs)\n",
      "File \u001b[0;32m~/anaconda3/envs/fundamental_based/lib/python3.10/site-packages/requests/api.py:59\u001b[0m, in \u001b[0;36mrequest\u001b[0;34m(method, url, **kwargs)\u001b[0m\n\u001b[1;32m     55\u001b[0m \u001b[39m# By using the 'with' statement we are sure the session is closed, thus we\u001b[39;00m\n\u001b[1;32m     56\u001b[0m \u001b[39m# avoid leaving sockets open which can trigger a ResourceWarning in some\u001b[39;00m\n\u001b[1;32m     57\u001b[0m \u001b[39m# cases, and look like a memory leak in others.\u001b[39;00m\n\u001b[1;32m     58\u001b[0m \u001b[39mwith\u001b[39;00m sessions\u001b[39m.\u001b[39mSession() \u001b[39mas\u001b[39;00m session:\n\u001b[0;32m---> 59\u001b[0m     \u001b[39mreturn\u001b[39;00m session\u001b[39m.\u001b[39;49mrequest(method\u001b[39m=\u001b[39;49mmethod, url\u001b[39m=\u001b[39;49murl, \u001b[39m*\u001b[39;49m\u001b[39m*\u001b[39;49mkwargs)\n",
      "File \u001b[0;32m~/anaconda3/envs/fundamental_based/lib/python3.10/site-packages/requests/sessions.py:589\u001b[0m, in \u001b[0;36mSession.request\u001b[0;34m(self, method, url, params, data, headers, cookies, files, auth, timeout, allow_redirects, proxies, hooks, stream, verify, cert, json)\u001b[0m\n\u001b[1;32m    584\u001b[0m send_kwargs \u001b[39m=\u001b[39m {\n\u001b[1;32m    585\u001b[0m     \u001b[39m\"\u001b[39m\u001b[39mtimeout\u001b[39m\u001b[39m\"\u001b[39m: timeout,\n\u001b[1;32m    586\u001b[0m     \u001b[39m\"\u001b[39m\u001b[39mallow_redirects\u001b[39m\u001b[39m\"\u001b[39m: allow_redirects,\n\u001b[1;32m    587\u001b[0m }\n\u001b[1;32m    588\u001b[0m send_kwargs\u001b[39m.\u001b[39mupdate(settings)\n\u001b[0;32m--> 589\u001b[0m resp \u001b[39m=\u001b[39m \u001b[39mself\u001b[39;49m\u001b[39m.\u001b[39;49msend(prep, \u001b[39m*\u001b[39;49m\u001b[39m*\u001b[39;49msend_kwargs)\n\u001b[1;32m    591\u001b[0m \u001b[39mreturn\u001b[39;00m resp\n",
      "File \u001b[0;32m~/anaconda3/envs/fundamental_based/lib/python3.10/site-packages/requests/sessions.py:703\u001b[0m, in \u001b[0;36mSession.send\u001b[0;34m(self, request, **kwargs)\u001b[0m\n\u001b[1;32m    700\u001b[0m start \u001b[39m=\u001b[39m preferred_clock()\n\u001b[1;32m    702\u001b[0m \u001b[39m# Send the request\u001b[39;00m\n\u001b[0;32m--> 703\u001b[0m r \u001b[39m=\u001b[39m adapter\u001b[39m.\u001b[39;49msend(request, \u001b[39m*\u001b[39;49m\u001b[39m*\u001b[39;49mkwargs)\n\u001b[1;32m    705\u001b[0m \u001b[39m# Total elapsed time of the request (approximately)\u001b[39;00m\n\u001b[1;32m    706\u001b[0m elapsed \u001b[39m=\u001b[39m preferred_clock() \u001b[39m-\u001b[39m start\n",
      "File \u001b[0;32m~/anaconda3/envs/fundamental_based/lib/python3.10/site-packages/requests/adapters.py:486\u001b[0m, in \u001b[0;36mHTTPAdapter.send\u001b[0;34m(self, request, stream, timeout, verify, cert, proxies)\u001b[0m\n\u001b[1;32m    483\u001b[0m     timeout \u001b[39m=\u001b[39m TimeoutSauce(connect\u001b[39m=\u001b[39mtimeout, read\u001b[39m=\u001b[39mtimeout)\n\u001b[1;32m    485\u001b[0m \u001b[39mtry\u001b[39;00m:\n\u001b[0;32m--> 486\u001b[0m     resp \u001b[39m=\u001b[39m conn\u001b[39m.\u001b[39;49murlopen(\n\u001b[1;32m    487\u001b[0m         method\u001b[39m=\u001b[39;49mrequest\u001b[39m.\u001b[39;49mmethod,\n\u001b[1;32m    488\u001b[0m         url\u001b[39m=\u001b[39;49murl,\n\u001b[1;32m    489\u001b[0m         body\u001b[39m=\u001b[39;49mrequest\u001b[39m.\u001b[39;49mbody,\n\u001b[1;32m    490\u001b[0m         headers\u001b[39m=\u001b[39;49mrequest\u001b[39m.\u001b[39;49mheaders,\n\u001b[1;32m    491\u001b[0m         redirect\u001b[39m=\u001b[39;49m\u001b[39mFalse\u001b[39;49;00m,\n\u001b[1;32m    492\u001b[0m         assert_same_host\u001b[39m=\u001b[39;49m\u001b[39mFalse\u001b[39;49;00m,\n\u001b[1;32m    493\u001b[0m         preload_content\u001b[39m=\u001b[39;49m\u001b[39mFalse\u001b[39;49;00m,\n\u001b[1;32m    494\u001b[0m         decode_content\u001b[39m=\u001b[39;49m\u001b[39mFalse\u001b[39;49;00m,\n\u001b[1;32m    495\u001b[0m         retries\u001b[39m=\u001b[39;49m\u001b[39mself\u001b[39;49m\u001b[39m.\u001b[39;49mmax_retries,\n\u001b[1;32m    496\u001b[0m         timeout\u001b[39m=\u001b[39;49mtimeout,\n\u001b[1;32m    497\u001b[0m         chunked\u001b[39m=\u001b[39;49mchunked,\n\u001b[1;32m    498\u001b[0m     )\n\u001b[1;32m    500\u001b[0m \u001b[39mexcept\u001b[39;00m (ProtocolError, \u001b[39mOSError\u001b[39;00m) \u001b[39mas\u001b[39;00m err:\n\u001b[1;32m    501\u001b[0m     \u001b[39mraise\u001b[39;00m \u001b[39mConnectionError\u001b[39;00m(err, request\u001b[39m=\u001b[39mrequest)\n",
      "File \u001b[0;32m~/anaconda3/envs/fundamental_based/lib/python3.10/site-packages/urllib3/connectionpool.py:714\u001b[0m, in \u001b[0;36mHTTPConnectionPool.urlopen\u001b[0;34m(self, method, url, body, headers, retries, redirect, assert_same_host, timeout, pool_timeout, release_conn, chunked, body_pos, **response_kw)\u001b[0m\n\u001b[1;32m    711\u001b[0m     \u001b[39mself\u001b[39m\u001b[39m.\u001b[39m_prepare_proxy(conn)\n\u001b[1;32m    713\u001b[0m \u001b[39m# Make the request on the httplib connection object.\u001b[39;00m\n\u001b[0;32m--> 714\u001b[0m httplib_response \u001b[39m=\u001b[39m \u001b[39mself\u001b[39;49m\u001b[39m.\u001b[39;49m_make_request(\n\u001b[1;32m    715\u001b[0m     conn,\n\u001b[1;32m    716\u001b[0m     method,\n\u001b[1;32m    717\u001b[0m     url,\n\u001b[1;32m    718\u001b[0m     timeout\u001b[39m=\u001b[39;49mtimeout_obj,\n\u001b[1;32m    719\u001b[0m     body\u001b[39m=\u001b[39;49mbody,\n\u001b[1;32m    720\u001b[0m     headers\u001b[39m=\u001b[39;49mheaders,\n\u001b[1;32m    721\u001b[0m     chunked\u001b[39m=\u001b[39;49mchunked,\n\u001b[1;32m    722\u001b[0m )\n\u001b[1;32m    724\u001b[0m \u001b[39m# If we're going to release the connection in ``finally:``, then\u001b[39;00m\n\u001b[1;32m    725\u001b[0m \u001b[39m# the response doesn't need to know about the connection. Otherwise\u001b[39;00m\n\u001b[1;32m    726\u001b[0m \u001b[39m# it will also try to release it and we'll have a double-release\u001b[39;00m\n\u001b[1;32m    727\u001b[0m \u001b[39m# mess.\u001b[39;00m\n\u001b[1;32m    728\u001b[0m response_conn \u001b[39m=\u001b[39m conn \u001b[39mif\u001b[39;00m \u001b[39mnot\u001b[39;00m release_conn \u001b[39melse\u001b[39;00m \u001b[39mNone\u001b[39;00m\n",
      "File \u001b[0;32m~/anaconda3/envs/fundamental_based/lib/python3.10/site-packages/urllib3/connectionpool.py:466\u001b[0m, in \u001b[0;36mHTTPConnectionPool._make_request\u001b[0;34m(self, conn, method, url, timeout, chunked, **httplib_request_kw)\u001b[0m\n\u001b[1;32m    461\u001b[0m             httplib_response \u001b[39m=\u001b[39m conn\u001b[39m.\u001b[39mgetresponse()\n\u001b[1;32m    462\u001b[0m         \u001b[39mexcept\u001b[39;00m \u001b[39mBaseException\u001b[39;00m \u001b[39mas\u001b[39;00m e:\n\u001b[1;32m    463\u001b[0m             \u001b[39m# Remove the TypeError from the exception chain in\u001b[39;00m\n\u001b[1;32m    464\u001b[0m             \u001b[39m# Python 3 (including for exceptions like SystemExit).\u001b[39;00m\n\u001b[1;32m    465\u001b[0m             \u001b[39m# Otherwise it looks like a bug in the code.\u001b[39;00m\n\u001b[0;32m--> 466\u001b[0m             six\u001b[39m.\u001b[39;49mraise_from(e, \u001b[39mNone\u001b[39;49;00m)\n\u001b[1;32m    467\u001b[0m \u001b[39mexcept\u001b[39;00m (SocketTimeout, BaseSSLError, SocketError) \u001b[39mas\u001b[39;00m e:\n\u001b[1;32m    468\u001b[0m     \u001b[39mself\u001b[39m\u001b[39m.\u001b[39m_raise_timeout(err\u001b[39m=\u001b[39me, url\u001b[39m=\u001b[39murl, timeout_value\u001b[39m=\u001b[39mread_timeout)\n",
      "File \u001b[0;32m<string>:3\u001b[0m, in \u001b[0;36mraise_from\u001b[0;34m(value, from_value)\u001b[0m\n",
      "File \u001b[0;32m~/anaconda3/envs/fundamental_based/lib/python3.10/site-packages/urllib3/connectionpool.py:461\u001b[0m, in \u001b[0;36mHTTPConnectionPool._make_request\u001b[0;34m(self, conn, method, url, timeout, chunked, **httplib_request_kw)\u001b[0m\n\u001b[1;32m    458\u001b[0m \u001b[39mexcept\u001b[39;00m \u001b[39mTypeError\u001b[39;00m:\n\u001b[1;32m    459\u001b[0m     \u001b[39m# Python 3\u001b[39;00m\n\u001b[1;32m    460\u001b[0m     \u001b[39mtry\u001b[39;00m:\n\u001b[0;32m--> 461\u001b[0m         httplib_response \u001b[39m=\u001b[39m conn\u001b[39m.\u001b[39;49mgetresponse()\n\u001b[1;32m    462\u001b[0m     \u001b[39mexcept\u001b[39;00m \u001b[39mBaseException\u001b[39;00m \u001b[39mas\u001b[39;00m e:\n\u001b[1;32m    463\u001b[0m         \u001b[39m# Remove the TypeError from the exception chain in\u001b[39;00m\n\u001b[1;32m    464\u001b[0m         \u001b[39m# Python 3 (including for exceptions like SystemExit).\u001b[39;00m\n\u001b[1;32m    465\u001b[0m         \u001b[39m# Otherwise it looks like a bug in the code.\u001b[39;00m\n\u001b[1;32m    466\u001b[0m         six\u001b[39m.\u001b[39mraise_from(e, \u001b[39mNone\u001b[39;00m)\n",
      "File \u001b[0;32m~/anaconda3/envs/fundamental_based/lib/python3.10/http/client.py:1375\u001b[0m, in \u001b[0;36mHTTPConnection.getresponse\u001b[0;34m(self)\u001b[0m\n\u001b[1;32m   1373\u001b[0m \u001b[39mtry\u001b[39;00m:\n\u001b[1;32m   1374\u001b[0m     \u001b[39mtry\u001b[39;00m:\n\u001b[0;32m-> 1375\u001b[0m         response\u001b[39m.\u001b[39;49mbegin()\n\u001b[1;32m   1376\u001b[0m     \u001b[39mexcept\u001b[39;00m \u001b[39mConnectionError\u001b[39;00m:\n\u001b[1;32m   1377\u001b[0m         \u001b[39mself\u001b[39m\u001b[39m.\u001b[39mclose()\n",
      "File \u001b[0;32m~/anaconda3/envs/fundamental_based/lib/python3.10/http/client.py:318\u001b[0m, in \u001b[0;36mHTTPResponse.begin\u001b[0;34m(self)\u001b[0m\n\u001b[1;32m    316\u001b[0m \u001b[39m# read until we get a non-100 response\u001b[39;00m\n\u001b[1;32m    317\u001b[0m \u001b[39mwhile\u001b[39;00m \u001b[39mTrue\u001b[39;00m:\n\u001b[0;32m--> 318\u001b[0m     version, status, reason \u001b[39m=\u001b[39m \u001b[39mself\u001b[39;49m\u001b[39m.\u001b[39;49m_read_status()\n\u001b[1;32m    319\u001b[0m     \u001b[39mif\u001b[39;00m status \u001b[39m!=\u001b[39m CONTINUE:\n\u001b[1;32m    320\u001b[0m         \u001b[39mbreak\u001b[39;00m\n",
      "File \u001b[0;32m~/anaconda3/envs/fundamental_based/lib/python3.10/http/client.py:279\u001b[0m, in \u001b[0;36mHTTPResponse._read_status\u001b[0;34m(self)\u001b[0m\n\u001b[1;32m    278\u001b[0m \u001b[39mdef\u001b[39;00m \u001b[39m_read_status\u001b[39m(\u001b[39mself\u001b[39m):\n\u001b[0;32m--> 279\u001b[0m     line \u001b[39m=\u001b[39m \u001b[39mstr\u001b[39m(\u001b[39mself\u001b[39;49m\u001b[39m.\u001b[39;49mfp\u001b[39m.\u001b[39;49mreadline(_MAXLINE \u001b[39m+\u001b[39;49m \u001b[39m1\u001b[39;49m), \u001b[39m\"\u001b[39m\u001b[39miso-8859-1\u001b[39m\u001b[39m\"\u001b[39m)\n\u001b[1;32m    280\u001b[0m     \u001b[39mif\u001b[39;00m \u001b[39mlen\u001b[39m(line) \u001b[39m>\u001b[39m _MAXLINE:\n\u001b[1;32m    281\u001b[0m         \u001b[39mraise\u001b[39;00m LineTooLong(\u001b[39m\"\u001b[39m\u001b[39mstatus line\u001b[39m\u001b[39m\"\u001b[39m)\n",
      "File \u001b[0;32m~/anaconda3/envs/fundamental_based/lib/python3.10/socket.py:705\u001b[0m, in \u001b[0;36mSocketIO.readinto\u001b[0;34m(self, b)\u001b[0m\n\u001b[1;32m    703\u001b[0m \u001b[39mwhile\u001b[39;00m \u001b[39mTrue\u001b[39;00m:\n\u001b[1;32m    704\u001b[0m     \u001b[39mtry\u001b[39;00m:\n\u001b[0;32m--> 705\u001b[0m         \u001b[39mreturn\u001b[39;00m \u001b[39mself\u001b[39;49m\u001b[39m.\u001b[39;49m_sock\u001b[39m.\u001b[39;49mrecv_into(b)\n\u001b[1;32m    706\u001b[0m     \u001b[39mexcept\u001b[39;00m timeout:\n\u001b[1;32m    707\u001b[0m         \u001b[39mself\u001b[39m\u001b[39m.\u001b[39m_timeout_occurred \u001b[39m=\u001b[39m \u001b[39mTrue\u001b[39;00m\n",
      "File \u001b[0;32m~/anaconda3/envs/fundamental_based/lib/python3.10/ssl.py:1274\u001b[0m, in \u001b[0;36mSSLSocket.recv_into\u001b[0;34m(self, buffer, nbytes, flags)\u001b[0m\n\u001b[1;32m   1270\u001b[0m     \u001b[39mif\u001b[39;00m flags \u001b[39m!=\u001b[39m \u001b[39m0\u001b[39m:\n\u001b[1;32m   1271\u001b[0m         \u001b[39mraise\u001b[39;00m \u001b[39mValueError\u001b[39;00m(\n\u001b[1;32m   1272\u001b[0m           \u001b[39m\"\u001b[39m\u001b[39mnon-zero flags not allowed in calls to recv_into() on \u001b[39m\u001b[39m%s\u001b[39;00m\u001b[39m\"\u001b[39m \u001b[39m%\u001b[39m\n\u001b[1;32m   1273\u001b[0m           \u001b[39mself\u001b[39m\u001b[39m.\u001b[39m\u001b[39m__class__\u001b[39m)\n\u001b[0;32m-> 1274\u001b[0m     \u001b[39mreturn\u001b[39;00m \u001b[39mself\u001b[39;49m\u001b[39m.\u001b[39;49mread(nbytes, buffer)\n\u001b[1;32m   1275\u001b[0m \u001b[39melse\u001b[39;00m:\n\u001b[1;32m   1276\u001b[0m     \u001b[39mreturn\u001b[39;00m \u001b[39msuper\u001b[39m()\u001b[39m.\u001b[39mrecv_into(buffer, nbytes, flags)\n",
      "File \u001b[0;32m~/anaconda3/envs/fundamental_based/lib/python3.10/ssl.py:1130\u001b[0m, in \u001b[0;36mSSLSocket.read\u001b[0;34m(self, len, buffer)\u001b[0m\n\u001b[1;32m   1128\u001b[0m \u001b[39mtry\u001b[39;00m:\n\u001b[1;32m   1129\u001b[0m     \u001b[39mif\u001b[39;00m buffer \u001b[39mis\u001b[39;00m \u001b[39mnot\u001b[39;00m \u001b[39mNone\u001b[39;00m:\n\u001b[0;32m-> 1130\u001b[0m         \u001b[39mreturn\u001b[39;00m \u001b[39mself\u001b[39;49m\u001b[39m.\u001b[39;49m_sslobj\u001b[39m.\u001b[39;49mread(\u001b[39mlen\u001b[39;49m, buffer)\n\u001b[1;32m   1131\u001b[0m     \u001b[39melse\u001b[39;00m:\n\u001b[1;32m   1132\u001b[0m         \u001b[39mreturn\u001b[39;00m \u001b[39mself\u001b[39m\u001b[39m.\u001b[39m_sslobj\u001b[39m.\u001b[39mread(\u001b[39mlen\u001b[39m)\n",
      "\u001b[0;31mKeyboardInterrupt\u001b[0m: "
     ]
    }
   ],
   "source": [
    "import kquant as kq\n",
    "from krx_competition_20 import trade_func\n",
    "\n",
    "# loop\n",
    "dict_df_result = kq.backtest_stock_port_daily(\n",
    "    trade_func,\n",
    "    \"2023-08-01\",  # 실제 심사에서는 투자기간 시작일\n",
    "    \"2023-08-11\",  # 실제 심사에서는 투자기간 종료일\n",
    "    init_cash=1_000_000_000,  # 10억원\n",
    ")"
   ]
  },
  {
   "cell_type": "code",
   "execution_count": null,
   "metadata": {},
   "outputs": [],
   "source": []
  }
 ],
 "metadata": {
  "kernelspec": {
   "display_name": "Python 3 (ipykernel)",
   "language": "python",
   "name": "python3"
  },
  "language_info": {
   "codemirror_mode": {
    "name": "ipython",
    "version": 3
   },
   "file_extension": ".py",
   "mimetype": "text/x-python",
   "name": "python",
   "nbconvert_exporter": "python",
   "pygments_lexer": "ipython3",
   "version": "3.10.12"
  },
  "orig_nbformat": 4
 },
 "nbformat": 4,
 "nbformat_minor": 2
}
