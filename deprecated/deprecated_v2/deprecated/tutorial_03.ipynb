{
 "cells": [
  {
   "cell_type": "code",
   "execution_count": 2,
   "metadata": {},
   "outputs": [],
   "source": [
    "import kquant as kq"
   ]
  },
  {
   "cell_type": "code",
   "execution_count": 3,
   "metadata": {},
   "outputs": [
    {
     "data": {
      "text/html": [
       "<div>\n",
       "<style scoped>\n",
       "    .dataframe tbody tr th:only-of-type {\n",
       "        vertical-align: middle;\n",
       "    }\n",
       "\n",
       "    .dataframe tbody tr th {\n",
       "        vertical-align: top;\n",
       "    }\n",
       "\n",
       "    .dataframe thead th {\n",
       "        text-align: right;\n",
       "    }\n",
       "</style>\n",
       "<table border=\"1\" class=\"dataframe\">\n",
       "  <thead>\n",
       "    <tr style=\"text-align: right;\">\n",
       "      <th></th>\n",
       "      <th>DATE</th>\n",
       "      <th>ORDER</th>\n",
       "    </tr>\n",
       "  </thead>\n",
       "  <tbody>\n",
       "    <tr>\n",
       "      <th>0</th>\n",
       "      <td>2023-01-02</td>\n",
       "      <td>10</td>\n",
       "    </tr>\n",
       "    <tr>\n",
       "      <th>1</th>\n",
       "      <td>2023-01-11</td>\n",
       "      <td>-10</td>\n",
       "    </tr>\n",
       "  </tbody>\n",
       "</table>\n",
       "</div>"
      ],
      "text/plain": [
       "         DATE  ORDER\n",
       "0  2023-01-02     10\n",
       "1  2023-01-11    -10"
      ]
     },
     "execution_count": 3,
     "metadata": {},
     "output_type": "execute_result"
    }
   ],
   "source": [
    "import pandas as pd\n",
    "\n",
    "df_order = pd.DataFrame({\n",
    "    \"DATE\": [\"2023-01-02\", \"2023-01-11\"],\n",
    "    \"ORDER\": [10, -10]\n",
    "})\n",
    "\n",
    "df_order"
   ]
  },
  {
   "cell_type": "code",
   "execution_count": 4,
   "metadata": {},
   "outputs": [
    {
     "name": "stderr",
     "output_type": "stream",
     "text": [
      "[2023-01-02] 종목: 005930, 주문전 보유수량:      0 주문수량:     10, 매매수량:     10, 주문후 보유수량:     10\n",
      "[2023-01-11] 종목: 005930, 주문전 보유수량:     10 주문수량:    -10, 매매수량:    -10, 주문후 보유수량:      0\n"
     ]
    }
   ],
   "source": [
    "df_result = kq.backtest_stock_daily(\"005930\", df_order, init_cash=1_000_000)"
   ]
  },
  {
   "cell_type": "code",
   "execution_count": 5,
   "metadata": {},
   "outputs": [
    {
     "data": {
      "text/html": [
       "<div>\n",
       "<style scoped>\n",
       "    .dataframe tbody tr th:only-of-type {\n",
       "        vertical-align: middle;\n",
       "    }\n",
       "\n",
       "    .dataframe tbody tr th {\n",
       "        vertical-align: top;\n",
       "    }\n",
       "\n",
       "    .dataframe thead th {\n",
       "        text-align: right;\n",
       "    }\n",
       "</style>\n",
       "<table border=\"1\" class=\"dataframe\">\n",
       "  <thead>\n",
       "    <tr style=\"text-align: right;\">\n",
       "      <th></th>\n",
       "      <th>DATE</th>\n",
       "      <th>SYMBOL</th>\n",
       "      <th>PRICE</th>\n",
       "      <th>ORDER</th>\n",
       "      <th>QTY</th>\n",
       "      <th>TRADE_PRICE</th>\n",
       "      <th>POSITION</th>\n",
       "      <th>AVG_PRICE</th>\n",
       "      <th>FEE</th>\n",
       "      <th>TRADE_TAX</th>\n",
       "      <th>SLIPPAGE</th>\n",
       "      <th>CASHFLOW</th>\n",
       "      <th>CASH</th>\n",
       "      <th>HIST_VALUE</th>\n",
       "      <th>STOCK_VALUE</th>\n",
       "      <th>TOTAL_VALUE</th>\n",
       "      <th>REAL_PROFIT</th>\n",
       "      <th>UNREAL_PROFIT</th>\n",
       "      <th>PROFIT</th>\n",
       "      <th>HIGHWATERMARK</th>\n",
       "      <th>DRAWDOWN</th>\n",
       "    </tr>\n",
       "  </thead>\n",
       "  <tbody>\n",
       "    <tr>\n",
       "      <th>0</th>\n",
       "      <td>2023-01-02</td>\n",
       "      <td>005930</td>\n",
       "      <td>55,500</td>\n",
       "      <td>10</td>\n",
       "      <td>10</td>\n",
       "      <td>55,500</td>\n",
       "      <td>10</td>\n",
       "      <td>55,500.0000</td>\n",
       "      <td>0</td>\n",
       "      <td>0</td>\n",
       "      <td>0</td>\n",
       "      <td>-555,000</td>\n",
       "      <td>445,000</td>\n",
       "      <td>555,000</td>\n",
       "      <td>555,000</td>\n",
       "      <td>1,000,000</td>\n",
       "      <td>0</td>\n",
       "      <td>0</td>\n",
       "      <td>0</td>\n",
       "      <td>1,000,000</td>\n",
       "      <td>0</td>\n",
       "    </tr>\n",
       "    <tr>\n",
       "      <th>1</th>\n",
       "      <td>2023-01-03</td>\n",
       "      <td>005930</td>\n",
       "      <td>55,400</td>\n",
       "      <td>0</td>\n",
       "      <td>0</td>\n",
       "      <td>0</td>\n",
       "      <td>10</td>\n",
       "      <td>55,500.0000</td>\n",
       "      <td>0</td>\n",
       "      <td>0</td>\n",
       "      <td>0</td>\n",
       "      <td>0</td>\n",
       "      <td>445,000</td>\n",
       "      <td>555,000</td>\n",
       "      <td>554,000</td>\n",
       "      <td>999,000</td>\n",
       "      <td>0</td>\n",
       "      <td>-1,000</td>\n",
       "      <td>-1,000</td>\n",
       "      <td>1,000,000</td>\n",
       "      <td>1,000</td>\n",
       "    </tr>\n",
       "    <tr>\n",
       "      <th>2</th>\n",
       "      <td>2023-01-04</td>\n",
       "      <td>005930</td>\n",
       "      <td>57,800</td>\n",
       "      <td>0</td>\n",
       "      <td>0</td>\n",
       "      <td>0</td>\n",
       "      <td>10</td>\n",
       "      <td>55,500.0000</td>\n",
       "      <td>0</td>\n",
       "      <td>0</td>\n",
       "      <td>0</td>\n",
       "      <td>0</td>\n",
       "      <td>445,000</td>\n",
       "      <td>555,000</td>\n",
       "      <td>578,000</td>\n",
       "      <td>1,023,000</td>\n",
       "      <td>0</td>\n",
       "      <td>23,000</td>\n",
       "      <td>23,000</td>\n",
       "      <td>1,023,000</td>\n",
       "      <td>0</td>\n",
       "    </tr>\n",
       "    <tr>\n",
       "      <th>3</th>\n",
       "      <td>2023-01-05</td>\n",
       "      <td>005930</td>\n",
       "      <td>58,200</td>\n",
       "      <td>0</td>\n",
       "      <td>0</td>\n",
       "      <td>0</td>\n",
       "      <td>10</td>\n",
       "      <td>55,500.0000</td>\n",
       "      <td>0</td>\n",
       "      <td>0</td>\n",
       "      <td>0</td>\n",
       "      <td>0</td>\n",
       "      <td>445,000</td>\n",
       "      <td>555,000</td>\n",
       "      <td>582,000</td>\n",
       "      <td>1,027,000</td>\n",
       "      <td>0</td>\n",
       "      <td>27,000</td>\n",
       "      <td>27,000</td>\n",
       "      <td>1,027,000</td>\n",
       "      <td>0</td>\n",
       "    </tr>\n",
       "    <tr>\n",
       "      <th>4</th>\n",
       "      <td>2023-01-06</td>\n",
       "      <td>005930</td>\n",
       "      <td>59,000</td>\n",
       "      <td>0</td>\n",
       "      <td>0</td>\n",
       "      <td>0</td>\n",
       "      <td>10</td>\n",
       "      <td>55,500.0000</td>\n",
       "      <td>0</td>\n",
       "      <td>0</td>\n",
       "      <td>0</td>\n",
       "      <td>0</td>\n",
       "      <td>445,000</td>\n",
       "      <td>555,000</td>\n",
       "      <td>590,000</td>\n",
       "      <td>1,035,000</td>\n",
       "      <td>0</td>\n",
       "      <td>35,000</td>\n",
       "      <td>35,000</td>\n",
       "      <td>1,035,000</td>\n",
       "      <td>0</td>\n",
       "    </tr>\n",
       "    <tr>\n",
       "      <th>5</th>\n",
       "      <td>2023-01-09</td>\n",
       "      <td>005930</td>\n",
       "      <td>60,700</td>\n",
       "      <td>0</td>\n",
       "      <td>0</td>\n",
       "      <td>0</td>\n",
       "      <td>10</td>\n",
       "      <td>55,500.0000</td>\n",
       "      <td>0</td>\n",
       "      <td>0</td>\n",
       "      <td>0</td>\n",
       "      <td>0</td>\n",
       "      <td>445,000</td>\n",
       "      <td>555,000</td>\n",
       "      <td>607,000</td>\n",
       "      <td>1,052,000</td>\n",
       "      <td>0</td>\n",
       "      <td>52,000</td>\n",
       "      <td>52,000</td>\n",
       "      <td>1,052,000</td>\n",
       "      <td>0</td>\n",
       "    </tr>\n",
       "    <tr>\n",
       "      <th>6</th>\n",
       "      <td>2023-01-10</td>\n",
       "      <td>005930</td>\n",
       "      <td>60,400</td>\n",
       "      <td>0</td>\n",
       "      <td>0</td>\n",
       "      <td>0</td>\n",
       "      <td>10</td>\n",
       "      <td>55,500.0000</td>\n",
       "      <td>0</td>\n",
       "      <td>0</td>\n",
       "      <td>0</td>\n",
       "      <td>0</td>\n",
       "      <td>445,000</td>\n",
       "      <td>555,000</td>\n",
       "      <td>604,000</td>\n",
       "      <td>1,049,000</td>\n",
       "      <td>0</td>\n",
       "      <td>49,000</td>\n",
       "      <td>49,000</td>\n",
       "      <td>1,052,000</td>\n",
       "      <td>3,000</td>\n",
       "    </tr>\n",
       "    <tr>\n",
       "      <th>7</th>\n",
       "      <td>2023-01-11</td>\n",
       "      <td>005930</td>\n",
       "      <td>60,500</td>\n",
       "      <td>-10</td>\n",
       "      <td>-10</td>\n",
       "      <td>60,500</td>\n",
       "      <td>0</td>\n",
       "      <td>0.0000</td>\n",
       "      <td>0</td>\n",
       "      <td>0</td>\n",
       "      <td>0</td>\n",
       "      <td>605,000</td>\n",
       "      <td>1,050,000</td>\n",
       "      <td>0</td>\n",
       "      <td>0</td>\n",
       "      <td>1,050,000</td>\n",
       "      <td>50,000</td>\n",
       "      <td>0</td>\n",
       "      <td>50,000</td>\n",
       "      <td>1,052,000</td>\n",
       "      <td>2,000</td>\n",
       "    </tr>\n",
       "  </tbody>\n",
       "</table>\n",
       "</div>"
      ],
      "text/plain": [
       "        DATE  SYMBOL   PRICE  ORDER  QTY  TRADE_PRICE  POSITION   AVG_PRICE  \\\n",
       "0 2023-01-02  005930  55,500     10   10       55,500        10 55,500.0000   \n",
       "1 2023-01-03  005930  55,400      0    0            0        10 55,500.0000   \n",
       "2 2023-01-04  005930  57,800      0    0            0        10 55,500.0000   \n",
       "3 2023-01-05  005930  58,200      0    0            0        10 55,500.0000   \n",
       "4 2023-01-06  005930  59,000      0    0            0        10 55,500.0000   \n",
       "5 2023-01-09  005930  60,700      0    0            0        10 55,500.0000   \n",
       "6 2023-01-10  005930  60,400      0    0            0        10 55,500.0000   \n",
       "7 2023-01-11  005930  60,500    -10  -10       60,500         0      0.0000   \n",
       "\n",
       "   FEE  TRADE_TAX  SLIPPAGE  CASHFLOW       CASH  HIST_VALUE  STOCK_VALUE  \\\n",
       "0    0          0         0  -555,000    445,000     555,000      555,000   \n",
       "1    0          0         0         0    445,000     555,000      554,000   \n",
       "2    0          0         0         0    445,000     555,000      578,000   \n",
       "3    0          0         0         0    445,000     555,000      582,000   \n",
       "4    0          0         0         0    445,000     555,000      590,000   \n",
       "5    0          0         0         0    445,000     555,000      607,000   \n",
       "6    0          0         0         0    445,000     555,000      604,000   \n",
       "7    0          0         0   605,000  1,050,000           0            0   \n",
       "\n",
       "   TOTAL_VALUE  REAL_PROFIT  UNREAL_PROFIT  PROFIT  HIGHWATERMARK  DRAWDOWN  \n",
       "0    1,000,000            0              0       0      1,000,000         0  \n",
       "1      999,000            0         -1,000  -1,000      1,000,000     1,000  \n",
       "2    1,023,000            0         23,000  23,000      1,023,000         0  \n",
       "3    1,027,000            0         27,000  27,000      1,027,000         0  \n",
       "4    1,035,000            0         35,000  35,000      1,035,000         0  \n",
       "5    1,052,000            0         52,000  52,000      1,052,000         0  \n",
       "6    1,049,000            0         49,000  49,000      1,052,000     3,000  \n",
       "7    1,050,000       50,000              0  50,000      1,052,000     2,000  "
      ]
     },
     "execution_count": 5,
     "metadata": {},
     "output_type": "execute_result"
    }
   ],
   "source": [
    "df_result"
   ]
  },
  {
   "cell_type": "code",
   "execution_count": 6,
   "metadata": {},
   "outputs": [
    {
     "name": "stdout",
     "output_type": "stream",
     "text": [
      "매수가격: 55,500원, 매도가격: 60,500원, 수익: 50,000원\n"
     ]
    }
   ],
   "source": [
    "print(\n",
    "    f\"매수가격: {df_result.TRADE_PRICE.iloc[0]:,}원, \"\n",
    "    f\"매도가격: {df_result.TRADE_PRICE.iloc[-1]:,}원, \" \n",
    "    f\"수익: {df_result.PROFIT.iloc[-1]:,}원\"\n",
    ")"
   ]
  },
  {
   "cell_type": "code",
   "execution_count": 7,
   "metadata": {},
   "outputs": [
    {
     "data": {
      "text/html": [
       "        <script type=\"text/javascript\">\n",
       "        window.PlotlyConfig = {MathJaxConfig: 'local'};\n",
       "        if (window.MathJax && window.MathJax.Hub && window.MathJax.Hub.Config) {window.MathJax.Hub.Config({SVG: {font: \"STIX-Web\"}});}\n",
       "        if (typeof require !== 'undefined') {\n",
       "        require.undef(\"plotly\");\n",
       "        requirejs.config({\n",
       "            paths: {\n",
       "                'plotly': ['https://cdn.plot.ly/plotly-2.25.2.min']\n",
       "            }\n",
       "        });\n",
       "        require(['plotly'], function(Plotly) {\n",
       "            window._Plotly = Plotly;\n",
       "        });\n",
       "        }\n",
       "        </script>\n",
       "        "
      ]
     },
     "metadata": {},
     "output_type": "display_data"
    },
    {
     "data": {
      "application/vnd.plotly.v1+json": {
       "config": {
        "displaylogo": false,
        "modeBarButtonsToRemove": [
         "resetScale2d",
         "lasso2d",
         "zoomIn2d",
         "zoomOut2d",
         "select2d"
        ],
        "plotlyServerURL": "https://plot.ly"
       },
       "data": [
        {
         "marker": {
          "color": "#000000"
         },
         "mode": "lines",
         "name": "가격",
         "type": "scatter",
         "x": [
          "2023-01-02T00:00:00",
          "2023-01-03T00:00:00",
          "2023-01-04T00:00:00",
          "2023-01-05T00:00:00",
          "2023-01-06T00:00:00",
          "2023-01-09T00:00:00",
          "2023-01-10T00:00:00",
          "2023-01-11T00:00:00"
         ],
         "xaxis": "x5",
         "y": [
          55500,
          55400,
          57800,
          58200,
          59000,
          60700,
          60400,
          60500
         ],
         "yaxis": "y"
        },
        {
         "marker": {
          "color": "#DC143C",
          "line": {
           "color": "white",
           "width": 1
          },
          "size": 12,
          "symbol": "triangle-up"
         },
         "mode": "markers",
         "name": "매수",
         "type": "scatter",
         "x": [
          "2023-01-02T00:00:00"
         ],
         "xaxis": "x5",
         "y": [
          55500
         ],
         "yaxis": "y"
        },
        {
         "marker": {
          "color": "#00008B",
          "line": {
           "color": "white",
           "width": 1
          },
          "size": 12,
          "symbol": "triangle-down"
         },
         "mode": "markers",
         "name": "매도",
         "type": "scatter",
         "x": [
          "2023-01-11T00:00:00"
         ],
         "xaxis": "x5",
         "y": [
          60500
         ],
         "yaxis": "y"
        },
        {
         "fill": "tozeroy",
         "fillcolor": "lightgray",
         "line": {
          "color": "#000000",
          "shape": "hv"
         },
         "mode": "lines",
         "name": "잔고수량",
         "type": "scatter",
         "x": [
          "2023-01-02T00:00:00",
          "2023-01-03T00:00:00",
          "2023-01-04T00:00:00",
          "2023-01-05T00:00:00",
          "2023-01-06T00:00:00",
          "2023-01-09T00:00:00",
          "2023-01-10T00:00:00",
          "2023-01-11T00:00:00"
         ],
         "xaxis": "x5",
         "y": [
          10,
          10,
          10,
          10,
          10,
          10,
          10,
          0
         ],
         "yaxis": "y2"
        },
        {
         "line": {
          "color": "#000000",
          "shape": "hv"
         },
         "mode": "lines",
         "name": "잔고가치",
         "type": "scatter",
         "x": [
          "2023-01-02T00:00:00",
          "2023-01-03T00:00:00",
          "2023-01-04T00:00:00",
          "2023-01-05T00:00:00",
          "2023-01-06T00:00:00",
          "2023-01-09T00:00:00",
          "2023-01-10T00:00:00",
          "2023-01-11T00:00:00"
         ],
         "xaxis": "x5",
         "y": [
          555000,
          554000,
          578000,
          582000,
          590000,
          607000,
          604000,
          null
         ],
         "yaxis": "y3"
        },
        {
         "cliponaxis": false,
         "marker": {
          "color": [
           "#00008B",
           "#00008B",
           "#00008B",
           "#00008B",
           "#00008B",
           "#00008B",
           "#00008B",
           "#DC143C"
          ]
         },
         "name": "실현손익",
         "text": [
          "",
          "",
          "",
          "",
          "",
          "",
          "",
          "50,000"
         ],
         "textposition": "outside",
         "type": "bar",
         "width": 432000000,
         "x": [
          "2023-01-02T00:00:00",
          "2023-01-03T00:00:00",
          "2023-01-04T00:00:00",
          "2023-01-05T00:00:00",
          "2023-01-06T00:00:00",
          "2023-01-09T00:00:00",
          "2023-01-10T00:00:00",
          "2023-01-11T00:00:00"
         ],
         "xaxis": "x5",
         "y": [
          0,
          0,
          0,
          0,
          0,
          0,
          0,
          50000
         ],
         "yaxis": "y4"
        },
        {
         "line": {
          "color": "#000000",
          "shape": "hv"
         },
         "mode": "lines",
         "name": "총자산가치",
         "type": "scatter",
         "x": [
          "2023-01-02T00:00:00",
          "2023-01-03T00:00:00",
          "2023-01-04T00:00:00",
          "2023-01-05T00:00:00",
          "2023-01-06T00:00:00",
          "2023-01-09T00:00:00",
          "2023-01-10T00:00:00",
          "2023-01-11T00:00:00"
         ],
         "xaxis": "x5",
         "y": [
          1000000,
          999000,
          1023000,
          1027000,
          1035000,
          1052000,
          1049000,
          1050000
         ],
         "yaxis": "y5"
        },
        {
         "line": {
          "color": "#DC143C",
          "dash": "dash",
          "shape": "hv"
         },
         "mode": "lines",
         "name": "최고자산가치",
         "type": "scatter",
         "x": [
          "2023-01-02T00:00:00",
          "2023-01-03T00:00:00",
          "2023-01-04T00:00:00",
          "2023-01-05T00:00:00",
          "2023-01-06T00:00:00",
          "2023-01-09T00:00:00",
          "2023-01-10T00:00:00",
          "2023-01-11T00:00:00"
         ],
         "xaxis": "x5",
         "y": [
          1000000,
          1000000,
          1023000,
          1027000,
          1035000,
          1052000,
          1052000,
          1052000
         ],
         "yaxis": "y5"
        },
        {
         "base": [
          1000000
         ],
         "cliponaxis": false,
         "marker": {
          "color": [
           "#DC143C"
          ]
         },
         "name": "최종손익",
         "text": [
          "최종수익: 50,000"
         ],
         "textposition": "outside",
         "type": "bar",
         "width": 864000000,
         "x": [
          "2023-01-11T00:00:00"
         ],
         "xaxis": "x5",
         "y": [
          50000
         ],
         "yaxis": "y5"
        },
        {
         "cliponaxis": false,
         "marker": {
          "color": [
           "#DC143C",
           "#00008B"
          ],
          "line": {
           "color": "white",
           "width": 1
          },
          "size": 12,
          "symbol": [
           "triangle-up",
           "triangle-down"
          ]
         },
         "mode": "markers+text",
         "name": "",
         "text": [
          "최고자산가치: 1,052,000",
          "MDD: -3,000"
         ],
         "textposition": [
          "top center",
          "bottom center"
         ],
         "type": "scatter",
         "x": [
          "2023-01-09T00:00:00",
          "2023-01-10T00:00:00"
         ],
         "xaxis": "x5",
         "y": [
          1052000,
          1049000
         ],
         "yaxis": "y5"
        }
       ],
       "layout": {
        "annotations": [
         {
          "font": {
           "size": 16
          },
          "showarrow": false,
          "text": "가격",
          "x": 0.5,
          "xanchor": "center",
          "xref": "paper",
          "y": 1,
          "yanchor": "bottom",
          "yref": "paper"
         },
         {
          "font": {
           "size": 16
          },
          "showarrow": false,
          "text": "잔고수량",
          "x": 0.5,
          "xanchor": "center",
          "xref": "paper",
          "y": 0.79,
          "yanchor": "bottom",
          "yref": "paper"
         },
         {
          "font": {
           "size": 16
          },
          "showarrow": false,
          "text": "잔고가치",
          "x": 0.5,
          "xanchor": "center",
          "xref": "paper",
          "y": 0.66,
          "yanchor": "bottom",
          "yref": "paper"
         },
         {
          "font": {
           "size": 16
          },
          "showarrow": false,
          "text": "실현손익",
          "x": 0.5,
          "xanchor": "center",
          "xref": "paper",
          "y": 0.45,
          "yanchor": "bottom",
          "yref": "paper"
         },
         {
          "font": {
           "size": 16
          },
          "showarrow": false,
          "text": "총자산가치",
          "x": 0.5,
          "xanchor": "center",
          "xref": "paper",
          "y": 0.24,
          "yanchor": "bottom",
          "yref": "paper"
         }
        ],
        "height": 800,
        "hovermode": "x unified",
        "margin": {
         "b": 25,
         "l": 25,
         "r": 25,
         "t": 80
        },
        "showlegend": false,
        "template": {
         "data": {
          "bar": [
           {
            "error_x": {
             "color": "#2a3f5f"
            },
            "error_y": {
             "color": "#2a3f5f"
            },
            "marker": {
             "line": {
              "color": "#E5ECF6",
              "width": 0.5
             },
             "pattern": {
              "fillmode": "overlay",
              "size": 10,
              "solidity": 0.2
             }
            },
            "type": "bar"
           }
          ],
          "barpolar": [
           {
            "marker": {
             "line": {
              "color": "#E5ECF6",
              "width": 0.5
             },
             "pattern": {
              "fillmode": "overlay",
              "size": 10,
              "solidity": 0.2
             }
            },
            "type": "barpolar"
           }
          ],
          "carpet": [
           {
            "aaxis": {
             "endlinecolor": "#2a3f5f",
             "gridcolor": "white",
             "linecolor": "white",
             "minorgridcolor": "white",
             "startlinecolor": "#2a3f5f"
            },
            "baxis": {
             "endlinecolor": "#2a3f5f",
             "gridcolor": "white",
             "linecolor": "white",
             "minorgridcolor": "white",
             "startlinecolor": "#2a3f5f"
            },
            "type": "carpet"
           }
          ],
          "choropleth": [
           {
            "colorbar": {
             "outlinewidth": 0,
             "ticks": ""
            },
            "type": "choropleth"
           }
          ],
          "contour": [
           {
            "colorbar": {
             "outlinewidth": 0,
             "ticks": ""
            },
            "colorscale": [
             [
              0,
              "#0d0887"
             ],
             [
              0.1111111111111111,
              "#46039f"
             ],
             [
              0.2222222222222222,
              "#7201a8"
             ],
             [
              0.3333333333333333,
              "#9c179e"
             ],
             [
              0.4444444444444444,
              "#bd3786"
             ],
             [
              0.5555555555555556,
              "#d8576b"
             ],
             [
              0.6666666666666666,
              "#ed7953"
             ],
             [
              0.7777777777777778,
              "#fb9f3a"
             ],
             [
              0.8888888888888888,
              "#fdca26"
             ],
             [
              1,
              "#f0f921"
             ]
            ],
            "type": "contour"
           }
          ],
          "contourcarpet": [
           {
            "colorbar": {
             "outlinewidth": 0,
             "ticks": ""
            },
            "type": "contourcarpet"
           }
          ],
          "heatmap": [
           {
            "colorbar": {
             "outlinewidth": 0,
             "ticks": ""
            },
            "colorscale": [
             [
              0,
              "#0d0887"
             ],
             [
              0.1111111111111111,
              "#46039f"
             ],
             [
              0.2222222222222222,
              "#7201a8"
             ],
             [
              0.3333333333333333,
              "#9c179e"
             ],
             [
              0.4444444444444444,
              "#bd3786"
             ],
             [
              0.5555555555555556,
              "#d8576b"
             ],
             [
              0.6666666666666666,
              "#ed7953"
             ],
             [
              0.7777777777777778,
              "#fb9f3a"
             ],
             [
              0.8888888888888888,
              "#fdca26"
             ],
             [
              1,
              "#f0f921"
             ]
            ],
            "type": "heatmap"
           }
          ],
          "heatmapgl": [
           {
            "colorbar": {
             "outlinewidth": 0,
             "ticks": ""
            },
            "colorscale": [
             [
              0,
              "#0d0887"
             ],
             [
              0.1111111111111111,
              "#46039f"
             ],
             [
              0.2222222222222222,
              "#7201a8"
             ],
             [
              0.3333333333333333,
              "#9c179e"
             ],
             [
              0.4444444444444444,
              "#bd3786"
             ],
             [
              0.5555555555555556,
              "#d8576b"
             ],
             [
              0.6666666666666666,
              "#ed7953"
             ],
             [
              0.7777777777777778,
              "#fb9f3a"
             ],
             [
              0.8888888888888888,
              "#fdca26"
             ],
             [
              1,
              "#f0f921"
             ]
            ],
            "type": "heatmapgl"
           }
          ],
          "histogram": [
           {
            "marker": {
             "pattern": {
              "fillmode": "overlay",
              "size": 10,
              "solidity": 0.2
             }
            },
            "type": "histogram"
           }
          ],
          "histogram2d": [
           {
            "colorbar": {
             "outlinewidth": 0,
             "ticks": ""
            },
            "colorscale": [
             [
              0,
              "#0d0887"
             ],
             [
              0.1111111111111111,
              "#46039f"
             ],
             [
              0.2222222222222222,
              "#7201a8"
             ],
             [
              0.3333333333333333,
              "#9c179e"
             ],
             [
              0.4444444444444444,
              "#bd3786"
             ],
             [
              0.5555555555555556,
              "#d8576b"
             ],
             [
              0.6666666666666666,
              "#ed7953"
             ],
             [
              0.7777777777777778,
              "#fb9f3a"
             ],
             [
              0.8888888888888888,
              "#fdca26"
             ],
             [
              1,
              "#f0f921"
             ]
            ],
            "type": "histogram2d"
           }
          ],
          "histogram2dcontour": [
           {
            "colorbar": {
             "outlinewidth": 0,
             "ticks": ""
            },
            "colorscale": [
             [
              0,
              "#0d0887"
             ],
             [
              0.1111111111111111,
              "#46039f"
             ],
             [
              0.2222222222222222,
              "#7201a8"
             ],
             [
              0.3333333333333333,
              "#9c179e"
             ],
             [
              0.4444444444444444,
              "#bd3786"
             ],
             [
              0.5555555555555556,
              "#d8576b"
             ],
             [
              0.6666666666666666,
              "#ed7953"
             ],
             [
              0.7777777777777778,
              "#fb9f3a"
             ],
             [
              0.8888888888888888,
              "#fdca26"
             ],
             [
              1,
              "#f0f921"
             ]
            ],
            "type": "histogram2dcontour"
           }
          ],
          "mesh3d": [
           {
            "colorbar": {
             "outlinewidth": 0,
             "ticks": ""
            },
            "type": "mesh3d"
           }
          ],
          "parcoords": [
           {
            "line": {
             "colorbar": {
              "outlinewidth": 0,
              "ticks": ""
             }
            },
            "type": "parcoords"
           }
          ],
          "pie": [
           {
            "automargin": true,
            "type": "pie"
           }
          ],
          "scatter": [
           {
            "fillpattern": {
             "fillmode": "overlay",
             "size": 10,
             "solidity": 0.2
            },
            "type": "scatter"
           }
          ],
          "scatter3d": [
           {
            "line": {
             "colorbar": {
              "outlinewidth": 0,
              "ticks": ""
             }
            },
            "marker": {
             "colorbar": {
              "outlinewidth": 0,
              "ticks": ""
             }
            },
            "type": "scatter3d"
           }
          ],
          "scattercarpet": [
           {
            "marker": {
             "colorbar": {
              "outlinewidth": 0,
              "ticks": ""
             }
            },
            "type": "scattercarpet"
           }
          ],
          "scattergeo": [
           {
            "marker": {
             "colorbar": {
              "outlinewidth": 0,
              "ticks": ""
             }
            },
            "type": "scattergeo"
           }
          ],
          "scattergl": [
           {
            "marker": {
             "colorbar": {
              "outlinewidth": 0,
              "ticks": ""
             }
            },
            "type": "scattergl"
           }
          ],
          "scattermapbox": [
           {
            "marker": {
             "colorbar": {
              "outlinewidth": 0,
              "ticks": ""
             }
            },
            "type": "scattermapbox"
           }
          ],
          "scatterpolar": [
           {
            "marker": {
             "colorbar": {
              "outlinewidth": 0,
              "ticks": ""
             }
            },
            "type": "scatterpolar"
           }
          ],
          "scatterpolargl": [
           {
            "marker": {
             "colorbar": {
              "outlinewidth": 0,
              "ticks": ""
             }
            },
            "type": "scatterpolargl"
           }
          ],
          "scatterternary": [
           {
            "marker": {
             "colorbar": {
              "outlinewidth": 0,
              "ticks": ""
             }
            },
            "type": "scatterternary"
           }
          ],
          "surface": [
           {
            "colorbar": {
             "outlinewidth": 0,
             "ticks": ""
            },
            "colorscale": [
             [
              0,
              "#0d0887"
             ],
             [
              0.1111111111111111,
              "#46039f"
             ],
             [
              0.2222222222222222,
              "#7201a8"
             ],
             [
              0.3333333333333333,
              "#9c179e"
             ],
             [
              0.4444444444444444,
              "#bd3786"
             ],
             [
              0.5555555555555556,
              "#d8576b"
             ],
             [
              0.6666666666666666,
              "#ed7953"
             ],
             [
              0.7777777777777778,
              "#fb9f3a"
             ],
             [
              0.8888888888888888,
              "#fdca26"
             ],
             [
              1,
              "#f0f921"
             ]
            ],
            "type": "surface"
           }
          ],
          "table": [
           {
            "cells": {
             "fill": {
              "color": "#EBF0F8"
             },
             "line": {
              "color": "white"
             }
            },
            "header": {
             "fill": {
              "color": "#C8D4E3"
             },
             "line": {
              "color": "white"
             }
            },
            "type": "table"
           }
          ]
         },
         "layout": {
          "annotationdefaults": {
           "arrowcolor": "#2a3f5f",
           "arrowhead": 0,
           "arrowwidth": 1
          },
          "autotypenumbers": "strict",
          "coloraxis": {
           "colorbar": {
            "outlinewidth": 0,
            "ticks": ""
           }
          },
          "colorscale": {
           "diverging": [
            [
             0,
             "#8e0152"
            ],
            [
             0.1,
             "#c51b7d"
            ],
            [
             0.2,
             "#de77ae"
            ],
            [
             0.3,
             "#f1b6da"
            ],
            [
             0.4,
             "#fde0ef"
            ],
            [
             0.5,
             "#f7f7f7"
            ],
            [
             0.6,
             "#e6f5d0"
            ],
            [
             0.7,
             "#b8e186"
            ],
            [
             0.8,
             "#7fbc41"
            ],
            [
             0.9,
             "#4d9221"
            ],
            [
             1,
             "#276419"
            ]
           ],
           "sequential": [
            [
             0,
             "#0d0887"
            ],
            [
             0.1111111111111111,
             "#46039f"
            ],
            [
             0.2222222222222222,
             "#7201a8"
            ],
            [
             0.3333333333333333,
             "#9c179e"
            ],
            [
             0.4444444444444444,
             "#bd3786"
            ],
            [
             0.5555555555555556,
             "#d8576b"
            ],
            [
             0.6666666666666666,
             "#ed7953"
            ],
            [
             0.7777777777777778,
             "#fb9f3a"
            ],
            [
             0.8888888888888888,
             "#fdca26"
            ],
            [
             1,
             "#f0f921"
            ]
           ],
           "sequentialminus": [
            [
             0,
             "#0d0887"
            ],
            [
             0.1111111111111111,
             "#46039f"
            ],
            [
             0.2222222222222222,
             "#7201a8"
            ],
            [
             0.3333333333333333,
             "#9c179e"
            ],
            [
             0.4444444444444444,
             "#bd3786"
            ],
            [
             0.5555555555555556,
             "#d8576b"
            ],
            [
             0.6666666666666666,
             "#ed7953"
            ],
            [
             0.7777777777777778,
             "#fb9f3a"
            ],
            [
             0.8888888888888888,
             "#fdca26"
            ],
            [
             1,
             "#f0f921"
            ]
           ]
          },
          "colorway": [
           "#636efa",
           "#EF553B",
           "#00cc96",
           "#ab63fa",
           "#FFA15A",
           "#19d3f3",
           "#FF6692",
           "#B6E880",
           "#FF97FF",
           "#FECB52"
          ],
          "font": {
           "color": "#2a3f5f"
          },
          "geo": {
           "bgcolor": "white",
           "lakecolor": "white",
           "landcolor": "#E5ECF6",
           "showlakes": true,
           "showland": true,
           "subunitcolor": "white"
          },
          "hoverlabel": {
           "align": "left"
          },
          "hovermode": "closest",
          "mapbox": {
           "style": "light"
          },
          "paper_bgcolor": "white",
          "plot_bgcolor": "#E5ECF6",
          "polar": {
           "angularaxis": {
            "gridcolor": "white",
            "linecolor": "white",
            "ticks": ""
           },
           "bgcolor": "#E5ECF6",
           "radialaxis": {
            "gridcolor": "white",
            "linecolor": "white",
            "ticks": ""
           }
          },
          "scene": {
           "xaxis": {
            "backgroundcolor": "#E5ECF6",
            "gridcolor": "white",
            "gridwidth": 2,
            "linecolor": "white",
            "showbackground": true,
            "ticks": "",
            "zerolinecolor": "white"
           },
           "yaxis": {
            "backgroundcolor": "#E5ECF6",
            "gridcolor": "white",
            "gridwidth": 2,
            "linecolor": "white",
            "showbackground": true,
            "ticks": "",
            "zerolinecolor": "white"
           },
           "zaxis": {
            "backgroundcolor": "#E5ECF6",
            "gridcolor": "white",
            "gridwidth": 2,
            "linecolor": "white",
            "showbackground": true,
            "ticks": "",
            "zerolinecolor": "white"
           }
          },
          "shapedefaults": {
           "line": {
            "color": "#2a3f5f"
           }
          },
          "ternary": {
           "aaxis": {
            "gridcolor": "white",
            "linecolor": "white",
            "ticks": ""
           },
           "baxis": {
            "gridcolor": "white",
            "linecolor": "white",
            "ticks": ""
           },
           "bgcolor": "#E5ECF6",
           "caxis": {
            "gridcolor": "white",
            "linecolor": "white",
            "ticks": ""
           }
          },
          "title": {
           "x": 0.05
          },
          "xaxis": {
           "automargin": true,
           "gridcolor": "white",
           "linecolor": "white",
           "ticks": "",
           "title": {
            "standoff": 15
           },
           "zerolinecolor": "white",
           "zerolinewidth": 2
          },
          "yaxis": {
           "automargin": true,
           "gridcolor": "white",
           "linecolor": "white",
           "ticks": "",
           "title": {
            "standoff": 15
           },
           "zerolinecolor": "white",
           "zerolinewidth": 2
          }
         }
        },
        "title": {
         "text": "백테스트 결과: 005930, 2023-01-02~2023-01-11",
         "x": 0.5,
         "y": 0.98
        },
        "uniformtext": {
         "minsize": 12,
         "mode": "show"
        },
        "xaxis": {
         "anchor": "y",
         "domain": [
          0,
          1
         ],
         "matches": "x5",
         "showticklabels": false
        },
        "xaxis2": {
         "anchor": "y2",
         "domain": [
          0,
          1
         ],
         "matches": "x5",
         "showticklabels": false
        },
        "xaxis3": {
         "anchor": "y3",
         "domain": [
          0,
          1
         ],
         "matches": "x5",
         "showticklabels": false
        },
        "xaxis4": {
         "anchor": "y4",
         "domain": [
          0,
          1
         ],
         "matches": "x5",
         "showticklabels": false
        },
        "xaxis5": {
         "anchor": "y5",
         "domain": [
          0,
          1
         ],
         "hoverformat": "%Y-%m-%d",
         "showticklabels": true,
         "tickformat": "%Y-%m-%d"
        },
        "yaxis": {
         "anchor": "x",
         "domain": [
          0.8400000000000001,
          1
         ],
         "tickformat": ",d"
        },
        "yaxis2": {
         "anchor": "x2",
         "domain": [
          0.7100000000000001,
          0.79
         ],
         "dtick": "L1"
        },
        "yaxis3": {
         "anchor": "x3",
         "domain": [
          0.5,
          0.66
         ],
         "tickformat": ",d"
        },
        "yaxis4": {
         "anchor": "x4",
         "domain": [
          0.29,
          0.45
         ],
         "tickformat": ",d"
        },
        "yaxis5": {
         "anchor": "x5",
         "domain": [
          0,
          0.24
         ],
         "tickformat": ",d"
        }
       }
      },
      "text/html": [
       "<div>                            <div id=\"997ac531-1d96-4c75-8b54-f7e7a4e1539b\" class=\"plotly-graph-div\" style=\"height:800px; width:100%;\"></div>            <script type=\"text/javascript\">                require([\"plotly\"], function(Plotly) {                    window.PLOTLYENV=window.PLOTLYENV || {};                                    if (document.getElementById(\"997ac531-1d96-4c75-8b54-f7e7a4e1539b\")) {                    Plotly.newPlot(                        \"997ac531-1d96-4c75-8b54-f7e7a4e1539b\",                        [{\"marker\":{\"color\":\"#000000\"},\"mode\":\"lines\",\"name\":\"\\uac00\\uaca9\",\"x\":[\"2023-01-02T00:00:00\",\"2023-01-03T00:00:00\",\"2023-01-04T00:00:00\",\"2023-01-05T00:00:00\",\"2023-01-06T00:00:00\",\"2023-01-09T00:00:00\",\"2023-01-10T00:00:00\",\"2023-01-11T00:00:00\"],\"y\":[55500,55400,57800,58200,59000,60700,60400,60500],\"type\":\"scatter\",\"xaxis\":\"x5\",\"yaxis\":\"y\"},{\"marker\":{\"color\":\"#DC143C\",\"line\":{\"color\":\"white\",\"width\":1},\"size\":12,\"symbol\":\"triangle-up\"},\"mode\":\"markers\",\"name\":\"\\ub9e4\\uc218\",\"x\":[\"2023-01-02T00:00:00\"],\"y\":[55500],\"type\":\"scatter\",\"xaxis\":\"x5\",\"yaxis\":\"y\"},{\"marker\":{\"color\":\"#00008B\",\"line\":{\"color\":\"white\",\"width\":1},\"size\":12,\"symbol\":\"triangle-down\"},\"mode\":\"markers\",\"name\":\"\\ub9e4\\ub3c4\",\"x\":[\"2023-01-11T00:00:00\"],\"y\":[60500],\"type\":\"scatter\",\"xaxis\":\"x5\",\"yaxis\":\"y\"},{\"fill\":\"tozeroy\",\"fillcolor\":\"lightgray\",\"line\":{\"color\":\"#000000\",\"shape\":\"hv\"},\"mode\":\"lines\",\"name\":\"\\uc794\\uace0\\uc218\\ub7c9\",\"x\":[\"2023-01-02T00:00:00\",\"2023-01-03T00:00:00\",\"2023-01-04T00:00:00\",\"2023-01-05T00:00:00\",\"2023-01-06T00:00:00\",\"2023-01-09T00:00:00\",\"2023-01-10T00:00:00\",\"2023-01-11T00:00:00\"],\"y\":[10,10,10,10,10,10,10,0],\"type\":\"scatter\",\"xaxis\":\"x5\",\"yaxis\":\"y2\"},{\"line\":{\"color\":\"#000000\",\"shape\":\"hv\"},\"mode\":\"lines\",\"name\":\"\\uc794\\uace0\\uac00\\uce58\",\"x\":[\"2023-01-02T00:00:00\",\"2023-01-03T00:00:00\",\"2023-01-04T00:00:00\",\"2023-01-05T00:00:00\",\"2023-01-06T00:00:00\",\"2023-01-09T00:00:00\",\"2023-01-10T00:00:00\",\"2023-01-11T00:00:00\"],\"y\":[555000.0,554000.0,578000.0,582000.0,590000.0,607000.0,604000.0,null],\"type\":\"scatter\",\"xaxis\":\"x5\",\"yaxis\":\"y3\"},{\"cliponaxis\":false,\"marker\":{\"color\":[\"#00008B\",\"#00008B\",\"#00008B\",\"#00008B\",\"#00008B\",\"#00008B\",\"#00008B\",\"#DC143C\"]},\"name\":\"\\uc2e4\\ud604\\uc190\\uc775\",\"text\":[\"\",\"\",\"\",\"\",\"\",\"\",\"\",\"50,000\"],\"textposition\":\"outside\",\"width\":432000000,\"x\":[\"2023-01-02T00:00:00\",\"2023-01-03T00:00:00\",\"2023-01-04T00:00:00\",\"2023-01-05T00:00:00\",\"2023-01-06T00:00:00\",\"2023-01-09T00:00:00\",\"2023-01-10T00:00:00\",\"2023-01-11T00:00:00\"],\"y\":[0,0,0,0,0,0,0,50000],\"type\":\"bar\",\"xaxis\":\"x5\",\"yaxis\":\"y4\"},{\"line\":{\"color\":\"#000000\",\"shape\":\"hv\"},\"mode\":\"lines\",\"name\":\"\\ucd1d\\uc790\\uc0b0\\uac00\\uce58\",\"x\":[\"2023-01-02T00:00:00\",\"2023-01-03T00:00:00\",\"2023-01-04T00:00:00\",\"2023-01-05T00:00:00\",\"2023-01-06T00:00:00\",\"2023-01-09T00:00:00\",\"2023-01-10T00:00:00\",\"2023-01-11T00:00:00\"],\"y\":[1000000,999000,1023000,1027000,1035000,1052000,1049000,1050000],\"type\":\"scatter\",\"xaxis\":\"x5\",\"yaxis\":\"y5\"},{\"line\":{\"color\":\"#DC143C\",\"dash\":\"dash\",\"shape\":\"hv\"},\"mode\":\"lines\",\"name\":\"\\ucd5c\\uace0\\uc790\\uc0b0\\uac00\\uce58\",\"x\":[\"2023-01-02T00:00:00\",\"2023-01-03T00:00:00\",\"2023-01-04T00:00:00\",\"2023-01-05T00:00:00\",\"2023-01-06T00:00:00\",\"2023-01-09T00:00:00\",\"2023-01-10T00:00:00\",\"2023-01-11T00:00:00\"],\"y\":[1000000,1000000,1023000,1027000,1035000,1052000,1052000,1052000],\"type\":\"scatter\",\"xaxis\":\"x5\",\"yaxis\":\"y5\"},{\"base\":[1000000],\"cliponaxis\":false,\"marker\":{\"color\":[\"#DC143C\"]},\"name\":\"\\ucd5c\\uc885\\uc190\\uc775\",\"text\":[\"\\ucd5c\\uc885\\uc218\\uc775: 50,000\"],\"textposition\":\"outside\",\"width\":864000000,\"x\":[\"2023-01-11T00:00:00\"],\"y\":[50000],\"type\":\"bar\",\"xaxis\":\"x5\",\"yaxis\":\"y5\"},{\"cliponaxis\":false,\"marker\":{\"color\":[\"#DC143C\",\"#00008B\"],\"line\":{\"color\":\"white\",\"width\":1},\"size\":12,\"symbol\":[\"triangle-up\",\"triangle-down\"]},\"mode\":\"markers+text\",\"name\":\"\",\"text\":[\"\\ucd5c\\uace0\\uc790\\uc0b0\\uac00\\uce58: 1,052,000\",\"MDD: -3,000\"],\"textposition\":[\"top center\",\"bottom center\"],\"x\":[\"2023-01-09T00:00:00\",\"2023-01-10T00:00:00\"],\"y\":[1052000,1049000],\"type\":\"scatter\",\"xaxis\":\"x5\",\"yaxis\":\"y5\"}],                        {\"template\":{\"data\":{\"histogram2dcontour\":[{\"type\":\"histogram2dcontour\",\"colorbar\":{\"outlinewidth\":0,\"ticks\":\"\"},\"colorscale\":[[0.0,\"#0d0887\"],[0.1111111111111111,\"#46039f\"],[0.2222222222222222,\"#7201a8\"],[0.3333333333333333,\"#9c179e\"],[0.4444444444444444,\"#bd3786\"],[0.5555555555555556,\"#d8576b\"],[0.6666666666666666,\"#ed7953\"],[0.7777777777777778,\"#fb9f3a\"],[0.8888888888888888,\"#fdca26\"],[1.0,\"#f0f921\"]]}],\"choropleth\":[{\"type\":\"choropleth\",\"colorbar\":{\"outlinewidth\":0,\"ticks\":\"\"}}],\"histogram2d\":[{\"type\":\"histogram2d\",\"colorbar\":{\"outlinewidth\":0,\"ticks\":\"\"},\"colorscale\":[[0.0,\"#0d0887\"],[0.1111111111111111,\"#46039f\"],[0.2222222222222222,\"#7201a8\"],[0.3333333333333333,\"#9c179e\"],[0.4444444444444444,\"#bd3786\"],[0.5555555555555556,\"#d8576b\"],[0.6666666666666666,\"#ed7953\"],[0.7777777777777778,\"#fb9f3a\"],[0.8888888888888888,\"#fdca26\"],[1.0,\"#f0f921\"]]}],\"heatmap\":[{\"type\":\"heatmap\",\"colorbar\":{\"outlinewidth\":0,\"ticks\":\"\"},\"colorscale\":[[0.0,\"#0d0887\"],[0.1111111111111111,\"#46039f\"],[0.2222222222222222,\"#7201a8\"],[0.3333333333333333,\"#9c179e\"],[0.4444444444444444,\"#bd3786\"],[0.5555555555555556,\"#d8576b\"],[0.6666666666666666,\"#ed7953\"],[0.7777777777777778,\"#fb9f3a\"],[0.8888888888888888,\"#fdca26\"],[1.0,\"#f0f921\"]]}],\"heatmapgl\":[{\"type\":\"heatmapgl\",\"colorbar\":{\"outlinewidth\":0,\"ticks\":\"\"},\"colorscale\":[[0.0,\"#0d0887\"],[0.1111111111111111,\"#46039f\"],[0.2222222222222222,\"#7201a8\"],[0.3333333333333333,\"#9c179e\"],[0.4444444444444444,\"#bd3786\"],[0.5555555555555556,\"#d8576b\"],[0.6666666666666666,\"#ed7953\"],[0.7777777777777778,\"#fb9f3a\"],[0.8888888888888888,\"#fdca26\"],[1.0,\"#f0f921\"]]}],\"contourcarpet\":[{\"type\":\"contourcarpet\",\"colorbar\":{\"outlinewidth\":0,\"ticks\":\"\"}}],\"contour\":[{\"type\":\"contour\",\"colorbar\":{\"outlinewidth\":0,\"ticks\":\"\"},\"colorscale\":[[0.0,\"#0d0887\"],[0.1111111111111111,\"#46039f\"],[0.2222222222222222,\"#7201a8\"],[0.3333333333333333,\"#9c179e\"],[0.4444444444444444,\"#bd3786\"],[0.5555555555555556,\"#d8576b\"],[0.6666666666666666,\"#ed7953\"],[0.7777777777777778,\"#fb9f3a\"],[0.8888888888888888,\"#fdca26\"],[1.0,\"#f0f921\"]]}],\"surface\":[{\"type\":\"surface\",\"colorbar\":{\"outlinewidth\":0,\"ticks\":\"\"},\"colorscale\":[[0.0,\"#0d0887\"],[0.1111111111111111,\"#46039f\"],[0.2222222222222222,\"#7201a8\"],[0.3333333333333333,\"#9c179e\"],[0.4444444444444444,\"#bd3786\"],[0.5555555555555556,\"#d8576b\"],[0.6666666666666666,\"#ed7953\"],[0.7777777777777778,\"#fb9f3a\"],[0.8888888888888888,\"#fdca26\"],[1.0,\"#f0f921\"]]}],\"mesh3d\":[{\"type\":\"mesh3d\",\"colorbar\":{\"outlinewidth\":0,\"ticks\":\"\"}}],\"scatter\":[{\"fillpattern\":{\"fillmode\":\"overlay\",\"size\":10,\"solidity\":0.2},\"type\":\"scatter\"}],\"parcoords\":[{\"type\":\"parcoords\",\"line\":{\"colorbar\":{\"outlinewidth\":0,\"ticks\":\"\"}}}],\"scatterpolargl\":[{\"type\":\"scatterpolargl\",\"marker\":{\"colorbar\":{\"outlinewidth\":0,\"ticks\":\"\"}}}],\"bar\":[{\"error_x\":{\"color\":\"#2a3f5f\"},\"error_y\":{\"color\":\"#2a3f5f\"},\"marker\":{\"line\":{\"color\":\"#E5ECF6\",\"width\":0.5},\"pattern\":{\"fillmode\":\"overlay\",\"size\":10,\"solidity\":0.2}},\"type\":\"bar\"}],\"scattergeo\":[{\"type\":\"scattergeo\",\"marker\":{\"colorbar\":{\"outlinewidth\":0,\"ticks\":\"\"}}}],\"scatterpolar\":[{\"type\":\"scatterpolar\",\"marker\":{\"colorbar\":{\"outlinewidth\":0,\"ticks\":\"\"}}}],\"histogram\":[{\"marker\":{\"pattern\":{\"fillmode\":\"overlay\",\"size\":10,\"solidity\":0.2}},\"type\":\"histogram\"}],\"scattergl\":[{\"type\":\"scattergl\",\"marker\":{\"colorbar\":{\"outlinewidth\":0,\"ticks\":\"\"}}}],\"scatter3d\":[{\"type\":\"scatter3d\",\"line\":{\"colorbar\":{\"outlinewidth\":0,\"ticks\":\"\"}},\"marker\":{\"colorbar\":{\"outlinewidth\":0,\"ticks\":\"\"}}}],\"scattermapbox\":[{\"type\":\"scattermapbox\",\"marker\":{\"colorbar\":{\"outlinewidth\":0,\"ticks\":\"\"}}}],\"scatterternary\":[{\"type\":\"scatterternary\",\"marker\":{\"colorbar\":{\"outlinewidth\":0,\"ticks\":\"\"}}}],\"scattercarpet\":[{\"type\":\"scattercarpet\",\"marker\":{\"colorbar\":{\"outlinewidth\":0,\"ticks\":\"\"}}}],\"carpet\":[{\"aaxis\":{\"endlinecolor\":\"#2a3f5f\",\"gridcolor\":\"white\",\"linecolor\":\"white\",\"minorgridcolor\":\"white\",\"startlinecolor\":\"#2a3f5f\"},\"baxis\":{\"endlinecolor\":\"#2a3f5f\",\"gridcolor\":\"white\",\"linecolor\":\"white\",\"minorgridcolor\":\"white\",\"startlinecolor\":\"#2a3f5f\"},\"type\":\"carpet\"}],\"table\":[{\"cells\":{\"fill\":{\"color\":\"#EBF0F8\"},\"line\":{\"color\":\"white\"}},\"header\":{\"fill\":{\"color\":\"#C8D4E3\"},\"line\":{\"color\":\"white\"}},\"type\":\"table\"}],\"barpolar\":[{\"marker\":{\"line\":{\"color\":\"#E5ECF6\",\"width\":0.5},\"pattern\":{\"fillmode\":\"overlay\",\"size\":10,\"solidity\":0.2}},\"type\":\"barpolar\"}],\"pie\":[{\"automargin\":true,\"type\":\"pie\"}]},\"layout\":{\"autotypenumbers\":\"strict\",\"colorway\":[\"#636efa\",\"#EF553B\",\"#00cc96\",\"#ab63fa\",\"#FFA15A\",\"#19d3f3\",\"#FF6692\",\"#B6E880\",\"#FF97FF\",\"#FECB52\"],\"font\":{\"color\":\"#2a3f5f\"},\"hovermode\":\"closest\",\"hoverlabel\":{\"align\":\"left\"},\"paper_bgcolor\":\"white\",\"plot_bgcolor\":\"#E5ECF6\",\"polar\":{\"bgcolor\":\"#E5ECF6\",\"angularaxis\":{\"gridcolor\":\"white\",\"linecolor\":\"white\",\"ticks\":\"\"},\"radialaxis\":{\"gridcolor\":\"white\",\"linecolor\":\"white\",\"ticks\":\"\"}},\"ternary\":{\"bgcolor\":\"#E5ECF6\",\"aaxis\":{\"gridcolor\":\"white\",\"linecolor\":\"white\",\"ticks\":\"\"},\"baxis\":{\"gridcolor\":\"white\",\"linecolor\":\"white\",\"ticks\":\"\"},\"caxis\":{\"gridcolor\":\"white\",\"linecolor\":\"white\",\"ticks\":\"\"}},\"coloraxis\":{\"colorbar\":{\"outlinewidth\":0,\"ticks\":\"\"}},\"colorscale\":{\"sequential\":[[0.0,\"#0d0887\"],[0.1111111111111111,\"#46039f\"],[0.2222222222222222,\"#7201a8\"],[0.3333333333333333,\"#9c179e\"],[0.4444444444444444,\"#bd3786\"],[0.5555555555555556,\"#d8576b\"],[0.6666666666666666,\"#ed7953\"],[0.7777777777777778,\"#fb9f3a\"],[0.8888888888888888,\"#fdca26\"],[1.0,\"#f0f921\"]],\"sequentialminus\":[[0.0,\"#0d0887\"],[0.1111111111111111,\"#46039f\"],[0.2222222222222222,\"#7201a8\"],[0.3333333333333333,\"#9c179e\"],[0.4444444444444444,\"#bd3786\"],[0.5555555555555556,\"#d8576b\"],[0.6666666666666666,\"#ed7953\"],[0.7777777777777778,\"#fb9f3a\"],[0.8888888888888888,\"#fdca26\"],[1.0,\"#f0f921\"]],\"diverging\":[[0,\"#8e0152\"],[0.1,\"#c51b7d\"],[0.2,\"#de77ae\"],[0.3,\"#f1b6da\"],[0.4,\"#fde0ef\"],[0.5,\"#f7f7f7\"],[0.6,\"#e6f5d0\"],[0.7,\"#b8e186\"],[0.8,\"#7fbc41\"],[0.9,\"#4d9221\"],[1,\"#276419\"]]},\"xaxis\":{\"gridcolor\":\"white\",\"linecolor\":\"white\",\"ticks\":\"\",\"title\":{\"standoff\":15},\"zerolinecolor\":\"white\",\"automargin\":true,\"zerolinewidth\":2},\"yaxis\":{\"gridcolor\":\"white\",\"linecolor\":\"white\",\"ticks\":\"\",\"title\":{\"standoff\":15},\"zerolinecolor\":\"white\",\"automargin\":true,\"zerolinewidth\":2},\"scene\":{\"xaxis\":{\"backgroundcolor\":\"#E5ECF6\",\"gridcolor\":\"white\",\"linecolor\":\"white\",\"showbackground\":true,\"ticks\":\"\",\"zerolinecolor\":\"white\",\"gridwidth\":2},\"yaxis\":{\"backgroundcolor\":\"#E5ECF6\",\"gridcolor\":\"white\",\"linecolor\":\"white\",\"showbackground\":true,\"ticks\":\"\",\"zerolinecolor\":\"white\",\"gridwidth\":2},\"zaxis\":{\"backgroundcolor\":\"#E5ECF6\",\"gridcolor\":\"white\",\"linecolor\":\"white\",\"showbackground\":true,\"ticks\":\"\",\"zerolinecolor\":\"white\",\"gridwidth\":2}},\"shapedefaults\":{\"line\":{\"color\":\"#2a3f5f\"}},\"annotationdefaults\":{\"arrowcolor\":\"#2a3f5f\",\"arrowhead\":0,\"arrowwidth\":1},\"geo\":{\"bgcolor\":\"white\",\"landcolor\":\"#E5ECF6\",\"subunitcolor\":\"white\",\"showland\":true,\"showlakes\":true,\"lakecolor\":\"white\"},\"title\":{\"x\":0.05},\"mapbox\":{\"style\":\"light\"}}},\"xaxis\":{\"anchor\":\"y\",\"domain\":[0.0,1.0],\"matches\":\"x5\",\"showticklabels\":false},\"yaxis\":{\"anchor\":\"x\",\"domain\":[0.8400000000000001,1.0],\"tickformat\":\",d\"},\"xaxis2\":{\"anchor\":\"y2\",\"domain\":[0.0,1.0],\"matches\":\"x5\",\"showticklabels\":false},\"yaxis2\":{\"anchor\":\"x2\",\"domain\":[0.7100000000000001,0.79],\"dtick\":\"L1\"},\"xaxis3\":{\"anchor\":\"y3\",\"domain\":[0.0,1.0],\"matches\":\"x5\",\"showticklabels\":false},\"yaxis3\":{\"anchor\":\"x3\",\"domain\":[0.5,0.66],\"tickformat\":\",d\"},\"xaxis4\":{\"anchor\":\"y4\",\"domain\":[0.0,1.0],\"matches\":\"x5\",\"showticklabels\":false},\"yaxis4\":{\"anchor\":\"x4\",\"domain\":[0.29,0.45],\"tickformat\":\",d\"},\"xaxis5\":{\"anchor\":\"y5\",\"domain\":[0.0,1.0],\"hoverformat\":\"%Y-%m-%d\",\"showticklabels\":true,\"tickformat\":\"%Y-%m-%d\"},\"yaxis5\":{\"anchor\":\"x5\",\"domain\":[0.0,0.24],\"tickformat\":\",d\"},\"annotations\":[{\"font\":{\"size\":16},\"showarrow\":false,\"text\":\"\\uac00\\uaca9\",\"x\":0.5,\"xanchor\":\"center\",\"xref\":\"paper\",\"y\":1.0,\"yanchor\":\"bottom\",\"yref\":\"paper\"},{\"font\":{\"size\":16},\"showarrow\":false,\"text\":\"\\uc794\\uace0\\uc218\\ub7c9\",\"x\":0.5,\"xanchor\":\"center\",\"xref\":\"paper\",\"y\":0.79,\"yanchor\":\"bottom\",\"yref\":\"paper\"},{\"font\":{\"size\":16},\"showarrow\":false,\"text\":\"\\uc794\\uace0\\uac00\\uce58\",\"x\":0.5,\"xanchor\":\"center\",\"xref\":\"paper\",\"y\":0.66,\"yanchor\":\"bottom\",\"yref\":\"paper\"},{\"font\":{\"size\":16},\"showarrow\":false,\"text\":\"\\uc2e4\\ud604\\uc190\\uc775\",\"x\":0.5,\"xanchor\":\"center\",\"xref\":\"paper\",\"y\":0.45,\"yanchor\":\"bottom\",\"yref\":\"paper\"},{\"font\":{\"size\":16},\"showarrow\":false,\"text\":\"\\ucd1d\\uc790\\uc0b0\\uac00\\uce58\",\"x\":0.5,\"xanchor\":\"center\",\"xref\":\"paper\",\"y\":0.24,\"yanchor\":\"bottom\",\"yref\":\"paper\"}],\"margin\":{\"b\":25,\"l\":25,\"r\":25,\"t\":80},\"title\":{\"text\":\"\\ubc31\\ud14c\\uc2a4\\ud2b8 \\uacb0\\uacfc: 005930, 2023-01-02~2023-01-11\",\"x\":0.5,\"y\":0.98},\"uniformtext\":{\"minsize\":12,\"mode\":\"show\"},\"height\":800,\"hovermode\":\"x unified\",\"showlegend\":false},                        {\"modeBarButtonsToRemove\": [\"resetScale2d\", \"lasso2d\", \"zoomIn2d\", \"zoomOut2d\", \"select2d\"], \"displaylogo\": false, \"responsive\": true}                    ).then(function(){\n",
       "                            \n",
       "var gd = document.getElementById('997ac531-1d96-4c75-8b54-f7e7a4e1539b');\n",
       "var x = new MutationObserver(function (mutations, observer) {{\n",
       "        var display = window.getComputedStyle(gd).display;\n",
       "        if (!display || display === 'none') {{\n",
       "            console.log([gd, 'removed!']);\n",
       "            Plotly.purge(gd);\n",
       "            observer.disconnect();\n",
       "        }}\n",
       "}});\n",
       "\n",
       "// Listen for the removal of the full notebook cells\n",
       "var notebookContainer = gd.closest('#notebook-container');\n",
       "if (notebookContainer) {{\n",
       "    x.observe(notebookContainer, {childList: true});\n",
       "}}\n",
       "\n",
       "// Listen for the clearing of the current output cell\n",
       "var outputEl = gd.closest('.output');\n",
       "if (outputEl) {{\n",
       "    x.observe(outputEl, {childList: true});\n",
       "}}\n",
       "\n",
       "                        })                };                });            </script>        </div>"
      ]
     },
     "metadata": {},
     "output_type": "display_data"
    }
   ],
   "source": [
    "kq.backtest_plot_stock_daily(df_result)"
   ]
  },
  {
   "cell_type": "code",
   "execution_count": 8,
   "metadata": {},
   "outputs": [
    {
     "data": {
      "text/plain": [
       "START_DATE             2023-01-02 00:00:00\n",
       "END_DATE               2023-01-11 00:00:00\n",
       "DAYS                                     8\n",
       "START_PRICE                          55500\n",
       "END_PRICE                            60500\n",
       "BENCHMARK_RETURN                    0.0901\n",
       "INIT_CASH                          1000000\n",
       "START_VALUE                        1000000\n",
       "END_VALUE                          1050000\n",
       "MAX_VALUE                          1052000\n",
       "MAX_VALUE_DATE         2023-01-09 00:00:00\n",
       "MIN_VALUE                           999000\n",
       "MIN_VALUE_DATE         2023-01-03 00:00:00\n",
       "PROFIT                               50000\n",
       "TOTAL_RETURN                        0.0500\n",
       "ANNUALIZED_RETURN                   1.5750\n",
       "VOLATILITY                          0.1569\n",
       "SHARPE_RATIO                       10.0357\n",
       "TOTAL_FEE                                0\n",
       "TOTAL_TRADE_TAX                          0\n",
       "TOTAL_SLIPPAGE                           0\n",
       "TOTAL_COST                               0\n",
       "WINNING_TRADE_COUNT                      1\n",
       "LOSING_TRADE_COUNT                       0\n",
       "WIN_RATE                            1.0000\n",
       "WINNING_PL_SUM                       50000\n",
       "LOSING_PL_SUM                            0\n",
       "WINNING_PL_AVG                 50,000.0000\n",
       "LOSING_PL_AVG                          NaN\n",
       "MAXDRAWDOWN                          -3000\n",
       "MAXDRAWDOWN_DATE       2023-01-10 00:00:00\n",
       "dtype: object"
      ]
     },
     "execution_count": 8,
     "metadata": {},
     "output_type": "execute_result"
    }
   ],
   "source": [
    "kq.backtest_stats_stock_daily(df_result)"
   ]
  },
  {
   "cell_type": "code",
   "execution_count": 9,
   "metadata": {},
   "outputs": [
    {
     "name": "stderr",
     "output_type": "stream",
     "text": [
      "[2023-01-02] 종목: 005930, 주문전 보유수량:      0 주문수량:     10, 매매수량:     10, 주문후 보유수량:     10\n",
      "[2023-01-11] 종목: 005930, 주문전 보유수량:     10 주문수량:    -10, 매매수량:    -10, 주문후 보유수량:      0\n"
     ]
    },
    {
     "data": {
      "text/html": [
       "<div>\n",
       "<style scoped>\n",
       "    .dataframe tbody tr th:only-of-type {\n",
       "        vertical-align: middle;\n",
       "    }\n",
       "\n",
       "    .dataframe tbody tr th {\n",
       "        vertical-align: top;\n",
       "    }\n",
       "\n",
       "    .dataframe thead th {\n",
       "        text-align: right;\n",
       "    }\n",
       "</style>\n",
       "<table border=\"1\" class=\"dataframe\">\n",
       "  <thead>\n",
       "    <tr style=\"text-align: right;\">\n",
       "      <th></th>\n",
       "      <th>DATE</th>\n",
       "      <th>SYMBOL</th>\n",
       "      <th>PRICE</th>\n",
       "      <th>ORDER</th>\n",
       "      <th>QTY</th>\n",
       "      <th>TRADE_PRICE</th>\n",
       "      <th>POSITION</th>\n",
       "      <th>AVG_PRICE</th>\n",
       "      <th>FEE</th>\n",
       "      <th>TRADE_TAX</th>\n",
       "      <th>SLIPPAGE</th>\n",
       "      <th>CASHFLOW</th>\n",
       "      <th>CASH</th>\n",
       "      <th>HIST_VALUE</th>\n",
       "      <th>STOCK_VALUE</th>\n",
       "      <th>TOTAL_VALUE</th>\n",
       "      <th>REAL_PROFIT</th>\n",
       "      <th>UNREAL_PROFIT</th>\n",
       "      <th>PROFIT</th>\n",
       "      <th>HIGHWATERMARK</th>\n",
       "      <th>DRAWDOWN</th>\n",
       "    </tr>\n",
       "  </thead>\n",
       "  <tbody>\n",
       "    <tr>\n",
       "      <th>0</th>\n",
       "      <td>2022-12-21</td>\n",
       "      <td>005930</td>\n",
       "      <td>58,000</td>\n",
       "      <td>0</td>\n",
       "      <td>0</td>\n",
       "      <td>0</td>\n",
       "      <td>0</td>\n",
       "      <td>0.0000</td>\n",
       "      <td>0</td>\n",
       "      <td>0</td>\n",
       "      <td>0</td>\n",
       "      <td>0</td>\n",
       "      <td>1,000,000</td>\n",
       "      <td>0</td>\n",
       "      <td>0</td>\n",
       "      <td>1,000,000</td>\n",
       "      <td>0</td>\n",
       "      <td>0</td>\n",
       "      <td>0</td>\n",
       "      <td>1,000,000</td>\n",
       "      <td>0</td>\n",
       "    </tr>\n",
       "    <tr>\n",
       "      <th>1</th>\n",
       "      <td>2022-12-22</td>\n",
       "      <td>005930</td>\n",
       "      <td>59,100</td>\n",
       "      <td>0</td>\n",
       "      <td>0</td>\n",
       "      <td>0</td>\n",
       "      <td>0</td>\n",
       "      <td>0.0000</td>\n",
       "      <td>0</td>\n",
       "      <td>0</td>\n",
       "      <td>0</td>\n",
       "      <td>0</td>\n",
       "      <td>1,000,000</td>\n",
       "      <td>0</td>\n",
       "      <td>0</td>\n",
       "      <td>1,000,000</td>\n",
       "      <td>0</td>\n",
       "      <td>0</td>\n",
       "      <td>0</td>\n",
       "      <td>1,000,000</td>\n",
       "      <td>0</td>\n",
       "    </tr>\n",
       "    <tr>\n",
       "      <th>2</th>\n",
       "      <td>2022-12-23</td>\n",
       "      <td>005930</td>\n",
       "      <td>58,100</td>\n",
       "      <td>0</td>\n",
       "      <td>0</td>\n",
       "      <td>0</td>\n",
       "      <td>0</td>\n",
       "      <td>0.0000</td>\n",
       "      <td>0</td>\n",
       "      <td>0</td>\n",
       "      <td>0</td>\n",
       "      <td>0</td>\n",
       "      <td>1,000,000</td>\n",
       "      <td>0</td>\n",
       "      <td>0</td>\n",
       "      <td>1,000,000</td>\n",
       "      <td>0</td>\n",
       "      <td>0</td>\n",
       "      <td>0</td>\n",
       "      <td>1,000,000</td>\n",
       "      <td>0</td>\n",
       "    </tr>\n",
       "    <tr>\n",
       "      <th>3</th>\n",
       "      <td>2022-12-26</td>\n",
       "      <td>005930</td>\n",
       "      <td>57,900</td>\n",
       "      <td>0</td>\n",
       "      <td>0</td>\n",
       "      <td>0</td>\n",
       "      <td>0</td>\n",
       "      <td>0.0000</td>\n",
       "      <td>0</td>\n",
       "      <td>0</td>\n",
       "      <td>0</td>\n",
       "      <td>0</td>\n",
       "      <td>1,000,000</td>\n",
       "      <td>0</td>\n",
       "      <td>0</td>\n",
       "      <td>1,000,000</td>\n",
       "      <td>0</td>\n",
       "      <td>0</td>\n",
       "      <td>0</td>\n",
       "      <td>1,000,000</td>\n",
       "      <td>0</td>\n",
       "    </tr>\n",
       "    <tr>\n",
       "      <th>4</th>\n",
       "      <td>2022-12-27</td>\n",
       "      <td>005930</td>\n",
       "      <td>58,100</td>\n",
       "      <td>0</td>\n",
       "      <td>0</td>\n",
       "      <td>0</td>\n",
       "      <td>0</td>\n",
       "      <td>0.0000</td>\n",
       "      <td>0</td>\n",
       "      <td>0</td>\n",
       "      <td>0</td>\n",
       "      <td>0</td>\n",
       "      <td>1,000,000</td>\n",
       "      <td>0</td>\n",
       "      <td>0</td>\n",
       "      <td>1,000,000</td>\n",
       "      <td>0</td>\n",
       "      <td>0</td>\n",
       "      <td>0</td>\n",
       "      <td>1,000,000</td>\n",
       "      <td>0</td>\n",
       "    </tr>\n",
       "    <tr>\n",
       "      <th>5</th>\n",
       "      <td>2022-12-28</td>\n",
       "      <td>005930</td>\n",
       "      <td>56,600</td>\n",
       "      <td>0</td>\n",
       "      <td>0</td>\n",
       "      <td>0</td>\n",
       "      <td>0</td>\n",
       "      <td>0.0000</td>\n",
       "      <td>0</td>\n",
       "      <td>0</td>\n",
       "      <td>0</td>\n",
       "      <td>0</td>\n",
       "      <td>1,000,000</td>\n",
       "      <td>0</td>\n",
       "      <td>0</td>\n",
       "      <td>1,000,000</td>\n",
       "      <td>0</td>\n",
       "      <td>0</td>\n",
       "      <td>0</td>\n",
       "      <td>1,000,000</td>\n",
       "      <td>0</td>\n",
       "    </tr>\n",
       "    <tr>\n",
       "      <th>6</th>\n",
       "      <td>2022-12-29</td>\n",
       "      <td>005930</td>\n",
       "      <td>55,300</td>\n",
       "      <td>0</td>\n",
       "      <td>0</td>\n",
       "      <td>0</td>\n",
       "      <td>0</td>\n",
       "      <td>0.0000</td>\n",
       "      <td>0</td>\n",
       "      <td>0</td>\n",
       "      <td>0</td>\n",
       "      <td>0</td>\n",
       "      <td>1,000,000</td>\n",
       "      <td>0</td>\n",
       "      <td>0</td>\n",
       "      <td>1,000,000</td>\n",
       "      <td>0</td>\n",
       "      <td>0</td>\n",
       "      <td>0</td>\n",
       "      <td>1,000,000</td>\n",
       "      <td>0</td>\n",
       "    </tr>\n",
       "    <tr>\n",
       "      <th>7</th>\n",
       "      <td>2023-01-02</td>\n",
       "      <td>005930</td>\n",
       "      <td>55,500</td>\n",
       "      <td>10</td>\n",
       "      <td>10</td>\n",
       "      <td>55,500</td>\n",
       "      <td>10</td>\n",
       "      <td>55,500.0000</td>\n",
       "      <td>0</td>\n",
       "      <td>0</td>\n",
       "      <td>0</td>\n",
       "      <td>-555,000</td>\n",
       "      <td>445,000</td>\n",
       "      <td>555,000</td>\n",
       "      <td>555,000</td>\n",
       "      <td>1,000,000</td>\n",
       "      <td>0</td>\n",
       "      <td>0</td>\n",
       "      <td>0</td>\n",
       "      <td>1,000,000</td>\n",
       "      <td>0</td>\n",
       "    </tr>\n",
       "    <tr>\n",
       "      <th>8</th>\n",
       "      <td>2023-01-03</td>\n",
       "      <td>005930</td>\n",
       "      <td>55,400</td>\n",
       "      <td>0</td>\n",
       "      <td>0</td>\n",
       "      <td>0</td>\n",
       "      <td>10</td>\n",
       "      <td>55,500.0000</td>\n",
       "      <td>0</td>\n",
       "      <td>0</td>\n",
       "      <td>0</td>\n",
       "      <td>0</td>\n",
       "      <td>445,000</td>\n",
       "      <td>555,000</td>\n",
       "      <td>554,000</td>\n",
       "      <td>999,000</td>\n",
       "      <td>0</td>\n",
       "      <td>-1,000</td>\n",
       "      <td>-1,000</td>\n",
       "      <td>1,000,000</td>\n",
       "      <td>1,000</td>\n",
       "    </tr>\n",
       "    <tr>\n",
       "      <th>9</th>\n",
       "      <td>2023-01-04</td>\n",
       "      <td>005930</td>\n",
       "      <td>57,800</td>\n",
       "      <td>0</td>\n",
       "      <td>0</td>\n",
       "      <td>0</td>\n",
       "      <td>10</td>\n",
       "      <td>55,500.0000</td>\n",
       "      <td>0</td>\n",
       "      <td>0</td>\n",
       "      <td>0</td>\n",
       "      <td>0</td>\n",
       "      <td>445,000</td>\n",
       "      <td>555,000</td>\n",
       "      <td>578,000</td>\n",
       "      <td>1,023,000</td>\n",
       "      <td>0</td>\n",
       "      <td>23,000</td>\n",
       "      <td>23,000</td>\n",
       "      <td>1,023,000</td>\n",
       "      <td>0</td>\n",
       "    </tr>\n",
       "    <tr>\n",
       "      <th>10</th>\n",
       "      <td>2023-01-05</td>\n",
       "      <td>005930</td>\n",
       "      <td>58,200</td>\n",
       "      <td>0</td>\n",
       "      <td>0</td>\n",
       "      <td>0</td>\n",
       "      <td>10</td>\n",
       "      <td>55,500.0000</td>\n",
       "      <td>0</td>\n",
       "      <td>0</td>\n",
       "      <td>0</td>\n",
       "      <td>0</td>\n",
       "      <td>445,000</td>\n",
       "      <td>555,000</td>\n",
       "      <td>582,000</td>\n",
       "      <td>1,027,000</td>\n",
       "      <td>0</td>\n",
       "      <td>27,000</td>\n",
       "      <td>27,000</td>\n",
       "      <td>1,027,000</td>\n",
       "      <td>0</td>\n",
       "    </tr>\n",
       "    <tr>\n",
       "      <th>11</th>\n",
       "      <td>2023-01-06</td>\n",
       "      <td>005930</td>\n",
       "      <td>59,000</td>\n",
       "      <td>0</td>\n",
       "      <td>0</td>\n",
       "      <td>0</td>\n",
       "      <td>10</td>\n",
       "      <td>55,500.0000</td>\n",
       "      <td>0</td>\n",
       "      <td>0</td>\n",
       "      <td>0</td>\n",
       "      <td>0</td>\n",
       "      <td>445,000</td>\n",
       "      <td>555,000</td>\n",
       "      <td>590,000</td>\n",
       "      <td>1,035,000</td>\n",
       "      <td>0</td>\n",
       "      <td>35,000</td>\n",
       "      <td>35,000</td>\n",
       "      <td>1,035,000</td>\n",
       "      <td>0</td>\n",
       "    </tr>\n",
       "    <tr>\n",
       "      <th>12</th>\n",
       "      <td>2023-01-09</td>\n",
       "      <td>005930</td>\n",
       "      <td>60,700</td>\n",
       "      <td>0</td>\n",
       "      <td>0</td>\n",
       "      <td>0</td>\n",
       "      <td>10</td>\n",
       "      <td>55,500.0000</td>\n",
       "      <td>0</td>\n",
       "      <td>0</td>\n",
       "      <td>0</td>\n",
       "      <td>0</td>\n",
       "      <td>445,000</td>\n",
       "      <td>555,000</td>\n",
       "      <td>607,000</td>\n",
       "      <td>1,052,000</td>\n",
       "      <td>0</td>\n",
       "      <td>52,000</td>\n",
       "      <td>52,000</td>\n",
       "      <td>1,052,000</td>\n",
       "      <td>0</td>\n",
       "    </tr>\n",
       "    <tr>\n",
       "      <th>13</th>\n",
       "      <td>2023-01-10</td>\n",
       "      <td>005930</td>\n",
       "      <td>60,400</td>\n",
       "      <td>0</td>\n",
       "      <td>0</td>\n",
       "      <td>0</td>\n",
       "      <td>10</td>\n",
       "      <td>55,500.0000</td>\n",
       "      <td>0</td>\n",
       "      <td>0</td>\n",
       "      <td>0</td>\n",
       "      <td>0</td>\n",
       "      <td>445,000</td>\n",
       "      <td>555,000</td>\n",
       "      <td>604,000</td>\n",
       "      <td>1,049,000</td>\n",
       "      <td>0</td>\n",
       "      <td>49,000</td>\n",
       "      <td>49,000</td>\n",
       "      <td>1,052,000</td>\n",
       "      <td>3,000</td>\n",
       "    </tr>\n",
       "    <tr>\n",
       "      <th>14</th>\n",
       "      <td>2023-01-11</td>\n",
       "      <td>005930</td>\n",
       "      <td>60,500</td>\n",
       "      <td>-10</td>\n",
       "      <td>-10</td>\n",
       "      <td>60,500</td>\n",
       "      <td>0</td>\n",
       "      <td>0.0000</td>\n",
       "      <td>0</td>\n",
       "      <td>0</td>\n",
       "      <td>0</td>\n",
       "      <td>605,000</td>\n",
       "      <td>1,050,000</td>\n",
       "      <td>0</td>\n",
       "      <td>0</td>\n",
       "      <td>1,050,000</td>\n",
       "      <td>50,000</td>\n",
       "      <td>0</td>\n",
       "      <td>50,000</td>\n",
       "      <td>1,052,000</td>\n",
       "      <td>2,000</td>\n",
       "    </tr>\n",
       "    <tr>\n",
       "      <th>15</th>\n",
       "      <td>2023-01-12</td>\n",
       "      <td>005930</td>\n",
       "      <td>60,500</td>\n",
       "      <td>0</td>\n",
       "      <td>0</td>\n",
       "      <td>0</td>\n",
       "      <td>0</td>\n",
       "      <td>0.0000</td>\n",
       "      <td>0</td>\n",
       "      <td>0</td>\n",
       "      <td>0</td>\n",
       "      <td>0</td>\n",
       "      <td>1,050,000</td>\n",
       "      <td>0</td>\n",
       "      <td>0</td>\n",
       "      <td>1,050,000</td>\n",
       "      <td>0</td>\n",
       "      <td>0</td>\n",
       "      <td>50,000</td>\n",
       "      <td>1,052,000</td>\n",
       "      <td>2,000</td>\n",
       "    </tr>\n",
       "    <tr>\n",
       "      <th>16</th>\n",
       "      <td>2023-01-13</td>\n",
       "      <td>005930</td>\n",
       "      <td>60,800</td>\n",
       "      <td>0</td>\n",
       "      <td>0</td>\n",
       "      <td>0</td>\n",
       "      <td>0</td>\n",
       "      <td>0.0000</td>\n",
       "      <td>0</td>\n",
       "      <td>0</td>\n",
       "      <td>0</td>\n",
       "      <td>0</td>\n",
       "      <td>1,050,000</td>\n",
       "      <td>0</td>\n",
       "      <td>0</td>\n",
       "      <td>1,050,000</td>\n",
       "      <td>0</td>\n",
       "      <td>0</td>\n",
       "      <td>50,000</td>\n",
       "      <td>1,052,000</td>\n",
       "      <td>2,000</td>\n",
       "    </tr>\n",
       "    <tr>\n",
       "      <th>17</th>\n",
       "      <td>2023-01-16</td>\n",
       "      <td>005930</td>\n",
       "      <td>61,100</td>\n",
       "      <td>0</td>\n",
       "      <td>0</td>\n",
       "      <td>0</td>\n",
       "      <td>0</td>\n",
       "      <td>0.0000</td>\n",
       "      <td>0</td>\n",
       "      <td>0</td>\n",
       "      <td>0</td>\n",
       "      <td>0</td>\n",
       "      <td>1,050,000</td>\n",
       "      <td>0</td>\n",
       "      <td>0</td>\n",
       "      <td>1,050,000</td>\n",
       "      <td>0</td>\n",
       "      <td>0</td>\n",
       "      <td>50,000</td>\n",
       "      <td>1,052,000</td>\n",
       "      <td>2,000</td>\n",
       "    </tr>\n",
       "    <tr>\n",
       "      <th>18</th>\n",
       "      <td>2023-01-17</td>\n",
       "      <td>005930</td>\n",
       "      <td>61,000</td>\n",
       "      <td>0</td>\n",
       "      <td>0</td>\n",
       "      <td>0</td>\n",
       "      <td>0</td>\n",
       "      <td>0.0000</td>\n",
       "      <td>0</td>\n",
       "      <td>0</td>\n",
       "      <td>0</td>\n",
       "      <td>0</td>\n",
       "      <td>1,050,000</td>\n",
       "      <td>0</td>\n",
       "      <td>0</td>\n",
       "      <td>1,050,000</td>\n",
       "      <td>0</td>\n",
       "      <td>0</td>\n",
       "      <td>50,000</td>\n",
       "      <td>1,052,000</td>\n",
       "      <td>2,000</td>\n",
       "    </tr>\n",
       "    <tr>\n",
       "      <th>19</th>\n",
       "      <td>2023-01-18</td>\n",
       "      <td>005930</td>\n",
       "      <td>60,400</td>\n",
       "      <td>0</td>\n",
       "      <td>0</td>\n",
       "      <td>0</td>\n",
       "      <td>0</td>\n",
       "      <td>0.0000</td>\n",
       "      <td>0</td>\n",
       "      <td>0</td>\n",
       "      <td>0</td>\n",
       "      <td>0</td>\n",
       "      <td>1,050,000</td>\n",
       "      <td>0</td>\n",
       "      <td>0</td>\n",
       "      <td>1,050,000</td>\n",
       "      <td>0</td>\n",
       "      <td>0</td>\n",
       "      <td>50,000</td>\n",
       "      <td>1,052,000</td>\n",
       "      <td>2,000</td>\n",
       "    </tr>\n",
       "    <tr>\n",
       "      <th>20</th>\n",
       "      <td>2023-01-19</td>\n",
       "      <td>005930</td>\n",
       "      <td>61,500</td>\n",
       "      <td>0</td>\n",
       "      <td>0</td>\n",
       "      <td>0</td>\n",
       "      <td>0</td>\n",
       "      <td>0.0000</td>\n",
       "      <td>0</td>\n",
       "      <td>0</td>\n",
       "      <td>0</td>\n",
       "      <td>0</td>\n",
       "      <td>1,050,000</td>\n",
       "      <td>0</td>\n",
       "      <td>0</td>\n",
       "      <td>1,050,000</td>\n",
       "      <td>0</td>\n",
       "      <td>0</td>\n",
       "      <td>50,000</td>\n",
       "      <td>1,052,000</td>\n",
       "      <td>2,000</td>\n",
       "    </tr>\n",
       "    <tr>\n",
       "      <th>21</th>\n",
       "      <td>2023-01-20</td>\n",
       "      <td>005930</td>\n",
       "      <td>61,800</td>\n",
       "      <td>0</td>\n",
       "      <td>0</td>\n",
       "      <td>0</td>\n",
       "      <td>0</td>\n",
       "      <td>0.0000</td>\n",
       "      <td>0</td>\n",
       "      <td>0</td>\n",
       "      <td>0</td>\n",
       "      <td>0</td>\n",
       "      <td>1,050,000</td>\n",
       "      <td>0</td>\n",
       "      <td>0</td>\n",
       "      <td>1,050,000</td>\n",
       "      <td>0</td>\n",
       "      <td>0</td>\n",
       "      <td>50,000</td>\n",
       "      <td>1,052,000</td>\n",
       "      <td>2,000</td>\n",
       "    </tr>\n",
       "  </tbody>\n",
       "</table>\n",
       "</div>"
      ],
      "text/plain": [
       "         DATE  SYMBOL   PRICE  ORDER  QTY  TRADE_PRICE  POSITION   AVG_PRICE  \\\n",
       "0  2022-12-21  005930  58,000      0    0            0         0      0.0000   \n",
       "1  2022-12-22  005930  59,100      0    0            0         0      0.0000   \n",
       "2  2022-12-23  005930  58,100      0    0            0         0      0.0000   \n",
       "3  2022-12-26  005930  57,900      0    0            0         0      0.0000   \n",
       "4  2022-12-27  005930  58,100      0    0            0         0      0.0000   \n",
       "5  2022-12-28  005930  56,600      0    0            0         0      0.0000   \n",
       "6  2022-12-29  005930  55,300      0    0            0         0      0.0000   \n",
       "7  2023-01-02  005930  55,500     10   10       55,500        10 55,500.0000   \n",
       "8  2023-01-03  005930  55,400      0    0            0        10 55,500.0000   \n",
       "9  2023-01-04  005930  57,800      0    0            0        10 55,500.0000   \n",
       "10 2023-01-05  005930  58,200      0    0            0        10 55,500.0000   \n",
       "11 2023-01-06  005930  59,000      0    0            0        10 55,500.0000   \n",
       "12 2023-01-09  005930  60,700      0    0            0        10 55,500.0000   \n",
       "13 2023-01-10  005930  60,400      0    0            0        10 55,500.0000   \n",
       "14 2023-01-11  005930  60,500    -10  -10       60,500         0      0.0000   \n",
       "15 2023-01-12  005930  60,500      0    0            0         0      0.0000   \n",
       "16 2023-01-13  005930  60,800      0    0            0         0      0.0000   \n",
       "17 2023-01-16  005930  61,100      0    0            0         0      0.0000   \n",
       "18 2023-01-17  005930  61,000      0    0            0         0      0.0000   \n",
       "19 2023-01-18  005930  60,400      0    0            0         0      0.0000   \n",
       "20 2023-01-19  005930  61,500      0    0            0         0      0.0000   \n",
       "21 2023-01-20  005930  61,800      0    0            0         0      0.0000   \n",
       "\n",
       "    FEE  TRADE_TAX  SLIPPAGE  CASHFLOW       CASH  HIST_VALUE  STOCK_VALUE  \\\n",
       "0     0          0         0         0  1,000,000           0            0   \n",
       "1     0          0         0         0  1,000,000           0            0   \n",
       "2     0          0         0         0  1,000,000           0            0   \n",
       "3     0          0         0         0  1,000,000           0            0   \n",
       "4     0          0         0         0  1,000,000           0            0   \n",
       "5     0          0         0         0  1,000,000           0            0   \n",
       "6     0          0         0         0  1,000,000           0            0   \n",
       "7     0          0         0  -555,000    445,000     555,000      555,000   \n",
       "8     0          0         0         0    445,000     555,000      554,000   \n",
       "9     0          0         0         0    445,000     555,000      578,000   \n",
       "10    0          0         0         0    445,000     555,000      582,000   \n",
       "11    0          0         0         0    445,000     555,000      590,000   \n",
       "12    0          0         0         0    445,000     555,000      607,000   \n",
       "13    0          0         0         0    445,000     555,000      604,000   \n",
       "14    0          0         0   605,000  1,050,000           0            0   \n",
       "15    0          0         0         0  1,050,000           0            0   \n",
       "16    0          0         0         0  1,050,000           0            0   \n",
       "17    0          0         0         0  1,050,000           0            0   \n",
       "18    0          0         0         0  1,050,000           0            0   \n",
       "19    0          0         0         0  1,050,000           0            0   \n",
       "20    0          0         0         0  1,050,000           0            0   \n",
       "21    0          0         0         0  1,050,000           0            0   \n",
       "\n",
       "    TOTAL_VALUE  REAL_PROFIT  UNREAL_PROFIT  PROFIT  HIGHWATERMARK  DRAWDOWN  \n",
       "0     1,000,000            0              0       0      1,000,000         0  \n",
       "1     1,000,000            0              0       0      1,000,000         0  \n",
       "2     1,000,000            0              0       0      1,000,000         0  \n",
       "3     1,000,000            0              0       0      1,000,000         0  \n",
       "4     1,000,000            0              0       0      1,000,000         0  \n",
       "5     1,000,000            0              0       0      1,000,000         0  \n",
       "6     1,000,000            0              0       0      1,000,000         0  \n",
       "7     1,000,000            0              0       0      1,000,000         0  \n",
       "8       999,000            0         -1,000  -1,000      1,000,000     1,000  \n",
       "9     1,023,000            0         23,000  23,000      1,023,000         0  \n",
       "10    1,027,000            0         27,000  27,000      1,027,000         0  \n",
       "11    1,035,000            0         35,000  35,000      1,035,000         0  \n",
       "12    1,052,000            0         52,000  52,000      1,052,000         0  \n",
       "13    1,049,000            0         49,000  49,000      1,052,000     3,000  \n",
       "14    1,050,000       50,000              0  50,000      1,052,000     2,000  \n",
       "15    1,050,000            0              0  50,000      1,052,000     2,000  \n",
       "16    1,050,000            0              0  50,000      1,052,000     2,000  \n",
       "17    1,050,000            0              0  50,000      1,052,000     2,000  \n",
       "18    1,050,000            0              0  50,000      1,052,000     2,000  \n",
       "19    1,050,000            0              0  50,000      1,052,000     2,000  \n",
       "20    1,050,000            0              0  50,000      1,052,000     2,000  \n",
       "21    1,050,000            0              0  50,000      1,052,000     2,000  "
      ]
     },
     "execution_count": 9,
     "metadata": {},
     "output_type": "execute_result"
    }
   ],
   "source": [
    "df_result2 = kq.backtest_stock_daily(\n",
    "    \"005930\", \n",
    "    df_order, \n",
    "    \"2022-12-21\", \n",
    "    \"2023-01-21\", \n",
    "    init_cash=1_000_000)\n",
    "df_result2"
   ]
  },
  {
   "cell_type": "code",
   "execution_count": 10,
   "metadata": {},
   "outputs": [
    {
     "data": {
      "application/vnd.plotly.v1+json": {
       "config": {
        "displaylogo": false,
        "modeBarButtonsToRemove": [
         "resetScale2d",
         "lasso2d",
         "zoomIn2d",
         "zoomOut2d",
         "select2d"
        ],
        "plotlyServerURL": "https://plot.ly",
        "responsive": true
       },
       "data": [
        {
         "marker": {
          "color": "#000000"
         },
         "mode": "lines",
         "name": "가격",
         "type": "scatter",
         "x": [
          "2022-12-21T00:00:00",
          "2022-12-22T00:00:00",
          "2022-12-23T00:00:00",
          "2022-12-26T00:00:00",
          "2022-12-27T00:00:00",
          "2022-12-28T00:00:00",
          "2022-12-29T00:00:00",
          "2023-01-02T00:00:00",
          "2023-01-03T00:00:00",
          "2023-01-04T00:00:00",
          "2023-01-05T00:00:00",
          "2023-01-06T00:00:00",
          "2023-01-09T00:00:00",
          "2023-01-10T00:00:00",
          "2023-01-11T00:00:00",
          "2023-01-12T00:00:00",
          "2023-01-13T00:00:00",
          "2023-01-16T00:00:00",
          "2023-01-17T00:00:00",
          "2023-01-18T00:00:00",
          "2023-01-19T00:00:00",
          "2023-01-20T00:00:00"
         ],
         "xaxis": "x5",
         "y": [
          58000,
          59100,
          58100,
          57900,
          58100,
          56600,
          55300,
          55500,
          55400,
          57800,
          58200,
          59000,
          60700,
          60400,
          60500,
          60500,
          60800,
          61100,
          61000,
          60400,
          61500,
          61800
         ],
         "yaxis": "y"
        },
        {
         "marker": {
          "color": "#DC143C",
          "line": {
           "color": "white",
           "width": 1
          },
          "size": 12,
          "symbol": "triangle-up"
         },
         "mode": "markers",
         "name": "매수",
         "type": "scatter",
         "x": [
          "2023-01-02T00:00:00"
         ],
         "xaxis": "x5",
         "y": [
          55500
         ],
         "yaxis": "y"
        },
        {
         "marker": {
          "color": "#00008B",
          "line": {
           "color": "white",
           "width": 1
          },
          "size": 12,
          "symbol": "triangle-down"
         },
         "mode": "markers",
         "name": "매도",
         "type": "scatter",
         "x": [
          "2023-01-11T00:00:00"
         ],
         "xaxis": "x5",
         "y": [
          60500
         ],
         "yaxis": "y"
        },
        {
         "fill": "tozeroy",
         "fillcolor": "lightgray",
         "line": {
          "color": "#000000",
          "shape": "hv"
         },
         "mode": "lines",
         "name": "잔고수량",
         "type": "scatter",
         "x": [
          "2022-12-21T00:00:00",
          "2022-12-22T00:00:00",
          "2022-12-23T00:00:00",
          "2022-12-26T00:00:00",
          "2022-12-27T00:00:00",
          "2022-12-28T00:00:00",
          "2022-12-29T00:00:00",
          "2023-01-02T00:00:00",
          "2023-01-03T00:00:00",
          "2023-01-04T00:00:00",
          "2023-01-05T00:00:00",
          "2023-01-06T00:00:00",
          "2023-01-09T00:00:00",
          "2023-01-10T00:00:00",
          "2023-01-11T00:00:00",
          "2023-01-12T00:00:00",
          "2023-01-13T00:00:00",
          "2023-01-16T00:00:00",
          "2023-01-17T00:00:00",
          "2023-01-18T00:00:00",
          "2023-01-19T00:00:00",
          "2023-01-20T00:00:00"
         ],
         "xaxis": "x5",
         "y": [
          0,
          0,
          0,
          0,
          0,
          0,
          0,
          10,
          10,
          10,
          10,
          10,
          10,
          10,
          0,
          0,
          0,
          0,
          0,
          0,
          0,
          0
         ],
         "yaxis": "y2"
        },
        {
         "line": {
          "color": "#000000",
          "shape": "hv"
         },
         "mode": "lines",
         "name": "잔고가치",
         "type": "scatter",
         "x": [
          "2022-12-21T00:00:00",
          "2022-12-22T00:00:00",
          "2022-12-23T00:00:00",
          "2022-12-26T00:00:00",
          "2022-12-27T00:00:00",
          "2022-12-28T00:00:00",
          "2022-12-29T00:00:00",
          "2023-01-02T00:00:00",
          "2023-01-03T00:00:00",
          "2023-01-04T00:00:00",
          "2023-01-05T00:00:00",
          "2023-01-06T00:00:00",
          "2023-01-09T00:00:00",
          "2023-01-10T00:00:00",
          "2023-01-11T00:00:00",
          "2023-01-12T00:00:00",
          "2023-01-13T00:00:00",
          "2023-01-16T00:00:00",
          "2023-01-17T00:00:00",
          "2023-01-18T00:00:00",
          "2023-01-19T00:00:00",
          "2023-01-20T00:00:00"
         ],
         "xaxis": "x5",
         "y": [
          null,
          null,
          null,
          null,
          null,
          null,
          null,
          555000,
          554000,
          578000,
          582000,
          590000,
          607000,
          604000,
          null,
          null,
          null,
          null,
          null,
          null,
          null,
          null
         ],
         "yaxis": "y3"
        },
        {
         "cliponaxis": false,
         "marker": {
          "color": [
           "#00008B",
           "#00008B",
           "#00008B",
           "#00008B",
           "#00008B",
           "#00008B",
           "#00008B",
           "#00008B",
           "#00008B",
           "#00008B",
           "#00008B",
           "#00008B",
           "#00008B",
           "#00008B",
           "#DC143C",
           "#00008B",
           "#00008B",
           "#00008B",
           "#00008B",
           "#00008B",
           "#00008B",
           "#00008B"
          ]
         },
         "name": "실현손익",
         "text": [
          "",
          "",
          "",
          "",
          "",
          "",
          "",
          "",
          "",
          "",
          "",
          "",
          "",
          "",
          "50,000",
          "",
          "",
          "",
          "",
          "",
          "",
          ""
         ],
         "textposition": "outside",
         "type": "bar",
         "width": 432000000,
         "x": [
          "2022-12-21T00:00:00",
          "2022-12-22T00:00:00",
          "2022-12-23T00:00:00",
          "2022-12-26T00:00:00",
          "2022-12-27T00:00:00",
          "2022-12-28T00:00:00",
          "2022-12-29T00:00:00",
          "2023-01-02T00:00:00",
          "2023-01-03T00:00:00",
          "2023-01-04T00:00:00",
          "2023-01-05T00:00:00",
          "2023-01-06T00:00:00",
          "2023-01-09T00:00:00",
          "2023-01-10T00:00:00",
          "2023-01-11T00:00:00",
          "2023-01-12T00:00:00",
          "2023-01-13T00:00:00",
          "2023-01-16T00:00:00",
          "2023-01-17T00:00:00",
          "2023-01-18T00:00:00",
          "2023-01-19T00:00:00",
          "2023-01-20T00:00:00"
         ],
         "xaxis": "x5",
         "y": [
          0,
          0,
          0,
          0,
          0,
          0,
          0,
          0,
          0,
          0,
          0,
          0,
          0,
          0,
          50000,
          0,
          0,
          0,
          0,
          0,
          0,
          0
         ],
         "yaxis": "y4"
        },
        {
         "line": {
          "color": "#000000",
          "shape": "hv"
         },
         "mode": "lines",
         "name": "총자산가치",
         "type": "scatter",
         "x": [
          "2022-12-21T00:00:00",
          "2022-12-22T00:00:00",
          "2022-12-23T00:00:00",
          "2022-12-26T00:00:00",
          "2022-12-27T00:00:00",
          "2022-12-28T00:00:00",
          "2022-12-29T00:00:00",
          "2023-01-02T00:00:00",
          "2023-01-03T00:00:00",
          "2023-01-04T00:00:00",
          "2023-01-05T00:00:00",
          "2023-01-06T00:00:00",
          "2023-01-09T00:00:00",
          "2023-01-10T00:00:00",
          "2023-01-11T00:00:00",
          "2023-01-12T00:00:00",
          "2023-01-13T00:00:00",
          "2023-01-16T00:00:00",
          "2023-01-17T00:00:00",
          "2023-01-18T00:00:00",
          "2023-01-19T00:00:00",
          "2023-01-20T00:00:00"
         ],
         "xaxis": "x5",
         "y": [
          1000000,
          1000000,
          1000000,
          1000000,
          1000000,
          1000000,
          1000000,
          1000000,
          999000,
          1023000,
          1027000,
          1035000,
          1052000,
          1049000,
          1050000,
          1050000,
          1050000,
          1050000,
          1050000,
          1050000,
          1050000,
          1050000
         ],
         "yaxis": "y5"
        },
        {
         "line": {
          "color": "#DC143C",
          "dash": "dash",
          "shape": "hv"
         },
         "mode": "lines",
         "name": "최고자산가치",
         "type": "scatter",
         "x": [
          "2022-12-21T00:00:00",
          "2022-12-22T00:00:00",
          "2022-12-23T00:00:00",
          "2022-12-26T00:00:00",
          "2022-12-27T00:00:00",
          "2022-12-28T00:00:00",
          "2022-12-29T00:00:00",
          "2023-01-02T00:00:00",
          "2023-01-03T00:00:00",
          "2023-01-04T00:00:00",
          "2023-01-05T00:00:00",
          "2023-01-06T00:00:00",
          "2023-01-09T00:00:00",
          "2023-01-10T00:00:00",
          "2023-01-11T00:00:00",
          "2023-01-12T00:00:00",
          "2023-01-13T00:00:00",
          "2023-01-16T00:00:00",
          "2023-01-17T00:00:00",
          "2023-01-18T00:00:00",
          "2023-01-19T00:00:00",
          "2023-01-20T00:00:00"
         ],
         "xaxis": "x5",
         "y": [
          1000000,
          1000000,
          1000000,
          1000000,
          1000000,
          1000000,
          1000000,
          1000000,
          1000000,
          1023000,
          1027000,
          1035000,
          1052000,
          1052000,
          1052000,
          1052000,
          1052000,
          1052000,
          1052000,
          1052000,
          1052000,
          1052000
         ],
         "yaxis": "y5"
        },
        {
         "base": [
          1000000
         ],
         "cliponaxis": false,
         "marker": {
          "color": [
           "#DC143C"
          ]
         },
         "name": "최종손익",
         "text": [
          "최종수익: 50,000"
         ],
         "textposition": "outside",
         "type": "bar",
         "width": 864000000,
         "x": [
          "2023-01-20T00:00:00"
         ],
         "xaxis": "x5",
         "y": [
          50000
         ],
         "yaxis": "y5"
        },
        {
         "cliponaxis": false,
         "marker": {
          "color": [
           "#DC143C",
           "#00008B"
          ],
          "line": {
           "color": "white",
           "width": 1
          },
          "size": 12,
          "symbol": [
           "triangle-up",
           "triangle-down"
          ]
         },
         "mode": "markers+text",
         "name": "",
         "text": [
          "최고자산가치: 1,052,000",
          "MDD: -3,000"
         ],
         "textposition": [
          "top center",
          "bottom center"
         ],
         "type": "scatter",
         "x": [
          "2023-01-09T00:00:00",
          "2023-01-10T00:00:00"
         ],
         "xaxis": "x5",
         "y": [
          1052000,
          1049000
         ],
         "yaxis": "y5"
        }
       ],
       "layout": {
        "annotations": [
         {
          "font": {
           "size": 16
          },
          "showarrow": false,
          "text": "가격",
          "x": 0.5,
          "xanchor": "center",
          "xref": "paper",
          "y": 1,
          "yanchor": "bottom",
          "yref": "paper"
         },
         {
          "font": {
           "size": 16
          },
          "showarrow": false,
          "text": "잔고수량",
          "x": 0.5,
          "xanchor": "center",
          "xref": "paper",
          "y": 0.79,
          "yanchor": "bottom",
          "yref": "paper"
         },
         {
          "font": {
           "size": 16
          },
          "showarrow": false,
          "text": "잔고가치",
          "x": 0.5,
          "xanchor": "center",
          "xref": "paper",
          "y": 0.66,
          "yanchor": "bottom",
          "yref": "paper"
         },
         {
          "font": {
           "size": 16
          },
          "showarrow": false,
          "text": "실현손익",
          "x": 0.5,
          "xanchor": "center",
          "xref": "paper",
          "y": 0.45,
          "yanchor": "bottom",
          "yref": "paper"
         },
         {
          "font": {
           "size": 16
          },
          "showarrow": false,
          "text": "총자산가치",
          "x": 0.5,
          "xanchor": "center",
          "xref": "paper",
          "y": 0.24,
          "yanchor": "bottom",
          "yref": "paper"
         }
        ],
        "height": 800,
        "hovermode": "x unified",
        "margin": {
         "b": 25,
         "l": 25,
         "r": 25,
         "t": 80
        },
        "showlegend": false,
        "template": {
         "data": {
          "bar": [
           {
            "error_x": {
             "color": "#2a3f5f"
            },
            "error_y": {
             "color": "#2a3f5f"
            },
            "marker": {
             "line": {
              "color": "#E5ECF6",
              "width": 0.5
             },
             "pattern": {
              "fillmode": "overlay",
              "size": 10,
              "solidity": 0.2
             }
            },
            "type": "bar"
           }
          ],
          "barpolar": [
           {
            "marker": {
             "line": {
              "color": "#E5ECF6",
              "width": 0.5
             },
             "pattern": {
              "fillmode": "overlay",
              "size": 10,
              "solidity": 0.2
             }
            },
            "type": "barpolar"
           }
          ],
          "carpet": [
           {
            "aaxis": {
             "endlinecolor": "#2a3f5f",
             "gridcolor": "white",
             "linecolor": "white",
             "minorgridcolor": "white",
             "startlinecolor": "#2a3f5f"
            },
            "baxis": {
             "endlinecolor": "#2a3f5f",
             "gridcolor": "white",
             "linecolor": "white",
             "minorgridcolor": "white",
             "startlinecolor": "#2a3f5f"
            },
            "type": "carpet"
           }
          ],
          "choropleth": [
           {
            "colorbar": {
             "outlinewidth": 0,
             "ticks": ""
            },
            "type": "choropleth"
           }
          ],
          "contour": [
           {
            "colorbar": {
             "outlinewidth": 0,
             "ticks": ""
            },
            "colorscale": [
             [
              0,
              "#0d0887"
             ],
             [
              0.1111111111111111,
              "#46039f"
             ],
             [
              0.2222222222222222,
              "#7201a8"
             ],
             [
              0.3333333333333333,
              "#9c179e"
             ],
             [
              0.4444444444444444,
              "#bd3786"
             ],
             [
              0.5555555555555556,
              "#d8576b"
             ],
             [
              0.6666666666666666,
              "#ed7953"
             ],
             [
              0.7777777777777778,
              "#fb9f3a"
             ],
             [
              0.8888888888888888,
              "#fdca26"
             ],
             [
              1,
              "#f0f921"
             ]
            ],
            "type": "contour"
           }
          ],
          "contourcarpet": [
           {
            "colorbar": {
             "outlinewidth": 0,
             "ticks": ""
            },
            "type": "contourcarpet"
           }
          ],
          "heatmap": [
           {
            "colorbar": {
             "outlinewidth": 0,
             "ticks": ""
            },
            "colorscale": [
             [
              0,
              "#0d0887"
             ],
             [
              0.1111111111111111,
              "#46039f"
             ],
             [
              0.2222222222222222,
              "#7201a8"
             ],
             [
              0.3333333333333333,
              "#9c179e"
             ],
             [
              0.4444444444444444,
              "#bd3786"
             ],
             [
              0.5555555555555556,
              "#d8576b"
             ],
             [
              0.6666666666666666,
              "#ed7953"
             ],
             [
              0.7777777777777778,
              "#fb9f3a"
             ],
             [
              0.8888888888888888,
              "#fdca26"
             ],
             [
              1,
              "#f0f921"
             ]
            ],
            "type": "heatmap"
           }
          ],
          "heatmapgl": [
           {
            "colorbar": {
             "outlinewidth": 0,
             "ticks": ""
            },
            "colorscale": [
             [
              0,
              "#0d0887"
             ],
             [
              0.1111111111111111,
              "#46039f"
             ],
             [
              0.2222222222222222,
              "#7201a8"
             ],
             [
              0.3333333333333333,
              "#9c179e"
             ],
             [
              0.4444444444444444,
              "#bd3786"
             ],
             [
              0.5555555555555556,
              "#d8576b"
             ],
             [
              0.6666666666666666,
              "#ed7953"
             ],
             [
              0.7777777777777778,
              "#fb9f3a"
             ],
             [
              0.8888888888888888,
              "#fdca26"
             ],
             [
              1,
              "#f0f921"
             ]
            ],
            "type": "heatmapgl"
           }
          ],
          "histogram": [
           {
            "marker": {
             "pattern": {
              "fillmode": "overlay",
              "size": 10,
              "solidity": 0.2
             }
            },
            "type": "histogram"
           }
          ],
          "histogram2d": [
           {
            "colorbar": {
             "outlinewidth": 0,
             "ticks": ""
            },
            "colorscale": [
             [
              0,
              "#0d0887"
             ],
             [
              0.1111111111111111,
              "#46039f"
             ],
             [
              0.2222222222222222,
              "#7201a8"
             ],
             [
              0.3333333333333333,
              "#9c179e"
             ],
             [
              0.4444444444444444,
              "#bd3786"
             ],
             [
              0.5555555555555556,
              "#d8576b"
             ],
             [
              0.6666666666666666,
              "#ed7953"
             ],
             [
              0.7777777777777778,
              "#fb9f3a"
             ],
             [
              0.8888888888888888,
              "#fdca26"
             ],
             [
              1,
              "#f0f921"
             ]
            ],
            "type": "histogram2d"
           }
          ],
          "histogram2dcontour": [
           {
            "colorbar": {
             "outlinewidth": 0,
             "ticks": ""
            },
            "colorscale": [
             [
              0,
              "#0d0887"
             ],
             [
              0.1111111111111111,
              "#46039f"
             ],
             [
              0.2222222222222222,
              "#7201a8"
             ],
             [
              0.3333333333333333,
              "#9c179e"
             ],
             [
              0.4444444444444444,
              "#bd3786"
             ],
             [
              0.5555555555555556,
              "#d8576b"
             ],
             [
              0.6666666666666666,
              "#ed7953"
             ],
             [
              0.7777777777777778,
              "#fb9f3a"
             ],
             [
              0.8888888888888888,
              "#fdca26"
             ],
             [
              1,
              "#f0f921"
             ]
            ],
            "type": "histogram2dcontour"
           }
          ],
          "mesh3d": [
           {
            "colorbar": {
             "outlinewidth": 0,
             "ticks": ""
            },
            "type": "mesh3d"
           }
          ],
          "parcoords": [
           {
            "line": {
             "colorbar": {
              "outlinewidth": 0,
              "ticks": ""
             }
            },
            "type": "parcoords"
           }
          ],
          "pie": [
           {
            "automargin": true,
            "type": "pie"
           }
          ],
          "scatter": [
           {
            "fillpattern": {
             "fillmode": "overlay",
             "size": 10,
             "solidity": 0.2
            },
            "type": "scatter"
           }
          ],
          "scatter3d": [
           {
            "line": {
             "colorbar": {
              "outlinewidth": 0,
              "ticks": ""
             }
            },
            "marker": {
             "colorbar": {
              "outlinewidth": 0,
              "ticks": ""
             }
            },
            "type": "scatter3d"
           }
          ],
          "scattercarpet": [
           {
            "marker": {
             "colorbar": {
              "outlinewidth": 0,
              "ticks": ""
             }
            },
            "type": "scattercarpet"
           }
          ],
          "scattergeo": [
           {
            "marker": {
             "colorbar": {
              "outlinewidth": 0,
              "ticks": ""
             }
            },
            "type": "scattergeo"
           }
          ],
          "scattergl": [
           {
            "marker": {
             "colorbar": {
              "outlinewidth": 0,
              "ticks": ""
             }
            },
            "type": "scattergl"
           }
          ],
          "scattermapbox": [
           {
            "marker": {
             "colorbar": {
              "outlinewidth": 0,
              "ticks": ""
             }
            },
            "type": "scattermapbox"
           }
          ],
          "scatterpolar": [
           {
            "marker": {
             "colorbar": {
              "outlinewidth": 0,
              "ticks": ""
             }
            },
            "type": "scatterpolar"
           }
          ],
          "scatterpolargl": [
           {
            "marker": {
             "colorbar": {
              "outlinewidth": 0,
              "ticks": ""
             }
            },
            "type": "scatterpolargl"
           }
          ],
          "scatterternary": [
           {
            "marker": {
             "colorbar": {
              "outlinewidth": 0,
              "ticks": ""
             }
            },
            "type": "scatterternary"
           }
          ],
          "surface": [
           {
            "colorbar": {
             "outlinewidth": 0,
             "ticks": ""
            },
            "colorscale": [
             [
              0,
              "#0d0887"
             ],
             [
              0.1111111111111111,
              "#46039f"
             ],
             [
              0.2222222222222222,
              "#7201a8"
             ],
             [
              0.3333333333333333,
              "#9c179e"
             ],
             [
              0.4444444444444444,
              "#bd3786"
             ],
             [
              0.5555555555555556,
              "#d8576b"
             ],
             [
              0.6666666666666666,
              "#ed7953"
             ],
             [
              0.7777777777777778,
              "#fb9f3a"
             ],
             [
              0.8888888888888888,
              "#fdca26"
             ],
             [
              1,
              "#f0f921"
             ]
            ],
            "type": "surface"
           }
          ],
          "table": [
           {
            "cells": {
             "fill": {
              "color": "#EBF0F8"
             },
             "line": {
              "color": "white"
             }
            },
            "header": {
             "fill": {
              "color": "#C8D4E3"
             },
             "line": {
              "color": "white"
             }
            },
            "type": "table"
           }
          ]
         },
         "layout": {
          "annotationdefaults": {
           "arrowcolor": "#2a3f5f",
           "arrowhead": 0,
           "arrowwidth": 1
          },
          "autotypenumbers": "strict",
          "coloraxis": {
           "colorbar": {
            "outlinewidth": 0,
            "ticks": ""
           }
          },
          "colorscale": {
           "diverging": [
            [
             0,
             "#8e0152"
            ],
            [
             0.1,
             "#c51b7d"
            ],
            [
             0.2,
             "#de77ae"
            ],
            [
             0.3,
             "#f1b6da"
            ],
            [
             0.4,
             "#fde0ef"
            ],
            [
             0.5,
             "#f7f7f7"
            ],
            [
             0.6,
             "#e6f5d0"
            ],
            [
             0.7,
             "#b8e186"
            ],
            [
             0.8,
             "#7fbc41"
            ],
            [
             0.9,
             "#4d9221"
            ],
            [
             1,
             "#276419"
            ]
           ],
           "sequential": [
            [
             0,
             "#0d0887"
            ],
            [
             0.1111111111111111,
             "#46039f"
            ],
            [
             0.2222222222222222,
             "#7201a8"
            ],
            [
             0.3333333333333333,
             "#9c179e"
            ],
            [
             0.4444444444444444,
             "#bd3786"
            ],
            [
             0.5555555555555556,
             "#d8576b"
            ],
            [
             0.6666666666666666,
             "#ed7953"
            ],
            [
             0.7777777777777778,
             "#fb9f3a"
            ],
            [
             0.8888888888888888,
             "#fdca26"
            ],
            [
             1,
             "#f0f921"
            ]
           ],
           "sequentialminus": [
            [
             0,
             "#0d0887"
            ],
            [
             0.1111111111111111,
             "#46039f"
            ],
            [
             0.2222222222222222,
             "#7201a8"
            ],
            [
             0.3333333333333333,
             "#9c179e"
            ],
            [
             0.4444444444444444,
             "#bd3786"
            ],
            [
             0.5555555555555556,
             "#d8576b"
            ],
            [
             0.6666666666666666,
             "#ed7953"
            ],
            [
             0.7777777777777778,
             "#fb9f3a"
            ],
            [
             0.8888888888888888,
             "#fdca26"
            ],
            [
             1,
             "#f0f921"
            ]
           ]
          },
          "colorway": [
           "#636efa",
           "#EF553B",
           "#00cc96",
           "#ab63fa",
           "#FFA15A",
           "#19d3f3",
           "#FF6692",
           "#B6E880",
           "#FF97FF",
           "#FECB52"
          ],
          "font": {
           "color": "#2a3f5f"
          },
          "geo": {
           "bgcolor": "white",
           "lakecolor": "white",
           "landcolor": "#E5ECF6",
           "showlakes": true,
           "showland": true,
           "subunitcolor": "white"
          },
          "hoverlabel": {
           "align": "left"
          },
          "hovermode": "closest",
          "mapbox": {
           "style": "light"
          },
          "paper_bgcolor": "white",
          "plot_bgcolor": "#E5ECF6",
          "polar": {
           "angularaxis": {
            "gridcolor": "white",
            "linecolor": "white",
            "ticks": ""
           },
           "bgcolor": "#E5ECF6",
           "radialaxis": {
            "gridcolor": "white",
            "linecolor": "white",
            "ticks": ""
           }
          },
          "scene": {
           "xaxis": {
            "backgroundcolor": "#E5ECF6",
            "gridcolor": "white",
            "gridwidth": 2,
            "linecolor": "white",
            "showbackground": true,
            "ticks": "",
            "zerolinecolor": "white"
           },
           "yaxis": {
            "backgroundcolor": "#E5ECF6",
            "gridcolor": "white",
            "gridwidth": 2,
            "linecolor": "white",
            "showbackground": true,
            "ticks": "",
            "zerolinecolor": "white"
           },
           "zaxis": {
            "backgroundcolor": "#E5ECF6",
            "gridcolor": "white",
            "gridwidth": 2,
            "linecolor": "white",
            "showbackground": true,
            "ticks": "",
            "zerolinecolor": "white"
           }
          },
          "shapedefaults": {
           "line": {
            "color": "#2a3f5f"
           }
          },
          "ternary": {
           "aaxis": {
            "gridcolor": "white",
            "linecolor": "white",
            "ticks": ""
           },
           "baxis": {
            "gridcolor": "white",
            "linecolor": "white",
            "ticks": ""
           },
           "bgcolor": "#E5ECF6",
           "caxis": {
            "gridcolor": "white",
            "linecolor": "white",
            "ticks": ""
           }
          },
          "title": {
           "x": 0.05
          },
          "xaxis": {
           "automargin": true,
           "gridcolor": "white",
           "linecolor": "white",
           "ticks": "",
           "title": {
            "standoff": 15
           },
           "zerolinecolor": "white",
           "zerolinewidth": 2
          },
          "yaxis": {
           "automargin": true,
           "gridcolor": "white",
           "linecolor": "white",
           "ticks": "",
           "title": {
            "standoff": 15
           },
           "zerolinecolor": "white",
           "zerolinewidth": 2
          }
         }
        },
        "title": {
         "text": "백테스트 결과: 005930, 2022-12-21~2023-01-20",
         "x": 0.5,
         "y": 0.98
        },
        "uniformtext": {
         "minsize": 12,
         "mode": "show"
        },
        "xaxis": {
         "anchor": "y",
         "domain": [
          0,
          1
         ],
         "matches": "x5",
         "showticklabels": false
        },
        "xaxis2": {
         "anchor": "y2",
         "domain": [
          0,
          1
         ],
         "matches": "x5",
         "showticklabels": false
        },
        "xaxis3": {
         "anchor": "y3",
         "domain": [
          0,
          1
         ],
         "matches": "x5",
         "showticklabels": false
        },
        "xaxis4": {
         "anchor": "y4",
         "domain": [
          0,
          1
         ],
         "matches": "x5",
         "showticklabels": false
        },
        "xaxis5": {
         "anchor": "y5",
         "domain": [
          0,
          1
         ],
         "hoverformat": "%Y-%m-%d",
         "showticklabels": true,
         "tickformat": "%Y-%m-%d"
        },
        "yaxis": {
         "anchor": "x",
         "domain": [
          0.8400000000000001,
          1
         ],
         "tickformat": ",d"
        },
        "yaxis2": {
         "anchor": "x2",
         "domain": [
          0.7100000000000001,
          0.79
         ],
         "dtick": "L1"
        },
        "yaxis3": {
         "anchor": "x3",
         "domain": [
          0.5,
          0.66
         ],
         "tickformat": ",d"
        },
        "yaxis4": {
         "anchor": "x4",
         "domain": [
          0.29,
          0.45
         ],
         "tickformat": ",d"
        },
        "yaxis5": {
         "anchor": "x5",
         "domain": [
          0,
          0.24
         ],
         "tickformat": ",d"
        }
       }
      },
      "text/html": [
       "<div>                            <div id=\"451203b7-3ae5-47c1-ad9c-7a18142aaa6c\" class=\"plotly-graph-div\" style=\"height:800px; width:100%;\"></div>            <script type=\"text/javascript\">                require([\"plotly\"], function(Plotly) {                    window.PLOTLYENV=window.PLOTLYENV || {};                                    if (document.getElementById(\"451203b7-3ae5-47c1-ad9c-7a18142aaa6c\")) {                    Plotly.newPlot(                        \"451203b7-3ae5-47c1-ad9c-7a18142aaa6c\",                        [{\"marker\":{\"color\":\"#000000\"},\"mode\":\"lines\",\"name\":\"\\uac00\\uaca9\",\"x\":[\"2022-12-21T00:00:00\",\"2022-12-22T00:00:00\",\"2022-12-23T00:00:00\",\"2022-12-26T00:00:00\",\"2022-12-27T00:00:00\",\"2022-12-28T00:00:00\",\"2022-12-29T00:00:00\",\"2023-01-02T00:00:00\",\"2023-01-03T00:00:00\",\"2023-01-04T00:00:00\",\"2023-01-05T00:00:00\",\"2023-01-06T00:00:00\",\"2023-01-09T00:00:00\",\"2023-01-10T00:00:00\",\"2023-01-11T00:00:00\",\"2023-01-12T00:00:00\",\"2023-01-13T00:00:00\",\"2023-01-16T00:00:00\",\"2023-01-17T00:00:00\",\"2023-01-18T00:00:00\",\"2023-01-19T00:00:00\",\"2023-01-20T00:00:00\"],\"y\":[58000,59100,58100,57900,58100,56600,55300,55500,55400,57800,58200,59000,60700,60400,60500,60500,60800,61100,61000,60400,61500,61800],\"type\":\"scatter\",\"xaxis\":\"x5\",\"yaxis\":\"y\"},{\"marker\":{\"color\":\"#DC143C\",\"line\":{\"color\":\"white\",\"width\":1},\"size\":12,\"symbol\":\"triangle-up\"},\"mode\":\"markers\",\"name\":\"\\ub9e4\\uc218\",\"x\":[\"2023-01-02T00:00:00\"],\"y\":[55500],\"type\":\"scatter\",\"xaxis\":\"x5\",\"yaxis\":\"y\"},{\"marker\":{\"color\":\"#00008B\",\"line\":{\"color\":\"white\",\"width\":1},\"size\":12,\"symbol\":\"triangle-down\"},\"mode\":\"markers\",\"name\":\"\\ub9e4\\ub3c4\",\"x\":[\"2023-01-11T00:00:00\"],\"y\":[60500],\"type\":\"scatter\",\"xaxis\":\"x5\",\"yaxis\":\"y\"},{\"fill\":\"tozeroy\",\"fillcolor\":\"lightgray\",\"line\":{\"color\":\"#000000\",\"shape\":\"hv\"},\"mode\":\"lines\",\"name\":\"\\uc794\\uace0\\uc218\\ub7c9\",\"x\":[\"2022-12-21T00:00:00\",\"2022-12-22T00:00:00\",\"2022-12-23T00:00:00\",\"2022-12-26T00:00:00\",\"2022-12-27T00:00:00\",\"2022-12-28T00:00:00\",\"2022-12-29T00:00:00\",\"2023-01-02T00:00:00\",\"2023-01-03T00:00:00\",\"2023-01-04T00:00:00\",\"2023-01-05T00:00:00\",\"2023-01-06T00:00:00\",\"2023-01-09T00:00:00\",\"2023-01-10T00:00:00\",\"2023-01-11T00:00:00\",\"2023-01-12T00:00:00\",\"2023-01-13T00:00:00\",\"2023-01-16T00:00:00\",\"2023-01-17T00:00:00\",\"2023-01-18T00:00:00\",\"2023-01-19T00:00:00\",\"2023-01-20T00:00:00\"],\"y\":[0,0,0,0,0,0,0,10,10,10,10,10,10,10,0,0,0,0,0,0,0,0],\"type\":\"scatter\",\"xaxis\":\"x5\",\"yaxis\":\"y2\"},{\"line\":{\"color\":\"#000000\",\"shape\":\"hv\"},\"mode\":\"lines\",\"name\":\"\\uc794\\uace0\\uac00\\uce58\",\"x\":[\"2022-12-21T00:00:00\",\"2022-12-22T00:00:00\",\"2022-12-23T00:00:00\",\"2022-12-26T00:00:00\",\"2022-12-27T00:00:00\",\"2022-12-28T00:00:00\",\"2022-12-29T00:00:00\",\"2023-01-02T00:00:00\",\"2023-01-03T00:00:00\",\"2023-01-04T00:00:00\",\"2023-01-05T00:00:00\",\"2023-01-06T00:00:00\",\"2023-01-09T00:00:00\",\"2023-01-10T00:00:00\",\"2023-01-11T00:00:00\",\"2023-01-12T00:00:00\",\"2023-01-13T00:00:00\",\"2023-01-16T00:00:00\",\"2023-01-17T00:00:00\",\"2023-01-18T00:00:00\",\"2023-01-19T00:00:00\",\"2023-01-20T00:00:00\"],\"y\":[null,null,null,null,null,null,null,555000.0,554000.0,578000.0,582000.0,590000.0,607000.0,604000.0,null,null,null,null,null,null,null,null],\"type\":\"scatter\",\"xaxis\":\"x5\",\"yaxis\":\"y3\"},{\"cliponaxis\":false,\"marker\":{\"color\":[\"#00008B\",\"#00008B\",\"#00008B\",\"#00008B\",\"#00008B\",\"#00008B\",\"#00008B\",\"#00008B\",\"#00008B\",\"#00008B\",\"#00008B\",\"#00008B\",\"#00008B\",\"#00008B\",\"#DC143C\",\"#00008B\",\"#00008B\",\"#00008B\",\"#00008B\",\"#00008B\",\"#00008B\",\"#00008B\"]},\"name\":\"\\uc2e4\\ud604\\uc190\\uc775\",\"text\":[\"\",\"\",\"\",\"\",\"\",\"\",\"\",\"\",\"\",\"\",\"\",\"\",\"\",\"\",\"50,000\",\"\",\"\",\"\",\"\",\"\",\"\",\"\"],\"textposition\":\"outside\",\"width\":432000000,\"x\":[\"2022-12-21T00:00:00\",\"2022-12-22T00:00:00\",\"2022-12-23T00:00:00\",\"2022-12-26T00:00:00\",\"2022-12-27T00:00:00\",\"2022-12-28T00:00:00\",\"2022-12-29T00:00:00\",\"2023-01-02T00:00:00\",\"2023-01-03T00:00:00\",\"2023-01-04T00:00:00\",\"2023-01-05T00:00:00\",\"2023-01-06T00:00:00\",\"2023-01-09T00:00:00\",\"2023-01-10T00:00:00\",\"2023-01-11T00:00:00\",\"2023-01-12T00:00:00\",\"2023-01-13T00:00:00\",\"2023-01-16T00:00:00\",\"2023-01-17T00:00:00\",\"2023-01-18T00:00:00\",\"2023-01-19T00:00:00\",\"2023-01-20T00:00:00\"],\"y\":[0,0,0,0,0,0,0,0,0,0,0,0,0,0,50000,0,0,0,0,0,0,0],\"type\":\"bar\",\"xaxis\":\"x5\",\"yaxis\":\"y4\"},{\"line\":{\"color\":\"#000000\",\"shape\":\"hv\"},\"mode\":\"lines\",\"name\":\"\\ucd1d\\uc790\\uc0b0\\uac00\\uce58\",\"x\":[\"2022-12-21T00:00:00\",\"2022-12-22T00:00:00\",\"2022-12-23T00:00:00\",\"2022-12-26T00:00:00\",\"2022-12-27T00:00:00\",\"2022-12-28T00:00:00\",\"2022-12-29T00:00:00\",\"2023-01-02T00:00:00\",\"2023-01-03T00:00:00\",\"2023-01-04T00:00:00\",\"2023-01-05T00:00:00\",\"2023-01-06T00:00:00\",\"2023-01-09T00:00:00\",\"2023-01-10T00:00:00\",\"2023-01-11T00:00:00\",\"2023-01-12T00:00:00\",\"2023-01-13T00:00:00\",\"2023-01-16T00:00:00\",\"2023-01-17T00:00:00\",\"2023-01-18T00:00:00\",\"2023-01-19T00:00:00\",\"2023-01-20T00:00:00\"],\"y\":[1000000,1000000,1000000,1000000,1000000,1000000,1000000,1000000,999000,1023000,1027000,1035000,1052000,1049000,1050000,1050000,1050000,1050000,1050000,1050000,1050000,1050000],\"type\":\"scatter\",\"xaxis\":\"x5\",\"yaxis\":\"y5\"},{\"line\":{\"color\":\"#DC143C\",\"dash\":\"dash\",\"shape\":\"hv\"},\"mode\":\"lines\",\"name\":\"\\ucd5c\\uace0\\uc790\\uc0b0\\uac00\\uce58\",\"x\":[\"2022-12-21T00:00:00\",\"2022-12-22T00:00:00\",\"2022-12-23T00:00:00\",\"2022-12-26T00:00:00\",\"2022-12-27T00:00:00\",\"2022-12-28T00:00:00\",\"2022-12-29T00:00:00\",\"2023-01-02T00:00:00\",\"2023-01-03T00:00:00\",\"2023-01-04T00:00:00\",\"2023-01-05T00:00:00\",\"2023-01-06T00:00:00\",\"2023-01-09T00:00:00\",\"2023-01-10T00:00:00\",\"2023-01-11T00:00:00\",\"2023-01-12T00:00:00\",\"2023-01-13T00:00:00\",\"2023-01-16T00:00:00\",\"2023-01-17T00:00:00\",\"2023-01-18T00:00:00\",\"2023-01-19T00:00:00\",\"2023-01-20T00:00:00\"],\"y\":[1000000,1000000,1000000,1000000,1000000,1000000,1000000,1000000,1000000,1023000,1027000,1035000,1052000,1052000,1052000,1052000,1052000,1052000,1052000,1052000,1052000,1052000],\"type\":\"scatter\",\"xaxis\":\"x5\",\"yaxis\":\"y5\"},{\"base\":[1000000],\"cliponaxis\":false,\"marker\":{\"color\":[\"#DC143C\"]},\"name\":\"\\ucd5c\\uc885\\uc190\\uc775\",\"text\":[\"\\ucd5c\\uc885\\uc218\\uc775: 50,000\"],\"textposition\":\"outside\",\"width\":864000000,\"x\":[\"2023-01-20T00:00:00\"],\"y\":[50000],\"type\":\"bar\",\"xaxis\":\"x5\",\"yaxis\":\"y5\"},{\"cliponaxis\":false,\"marker\":{\"color\":[\"#DC143C\",\"#00008B\"],\"line\":{\"color\":\"white\",\"width\":1},\"size\":12,\"symbol\":[\"triangle-up\",\"triangle-down\"]},\"mode\":\"markers+text\",\"name\":\"\",\"text\":[\"\\ucd5c\\uace0\\uc790\\uc0b0\\uac00\\uce58: 1,052,000\",\"MDD: -3,000\"],\"textposition\":[\"top center\",\"bottom center\"],\"x\":[\"2023-01-09T00:00:00\",\"2023-01-10T00:00:00\"],\"y\":[1052000,1049000],\"type\":\"scatter\",\"xaxis\":\"x5\",\"yaxis\":\"y5\"}],                        {\"template\":{\"data\":{\"histogram2dcontour\":[{\"type\":\"histogram2dcontour\",\"colorbar\":{\"outlinewidth\":0,\"ticks\":\"\"},\"colorscale\":[[0.0,\"#0d0887\"],[0.1111111111111111,\"#46039f\"],[0.2222222222222222,\"#7201a8\"],[0.3333333333333333,\"#9c179e\"],[0.4444444444444444,\"#bd3786\"],[0.5555555555555556,\"#d8576b\"],[0.6666666666666666,\"#ed7953\"],[0.7777777777777778,\"#fb9f3a\"],[0.8888888888888888,\"#fdca26\"],[1.0,\"#f0f921\"]]}],\"choropleth\":[{\"type\":\"choropleth\",\"colorbar\":{\"outlinewidth\":0,\"ticks\":\"\"}}],\"histogram2d\":[{\"type\":\"histogram2d\",\"colorbar\":{\"outlinewidth\":0,\"ticks\":\"\"},\"colorscale\":[[0.0,\"#0d0887\"],[0.1111111111111111,\"#46039f\"],[0.2222222222222222,\"#7201a8\"],[0.3333333333333333,\"#9c179e\"],[0.4444444444444444,\"#bd3786\"],[0.5555555555555556,\"#d8576b\"],[0.6666666666666666,\"#ed7953\"],[0.7777777777777778,\"#fb9f3a\"],[0.8888888888888888,\"#fdca26\"],[1.0,\"#f0f921\"]]}],\"heatmap\":[{\"type\":\"heatmap\",\"colorbar\":{\"outlinewidth\":0,\"ticks\":\"\"},\"colorscale\":[[0.0,\"#0d0887\"],[0.1111111111111111,\"#46039f\"],[0.2222222222222222,\"#7201a8\"],[0.3333333333333333,\"#9c179e\"],[0.4444444444444444,\"#bd3786\"],[0.5555555555555556,\"#d8576b\"],[0.6666666666666666,\"#ed7953\"],[0.7777777777777778,\"#fb9f3a\"],[0.8888888888888888,\"#fdca26\"],[1.0,\"#f0f921\"]]}],\"heatmapgl\":[{\"type\":\"heatmapgl\",\"colorbar\":{\"outlinewidth\":0,\"ticks\":\"\"},\"colorscale\":[[0.0,\"#0d0887\"],[0.1111111111111111,\"#46039f\"],[0.2222222222222222,\"#7201a8\"],[0.3333333333333333,\"#9c179e\"],[0.4444444444444444,\"#bd3786\"],[0.5555555555555556,\"#d8576b\"],[0.6666666666666666,\"#ed7953\"],[0.7777777777777778,\"#fb9f3a\"],[0.8888888888888888,\"#fdca26\"],[1.0,\"#f0f921\"]]}],\"contourcarpet\":[{\"type\":\"contourcarpet\",\"colorbar\":{\"outlinewidth\":0,\"ticks\":\"\"}}],\"contour\":[{\"type\":\"contour\",\"colorbar\":{\"outlinewidth\":0,\"ticks\":\"\"},\"colorscale\":[[0.0,\"#0d0887\"],[0.1111111111111111,\"#46039f\"],[0.2222222222222222,\"#7201a8\"],[0.3333333333333333,\"#9c179e\"],[0.4444444444444444,\"#bd3786\"],[0.5555555555555556,\"#d8576b\"],[0.6666666666666666,\"#ed7953\"],[0.7777777777777778,\"#fb9f3a\"],[0.8888888888888888,\"#fdca26\"],[1.0,\"#f0f921\"]]}],\"surface\":[{\"type\":\"surface\",\"colorbar\":{\"outlinewidth\":0,\"ticks\":\"\"},\"colorscale\":[[0.0,\"#0d0887\"],[0.1111111111111111,\"#46039f\"],[0.2222222222222222,\"#7201a8\"],[0.3333333333333333,\"#9c179e\"],[0.4444444444444444,\"#bd3786\"],[0.5555555555555556,\"#d8576b\"],[0.6666666666666666,\"#ed7953\"],[0.7777777777777778,\"#fb9f3a\"],[0.8888888888888888,\"#fdca26\"],[1.0,\"#f0f921\"]]}],\"mesh3d\":[{\"type\":\"mesh3d\",\"colorbar\":{\"outlinewidth\":0,\"ticks\":\"\"}}],\"scatter\":[{\"fillpattern\":{\"fillmode\":\"overlay\",\"size\":10,\"solidity\":0.2},\"type\":\"scatter\"}],\"parcoords\":[{\"type\":\"parcoords\",\"line\":{\"colorbar\":{\"outlinewidth\":0,\"ticks\":\"\"}}}],\"scatterpolargl\":[{\"type\":\"scatterpolargl\",\"marker\":{\"colorbar\":{\"outlinewidth\":0,\"ticks\":\"\"}}}],\"bar\":[{\"error_x\":{\"color\":\"#2a3f5f\"},\"error_y\":{\"color\":\"#2a3f5f\"},\"marker\":{\"line\":{\"color\":\"#E5ECF6\",\"width\":0.5},\"pattern\":{\"fillmode\":\"overlay\",\"size\":10,\"solidity\":0.2}},\"type\":\"bar\"}],\"scattergeo\":[{\"type\":\"scattergeo\",\"marker\":{\"colorbar\":{\"outlinewidth\":0,\"ticks\":\"\"}}}],\"scatterpolar\":[{\"type\":\"scatterpolar\",\"marker\":{\"colorbar\":{\"outlinewidth\":0,\"ticks\":\"\"}}}],\"histogram\":[{\"marker\":{\"pattern\":{\"fillmode\":\"overlay\",\"size\":10,\"solidity\":0.2}},\"type\":\"histogram\"}],\"scattergl\":[{\"type\":\"scattergl\",\"marker\":{\"colorbar\":{\"outlinewidth\":0,\"ticks\":\"\"}}}],\"scatter3d\":[{\"type\":\"scatter3d\",\"line\":{\"colorbar\":{\"outlinewidth\":0,\"ticks\":\"\"}},\"marker\":{\"colorbar\":{\"outlinewidth\":0,\"ticks\":\"\"}}}],\"scattermapbox\":[{\"type\":\"scattermapbox\",\"marker\":{\"colorbar\":{\"outlinewidth\":0,\"ticks\":\"\"}}}],\"scatterternary\":[{\"type\":\"scatterternary\",\"marker\":{\"colorbar\":{\"outlinewidth\":0,\"ticks\":\"\"}}}],\"scattercarpet\":[{\"type\":\"scattercarpet\",\"marker\":{\"colorbar\":{\"outlinewidth\":0,\"ticks\":\"\"}}}],\"carpet\":[{\"aaxis\":{\"endlinecolor\":\"#2a3f5f\",\"gridcolor\":\"white\",\"linecolor\":\"white\",\"minorgridcolor\":\"white\",\"startlinecolor\":\"#2a3f5f\"},\"baxis\":{\"endlinecolor\":\"#2a3f5f\",\"gridcolor\":\"white\",\"linecolor\":\"white\",\"minorgridcolor\":\"white\",\"startlinecolor\":\"#2a3f5f\"},\"type\":\"carpet\"}],\"table\":[{\"cells\":{\"fill\":{\"color\":\"#EBF0F8\"},\"line\":{\"color\":\"white\"}},\"header\":{\"fill\":{\"color\":\"#C8D4E3\"},\"line\":{\"color\":\"white\"}},\"type\":\"table\"}],\"barpolar\":[{\"marker\":{\"line\":{\"color\":\"#E5ECF6\",\"width\":0.5},\"pattern\":{\"fillmode\":\"overlay\",\"size\":10,\"solidity\":0.2}},\"type\":\"barpolar\"}],\"pie\":[{\"automargin\":true,\"type\":\"pie\"}]},\"layout\":{\"autotypenumbers\":\"strict\",\"colorway\":[\"#636efa\",\"#EF553B\",\"#00cc96\",\"#ab63fa\",\"#FFA15A\",\"#19d3f3\",\"#FF6692\",\"#B6E880\",\"#FF97FF\",\"#FECB52\"],\"font\":{\"color\":\"#2a3f5f\"},\"hovermode\":\"closest\",\"hoverlabel\":{\"align\":\"left\"},\"paper_bgcolor\":\"white\",\"plot_bgcolor\":\"#E5ECF6\",\"polar\":{\"bgcolor\":\"#E5ECF6\",\"angularaxis\":{\"gridcolor\":\"white\",\"linecolor\":\"white\",\"ticks\":\"\"},\"radialaxis\":{\"gridcolor\":\"white\",\"linecolor\":\"white\",\"ticks\":\"\"}},\"ternary\":{\"bgcolor\":\"#E5ECF6\",\"aaxis\":{\"gridcolor\":\"white\",\"linecolor\":\"white\",\"ticks\":\"\"},\"baxis\":{\"gridcolor\":\"white\",\"linecolor\":\"white\",\"ticks\":\"\"},\"caxis\":{\"gridcolor\":\"white\",\"linecolor\":\"white\",\"ticks\":\"\"}},\"coloraxis\":{\"colorbar\":{\"outlinewidth\":0,\"ticks\":\"\"}},\"colorscale\":{\"sequential\":[[0.0,\"#0d0887\"],[0.1111111111111111,\"#46039f\"],[0.2222222222222222,\"#7201a8\"],[0.3333333333333333,\"#9c179e\"],[0.4444444444444444,\"#bd3786\"],[0.5555555555555556,\"#d8576b\"],[0.6666666666666666,\"#ed7953\"],[0.7777777777777778,\"#fb9f3a\"],[0.8888888888888888,\"#fdca26\"],[1.0,\"#f0f921\"]],\"sequentialminus\":[[0.0,\"#0d0887\"],[0.1111111111111111,\"#46039f\"],[0.2222222222222222,\"#7201a8\"],[0.3333333333333333,\"#9c179e\"],[0.4444444444444444,\"#bd3786\"],[0.5555555555555556,\"#d8576b\"],[0.6666666666666666,\"#ed7953\"],[0.7777777777777778,\"#fb9f3a\"],[0.8888888888888888,\"#fdca26\"],[1.0,\"#f0f921\"]],\"diverging\":[[0,\"#8e0152\"],[0.1,\"#c51b7d\"],[0.2,\"#de77ae\"],[0.3,\"#f1b6da\"],[0.4,\"#fde0ef\"],[0.5,\"#f7f7f7\"],[0.6,\"#e6f5d0\"],[0.7,\"#b8e186\"],[0.8,\"#7fbc41\"],[0.9,\"#4d9221\"],[1,\"#276419\"]]},\"xaxis\":{\"gridcolor\":\"white\",\"linecolor\":\"white\",\"ticks\":\"\",\"title\":{\"standoff\":15},\"zerolinecolor\":\"white\",\"automargin\":true,\"zerolinewidth\":2},\"yaxis\":{\"gridcolor\":\"white\",\"linecolor\":\"white\",\"ticks\":\"\",\"title\":{\"standoff\":15},\"zerolinecolor\":\"white\",\"automargin\":true,\"zerolinewidth\":2},\"scene\":{\"xaxis\":{\"backgroundcolor\":\"#E5ECF6\",\"gridcolor\":\"white\",\"linecolor\":\"white\",\"showbackground\":true,\"ticks\":\"\",\"zerolinecolor\":\"white\",\"gridwidth\":2},\"yaxis\":{\"backgroundcolor\":\"#E5ECF6\",\"gridcolor\":\"white\",\"linecolor\":\"white\",\"showbackground\":true,\"ticks\":\"\",\"zerolinecolor\":\"white\",\"gridwidth\":2},\"zaxis\":{\"backgroundcolor\":\"#E5ECF6\",\"gridcolor\":\"white\",\"linecolor\":\"white\",\"showbackground\":true,\"ticks\":\"\",\"zerolinecolor\":\"white\",\"gridwidth\":2}},\"shapedefaults\":{\"line\":{\"color\":\"#2a3f5f\"}},\"annotationdefaults\":{\"arrowcolor\":\"#2a3f5f\",\"arrowhead\":0,\"arrowwidth\":1},\"geo\":{\"bgcolor\":\"white\",\"landcolor\":\"#E5ECF6\",\"subunitcolor\":\"white\",\"showland\":true,\"showlakes\":true,\"lakecolor\":\"white\"},\"title\":{\"x\":0.05},\"mapbox\":{\"style\":\"light\"}}},\"xaxis\":{\"anchor\":\"y\",\"domain\":[0.0,1.0],\"matches\":\"x5\",\"showticklabels\":false},\"yaxis\":{\"anchor\":\"x\",\"domain\":[0.8400000000000001,1.0],\"tickformat\":\",d\"},\"xaxis2\":{\"anchor\":\"y2\",\"domain\":[0.0,1.0],\"matches\":\"x5\",\"showticklabels\":false},\"yaxis2\":{\"anchor\":\"x2\",\"domain\":[0.7100000000000001,0.79],\"dtick\":\"L1\"},\"xaxis3\":{\"anchor\":\"y3\",\"domain\":[0.0,1.0],\"matches\":\"x5\",\"showticklabels\":false},\"yaxis3\":{\"anchor\":\"x3\",\"domain\":[0.5,0.66],\"tickformat\":\",d\"},\"xaxis4\":{\"anchor\":\"y4\",\"domain\":[0.0,1.0],\"matches\":\"x5\",\"showticklabels\":false},\"yaxis4\":{\"anchor\":\"x4\",\"domain\":[0.29,0.45],\"tickformat\":\",d\"},\"xaxis5\":{\"anchor\":\"y5\",\"domain\":[0.0,1.0],\"hoverformat\":\"%Y-%m-%d\",\"showticklabels\":true,\"tickformat\":\"%Y-%m-%d\"},\"yaxis5\":{\"anchor\":\"x5\",\"domain\":[0.0,0.24],\"tickformat\":\",d\"},\"annotations\":[{\"font\":{\"size\":16},\"showarrow\":false,\"text\":\"\\uac00\\uaca9\",\"x\":0.5,\"xanchor\":\"center\",\"xref\":\"paper\",\"y\":1.0,\"yanchor\":\"bottom\",\"yref\":\"paper\"},{\"font\":{\"size\":16},\"showarrow\":false,\"text\":\"\\uc794\\uace0\\uc218\\ub7c9\",\"x\":0.5,\"xanchor\":\"center\",\"xref\":\"paper\",\"y\":0.79,\"yanchor\":\"bottom\",\"yref\":\"paper\"},{\"font\":{\"size\":16},\"showarrow\":false,\"text\":\"\\uc794\\uace0\\uac00\\uce58\",\"x\":0.5,\"xanchor\":\"center\",\"xref\":\"paper\",\"y\":0.66,\"yanchor\":\"bottom\",\"yref\":\"paper\"},{\"font\":{\"size\":16},\"showarrow\":false,\"text\":\"\\uc2e4\\ud604\\uc190\\uc775\",\"x\":0.5,\"xanchor\":\"center\",\"xref\":\"paper\",\"y\":0.45,\"yanchor\":\"bottom\",\"yref\":\"paper\"},{\"font\":{\"size\":16},\"showarrow\":false,\"text\":\"\\ucd1d\\uc790\\uc0b0\\uac00\\uce58\",\"x\":0.5,\"xanchor\":\"center\",\"xref\":\"paper\",\"y\":0.24,\"yanchor\":\"bottom\",\"yref\":\"paper\"}],\"margin\":{\"b\":25,\"l\":25,\"r\":25,\"t\":80},\"title\":{\"text\":\"\\ubc31\\ud14c\\uc2a4\\ud2b8 \\uacb0\\uacfc: 005930, 2022-12-21~2023-01-20\",\"x\":0.5,\"y\":0.98},\"uniformtext\":{\"minsize\":12,\"mode\":\"show\"},\"height\":800,\"hovermode\":\"x unified\",\"showlegend\":false},                        {\"modeBarButtonsToRemove\": [\"resetScale2d\", \"lasso2d\", \"zoomIn2d\", \"zoomOut2d\", \"select2d\"], \"displaylogo\": false, \"responsive\": true}                    ).then(function(){\n",
       "                            \n",
       "var gd = document.getElementById('451203b7-3ae5-47c1-ad9c-7a18142aaa6c');\n",
       "var x = new MutationObserver(function (mutations, observer) {{\n",
       "        var display = window.getComputedStyle(gd).display;\n",
       "        if (!display || display === 'none') {{\n",
       "            console.log([gd, 'removed!']);\n",
       "            Plotly.purge(gd);\n",
       "            observer.disconnect();\n",
       "        }}\n",
       "}});\n",
       "\n",
       "// Listen for the removal of the full notebook cells\n",
       "var notebookContainer = gd.closest('#notebook-container');\n",
       "if (notebookContainer) {{\n",
       "    x.observe(notebookContainer, {childList: true});\n",
       "}}\n",
       "\n",
       "// Listen for the clearing of the current output cell\n",
       "var outputEl = gd.closest('.output');\n",
       "if (outputEl) {{\n",
       "    x.observe(outputEl, {childList: true});\n",
       "}}\n",
       "\n",
       "                        })                };                });            </script>        </div>"
      ]
     },
     "metadata": {},
     "output_type": "display_data"
    }
   ],
   "source": [
    "kq.backtest_plot_stock_daily(df_result2)"
   ]
  },
  {
   "cell_type": "code",
   "execution_count": 11,
   "metadata": {},
   "outputs": [
    {
     "name": "stderr",
     "output_type": "stream",
     "text": [
      "[2023-01-02] 종목: 005930, 주문전 보유수량:      0 주문수량:     10, 매매수량:     10, 주문후 보유수량:     10\n",
      "[2023-01-11] 종목: 005930, 주문전 보유수량:     10 주문수량:    -10, 매매수량:    -10, 주문후 보유수량:      0\n"
     ]
    },
    {
     "data": {
      "text/html": [
       "<div>\n",
       "<style scoped>\n",
       "    .dataframe tbody tr th:only-of-type {\n",
       "        vertical-align: middle;\n",
       "    }\n",
       "\n",
       "    .dataframe tbody tr th {\n",
       "        vertical-align: top;\n",
       "    }\n",
       "\n",
       "    .dataframe thead th {\n",
       "        text-align: right;\n",
       "    }\n",
       "</style>\n",
       "<table border=\"1\" class=\"dataframe\">\n",
       "  <thead>\n",
       "    <tr style=\"text-align: right;\">\n",
       "      <th></th>\n",
       "      <th>DATE</th>\n",
       "      <th>SYMBOL</th>\n",
       "      <th>PRICE</th>\n",
       "      <th>ORDER</th>\n",
       "      <th>QTY</th>\n",
       "      <th>TRADE_PRICE</th>\n",
       "      <th>POSITION</th>\n",
       "      <th>AVG_PRICE</th>\n",
       "      <th>FEE</th>\n",
       "      <th>TRADE_TAX</th>\n",
       "      <th>SLIPPAGE</th>\n",
       "      <th>CASHFLOW</th>\n",
       "      <th>CASH</th>\n",
       "      <th>HIST_VALUE</th>\n",
       "      <th>STOCK_VALUE</th>\n",
       "      <th>TOTAL_VALUE</th>\n",
       "      <th>REAL_PROFIT</th>\n",
       "      <th>UNREAL_PROFIT</th>\n",
       "      <th>PROFIT</th>\n",
       "      <th>HIGHWATERMARK</th>\n",
       "      <th>DRAWDOWN</th>\n",
       "    </tr>\n",
       "  </thead>\n",
       "  <tbody>\n",
       "    <tr>\n",
       "      <th>0</th>\n",
       "      <td>2023-01-02</td>\n",
       "      <td>005930</td>\n",
       "      <td>55,500</td>\n",
       "      <td>10</td>\n",
       "      <td>10</td>\n",
       "      <td>55,600</td>\n",
       "      <td>10</td>\n",
       "      <td>55,600.0000</td>\n",
       "      <td>105</td>\n",
       "      <td>0</td>\n",
       "      <td>1,000</td>\n",
       "      <td>-556,105</td>\n",
       "      <td>443,895</td>\n",
       "      <td>556,000</td>\n",
       "      <td>555,000</td>\n",
       "      <td>998,895</td>\n",
       "      <td>-105</td>\n",
       "      <td>-1,000</td>\n",
       "      <td>-1,105</td>\n",
       "      <td>1,000,000</td>\n",
       "      <td>1,105</td>\n",
       "    </tr>\n",
       "    <tr>\n",
       "      <th>1</th>\n",
       "      <td>2023-01-03</td>\n",
       "      <td>005930</td>\n",
       "      <td>55,400</td>\n",
       "      <td>0</td>\n",
       "      <td>0</td>\n",
       "      <td>0</td>\n",
       "      <td>10</td>\n",
       "      <td>55,600.0000</td>\n",
       "      <td>0</td>\n",
       "      <td>0</td>\n",
       "      <td>0</td>\n",
       "      <td>0</td>\n",
       "      <td>443,895</td>\n",
       "      <td>556,000</td>\n",
       "      <td>554,000</td>\n",
       "      <td>997,895</td>\n",
       "      <td>0</td>\n",
       "      <td>-2,000</td>\n",
       "      <td>-2,105</td>\n",
       "      <td>1,000,000</td>\n",
       "      <td>2,105</td>\n",
       "    </tr>\n",
       "    <tr>\n",
       "      <th>2</th>\n",
       "      <td>2023-01-04</td>\n",
       "      <td>005930</td>\n",
       "      <td>57,800</td>\n",
       "      <td>0</td>\n",
       "      <td>0</td>\n",
       "      <td>0</td>\n",
       "      <td>10</td>\n",
       "      <td>55,600.0000</td>\n",
       "      <td>0</td>\n",
       "      <td>0</td>\n",
       "      <td>0</td>\n",
       "      <td>0</td>\n",
       "      <td>443,895</td>\n",
       "      <td>556,000</td>\n",
       "      <td>578,000</td>\n",
       "      <td>1,021,895</td>\n",
       "      <td>0</td>\n",
       "      <td>22,000</td>\n",
       "      <td>21,895</td>\n",
       "      <td>1,021,895</td>\n",
       "      <td>0</td>\n",
       "    </tr>\n",
       "    <tr>\n",
       "      <th>3</th>\n",
       "      <td>2023-01-05</td>\n",
       "      <td>005930</td>\n",
       "      <td>58,200</td>\n",
       "      <td>0</td>\n",
       "      <td>0</td>\n",
       "      <td>0</td>\n",
       "      <td>10</td>\n",
       "      <td>55,600.0000</td>\n",
       "      <td>0</td>\n",
       "      <td>0</td>\n",
       "      <td>0</td>\n",
       "      <td>0</td>\n",
       "      <td>443,895</td>\n",
       "      <td>556,000</td>\n",
       "      <td>582,000</td>\n",
       "      <td>1,025,895</td>\n",
       "      <td>0</td>\n",
       "      <td>26,000</td>\n",
       "      <td>25,895</td>\n",
       "      <td>1,025,895</td>\n",
       "      <td>0</td>\n",
       "    </tr>\n",
       "    <tr>\n",
       "      <th>4</th>\n",
       "      <td>2023-01-06</td>\n",
       "      <td>005930</td>\n",
       "      <td>59,000</td>\n",
       "      <td>0</td>\n",
       "      <td>0</td>\n",
       "      <td>0</td>\n",
       "      <td>10</td>\n",
       "      <td>55,600.0000</td>\n",
       "      <td>0</td>\n",
       "      <td>0</td>\n",
       "      <td>0</td>\n",
       "      <td>0</td>\n",
       "      <td>443,895</td>\n",
       "      <td>556,000</td>\n",
       "      <td>590,000</td>\n",
       "      <td>1,033,895</td>\n",
       "      <td>0</td>\n",
       "      <td>34,000</td>\n",
       "      <td>33,895</td>\n",
       "      <td>1,033,895</td>\n",
       "      <td>0</td>\n",
       "    </tr>\n",
       "    <tr>\n",
       "      <th>5</th>\n",
       "      <td>2023-01-09</td>\n",
       "      <td>005930</td>\n",
       "      <td>60,700</td>\n",
       "      <td>0</td>\n",
       "      <td>0</td>\n",
       "      <td>0</td>\n",
       "      <td>10</td>\n",
       "      <td>55,600.0000</td>\n",
       "      <td>0</td>\n",
       "      <td>0</td>\n",
       "      <td>0</td>\n",
       "      <td>0</td>\n",
       "      <td>443,895</td>\n",
       "      <td>556,000</td>\n",
       "      <td>607,000</td>\n",
       "      <td>1,050,895</td>\n",
       "      <td>0</td>\n",
       "      <td>51,000</td>\n",
       "      <td>50,895</td>\n",
       "      <td>1,050,895</td>\n",
       "      <td>0</td>\n",
       "    </tr>\n",
       "    <tr>\n",
       "      <th>6</th>\n",
       "      <td>2023-01-10</td>\n",
       "      <td>005930</td>\n",
       "      <td>60,400</td>\n",
       "      <td>0</td>\n",
       "      <td>0</td>\n",
       "      <td>0</td>\n",
       "      <td>10</td>\n",
       "      <td>55,600.0000</td>\n",
       "      <td>0</td>\n",
       "      <td>0</td>\n",
       "      <td>0</td>\n",
       "      <td>0</td>\n",
       "      <td>443,895</td>\n",
       "      <td>556,000</td>\n",
       "      <td>604,000</td>\n",
       "      <td>1,047,895</td>\n",
       "      <td>0</td>\n",
       "      <td>48,000</td>\n",
       "      <td>47,895</td>\n",
       "      <td>1,050,895</td>\n",
       "      <td>3,000</td>\n",
       "    </tr>\n",
       "    <tr>\n",
       "      <th>7</th>\n",
       "      <td>2023-01-11</td>\n",
       "      <td>005930</td>\n",
       "      <td>60,500</td>\n",
       "      <td>-10</td>\n",
       "      <td>-10</td>\n",
       "      <td>60,400</td>\n",
       "      <td>0</td>\n",
       "      <td>0.0000</td>\n",
       "      <td>113</td>\n",
       "      <td>1,208</td>\n",
       "      <td>1,000</td>\n",
       "      <td>602,679</td>\n",
       "      <td>1,046,574</td>\n",
       "      <td>0</td>\n",
       "      <td>0</td>\n",
       "      <td>1,046,574</td>\n",
       "      <td>46,679</td>\n",
       "      <td>0</td>\n",
       "      <td>46,574</td>\n",
       "      <td>1,050,895</td>\n",
       "      <td>4,321</td>\n",
       "    </tr>\n",
       "  </tbody>\n",
       "</table>\n",
       "</div>"
      ],
      "text/plain": [
       "        DATE  SYMBOL   PRICE  ORDER  QTY  TRADE_PRICE  POSITION   AVG_PRICE  \\\n",
       "0 2023-01-02  005930  55,500     10   10       55,600        10 55,600.0000   \n",
       "1 2023-01-03  005930  55,400      0    0            0        10 55,600.0000   \n",
       "2 2023-01-04  005930  57,800      0    0            0        10 55,600.0000   \n",
       "3 2023-01-05  005930  58,200      0    0            0        10 55,600.0000   \n",
       "4 2023-01-06  005930  59,000      0    0            0        10 55,600.0000   \n",
       "5 2023-01-09  005930  60,700      0    0            0        10 55,600.0000   \n",
       "6 2023-01-10  005930  60,400      0    0            0        10 55,600.0000   \n",
       "7 2023-01-11  005930  60,500    -10  -10       60,400         0      0.0000   \n",
       "\n",
       "   FEE  TRADE_TAX  SLIPPAGE  CASHFLOW       CASH  HIST_VALUE  STOCK_VALUE  \\\n",
       "0  105          0     1,000  -556,105    443,895     556,000      555,000   \n",
       "1    0          0         0         0    443,895     556,000      554,000   \n",
       "2    0          0         0         0    443,895     556,000      578,000   \n",
       "3    0          0         0         0    443,895     556,000      582,000   \n",
       "4    0          0         0         0    443,895     556,000      590,000   \n",
       "5    0          0         0         0    443,895     556,000      607,000   \n",
       "6    0          0         0         0    443,895     556,000      604,000   \n",
       "7  113      1,208     1,000   602,679  1,046,574           0            0   \n",
       "\n",
       "   TOTAL_VALUE  REAL_PROFIT  UNREAL_PROFIT  PROFIT  HIGHWATERMARK  DRAWDOWN  \n",
       "0      998,895         -105         -1,000  -1,105      1,000,000     1,105  \n",
       "1      997,895            0         -2,000  -2,105      1,000,000     2,105  \n",
       "2    1,021,895            0         22,000  21,895      1,021,895         0  \n",
       "3    1,025,895            0         26,000  25,895      1,025,895         0  \n",
       "4    1,033,895            0         34,000  33,895      1,033,895         0  \n",
       "5    1,050,895            0         51,000  50,895      1,050,895         0  \n",
       "6    1,047,895            0         48,000  47,895      1,050,895     3,000  \n",
       "7    1,046,574       46,679              0  46,574      1,050,895     4,321  "
      ]
     },
     "execution_count": 11,
     "metadata": {},
     "output_type": "execute_result"
    }
   ],
   "source": [
    "df_result3 = kq.backtest_stock_daily(\n",
    "    \"005930\",\n",
    "    df_order,\n",
    "    init_cash=1_000_000,\n",
    "    broker_fee_percent=0.015,\n",
    "    exchange_fee_percent=0.0036396,\n",
    "    trade_tax_percent=0.20,\n",
    "    slippage_tick=1,\n",
    ")\n",
    "\n",
    "df_result3"
   ]
  },
  {
   "cell_type": "code",
   "execution_count": 12,
   "metadata": {},
   "outputs": [
    {
     "name": "stdout",
     "output_type": "stream",
     "text": [
      "\n",
      "- 증권사 및 유관기관 수수료 218원(매수시 105원, 매도시 113원)\n",
      "- 매도세 1,208원\n",
      "- 슬리피지 2,000원 (매수시 1,000원 + 매도시 1,000원)\n",
      "- 총비용 3,426원\n",
      "- 비용제외수익 48,000원 = (60,400 - 55,600) x 10 = 4,800 x 10\n",
      "- 총수익 46,574원 = 비용제외수익 48,000원 - 총비용 3,426원\n",
      "\n"
     ]
    }
   ],
   "source": [
    "fee_buy = df_result3.FEE.iloc[0]\n",
    "fee_sell = df_result3.FEE.iloc[-1]\n",
    "fee = fee_buy + fee_sell\n",
    "tax = df_result3.TRADE_TAX.iloc[-1]\n",
    "slippage_buy = df_result3.SLIPPAGE.iloc[0]\n",
    "slippage_sell = df_result3.SLIPPAGE.iloc[-1]\n",
    "slippage = slippage_buy + slippage_buy\n",
    "price_buy = df_result3.TRADE_PRICE.iloc[0]\n",
    "price_sell = df_result3.TRADE_PRICE.iloc[-1]\n",
    "simple_profit = (price_sell - price_buy) * 10\n",
    "profit = df_result3.PROFIT.iloc[-1]\n",
    "\n",
    "print(f\"\"\"\n",
    "- 증권사 및 유관기관 수수료 {fee}원(매수시 {fee_buy}원, 매도시 {fee_sell}원)\n",
    "- 매도세 {tax:,}원\n",
    "- 슬리피지 {slippage:,}원 (매수시 {slippage_buy:,}원 + 매도시 {slippage_sell:,}원)\n",
    "- 총비용 {fee + tax + slippage:,}원\n",
    "- 비용제외수익 {simple_profit:,}원 = ({price_sell:,} - {price_buy:,}) x 10 = {price_sell - price_buy:,} x 10\n",
    "- 총수익 {profit:,}원 = 비용제외수익 {simple_profit:,}원 - 총비용 {fee + tax + slippage:,}원\n",
    "\"\"\")"
   ]
  },
  {
   "cell_type": "code",
   "execution_count": 13,
   "metadata": {},
   "outputs": [
    {
     "data": {
      "text/html": [
       "<div>\n",
       "<style scoped>\n",
       "    .dataframe tbody tr th:only-of-type {\n",
       "        vertical-align: middle;\n",
       "    }\n",
       "\n",
       "    .dataframe tbody tr th {\n",
       "        vertical-align: top;\n",
       "    }\n",
       "\n",
       "    .dataframe thead th {\n",
       "        text-align: right;\n",
       "    }\n",
       "</style>\n",
       "<table border=\"1\" class=\"dataframe\">\n",
       "  <thead>\n",
       "    <tr style=\"text-align: right;\">\n",
       "      <th></th>\n",
       "      <th>DATE</th>\n",
       "      <th>ORDER</th>\n",
       "    </tr>\n",
       "  </thead>\n",
       "  <tbody>\n",
       "    <tr>\n",
       "      <th>0</th>\n",
       "      <td>2023-01-02</td>\n",
       "      <td>10</td>\n",
       "    </tr>\n",
       "    <tr>\n",
       "      <th>1</th>\n",
       "      <td>2023-01-03</td>\n",
       "      <td>20</td>\n",
       "    </tr>\n",
       "    <tr>\n",
       "      <th>2</th>\n",
       "      <td>2023-01-04</td>\n",
       "      <td>-15</td>\n",
       "    </tr>\n",
       "  </tbody>\n",
       "</table>\n",
       "</div>"
      ],
      "text/plain": [
       "         DATE  ORDER\n",
       "0  2023-01-02     10\n",
       "1  2023-01-03     20\n",
       "2  2023-01-04    -15"
      ]
     },
     "execution_count": 13,
     "metadata": {},
     "output_type": "execute_result"
    }
   ],
   "source": [
    "df_order4 = pd.DataFrame({\n",
    "    \"DATE\": [\"2023-01-02\", \"2023-01-03\", \"2023-01-04\"],\n",
    "    \"ORDER\": [10, 20, -15]\n",
    "})\n",
    "\n",
    "df_order4"
   ]
  },
  {
   "cell_type": "code",
   "execution_count": 14,
   "metadata": {},
   "outputs": [
    {
     "name": "stderr",
     "output_type": "stream",
     "text": [
      "[2023-01-02] 종목: 005930, 주문전 보유수량:      0 주문수량:     10, 매매수량:     10, 주문후 보유수량:     10\n",
      "[2023-01-03] 종목: 005930, 주문전 보유수량:     10 주문수량:     20, 매매수량:     20, 주문후 보유수량:     30\n",
      "[2023-01-04] 종목: 005930, 주문전 보유수량:     30 주문수량:    -15, 매매수량:    -15, 주문후 보유수량:     15\n"
     ]
    },
    {
     "data": {
      "text/html": [
       "<div>\n",
       "<style scoped>\n",
       "    .dataframe tbody tr th:only-of-type {\n",
       "        vertical-align: middle;\n",
       "    }\n",
       "\n",
       "    .dataframe tbody tr th {\n",
       "        vertical-align: top;\n",
       "    }\n",
       "\n",
       "    .dataframe thead th {\n",
       "        text-align: right;\n",
       "    }\n",
       "</style>\n",
       "<table border=\"1\" class=\"dataframe\">\n",
       "  <thead>\n",
       "    <tr style=\"text-align: right;\">\n",
       "      <th></th>\n",
       "      <th>DATE</th>\n",
       "      <th>SYMBOL</th>\n",
       "      <th>PRICE</th>\n",
       "      <th>ORDER</th>\n",
       "      <th>QTY</th>\n",
       "      <th>TRADE_PRICE</th>\n",
       "      <th>POSITION</th>\n",
       "      <th>AVG_PRICE</th>\n",
       "      <th>FEE</th>\n",
       "      <th>TRADE_TAX</th>\n",
       "      <th>SLIPPAGE</th>\n",
       "      <th>CASHFLOW</th>\n",
       "      <th>CASH</th>\n",
       "      <th>HIST_VALUE</th>\n",
       "      <th>STOCK_VALUE</th>\n",
       "      <th>TOTAL_VALUE</th>\n",
       "      <th>REAL_PROFIT</th>\n",
       "      <th>UNREAL_PROFIT</th>\n",
       "      <th>PROFIT</th>\n",
       "      <th>HIGHWATERMARK</th>\n",
       "      <th>DRAWDOWN</th>\n",
       "    </tr>\n",
       "  </thead>\n",
       "  <tbody>\n",
       "    <tr>\n",
       "      <th>0</th>\n",
       "      <td>2023-01-02</td>\n",
       "      <td>005930</td>\n",
       "      <td>55,500</td>\n",
       "      <td>10</td>\n",
       "      <td>10</td>\n",
       "      <td>55,500</td>\n",
       "      <td>10</td>\n",
       "      <td>55,500.0000</td>\n",
       "      <td>105</td>\n",
       "      <td>0</td>\n",
       "      <td>0</td>\n",
       "      <td>-555,105</td>\n",
       "      <td>9,444,895</td>\n",
       "      <td>555,000</td>\n",
       "      <td>555,000</td>\n",
       "      <td>9,999,895</td>\n",
       "      <td>-105</td>\n",
       "      <td>0</td>\n",
       "      <td>-105</td>\n",
       "      <td>10,000,000</td>\n",
       "      <td>105</td>\n",
       "    </tr>\n",
       "    <tr>\n",
       "      <th>1</th>\n",
       "      <td>2023-01-03</td>\n",
       "      <td>005930</td>\n",
       "      <td>55,400</td>\n",
       "      <td>20</td>\n",
       "      <td>20</td>\n",
       "      <td>55,400</td>\n",
       "      <td>30</td>\n",
       "      <td>55,433.3333</td>\n",
       "      <td>208</td>\n",
       "      <td>0</td>\n",
       "      <td>0</td>\n",
       "      <td>-1,108,208</td>\n",
       "      <td>8,336,687</td>\n",
       "      <td>1,663,000</td>\n",
       "      <td>1,662,000</td>\n",
       "      <td>9,998,687</td>\n",
       "      <td>-208</td>\n",
       "      <td>-1,000</td>\n",
       "      <td>-1,313</td>\n",
       "      <td>10,000,000</td>\n",
       "      <td>1,313</td>\n",
       "    </tr>\n",
       "    <tr>\n",
       "      <th>2</th>\n",
       "      <td>2023-01-04</td>\n",
       "      <td>005930</td>\n",
       "      <td>57,800</td>\n",
       "      <td>-15</td>\n",
       "      <td>-15</td>\n",
       "      <td>57,800</td>\n",
       "      <td>15</td>\n",
       "      <td>55,400.0000</td>\n",
       "      <td>163</td>\n",
       "      <td>1,995</td>\n",
       "      <td>0</td>\n",
       "      <td>864,842</td>\n",
       "      <td>9,201,529</td>\n",
       "      <td>831,000</td>\n",
       "      <td>867,000</td>\n",
       "      <td>10,068,529</td>\n",
       "      <td>32,842</td>\n",
       "      <td>36,000</td>\n",
       "      <td>68,529</td>\n",
       "      <td>10,068,529</td>\n",
       "      <td>0</td>\n",
       "    </tr>\n",
       "  </tbody>\n",
       "</table>\n",
       "</div>"
      ],
      "text/plain": [
       "        DATE  SYMBOL   PRICE  ORDER  QTY  TRADE_PRICE  POSITION   AVG_PRICE  \\\n",
       "0 2023-01-02  005930  55,500     10   10       55,500        10 55,500.0000   \n",
       "1 2023-01-03  005930  55,400     20   20       55,400        30 55,433.3333   \n",
       "2 2023-01-04  005930  57,800    -15  -15       57,800        15 55,400.0000   \n",
       "\n",
       "   FEE  TRADE_TAX  SLIPPAGE    CASHFLOW       CASH  HIST_VALUE  STOCK_VALUE  \\\n",
       "0  105          0         0    -555,105  9,444,895     555,000      555,000   \n",
       "1  208          0         0  -1,108,208  8,336,687   1,663,000    1,662,000   \n",
       "2  163      1,995         0     864,842  9,201,529     831,000      867,000   \n",
       "\n",
       "   TOTAL_VALUE  REAL_PROFIT  UNREAL_PROFIT  PROFIT  HIGHWATERMARK  DRAWDOWN  \n",
       "0    9,999,895         -105              0    -105     10,000,000       105  \n",
       "1    9,998,687         -208         -1,000  -1,313     10,000,000     1,313  \n",
       "2   10,068,529       32,842         36,000  68,529     10,068,529         0  "
      ]
     },
     "execution_count": 14,
     "metadata": {},
     "output_type": "execute_result"
    }
   ],
   "source": [
    "df_result4 = kq.backtest_stock_daily(\n",
    "    \"005930\",\n",
    "    df_order4, \n",
    "    init_cash=10_000_000,\n",
    "    broker_fee_percent=0.015, \n",
    "    exchange_fee_percent=0.0036396,\n",
    "    trade_tax_percent=0.23,\n",
    ")\n",
    "\n",
    "df_result4"
   ]
  },
  {
   "cell_type": "code",
   "execution_count": 15,
   "metadata": {},
   "outputs": [
    {
     "name": "stdout",
     "output_type": "stream",
     "text": [
      "\n",
      "- 1차 매수금액 555,000원 = 매수주가 55,500원 x 매도수량 10주\n",
      "- 2차 매수금액 277,000원 = 매수주가 55,400원 x 매도수량 5주\n",
      "- 총매수금액 832,000원 = 555,000원 + 277,000원\n",
      "- 총매도금액 867,000원 = 매도주가 57,800원 x 매도수량 15주 \n",
      "- 매도세 1,995원 = 총매도금액 867,000원 x 0.23% \n",
      "- 매도수수료 163원 = 총매도금액 867,000원 x 0.015% + 총매도금액 867,000원 x 0.0036396% \n",
      "- 총실현수익 32,842원 = 총매도금액 867,000원 - 총매수금액 832,000원 - 매도세 1,995원 - 매도수수료 163원\n",
      "\n"
     ]
    }
   ],
   "source": [
    "r0 = df_result4.iloc[0]\n",
    "r1 = df_result4.iloc[1]\n",
    "r2 = df_result4.iloc[2]\n",
    "f0 = r0.FEE\n",
    "f1 = r1.FEE\n",
    "f2 = r2.FEE\n",
    "tax = r2.TRADE_TAX\n",
    "cf_sell = r2.TRADE_PRICE * 15\n",
    "cf_buy1 = r0.TRADE_PRICE * 10\n",
    "cf_buy2 = r1.TRADE_PRICE * 5\n",
    "cf_buy = cf_buy1 + cf_buy2\n",
    "r_profit = r2.REAL_PROFIT\n",
    "print(f\"\"\"\n",
    "- 1차 매수금액 {cf_buy1:,}원 = 매수주가 {r0.TRADE_PRICE:,}원 x 매도수량 {abs(r0.QTY):,}주\n",
    "- 2차 매수금액 {cf_buy2:,}원 = 매수주가 {r1.TRADE_PRICE:,}원 x 매도수량 5주\n",
    "- 총매수금액 {cf_buy:,}원 = {cf_buy1:,}원 + {cf_buy2:,}원\n",
    "- 총매도금액 {cf_sell:,}원 = 매도주가 {r2.TRADE_PRICE:,}원 x 매도수량 {abs(r2.QTY):,}주 \n",
    "- 매도세 {tax:,}원 = 총매도금액 {cf_sell:,}원 x 0.23% \n",
    "- 매도수수료 {f2:,}원 = 총매도금액 {cf_sell:,}원 x 0.015% + 총매도금액 {cf_sell:,}원 x 0.0036396% \n",
    "- 총실현수익 {r_profit:,}원 = 총매도금액 {cf_sell:,}원 - 총매수금액 {cf_buy:,}원 - 매도세 {tax:,}원 - 매도수수료 {f2:,}원\n",
    "\"\"\")"
   ]
  },
  {
   "cell_type": "code",
   "execution_count": 16,
   "metadata": {},
   "outputs": [
    {
     "name": "stdout",
     "output_type": "stream",
     "text": [
      "\n",
      "- 보유주식의 현재가치 867,000원 = 현재주가 57,800원 x 보유수량 15주\n",
      "- 보유주식의 역사적가치 831,000원 = 2차매수주가 55,400원 x 2차매수수량 중 잔여수량 15주\n",
      "- 평가손익 36,000원 = 현재가치 867,000원 - 역사적가치 831,000원\n",
      "\n"
     ]
    }
   ],
   "source": [
    "r0 = df_result4.iloc[0]\n",
    "r1 = df_result4.iloc[1]\n",
    "r2 = df_result4.iloc[2]\n",
    "print(f\"\"\"\n",
    "- 보유주식의 현재가치 {r2.STOCK_VALUE:,}원 = 현재주가 {r2.PRICE:,}원 x 보유수량 {r2.POSITION:,}주\n",
    "- 보유주식의 역사적가치 {r2.HIST_VALUE:,}원 = 2차매수주가 {r1.TRADE_PRICE:,}원 x 2차매수수량 중 잔여수량 15주\n",
    "- 평가손익 {r2.UNREAL_PROFIT:,}원 = 현재가치 {r2.STOCK_VALUE:,}원 - 역사적가치 {r2.HIST_VALUE:,}원\n",
    "\"\"\")"
   ]
  },
  {
   "cell_type": "code",
   "execution_count": 17,
   "metadata": {},
   "outputs": [
    {
     "name": "stdout",
     "output_type": "stream",
     "text": [
      "\n",
      "- 2023-01-02 실현손익 -105원\n",
      "- 2023-01-03 실현손익 -208원\n",
      "- 2023-01-04 실현손익 32,842원\n",
      "- 실현손익 누적 32,529원 = (-105원) + (-208원) + 32,842원\n",
      "- 2023-01-04 평가손익 36,000원\n",
      "- 2023-01-04 총손익 68,529원 = \"32,529원 + 36,000원\"\n",
      "\n"
     ]
    }
   ],
   "source": [
    "r0 = df_result4.iloc[0]\n",
    "r1 = df_result4.iloc[1]\n",
    "r2 = df_result4.iloc[2]\n",
    "all_real = r0.REAL_PROFIT + r1.REAL_PROFIT + r2.REAL_PROFIT\n",
    "print(f\"\"\"\n",
    "- {r0.DATE.strftime('%Y-%m-%d')} 실현손익 {r0.REAL_PROFIT:,}원\n",
    "- {r1.DATE.strftime('%Y-%m-%d')} 실현손익 {r1.REAL_PROFIT:,}원\n",
    "- {r2.DATE.strftime('%Y-%m-%d')} 실현손익 {r2.REAL_PROFIT:,}원\n",
    "- 실현손익 누적 {all_real:,}원 = ({r0.REAL_PROFIT:,}원) + ({r1.REAL_PROFIT:,}원) + {r2.REAL_PROFIT:,}원\n",
    "- {r2.DATE.strftime('%Y-%m-%d')} 평가손익 {r2.UNREAL_PROFIT:,}원\n",
    "- {r2.DATE.strftime('%Y-%m-%d')} 총손익 {r2.PROFIT:,}원 = \"{all_real:,}원 + {r2.UNREAL_PROFIT:,}원\"\n",
    "\"\"\")"
   ]
  },
  {
   "cell_type": "code",
   "execution_count": 18,
   "metadata": {},
   "outputs": [
    {
     "data": {
      "text/html": [
       "<div>\n",
       "<style scoped>\n",
       "    .dataframe tbody tr th:only-of-type {\n",
       "        vertical-align: middle;\n",
       "    }\n",
       "\n",
       "    .dataframe tbody tr th {\n",
       "        vertical-align: top;\n",
       "    }\n",
       "\n",
       "    .dataframe thead th {\n",
       "        text-align: right;\n",
       "    }\n",
       "</style>\n",
       "<table border=\"1\" class=\"dataframe\">\n",
       "  <thead>\n",
       "    <tr style=\"text-align: right;\">\n",
       "      <th></th>\n",
       "      <th>DATE</th>\n",
       "      <th>ORDER</th>\n",
       "    </tr>\n",
       "  </thead>\n",
       "  <tbody>\n",
       "    <tr>\n",
       "      <th>0</th>\n",
       "      <td>2023-01-02</td>\n",
       "      <td>-10</td>\n",
       "    </tr>\n",
       "    <tr>\n",
       "      <th>1</th>\n",
       "      <td>2023-01-03</td>\n",
       "      <td>10</td>\n",
       "    </tr>\n",
       "    <tr>\n",
       "      <th>2</th>\n",
       "      <td>2023-01-04</td>\n",
       "      <td>-20</td>\n",
       "    </tr>\n",
       "    <tr>\n",
       "      <th>3</th>\n",
       "      <td>2023-01-05</td>\n",
       "      <td>10</td>\n",
       "    </tr>\n",
       "  </tbody>\n",
       "</table>\n",
       "</div>"
      ],
      "text/plain": [
       "         DATE  ORDER\n",
       "0  2023-01-02    -10\n",
       "1  2023-01-03     10\n",
       "2  2023-01-04    -20\n",
       "3  2023-01-05     10"
      ]
     },
     "execution_count": 18,
     "metadata": {},
     "output_type": "execute_result"
    }
   ],
   "source": [
    "df_order5 = pd.DataFrame({\n",
    "    \"DATE\": [\"2023-01-02\", \"2023-01-03\", \"2023-01-04\", \"2023-01-05\"],\n",
    "    \"ORDER\": [-10, 10, -20, 10]\n",
    "})\n",
    "\n",
    "df_order5"
   ]
  },
  {
   "cell_type": "code",
   "execution_count": 19,
   "metadata": {},
   "outputs": [
    {
     "name": "stderr",
     "output_type": "stream",
     "text": [
      "[2023-01-02] <KQuantNotAllowShort> 공매도 금지 오류: 매도 수량이 현재 보유수량보다 큼\n",
      "[2023-01-02] 종목: 005930, 주문전 보유수량:      0 주문수량:    -10, 매매수량:      0, 주문후 보유수량:      0\n",
      "[2023-01-03] 종목: 005930, 주문전 보유수량:      0 주문수량:     10, 매매수량:     10, 주문후 보유수량:     10\n",
      "[2023-01-04] <KQuantNotAllowShort> 공매도 금지 오류: 매도 수량이 현재 보유수량보다 큼\n",
      "[2023-01-04] 종목: 005930, 주문전 보유수량:     10 주문수량:    -20, 매매수량:      0, 주문후 보유수량:     10\n",
      "[2023-01-05] <KQuantNotAllowLoan> 융자 금지 오류: 매매가능 현금 미보유\n",
      "[2023-01-05] 종목: 005930, 주문전 보유수량:     10 주문수량:     10, 매매수량:      0, 주문후 보유수량:     10\n"
     ]
    },
    {
     "data": {
      "text/html": [
       "<div>\n",
       "<style scoped>\n",
       "    .dataframe tbody tr th:only-of-type {\n",
       "        vertical-align: middle;\n",
       "    }\n",
       "\n",
       "    .dataframe tbody tr th {\n",
       "        vertical-align: top;\n",
       "    }\n",
       "\n",
       "    .dataframe thead th {\n",
       "        text-align: right;\n",
       "    }\n",
       "</style>\n",
       "<table border=\"1\" class=\"dataframe\">\n",
       "  <thead>\n",
       "    <tr style=\"text-align: right;\">\n",
       "      <th></th>\n",
       "      <th>DATE</th>\n",
       "      <th>SYMBOL</th>\n",
       "      <th>PRICE</th>\n",
       "      <th>ORDER</th>\n",
       "      <th>QTY</th>\n",
       "      <th>TRADE_PRICE</th>\n",
       "      <th>POSITION</th>\n",
       "      <th>AVG_PRICE</th>\n",
       "      <th>FEE</th>\n",
       "      <th>TRADE_TAX</th>\n",
       "      <th>SLIPPAGE</th>\n",
       "      <th>CASHFLOW</th>\n",
       "      <th>CASH</th>\n",
       "      <th>HIST_VALUE</th>\n",
       "      <th>STOCK_VALUE</th>\n",
       "      <th>TOTAL_VALUE</th>\n",
       "      <th>REAL_PROFIT</th>\n",
       "      <th>UNREAL_PROFIT</th>\n",
       "      <th>PROFIT</th>\n",
       "      <th>HIGHWATERMARK</th>\n",
       "      <th>DRAWDOWN</th>\n",
       "    </tr>\n",
       "  </thead>\n",
       "  <tbody>\n",
       "    <tr>\n",
       "      <th>0</th>\n",
       "      <td>2023-01-02</td>\n",
       "      <td>005930</td>\n",
       "      <td>55,500</td>\n",
       "      <td>-10</td>\n",
       "      <td>0</td>\n",
       "      <td>0</td>\n",
       "      <td>0</td>\n",
       "      <td>0.0000</td>\n",
       "      <td>0</td>\n",
       "      <td>0</td>\n",
       "      <td>0</td>\n",
       "      <td>0</td>\n",
       "      <td>600,000</td>\n",
       "      <td>0</td>\n",
       "      <td>0</td>\n",
       "      <td>600,000</td>\n",
       "      <td>0</td>\n",
       "      <td>0</td>\n",
       "      <td>0</td>\n",
       "      <td>600,000</td>\n",
       "      <td>0</td>\n",
       "    </tr>\n",
       "    <tr>\n",
       "      <th>1</th>\n",
       "      <td>2023-01-03</td>\n",
       "      <td>005930</td>\n",
       "      <td>55,400</td>\n",
       "      <td>10</td>\n",
       "      <td>10</td>\n",
       "      <td>55,400</td>\n",
       "      <td>10</td>\n",
       "      <td>55,400.0000</td>\n",
       "      <td>0</td>\n",
       "      <td>0</td>\n",
       "      <td>0</td>\n",
       "      <td>-554,000</td>\n",
       "      <td>46,000</td>\n",
       "      <td>554,000</td>\n",
       "      <td>554,000</td>\n",
       "      <td>600,000</td>\n",
       "      <td>0</td>\n",
       "      <td>0</td>\n",
       "      <td>0</td>\n",
       "      <td>600,000</td>\n",
       "      <td>0</td>\n",
       "    </tr>\n",
       "    <tr>\n",
       "      <th>2</th>\n",
       "      <td>2023-01-04</td>\n",
       "      <td>005930</td>\n",
       "      <td>57,800</td>\n",
       "      <td>-20</td>\n",
       "      <td>0</td>\n",
       "      <td>0</td>\n",
       "      <td>10</td>\n",
       "      <td>55,400.0000</td>\n",
       "      <td>0</td>\n",
       "      <td>0</td>\n",
       "      <td>0</td>\n",
       "      <td>0</td>\n",
       "      <td>46,000</td>\n",
       "      <td>554,000</td>\n",
       "      <td>578,000</td>\n",
       "      <td>624,000</td>\n",
       "      <td>0</td>\n",
       "      <td>24,000</td>\n",
       "      <td>24,000</td>\n",
       "      <td>624,000</td>\n",
       "      <td>0</td>\n",
       "    </tr>\n",
       "    <tr>\n",
       "      <th>3</th>\n",
       "      <td>2023-01-05</td>\n",
       "      <td>005930</td>\n",
       "      <td>58,200</td>\n",
       "      <td>10</td>\n",
       "      <td>0</td>\n",
       "      <td>0</td>\n",
       "      <td>10</td>\n",
       "      <td>55,400.0000</td>\n",
       "      <td>0</td>\n",
       "      <td>0</td>\n",
       "      <td>0</td>\n",
       "      <td>0</td>\n",
       "      <td>46,000</td>\n",
       "      <td>554,000</td>\n",
       "      <td>582,000</td>\n",
       "      <td>628,000</td>\n",
       "      <td>0</td>\n",
       "      <td>28,000</td>\n",
       "      <td>28,000</td>\n",
       "      <td>628,000</td>\n",
       "      <td>0</td>\n",
       "    </tr>\n",
       "  </tbody>\n",
       "</table>\n",
       "</div>"
      ],
      "text/plain": [
       "        DATE  SYMBOL   PRICE  ORDER  QTY  TRADE_PRICE  POSITION   AVG_PRICE  \\\n",
       "0 2023-01-02  005930  55,500    -10    0            0         0      0.0000   \n",
       "1 2023-01-03  005930  55,400     10   10       55,400        10 55,400.0000   \n",
       "2 2023-01-04  005930  57,800    -20    0            0        10 55,400.0000   \n",
       "3 2023-01-05  005930  58,200     10    0            0        10 55,400.0000   \n",
       "\n",
       "   FEE  TRADE_TAX  SLIPPAGE  CASHFLOW     CASH  HIST_VALUE  STOCK_VALUE  \\\n",
       "0    0          0         0         0  600,000           0            0   \n",
       "1    0          0         0  -554,000   46,000     554,000      554,000   \n",
       "2    0          0         0         0   46,000     554,000      578,000   \n",
       "3    0          0         0         0   46,000     554,000      582,000   \n",
       "\n",
       "   TOTAL_VALUE  REAL_PROFIT  UNREAL_PROFIT  PROFIT  HIGHWATERMARK  DRAWDOWN  \n",
       "0      600,000            0              0       0        600,000         0  \n",
       "1      600,000            0              0       0        600,000         0  \n",
       "2      624,000            0         24,000  24,000        624,000         0  \n",
       "3      628,000            0         28,000  28,000        628,000         0  "
      ]
     },
     "execution_count": 19,
     "metadata": {},
     "output_type": "execute_result"
    }
   ],
   "source": [
    "kq.backtest_stock_daily(\"005930\", df_order5, init_cash=600_000)"
   ]
  },
  {
   "cell_type": "code",
   "execution_count": 20,
   "metadata": {},
   "outputs": [
    {
     "name": "stderr",
     "output_type": "stream",
     "text": [
      "[2023-01-02] 종목: 005930, 주문전 보유수량:      0 주문수량:     10, 매매수량:     10, 주문후 보유수량:     10\n",
      "[2023-01-03] 종목: 005930, 주문전 보유수량:     10 주문수량:     10, 매매수량:     10, 주문후 보유수량:     20\n"
     ]
    }
   ],
   "source": [
    "df_order6 = pd.DataFrame({\n",
    "    \"DATE\": [\"2023-01-02\", \"2023-01-03\"],\n",
    "    \"ORDER\": [10, 10]\n",
    "})\n",
    "\n",
    "df_result6, df_position6 = kq.backtest_stock_daily(\n",
    "    \"005930\", \n",
    "    df_order6, \n",
    "    init_cash=10_000_000, \n",
    "    return_position=True,\n",
    ")"
   ]
  },
  {
   "cell_type": "code",
   "execution_count": 21,
   "metadata": {},
   "outputs": [
    {
     "data": {
      "text/html": [
       "<div>\n",
       "<style scoped>\n",
       "    .dataframe tbody tr th:only-of-type {\n",
       "        vertical-align: middle;\n",
       "    }\n",
       "\n",
       "    .dataframe tbody tr th {\n",
       "        vertical-align: top;\n",
       "    }\n",
       "\n",
       "    .dataframe thead th {\n",
       "        text-align: right;\n",
       "    }\n",
       "</style>\n",
       "<table border=\"1\" class=\"dataframe\">\n",
       "  <thead>\n",
       "    <tr style=\"text-align: right;\">\n",
       "      <th></th>\n",
       "      <th>DATE</th>\n",
       "      <th>SYMBOL</th>\n",
       "      <th>PRICE</th>\n",
       "      <th>ORDER</th>\n",
       "      <th>QTY</th>\n",
       "      <th>TRADE_PRICE</th>\n",
       "      <th>POSITION</th>\n",
       "      <th>AVG_PRICE</th>\n",
       "      <th>FEE</th>\n",
       "      <th>TRADE_TAX</th>\n",
       "      <th>SLIPPAGE</th>\n",
       "      <th>CASHFLOW</th>\n",
       "      <th>CASH</th>\n",
       "      <th>HIST_VALUE</th>\n",
       "      <th>STOCK_VALUE</th>\n",
       "      <th>TOTAL_VALUE</th>\n",
       "      <th>REAL_PROFIT</th>\n",
       "      <th>UNREAL_PROFIT</th>\n",
       "      <th>PROFIT</th>\n",
       "      <th>HIGHWATERMARK</th>\n",
       "      <th>DRAWDOWN</th>\n",
       "    </tr>\n",
       "  </thead>\n",
       "  <tbody>\n",
       "    <tr>\n",
       "      <th>0</th>\n",
       "      <td>2023-01-02</td>\n",
       "      <td>005930</td>\n",
       "      <td>55,500</td>\n",
       "      <td>10</td>\n",
       "      <td>10</td>\n",
       "      <td>55,500</td>\n",
       "      <td>10</td>\n",
       "      <td>55,500.0000</td>\n",
       "      <td>0</td>\n",
       "      <td>0</td>\n",
       "      <td>0</td>\n",
       "      <td>-555,000</td>\n",
       "      <td>9,445,000</td>\n",
       "      <td>555,000</td>\n",
       "      <td>555,000</td>\n",
       "      <td>10,000,000</td>\n",
       "      <td>0</td>\n",
       "      <td>0</td>\n",
       "      <td>0</td>\n",
       "      <td>10,000,000</td>\n",
       "      <td>0</td>\n",
       "    </tr>\n",
       "    <tr>\n",
       "      <th>1</th>\n",
       "      <td>2023-01-03</td>\n",
       "      <td>005930</td>\n",
       "      <td>55,400</td>\n",
       "      <td>10</td>\n",
       "      <td>10</td>\n",
       "      <td>55,400</td>\n",
       "      <td>20</td>\n",
       "      <td>55,450.0000</td>\n",
       "      <td>0</td>\n",
       "      <td>0</td>\n",
       "      <td>0</td>\n",
       "      <td>-554,000</td>\n",
       "      <td>8,891,000</td>\n",
       "      <td>1,109,000</td>\n",
       "      <td>1,108,000</td>\n",
       "      <td>9,999,000</td>\n",
       "      <td>0</td>\n",
       "      <td>-1,000</td>\n",
       "      <td>-1,000</td>\n",
       "      <td>10,000,000</td>\n",
       "      <td>1,000</td>\n",
       "    </tr>\n",
       "  </tbody>\n",
       "</table>\n",
       "</div>"
      ],
      "text/plain": [
       "        DATE  SYMBOL   PRICE  ORDER  QTY  TRADE_PRICE  POSITION   AVG_PRICE  \\\n",
       "0 2023-01-02  005930  55,500     10   10       55,500        10 55,500.0000   \n",
       "1 2023-01-03  005930  55,400     10   10       55,400        20 55,450.0000   \n",
       "\n",
       "   FEE  TRADE_TAX  SLIPPAGE  CASHFLOW       CASH  HIST_VALUE  STOCK_VALUE  \\\n",
       "0    0          0         0  -555,000  9,445,000     555,000      555,000   \n",
       "1    0          0         0  -554,000  8,891,000   1,109,000    1,108,000   \n",
       "\n",
       "   TOTAL_VALUE  REAL_PROFIT  UNREAL_PROFIT  PROFIT  HIGHWATERMARK  DRAWDOWN  \n",
       "0   10,000,000            0              0       0     10,000,000         0  \n",
       "1    9,999,000            0         -1,000  -1,000     10,000,000     1,000  "
      ]
     },
     "execution_count": 21,
     "metadata": {},
     "output_type": "execute_result"
    }
   ],
   "source": [
    "df_result6"
   ]
  },
  {
   "cell_type": "code",
   "execution_count": 22,
   "metadata": {},
   "outputs": [
    {
     "data": {
      "text/html": [
       "<div>\n",
       "<style scoped>\n",
       "    .dataframe tbody tr th:only-of-type {\n",
       "        vertical-align: middle;\n",
       "    }\n",
       "\n",
       "    .dataframe tbody tr th {\n",
       "        vertical-align: top;\n",
       "    }\n",
       "\n",
       "    .dataframe thead th {\n",
       "        text-align: right;\n",
       "    }\n",
       "</style>\n",
       "<table border=\"1\" class=\"dataframe\">\n",
       "  <thead>\n",
       "    <tr style=\"text-align: right;\">\n",
       "      <th></th>\n",
       "      <th>DATE</th>\n",
       "      <th>SYMBOL</th>\n",
       "      <th>QTY</th>\n",
       "      <th>TRADE_PRICE</th>\n",
       "      <th>HIST_VALUE</th>\n",
       "      <th>FEE</th>\n",
       "      <th>NOT_DELETE</th>\n",
       "    </tr>\n",
       "  </thead>\n",
       "  <tbody>\n",
       "    <tr>\n",
       "      <th>0</th>\n",
       "      <td>2023-01-02</td>\n",
       "      <td>005930</td>\n",
       "      <td>10</td>\n",
       "      <td>55,500</td>\n",
       "      <td>555,000</td>\n",
       "      <td>0</td>\n",
       "      <td>True</td>\n",
       "    </tr>\n",
       "    <tr>\n",
       "      <th>1</th>\n",
       "      <td>2023-01-03</td>\n",
       "      <td>005930</td>\n",
       "      <td>10</td>\n",
       "      <td>55,400</td>\n",
       "      <td>554,000</td>\n",
       "      <td>0</td>\n",
       "      <td>True</td>\n",
       "    </tr>\n",
       "  </tbody>\n",
       "</table>\n",
       "</div>"
      ],
      "text/plain": [
       "        DATE  SYMBOL  QTY  TRADE_PRICE  HIST_VALUE  FEE  NOT_DELETE\n",
       "0 2023-01-02  005930   10       55,500     555,000    0        True\n",
       "1 2023-01-03  005930   10       55,400     554,000    0        True"
      ]
     },
     "execution_count": 22,
     "metadata": {},
     "output_type": "execute_result"
    }
   ],
   "source": [
    "df_position6"
   ]
  },
  {
   "cell_type": "code",
   "execution_count": 23,
   "metadata": {},
   "outputs": [
    {
     "name": "stderr",
     "output_type": "stream",
     "text": [
      "[2023-01-04] 종목: 005930, 주문전 보유수량:     20 주문수량:    -15, 매매수량:    -15, 주문후 보유수량:      5\n"
     ]
    }
   ],
   "source": [
    "df_result7, df_position7 = kq.backtest_update_stock_daily(\n",
    "    \"005930\", \n",
    "    -15, \n",
    "    \"2023-01-04\", \n",
    "    df_result6, \n",
    "    df_position6,\n",
    ")"
   ]
  },
  {
   "cell_type": "code",
   "execution_count": 24,
   "metadata": {},
   "outputs": [
    {
     "data": {
      "text/html": [
       "<div>\n",
       "<style scoped>\n",
       "    .dataframe tbody tr th:only-of-type {\n",
       "        vertical-align: middle;\n",
       "    }\n",
       "\n",
       "    .dataframe tbody tr th {\n",
       "        vertical-align: top;\n",
       "    }\n",
       "\n",
       "    .dataframe thead th {\n",
       "        text-align: right;\n",
       "    }\n",
       "</style>\n",
       "<table border=\"1\" class=\"dataframe\">\n",
       "  <thead>\n",
       "    <tr style=\"text-align: right;\">\n",
       "      <th></th>\n",
       "      <th>DATE</th>\n",
       "      <th>SYMBOL</th>\n",
       "      <th>PRICE</th>\n",
       "      <th>ORDER</th>\n",
       "      <th>QTY</th>\n",
       "      <th>TRADE_PRICE</th>\n",
       "      <th>POSITION</th>\n",
       "      <th>AVG_PRICE</th>\n",
       "      <th>FEE</th>\n",
       "      <th>TRADE_TAX</th>\n",
       "      <th>SLIPPAGE</th>\n",
       "      <th>CASHFLOW</th>\n",
       "      <th>CASH</th>\n",
       "      <th>HIST_VALUE</th>\n",
       "      <th>STOCK_VALUE</th>\n",
       "      <th>TOTAL_VALUE</th>\n",
       "      <th>REAL_PROFIT</th>\n",
       "      <th>UNREAL_PROFIT</th>\n",
       "      <th>PROFIT</th>\n",
       "      <th>HIGHWATERMARK</th>\n",
       "      <th>DRAWDOWN</th>\n",
       "    </tr>\n",
       "  </thead>\n",
       "  <tbody>\n",
       "    <tr>\n",
       "      <th>0</th>\n",
       "      <td>2023-01-02</td>\n",
       "      <td>005930</td>\n",
       "      <td>55,500</td>\n",
       "      <td>10</td>\n",
       "      <td>10</td>\n",
       "      <td>55,500</td>\n",
       "      <td>10</td>\n",
       "      <td>55,500.0000</td>\n",
       "      <td>0</td>\n",
       "      <td>0</td>\n",
       "      <td>0</td>\n",
       "      <td>-555,000</td>\n",
       "      <td>9,445,000</td>\n",
       "      <td>555,000</td>\n",
       "      <td>555,000</td>\n",
       "      <td>10,000,000</td>\n",
       "      <td>0</td>\n",
       "      <td>0</td>\n",
       "      <td>0</td>\n",
       "      <td>10,000,000</td>\n",
       "      <td>0</td>\n",
       "    </tr>\n",
       "    <tr>\n",
       "      <th>1</th>\n",
       "      <td>2023-01-03</td>\n",
       "      <td>005930</td>\n",
       "      <td>55,400</td>\n",
       "      <td>10</td>\n",
       "      <td>10</td>\n",
       "      <td>55,400</td>\n",
       "      <td>20</td>\n",
       "      <td>55,450.0000</td>\n",
       "      <td>0</td>\n",
       "      <td>0</td>\n",
       "      <td>0</td>\n",
       "      <td>-554,000</td>\n",
       "      <td>8,891,000</td>\n",
       "      <td>1,109,000</td>\n",
       "      <td>1,108,000</td>\n",
       "      <td>9,999,000</td>\n",
       "      <td>0</td>\n",
       "      <td>-1,000</td>\n",
       "      <td>-1,000</td>\n",
       "      <td>10,000,000</td>\n",
       "      <td>1,000</td>\n",
       "    </tr>\n",
       "    <tr>\n",
       "      <th>2</th>\n",
       "      <td>2023-01-04</td>\n",
       "      <td>005930</td>\n",
       "      <td>57,800</td>\n",
       "      <td>-15</td>\n",
       "      <td>-15</td>\n",
       "      <td>57,800</td>\n",
       "      <td>5</td>\n",
       "      <td>55,400.0000</td>\n",
       "      <td>0</td>\n",
       "      <td>0</td>\n",
       "      <td>0</td>\n",
       "      <td>867,000</td>\n",
       "      <td>9,758,000</td>\n",
       "      <td>277,000</td>\n",
       "      <td>289,000</td>\n",
       "      <td>10,047,000</td>\n",
       "      <td>35,000</td>\n",
       "      <td>12,000</td>\n",
       "      <td>47,000</td>\n",
       "      <td>10,047,000</td>\n",
       "      <td>0</td>\n",
       "    </tr>\n",
       "  </tbody>\n",
       "</table>\n",
       "</div>"
      ],
      "text/plain": [
       "        DATE  SYMBOL   PRICE  ORDER  QTY  TRADE_PRICE  POSITION   AVG_PRICE  \\\n",
       "0 2023-01-02  005930  55,500     10   10       55,500        10 55,500.0000   \n",
       "1 2023-01-03  005930  55,400     10   10       55,400        20 55,450.0000   \n",
       "2 2023-01-04  005930  57,800    -15  -15       57,800         5 55,400.0000   \n",
       "\n",
       "   FEE  TRADE_TAX  SLIPPAGE  CASHFLOW       CASH  HIST_VALUE  STOCK_VALUE  \\\n",
       "0    0          0         0  -555,000  9,445,000     555,000      555,000   \n",
       "1    0          0         0  -554,000  8,891,000   1,109,000    1,108,000   \n",
       "2    0          0         0   867,000  9,758,000     277,000      289,000   \n",
       "\n",
       "   TOTAL_VALUE  REAL_PROFIT  UNREAL_PROFIT  PROFIT  HIGHWATERMARK  DRAWDOWN  \n",
       "0   10,000,000            0              0       0     10,000,000         0  \n",
       "1    9,999,000            0         -1,000  -1,000     10,000,000     1,000  \n",
       "2   10,047,000       35,000         12,000  47,000     10,047,000         0  "
      ]
     },
     "execution_count": 24,
     "metadata": {},
     "output_type": "execute_result"
    }
   ],
   "source": [
    "df_result7"
   ]
  },
  {
   "cell_type": "code",
   "execution_count": 25,
   "metadata": {},
   "outputs": [
    {
     "data": {
      "text/html": [
       "<div>\n",
       "<style scoped>\n",
       "    .dataframe tbody tr th:only-of-type {\n",
       "        vertical-align: middle;\n",
       "    }\n",
       "\n",
       "    .dataframe tbody tr th {\n",
       "        vertical-align: top;\n",
       "    }\n",
       "\n",
       "    .dataframe thead th {\n",
       "        text-align: right;\n",
       "    }\n",
       "</style>\n",
       "<table border=\"1\" class=\"dataframe\">\n",
       "  <thead>\n",
       "    <tr style=\"text-align: right;\">\n",
       "      <th></th>\n",
       "      <th>DATE</th>\n",
       "      <th>SYMBOL</th>\n",
       "      <th>QTY</th>\n",
       "      <th>TRADE_PRICE</th>\n",
       "      <th>HIST_VALUE</th>\n",
       "      <th>FEE</th>\n",
       "      <th>NOT_DELETE</th>\n",
       "    </tr>\n",
       "  </thead>\n",
       "  <tbody>\n",
       "    <tr>\n",
       "      <th>0</th>\n",
       "      <td>2023-01-03</td>\n",
       "      <td>005930</td>\n",
       "      <td>5</td>\n",
       "      <td>55,400</td>\n",
       "      <td>831,000</td>\n",
       "      <td>0</td>\n",
       "      <td>True</td>\n",
       "    </tr>\n",
       "  </tbody>\n",
       "</table>\n",
       "</div>"
      ],
      "text/plain": [
       "        DATE  SYMBOL  QTY  TRADE_PRICE  HIST_VALUE  FEE  NOT_DELETE\n",
       "0 2023-01-03  005930    5       55,400     831,000    0        True"
      ]
     },
     "execution_count": 25,
     "metadata": {},
     "output_type": "execute_result"
    }
   ],
   "source": [
    "df_position7"
   ]
  },
  {
   "cell_type": "code",
   "execution_count": 26,
   "metadata": {},
   "outputs": [],
   "source": [
    "import pandas as pd\n",
    "import datetime as dt\n",
    "import logging\n",
    "\n",
    "def trade_func(\n",
    "    symbol: str,\n",
    "    date: dt.date,\n",
    "    df_result: pd.DataFrame,\n",
    "    df_position: pd.DataFrame,\n",
    "    logger: logging.Logger,\n",
    ") -> int:\n",
    "    \n",
    "    # 보유주식이 없는 경우\n",
    "    if len(df_position) == 0:\n",
    "        \n",
    "        # 2일간 주가 수익률 계산\n",
    "        start_date = date - dt.timedelta(days=10) \n",
    "        price = kq.daily_stock(symbol, start_date, date).CLOSE\n",
    "        price_cur = price.iloc[-1]\n",
    "        price_2daysago = price.iloc[-3]\n",
    "        return_2days = price_cur / price_2daysago - 1\n",
    "\n",
    "        if return_2days > 0.03:\n",
    "            return 1\n",
    "        else:\n",
    "            return 0\n",
    "        \n",
    "    # 보유주식이 있는 경우\n",
    "    else:\n",
    "        \n",
    "        # 수익률 계산\n",
    "        trade_price = df_position.iloc[-1].TRADE_PRICE\n",
    "        profit = df_result.iloc[-1].PROFIT\n",
    "        profit_pct = profit / trade_price\n",
    "        \n",
    "        if abs(profit_pct) > 0.03:\n",
    "            return int(-df_position.iloc[-1].QTY)\n",
    "        else:\n",
    "            return 0\n",
    "    \n"
   ]
  },
  {
   "cell_type": "code",
   "execution_count": 27,
   "metadata": {},
   "outputs": [
    {
     "name": "stderr",
     "output_type": "stream",
     "text": [
      "[2023-01-04] 종목: 005930, 주문전 보유수량:      0 주문수량:      1, 매매수량:      1, 주문후 보유수량:      1\n",
      "[2023-01-10] 종목: 005930, 주문전 보유수량:      1 주문수량:     -1, 매매수량:     -1, 주문후 보유수량:      0\n",
      "[2023-01-25] 종목: 005930, 주문전 보유수량:      0 주문수량:      1, 매매수량:      1, 주문후 보유수량:      1\n",
      "[2023-01-26] 종목: 005930, 주문전 보유수량:      1 주문수량:     -1, 매매수량:     -1, 주문후 보유수량:      0\n"
     ]
    }
   ],
   "source": [
    "df_result8 = kq.backtest_stock_daily(\n",
    "    \"005930\", \n",
    "    trade_func,\n",
    "    \"2023-01-02\", \n",
    "    \"2023-01-31\", \n",
    "    init_cash=100_000,\n",
    ")"
   ]
  },
  {
   "cell_type": "code",
   "execution_count": 28,
   "metadata": {},
   "outputs": [
    {
     "data": {
      "application/vnd.plotly.v1+json": {
       "config": {
        "displaylogo": false,
        "modeBarButtonsToRemove": [
         "resetScale2d",
         "lasso2d",
         "zoomIn2d",
         "zoomOut2d",
         "select2d"
        ],
        "plotlyServerURL": "https://plot.ly",
        "responsive": true
       },
       "data": [
        {
         "marker": {
          "color": "#000000"
         },
         "mode": "lines",
         "name": "가격",
         "type": "scatter",
         "x": [
          "2023-01-02T00:00:00",
          "2023-01-03T00:00:00",
          "2023-01-04T00:00:00",
          "2023-01-05T00:00:00",
          "2023-01-06T00:00:00",
          "2023-01-09T00:00:00",
          "2023-01-10T00:00:00",
          "2023-01-11T00:00:00",
          "2023-01-12T00:00:00",
          "2023-01-13T00:00:00",
          "2023-01-16T00:00:00",
          "2023-01-17T00:00:00",
          "2023-01-18T00:00:00",
          "2023-01-19T00:00:00",
          "2023-01-20T00:00:00",
          "2023-01-25T00:00:00",
          "2023-01-26T00:00:00",
          "2023-01-27T00:00:00",
          "2023-01-30T00:00:00",
          "2023-01-31T00:00:00"
         ],
         "xaxis": "x5",
         "y": [
          55500,
          55400,
          57800,
          58200,
          59000,
          60700,
          60400,
          60500,
          60500,
          60800,
          61100,
          61000,
          60400,
          61500,
          61800,
          63400,
          63900,
          64600,
          63300,
          61000
         ],
         "yaxis": "y"
        },
        {
         "marker": {
          "color": "#DC143C",
          "line": {
           "color": "white",
           "width": 1
          },
          "size": 12,
          "symbol": "triangle-up"
         },
         "mode": "markers",
         "name": "매수",
         "type": "scatter",
         "x": [
          "2023-01-04T00:00:00",
          "2023-01-25T00:00:00"
         ],
         "xaxis": "x5",
         "y": [
          57800,
          63400
         ],
         "yaxis": "y"
        },
        {
         "marker": {
          "color": "#00008B",
          "line": {
           "color": "white",
           "width": 1
          },
          "size": 12,
          "symbol": "triangle-down"
         },
         "mode": "markers",
         "name": "매도",
         "type": "scatter",
         "x": [
          "2023-01-10T00:00:00",
          "2023-01-26T00:00:00"
         ],
         "xaxis": "x5",
         "y": [
          60400,
          63900
         ],
         "yaxis": "y"
        },
        {
         "fill": "tozeroy",
         "fillcolor": "lightgray",
         "line": {
          "color": "#000000",
          "shape": "hv"
         },
         "mode": "lines",
         "name": "잔고수량",
         "type": "scatter",
         "x": [
          "2023-01-02T00:00:00",
          "2023-01-03T00:00:00",
          "2023-01-04T00:00:00",
          "2023-01-05T00:00:00",
          "2023-01-06T00:00:00",
          "2023-01-09T00:00:00",
          "2023-01-10T00:00:00",
          "2023-01-11T00:00:00",
          "2023-01-12T00:00:00",
          "2023-01-13T00:00:00",
          "2023-01-16T00:00:00",
          "2023-01-17T00:00:00",
          "2023-01-18T00:00:00",
          "2023-01-19T00:00:00",
          "2023-01-20T00:00:00",
          "2023-01-25T00:00:00",
          "2023-01-26T00:00:00",
          "2023-01-27T00:00:00",
          "2023-01-30T00:00:00",
          "2023-01-31T00:00:00"
         ],
         "xaxis": "x5",
         "y": [
          0,
          0,
          1,
          1,
          1,
          1,
          0,
          0,
          0,
          0,
          0,
          0,
          0,
          0,
          0,
          1,
          0,
          0,
          0,
          0
         ],
         "yaxis": "y2"
        },
        {
         "line": {
          "color": "#000000",
          "shape": "hv"
         },
         "mode": "lines",
         "name": "잔고가치",
         "type": "scatter",
         "x": [
          "2023-01-02T00:00:00",
          "2023-01-03T00:00:00",
          "2023-01-04T00:00:00",
          "2023-01-05T00:00:00",
          "2023-01-06T00:00:00",
          "2023-01-09T00:00:00",
          "2023-01-10T00:00:00",
          "2023-01-11T00:00:00",
          "2023-01-12T00:00:00",
          "2023-01-13T00:00:00",
          "2023-01-16T00:00:00",
          "2023-01-17T00:00:00",
          "2023-01-18T00:00:00",
          "2023-01-19T00:00:00",
          "2023-01-20T00:00:00",
          "2023-01-25T00:00:00",
          "2023-01-26T00:00:00",
          "2023-01-27T00:00:00",
          "2023-01-30T00:00:00",
          "2023-01-31T00:00:00"
         ],
         "xaxis": "x5",
         "y": [
          null,
          null,
          57800,
          58200,
          59000,
          60700,
          null,
          null,
          null,
          null,
          null,
          null,
          null,
          null,
          null,
          63400,
          null,
          null,
          null,
          null
         ],
         "yaxis": "y3"
        },
        {
         "cliponaxis": false,
         "marker": {
          "color": [
           "#00008B",
           "#00008B",
           "#00008B",
           "#00008B",
           "#00008B",
           "#00008B",
           "#DC143C",
           "#00008B",
           "#00008B",
           "#00008B",
           "#00008B",
           "#00008B",
           "#00008B",
           "#00008B",
           "#00008B",
           "#00008B",
           "#DC143C",
           "#00008B",
           "#00008B",
           "#00008B"
          ]
         },
         "name": "실현손익",
         "text": [
          "",
          "",
          "",
          "",
          "",
          "",
          "2,600",
          "",
          "",
          "",
          "",
          "",
          "",
          "",
          "",
          "",
          "500",
          "",
          "",
          ""
         ],
         "textposition": "outside",
         "type": "bar",
         "width": 432000000,
         "x": [
          "2023-01-02T00:00:00",
          "2023-01-03T00:00:00",
          "2023-01-04T00:00:00",
          "2023-01-05T00:00:00",
          "2023-01-06T00:00:00",
          "2023-01-09T00:00:00",
          "2023-01-10T00:00:00",
          "2023-01-11T00:00:00",
          "2023-01-12T00:00:00",
          "2023-01-13T00:00:00",
          "2023-01-16T00:00:00",
          "2023-01-17T00:00:00",
          "2023-01-18T00:00:00",
          "2023-01-19T00:00:00",
          "2023-01-20T00:00:00",
          "2023-01-25T00:00:00",
          "2023-01-26T00:00:00",
          "2023-01-27T00:00:00",
          "2023-01-30T00:00:00",
          "2023-01-31T00:00:00"
         ],
         "xaxis": "x5",
         "y": [
          0,
          0,
          0,
          0,
          0,
          0,
          2600,
          0,
          0,
          0,
          0,
          0,
          0,
          0,
          0,
          0,
          500,
          0,
          0,
          0
         ],
         "yaxis": "y4"
        },
        {
         "line": {
          "color": "#000000",
          "shape": "hv"
         },
         "mode": "lines",
         "name": "총자산가치",
         "type": "scatter",
         "x": [
          "2023-01-02T00:00:00",
          "2023-01-03T00:00:00",
          "2023-01-04T00:00:00",
          "2023-01-05T00:00:00",
          "2023-01-06T00:00:00",
          "2023-01-09T00:00:00",
          "2023-01-10T00:00:00",
          "2023-01-11T00:00:00",
          "2023-01-12T00:00:00",
          "2023-01-13T00:00:00",
          "2023-01-16T00:00:00",
          "2023-01-17T00:00:00",
          "2023-01-18T00:00:00",
          "2023-01-19T00:00:00",
          "2023-01-20T00:00:00",
          "2023-01-25T00:00:00",
          "2023-01-26T00:00:00",
          "2023-01-27T00:00:00",
          "2023-01-30T00:00:00",
          "2023-01-31T00:00:00"
         ],
         "xaxis": "x5",
         "y": [
          100000,
          100000,
          100000,
          100400,
          101200,
          102900,
          102600,
          102600,
          102600,
          102600,
          102600,
          102600,
          102600,
          102600,
          102600,
          102600,
          103100,
          103100,
          103100,
          103100
         ],
         "yaxis": "y5"
        },
        {
         "line": {
          "color": "#DC143C",
          "dash": "dash",
          "shape": "hv"
         },
         "mode": "lines",
         "name": "최고자산가치",
         "type": "scatter",
         "x": [
          "2023-01-02T00:00:00",
          "2023-01-03T00:00:00",
          "2023-01-04T00:00:00",
          "2023-01-05T00:00:00",
          "2023-01-06T00:00:00",
          "2023-01-09T00:00:00",
          "2023-01-10T00:00:00",
          "2023-01-11T00:00:00",
          "2023-01-12T00:00:00",
          "2023-01-13T00:00:00",
          "2023-01-16T00:00:00",
          "2023-01-17T00:00:00",
          "2023-01-18T00:00:00",
          "2023-01-19T00:00:00",
          "2023-01-20T00:00:00",
          "2023-01-25T00:00:00",
          "2023-01-26T00:00:00",
          "2023-01-27T00:00:00",
          "2023-01-30T00:00:00",
          "2023-01-31T00:00:00"
         ],
         "xaxis": "x5",
         "y": [
          100000,
          100000,
          100000,
          100400,
          101200,
          102900,
          102900,
          102900,
          102900,
          102900,
          102900,
          102900,
          102900,
          102900,
          102900,
          102900,
          103100,
          103100,
          103100,
          103100
         ],
         "yaxis": "y5"
        },
        {
         "base": [
          100000
         ],
         "cliponaxis": false,
         "marker": {
          "color": [
           "#DC143C"
          ]
         },
         "name": "최종손익",
         "text": [
          "최종수익: 3,100"
         ],
         "textposition": "outside",
         "type": "bar",
         "width": 864000000,
         "x": [
          "2023-01-31T00:00:00"
         ],
         "xaxis": "x5",
         "y": [
          3100
         ],
         "yaxis": "y5"
        },
        {
         "cliponaxis": false,
         "marker": {
          "color": [
           "#DC143C",
           "#00008B"
          ],
          "line": {
           "color": "white",
           "width": 1
          },
          "size": 12,
          "symbol": [
           "triangle-up",
           "triangle-down"
          ]
         },
         "mode": "markers+text",
         "name": "",
         "text": [
          "최고자산가치: 103,100",
          "MDD: -300"
         ],
         "textposition": [
          "top center",
          "bottom center"
         ],
         "type": "scatter",
         "x": [
          "2023-01-26T00:00:00",
          "2023-01-10T00:00:00"
         ],
         "xaxis": "x5",
         "y": [
          103100,
          102800
         ],
         "yaxis": "y5"
        }
       ],
       "layout": {
        "annotations": [
         {
          "font": {
           "size": 16
          },
          "showarrow": false,
          "text": "가격",
          "x": 0.5,
          "xanchor": "center",
          "xref": "paper",
          "y": 1,
          "yanchor": "bottom",
          "yref": "paper"
         },
         {
          "font": {
           "size": 16
          },
          "showarrow": false,
          "text": "잔고수량",
          "x": 0.5,
          "xanchor": "center",
          "xref": "paper",
          "y": 0.79,
          "yanchor": "bottom",
          "yref": "paper"
         },
         {
          "font": {
           "size": 16
          },
          "showarrow": false,
          "text": "잔고가치",
          "x": 0.5,
          "xanchor": "center",
          "xref": "paper",
          "y": 0.66,
          "yanchor": "bottom",
          "yref": "paper"
         },
         {
          "font": {
           "size": 16
          },
          "showarrow": false,
          "text": "실현손익",
          "x": 0.5,
          "xanchor": "center",
          "xref": "paper",
          "y": 0.45,
          "yanchor": "bottom",
          "yref": "paper"
         },
         {
          "font": {
           "size": 16
          },
          "showarrow": false,
          "text": "총자산가치",
          "x": 0.5,
          "xanchor": "center",
          "xref": "paper",
          "y": 0.24,
          "yanchor": "bottom",
          "yref": "paper"
         }
        ],
        "height": 800,
        "hovermode": "x unified",
        "margin": {
         "b": 25,
         "l": 25,
         "r": 25,
         "t": 80
        },
        "showlegend": false,
        "template": {
         "data": {
          "bar": [
           {
            "error_x": {
             "color": "#2a3f5f"
            },
            "error_y": {
             "color": "#2a3f5f"
            },
            "marker": {
             "line": {
              "color": "#E5ECF6",
              "width": 0.5
             },
             "pattern": {
              "fillmode": "overlay",
              "size": 10,
              "solidity": 0.2
             }
            },
            "type": "bar"
           }
          ],
          "barpolar": [
           {
            "marker": {
             "line": {
              "color": "#E5ECF6",
              "width": 0.5
             },
             "pattern": {
              "fillmode": "overlay",
              "size": 10,
              "solidity": 0.2
             }
            },
            "type": "barpolar"
           }
          ],
          "carpet": [
           {
            "aaxis": {
             "endlinecolor": "#2a3f5f",
             "gridcolor": "white",
             "linecolor": "white",
             "minorgridcolor": "white",
             "startlinecolor": "#2a3f5f"
            },
            "baxis": {
             "endlinecolor": "#2a3f5f",
             "gridcolor": "white",
             "linecolor": "white",
             "minorgridcolor": "white",
             "startlinecolor": "#2a3f5f"
            },
            "type": "carpet"
           }
          ],
          "choropleth": [
           {
            "colorbar": {
             "outlinewidth": 0,
             "ticks": ""
            },
            "type": "choropleth"
           }
          ],
          "contour": [
           {
            "colorbar": {
             "outlinewidth": 0,
             "ticks": ""
            },
            "colorscale": [
             [
              0,
              "#0d0887"
             ],
             [
              0.1111111111111111,
              "#46039f"
             ],
             [
              0.2222222222222222,
              "#7201a8"
             ],
             [
              0.3333333333333333,
              "#9c179e"
             ],
             [
              0.4444444444444444,
              "#bd3786"
             ],
             [
              0.5555555555555556,
              "#d8576b"
             ],
             [
              0.6666666666666666,
              "#ed7953"
             ],
             [
              0.7777777777777778,
              "#fb9f3a"
             ],
             [
              0.8888888888888888,
              "#fdca26"
             ],
             [
              1,
              "#f0f921"
             ]
            ],
            "type": "contour"
           }
          ],
          "contourcarpet": [
           {
            "colorbar": {
             "outlinewidth": 0,
             "ticks": ""
            },
            "type": "contourcarpet"
           }
          ],
          "heatmap": [
           {
            "colorbar": {
             "outlinewidth": 0,
             "ticks": ""
            },
            "colorscale": [
             [
              0,
              "#0d0887"
             ],
             [
              0.1111111111111111,
              "#46039f"
             ],
             [
              0.2222222222222222,
              "#7201a8"
             ],
             [
              0.3333333333333333,
              "#9c179e"
             ],
             [
              0.4444444444444444,
              "#bd3786"
             ],
             [
              0.5555555555555556,
              "#d8576b"
             ],
             [
              0.6666666666666666,
              "#ed7953"
             ],
             [
              0.7777777777777778,
              "#fb9f3a"
             ],
             [
              0.8888888888888888,
              "#fdca26"
             ],
             [
              1,
              "#f0f921"
             ]
            ],
            "type": "heatmap"
           }
          ],
          "heatmapgl": [
           {
            "colorbar": {
             "outlinewidth": 0,
             "ticks": ""
            },
            "colorscale": [
             [
              0,
              "#0d0887"
             ],
             [
              0.1111111111111111,
              "#46039f"
             ],
             [
              0.2222222222222222,
              "#7201a8"
             ],
             [
              0.3333333333333333,
              "#9c179e"
             ],
             [
              0.4444444444444444,
              "#bd3786"
             ],
             [
              0.5555555555555556,
              "#d8576b"
             ],
             [
              0.6666666666666666,
              "#ed7953"
             ],
             [
              0.7777777777777778,
              "#fb9f3a"
             ],
             [
              0.8888888888888888,
              "#fdca26"
             ],
             [
              1,
              "#f0f921"
             ]
            ],
            "type": "heatmapgl"
           }
          ],
          "histogram": [
           {
            "marker": {
             "pattern": {
              "fillmode": "overlay",
              "size": 10,
              "solidity": 0.2
             }
            },
            "type": "histogram"
           }
          ],
          "histogram2d": [
           {
            "colorbar": {
             "outlinewidth": 0,
             "ticks": ""
            },
            "colorscale": [
             [
              0,
              "#0d0887"
             ],
             [
              0.1111111111111111,
              "#46039f"
             ],
             [
              0.2222222222222222,
              "#7201a8"
             ],
             [
              0.3333333333333333,
              "#9c179e"
             ],
             [
              0.4444444444444444,
              "#bd3786"
             ],
             [
              0.5555555555555556,
              "#d8576b"
             ],
             [
              0.6666666666666666,
              "#ed7953"
             ],
             [
              0.7777777777777778,
              "#fb9f3a"
             ],
             [
              0.8888888888888888,
              "#fdca26"
             ],
             [
              1,
              "#f0f921"
             ]
            ],
            "type": "histogram2d"
           }
          ],
          "histogram2dcontour": [
           {
            "colorbar": {
             "outlinewidth": 0,
             "ticks": ""
            },
            "colorscale": [
             [
              0,
              "#0d0887"
             ],
             [
              0.1111111111111111,
              "#46039f"
             ],
             [
              0.2222222222222222,
              "#7201a8"
             ],
             [
              0.3333333333333333,
              "#9c179e"
             ],
             [
              0.4444444444444444,
              "#bd3786"
             ],
             [
              0.5555555555555556,
              "#d8576b"
             ],
             [
              0.6666666666666666,
              "#ed7953"
             ],
             [
              0.7777777777777778,
              "#fb9f3a"
             ],
             [
              0.8888888888888888,
              "#fdca26"
             ],
             [
              1,
              "#f0f921"
             ]
            ],
            "type": "histogram2dcontour"
           }
          ],
          "mesh3d": [
           {
            "colorbar": {
             "outlinewidth": 0,
             "ticks": ""
            },
            "type": "mesh3d"
           }
          ],
          "parcoords": [
           {
            "line": {
             "colorbar": {
              "outlinewidth": 0,
              "ticks": ""
             }
            },
            "type": "parcoords"
           }
          ],
          "pie": [
           {
            "automargin": true,
            "type": "pie"
           }
          ],
          "scatter": [
           {
            "fillpattern": {
             "fillmode": "overlay",
             "size": 10,
             "solidity": 0.2
            },
            "type": "scatter"
           }
          ],
          "scatter3d": [
           {
            "line": {
             "colorbar": {
              "outlinewidth": 0,
              "ticks": ""
             }
            },
            "marker": {
             "colorbar": {
              "outlinewidth": 0,
              "ticks": ""
             }
            },
            "type": "scatter3d"
           }
          ],
          "scattercarpet": [
           {
            "marker": {
             "colorbar": {
              "outlinewidth": 0,
              "ticks": ""
             }
            },
            "type": "scattercarpet"
           }
          ],
          "scattergeo": [
           {
            "marker": {
             "colorbar": {
              "outlinewidth": 0,
              "ticks": ""
             }
            },
            "type": "scattergeo"
           }
          ],
          "scattergl": [
           {
            "marker": {
             "colorbar": {
              "outlinewidth": 0,
              "ticks": ""
             }
            },
            "type": "scattergl"
           }
          ],
          "scattermapbox": [
           {
            "marker": {
             "colorbar": {
              "outlinewidth": 0,
              "ticks": ""
             }
            },
            "type": "scattermapbox"
           }
          ],
          "scatterpolar": [
           {
            "marker": {
             "colorbar": {
              "outlinewidth": 0,
              "ticks": ""
             }
            },
            "type": "scatterpolar"
           }
          ],
          "scatterpolargl": [
           {
            "marker": {
             "colorbar": {
              "outlinewidth": 0,
              "ticks": ""
             }
            },
            "type": "scatterpolargl"
           }
          ],
          "scatterternary": [
           {
            "marker": {
             "colorbar": {
              "outlinewidth": 0,
              "ticks": ""
             }
            },
            "type": "scatterternary"
           }
          ],
          "surface": [
           {
            "colorbar": {
             "outlinewidth": 0,
             "ticks": ""
            },
            "colorscale": [
             [
              0,
              "#0d0887"
             ],
             [
              0.1111111111111111,
              "#46039f"
             ],
             [
              0.2222222222222222,
              "#7201a8"
             ],
             [
              0.3333333333333333,
              "#9c179e"
             ],
             [
              0.4444444444444444,
              "#bd3786"
             ],
             [
              0.5555555555555556,
              "#d8576b"
             ],
             [
              0.6666666666666666,
              "#ed7953"
             ],
             [
              0.7777777777777778,
              "#fb9f3a"
             ],
             [
              0.8888888888888888,
              "#fdca26"
             ],
             [
              1,
              "#f0f921"
             ]
            ],
            "type": "surface"
           }
          ],
          "table": [
           {
            "cells": {
             "fill": {
              "color": "#EBF0F8"
             },
             "line": {
              "color": "white"
             }
            },
            "header": {
             "fill": {
              "color": "#C8D4E3"
             },
             "line": {
              "color": "white"
             }
            },
            "type": "table"
           }
          ]
         },
         "layout": {
          "annotationdefaults": {
           "arrowcolor": "#2a3f5f",
           "arrowhead": 0,
           "arrowwidth": 1
          },
          "autotypenumbers": "strict",
          "coloraxis": {
           "colorbar": {
            "outlinewidth": 0,
            "ticks": ""
           }
          },
          "colorscale": {
           "diverging": [
            [
             0,
             "#8e0152"
            ],
            [
             0.1,
             "#c51b7d"
            ],
            [
             0.2,
             "#de77ae"
            ],
            [
             0.3,
             "#f1b6da"
            ],
            [
             0.4,
             "#fde0ef"
            ],
            [
             0.5,
             "#f7f7f7"
            ],
            [
             0.6,
             "#e6f5d0"
            ],
            [
             0.7,
             "#b8e186"
            ],
            [
             0.8,
             "#7fbc41"
            ],
            [
             0.9,
             "#4d9221"
            ],
            [
             1,
             "#276419"
            ]
           ],
           "sequential": [
            [
             0,
             "#0d0887"
            ],
            [
             0.1111111111111111,
             "#46039f"
            ],
            [
             0.2222222222222222,
             "#7201a8"
            ],
            [
             0.3333333333333333,
             "#9c179e"
            ],
            [
             0.4444444444444444,
             "#bd3786"
            ],
            [
             0.5555555555555556,
             "#d8576b"
            ],
            [
             0.6666666666666666,
             "#ed7953"
            ],
            [
             0.7777777777777778,
             "#fb9f3a"
            ],
            [
             0.8888888888888888,
             "#fdca26"
            ],
            [
             1,
             "#f0f921"
            ]
           ],
           "sequentialminus": [
            [
             0,
             "#0d0887"
            ],
            [
             0.1111111111111111,
             "#46039f"
            ],
            [
             0.2222222222222222,
             "#7201a8"
            ],
            [
             0.3333333333333333,
             "#9c179e"
            ],
            [
             0.4444444444444444,
             "#bd3786"
            ],
            [
             0.5555555555555556,
             "#d8576b"
            ],
            [
             0.6666666666666666,
             "#ed7953"
            ],
            [
             0.7777777777777778,
             "#fb9f3a"
            ],
            [
             0.8888888888888888,
             "#fdca26"
            ],
            [
             1,
             "#f0f921"
            ]
           ]
          },
          "colorway": [
           "#636efa",
           "#EF553B",
           "#00cc96",
           "#ab63fa",
           "#FFA15A",
           "#19d3f3",
           "#FF6692",
           "#B6E880",
           "#FF97FF",
           "#FECB52"
          ],
          "font": {
           "color": "#2a3f5f"
          },
          "geo": {
           "bgcolor": "white",
           "lakecolor": "white",
           "landcolor": "#E5ECF6",
           "showlakes": true,
           "showland": true,
           "subunitcolor": "white"
          },
          "hoverlabel": {
           "align": "left"
          },
          "hovermode": "closest",
          "mapbox": {
           "style": "light"
          },
          "paper_bgcolor": "white",
          "plot_bgcolor": "#E5ECF6",
          "polar": {
           "angularaxis": {
            "gridcolor": "white",
            "linecolor": "white",
            "ticks": ""
           },
           "bgcolor": "#E5ECF6",
           "radialaxis": {
            "gridcolor": "white",
            "linecolor": "white",
            "ticks": ""
           }
          },
          "scene": {
           "xaxis": {
            "backgroundcolor": "#E5ECF6",
            "gridcolor": "white",
            "gridwidth": 2,
            "linecolor": "white",
            "showbackground": true,
            "ticks": "",
            "zerolinecolor": "white"
           },
           "yaxis": {
            "backgroundcolor": "#E5ECF6",
            "gridcolor": "white",
            "gridwidth": 2,
            "linecolor": "white",
            "showbackground": true,
            "ticks": "",
            "zerolinecolor": "white"
           },
           "zaxis": {
            "backgroundcolor": "#E5ECF6",
            "gridcolor": "white",
            "gridwidth": 2,
            "linecolor": "white",
            "showbackground": true,
            "ticks": "",
            "zerolinecolor": "white"
           }
          },
          "shapedefaults": {
           "line": {
            "color": "#2a3f5f"
           }
          },
          "ternary": {
           "aaxis": {
            "gridcolor": "white",
            "linecolor": "white",
            "ticks": ""
           },
           "baxis": {
            "gridcolor": "white",
            "linecolor": "white",
            "ticks": ""
           },
           "bgcolor": "#E5ECF6",
           "caxis": {
            "gridcolor": "white",
            "linecolor": "white",
            "ticks": ""
           }
          },
          "title": {
           "x": 0.05
          },
          "xaxis": {
           "automargin": true,
           "gridcolor": "white",
           "linecolor": "white",
           "ticks": "",
           "title": {
            "standoff": 15
           },
           "zerolinecolor": "white",
           "zerolinewidth": 2
          },
          "yaxis": {
           "automargin": true,
           "gridcolor": "white",
           "linecolor": "white",
           "ticks": "",
           "title": {
            "standoff": 15
           },
           "zerolinecolor": "white",
           "zerolinewidth": 2
          }
         }
        },
        "title": {
         "text": "백테스트 결과: 005930, 2023-01-02~2023-01-31",
         "x": 0.5,
         "y": 0.98
        },
        "uniformtext": {
         "minsize": 12,
         "mode": "show"
        },
        "xaxis": {
         "anchor": "y",
         "domain": [
          0,
          1
         ],
         "matches": "x5",
         "showticklabels": false
        },
        "xaxis2": {
         "anchor": "y2",
         "domain": [
          0,
          1
         ],
         "matches": "x5",
         "showticklabels": false
        },
        "xaxis3": {
         "anchor": "y3",
         "domain": [
          0,
          1
         ],
         "matches": "x5",
         "showticklabels": false
        },
        "xaxis4": {
         "anchor": "y4",
         "domain": [
          0,
          1
         ],
         "matches": "x5",
         "showticklabels": false
        },
        "xaxis5": {
         "anchor": "y5",
         "domain": [
          0,
          1
         ],
         "hoverformat": "%Y-%m-%d",
         "showticklabels": true,
         "tickformat": "%Y-%m-%d"
        },
        "yaxis": {
         "anchor": "x",
         "domain": [
          0.8400000000000001,
          1
         ],
         "tickformat": ",d"
        },
        "yaxis2": {
         "anchor": "x2",
         "domain": [
          0.7100000000000001,
          0.79
         ],
         "dtick": "L1"
        },
        "yaxis3": {
         "anchor": "x3",
         "domain": [
          0.5,
          0.66
         ],
         "tickformat": ",d"
        },
        "yaxis4": {
         "anchor": "x4",
         "domain": [
          0.29,
          0.45
         ],
         "tickformat": ",d"
        },
        "yaxis5": {
         "anchor": "x5",
         "domain": [
          0,
          0.24
         ],
         "tickformat": ",d"
        }
       }
      },
      "text/html": [
       "<div>                            <div id=\"a408c393-db72-462d-a65a-438c65c46733\" class=\"plotly-graph-div\" style=\"height:800px; width:100%;\"></div>            <script type=\"text/javascript\">                require([\"plotly\"], function(Plotly) {                    window.PLOTLYENV=window.PLOTLYENV || {};                                    if (document.getElementById(\"a408c393-db72-462d-a65a-438c65c46733\")) {                    Plotly.newPlot(                        \"a408c393-db72-462d-a65a-438c65c46733\",                        [{\"marker\":{\"color\":\"#000000\"},\"mode\":\"lines\",\"name\":\"\\uac00\\uaca9\",\"x\":[\"2023-01-02T00:00:00\",\"2023-01-03T00:00:00\",\"2023-01-04T00:00:00\",\"2023-01-05T00:00:00\",\"2023-01-06T00:00:00\",\"2023-01-09T00:00:00\",\"2023-01-10T00:00:00\",\"2023-01-11T00:00:00\",\"2023-01-12T00:00:00\",\"2023-01-13T00:00:00\",\"2023-01-16T00:00:00\",\"2023-01-17T00:00:00\",\"2023-01-18T00:00:00\",\"2023-01-19T00:00:00\",\"2023-01-20T00:00:00\",\"2023-01-25T00:00:00\",\"2023-01-26T00:00:00\",\"2023-01-27T00:00:00\",\"2023-01-30T00:00:00\",\"2023-01-31T00:00:00\"],\"y\":[55500,55400,57800,58200,59000,60700,60400,60500,60500,60800,61100,61000,60400,61500,61800,63400,63900,64600,63300,61000],\"type\":\"scatter\",\"xaxis\":\"x5\",\"yaxis\":\"y\"},{\"marker\":{\"color\":\"#DC143C\",\"line\":{\"color\":\"white\",\"width\":1},\"size\":12,\"symbol\":\"triangle-up\"},\"mode\":\"markers\",\"name\":\"\\ub9e4\\uc218\",\"x\":[\"2023-01-04T00:00:00\",\"2023-01-25T00:00:00\"],\"y\":[57800,63400],\"type\":\"scatter\",\"xaxis\":\"x5\",\"yaxis\":\"y\"},{\"marker\":{\"color\":\"#00008B\",\"line\":{\"color\":\"white\",\"width\":1},\"size\":12,\"symbol\":\"triangle-down\"},\"mode\":\"markers\",\"name\":\"\\ub9e4\\ub3c4\",\"x\":[\"2023-01-10T00:00:00\",\"2023-01-26T00:00:00\"],\"y\":[60400,63900],\"type\":\"scatter\",\"xaxis\":\"x5\",\"yaxis\":\"y\"},{\"fill\":\"tozeroy\",\"fillcolor\":\"lightgray\",\"line\":{\"color\":\"#000000\",\"shape\":\"hv\"},\"mode\":\"lines\",\"name\":\"\\uc794\\uace0\\uc218\\ub7c9\",\"x\":[\"2023-01-02T00:00:00\",\"2023-01-03T00:00:00\",\"2023-01-04T00:00:00\",\"2023-01-05T00:00:00\",\"2023-01-06T00:00:00\",\"2023-01-09T00:00:00\",\"2023-01-10T00:00:00\",\"2023-01-11T00:00:00\",\"2023-01-12T00:00:00\",\"2023-01-13T00:00:00\",\"2023-01-16T00:00:00\",\"2023-01-17T00:00:00\",\"2023-01-18T00:00:00\",\"2023-01-19T00:00:00\",\"2023-01-20T00:00:00\",\"2023-01-25T00:00:00\",\"2023-01-26T00:00:00\",\"2023-01-27T00:00:00\",\"2023-01-30T00:00:00\",\"2023-01-31T00:00:00\"],\"y\":[0,0,1,1,1,1,0,0,0,0,0,0,0,0,0,1,0,0,0,0],\"type\":\"scatter\",\"xaxis\":\"x5\",\"yaxis\":\"y2\"},{\"line\":{\"color\":\"#000000\",\"shape\":\"hv\"},\"mode\":\"lines\",\"name\":\"\\uc794\\uace0\\uac00\\uce58\",\"x\":[\"2023-01-02T00:00:00\",\"2023-01-03T00:00:00\",\"2023-01-04T00:00:00\",\"2023-01-05T00:00:00\",\"2023-01-06T00:00:00\",\"2023-01-09T00:00:00\",\"2023-01-10T00:00:00\",\"2023-01-11T00:00:00\",\"2023-01-12T00:00:00\",\"2023-01-13T00:00:00\",\"2023-01-16T00:00:00\",\"2023-01-17T00:00:00\",\"2023-01-18T00:00:00\",\"2023-01-19T00:00:00\",\"2023-01-20T00:00:00\",\"2023-01-25T00:00:00\",\"2023-01-26T00:00:00\",\"2023-01-27T00:00:00\",\"2023-01-30T00:00:00\",\"2023-01-31T00:00:00\"],\"y\":[null,null,57800.0,58200.0,59000.0,60700.0,null,null,null,null,null,null,null,null,null,63400.0,null,null,null,null],\"type\":\"scatter\",\"xaxis\":\"x5\",\"yaxis\":\"y3\"},{\"cliponaxis\":false,\"marker\":{\"color\":[\"#00008B\",\"#00008B\",\"#00008B\",\"#00008B\",\"#00008B\",\"#00008B\",\"#DC143C\",\"#00008B\",\"#00008B\",\"#00008B\",\"#00008B\",\"#00008B\",\"#00008B\",\"#00008B\",\"#00008B\",\"#00008B\",\"#DC143C\",\"#00008B\",\"#00008B\",\"#00008B\"]},\"name\":\"\\uc2e4\\ud604\\uc190\\uc775\",\"text\":[\"\",\"\",\"\",\"\",\"\",\"\",\"2,600\",\"\",\"\",\"\",\"\",\"\",\"\",\"\",\"\",\"\",\"500\",\"\",\"\",\"\"],\"textposition\":\"outside\",\"width\":432000000,\"x\":[\"2023-01-02T00:00:00\",\"2023-01-03T00:00:00\",\"2023-01-04T00:00:00\",\"2023-01-05T00:00:00\",\"2023-01-06T00:00:00\",\"2023-01-09T00:00:00\",\"2023-01-10T00:00:00\",\"2023-01-11T00:00:00\",\"2023-01-12T00:00:00\",\"2023-01-13T00:00:00\",\"2023-01-16T00:00:00\",\"2023-01-17T00:00:00\",\"2023-01-18T00:00:00\",\"2023-01-19T00:00:00\",\"2023-01-20T00:00:00\",\"2023-01-25T00:00:00\",\"2023-01-26T00:00:00\",\"2023-01-27T00:00:00\",\"2023-01-30T00:00:00\",\"2023-01-31T00:00:00\"],\"y\":[0,0,0,0,0,0,2600,0,0,0,0,0,0,0,0,0,500,0,0,0],\"type\":\"bar\",\"xaxis\":\"x5\",\"yaxis\":\"y4\"},{\"line\":{\"color\":\"#000000\",\"shape\":\"hv\"},\"mode\":\"lines\",\"name\":\"\\ucd1d\\uc790\\uc0b0\\uac00\\uce58\",\"x\":[\"2023-01-02T00:00:00\",\"2023-01-03T00:00:00\",\"2023-01-04T00:00:00\",\"2023-01-05T00:00:00\",\"2023-01-06T00:00:00\",\"2023-01-09T00:00:00\",\"2023-01-10T00:00:00\",\"2023-01-11T00:00:00\",\"2023-01-12T00:00:00\",\"2023-01-13T00:00:00\",\"2023-01-16T00:00:00\",\"2023-01-17T00:00:00\",\"2023-01-18T00:00:00\",\"2023-01-19T00:00:00\",\"2023-01-20T00:00:00\",\"2023-01-25T00:00:00\",\"2023-01-26T00:00:00\",\"2023-01-27T00:00:00\",\"2023-01-30T00:00:00\",\"2023-01-31T00:00:00\"],\"y\":[100000,100000,100000,100400,101200,102900,102600,102600,102600,102600,102600,102600,102600,102600,102600,102600,103100,103100,103100,103100],\"type\":\"scatter\",\"xaxis\":\"x5\",\"yaxis\":\"y5\"},{\"line\":{\"color\":\"#DC143C\",\"dash\":\"dash\",\"shape\":\"hv\"},\"mode\":\"lines\",\"name\":\"\\ucd5c\\uace0\\uc790\\uc0b0\\uac00\\uce58\",\"x\":[\"2023-01-02T00:00:00\",\"2023-01-03T00:00:00\",\"2023-01-04T00:00:00\",\"2023-01-05T00:00:00\",\"2023-01-06T00:00:00\",\"2023-01-09T00:00:00\",\"2023-01-10T00:00:00\",\"2023-01-11T00:00:00\",\"2023-01-12T00:00:00\",\"2023-01-13T00:00:00\",\"2023-01-16T00:00:00\",\"2023-01-17T00:00:00\",\"2023-01-18T00:00:00\",\"2023-01-19T00:00:00\",\"2023-01-20T00:00:00\",\"2023-01-25T00:00:00\",\"2023-01-26T00:00:00\",\"2023-01-27T00:00:00\",\"2023-01-30T00:00:00\",\"2023-01-31T00:00:00\"],\"y\":[100000,100000,100000,100400,101200,102900,102900,102900,102900,102900,102900,102900,102900,102900,102900,102900,103100,103100,103100,103100],\"type\":\"scatter\",\"xaxis\":\"x5\",\"yaxis\":\"y5\"},{\"base\":[100000],\"cliponaxis\":false,\"marker\":{\"color\":[\"#DC143C\"]},\"name\":\"\\ucd5c\\uc885\\uc190\\uc775\",\"text\":[\"\\ucd5c\\uc885\\uc218\\uc775: 3,100\"],\"textposition\":\"outside\",\"width\":864000000,\"x\":[\"2023-01-31T00:00:00\"],\"y\":[3100],\"type\":\"bar\",\"xaxis\":\"x5\",\"yaxis\":\"y5\"},{\"cliponaxis\":false,\"marker\":{\"color\":[\"#DC143C\",\"#00008B\"],\"line\":{\"color\":\"white\",\"width\":1},\"size\":12,\"symbol\":[\"triangle-up\",\"triangle-down\"]},\"mode\":\"markers+text\",\"name\":\"\",\"text\":[\"\\ucd5c\\uace0\\uc790\\uc0b0\\uac00\\uce58: 103,100\",\"MDD: -300\"],\"textposition\":[\"top center\",\"bottom center\"],\"x\":[\"2023-01-26T00:00:00\",\"2023-01-10T00:00:00\"],\"y\":[103100,102800],\"type\":\"scatter\",\"xaxis\":\"x5\",\"yaxis\":\"y5\"}],                        {\"template\":{\"data\":{\"histogram2dcontour\":[{\"type\":\"histogram2dcontour\",\"colorbar\":{\"outlinewidth\":0,\"ticks\":\"\"},\"colorscale\":[[0.0,\"#0d0887\"],[0.1111111111111111,\"#46039f\"],[0.2222222222222222,\"#7201a8\"],[0.3333333333333333,\"#9c179e\"],[0.4444444444444444,\"#bd3786\"],[0.5555555555555556,\"#d8576b\"],[0.6666666666666666,\"#ed7953\"],[0.7777777777777778,\"#fb9f3a\"],[0.8888888888888888,\"#fdca26\"],[1.0,\"#f0f921\"]]}],\"choropleth\":[{\"type\":\"choropleth\",\"colorbar\":{\"outlinewidth\":0,\"ticks\":\"\"}}],\"histogram2d\":[{\"type\":\"histogram2d\",\"colorbar\":{\"outlinewidth\":0,\"ticks\":\"\"},\"colorscale\":[[0.0,\"#0d0887\"],[0.1111111111111111,\"#46039f\"],[0.2222222222222222,\"#7201a8\"],[0.3333333333333333,\"#9c179e\"],[0.4444444444444444,\"#bd3786\"],[0.5555555555555556,\"#d8576b\"],[0.6666666666666666,\"#ed7953\"],[0.7777777777777778,\"#fb9f3a\"],[0.8888888888888888,\"#fdca26\"],[1.0,\"#f0f921\"]]}],\"heatmap\":[{\"type\":\"heatmap\",\"colorbar\":{\"outlinewidth\":0,\"ticks\":\"\"},\"colorscale\":[[0.0,\"#0d0887\"],[0.1111111111111111,\"#46039f\"],[0.2222222222222222,\"#7201a8\"],[0.3333333333333333,\"#9c179e\"],[0.4444444444444444,\"#bd3786\"],[0.5555555555555556,\"#d8576b\"],[0.6666666666666666,\"#ed7953\"],[0.7777777777777778,\"#fb9f3a\"],[0.8888888888888888,\"#fdca26\"],[1.0,\"#f0f921\"]]}],\"heatmapgl\":[{\"type\":\"heatmapgl\",\"colorbar\":{\"outlinewidth\":0,\"ticks\":\"\"},\"colorscale\":[[0.0,\"#0d0887\"],[0.1111111111111111,\"#46039f\"],[0.2222222222222222,\"#7201a8\"],[0.3333333333333333,\"#9c179e\"],[0.4444444444444444,\"#bd3786\"],[0.5555555555555556,\"#d8576b\"],[0.6666666666666666,\"#ed7953\"],[0.7777777777777778,\"#fb9f3a\"],[0.8888888888888888,\"#fdca26\"],[1.0,\"#f0f921\"]]}],\"contourcarpet\":[{\"type\":\"contourcarpet\",\"colorbar\":{\"outlinewidth\":0,\"ticks\":\"\"}}],\"contour\":[{\"type\":\"contour\",\"colorbar\":{\"outlinewidth\":0,\"ticks\":\"\"},\"colorscale\":[[0.0,\"#0d0887\"],[0.1111111111111111,\"#46039f\"],[0.2222222222222222,\"#7201a8\"],[0.3333333333333333,\"#9c179e\"],[0.4444444444444444,\"#bd3786\"],[0.5555555555555556,\"#d8576b\"],[0.6666666666666666,\"#ed7953\"],[0.7777777777777778,\"#fb9f3a\"],[0.8888888888888888,\"#fdca26\"],[1.0,\"#f0f921\"]]}],\"surface\":[{\"type\":\"surface\",\"colorbar\":{\"outlinewidth\":0,\"ticks\":\"\"},\"colorscale\":[[0.0,\"#0d0887\"],[0.1111111111111111,\"#46039f\"],[0.2222222222222222,\"#7201a8\"],[0.3333333333333333,\"#9c179e\"],[0.4444444444444444,\"#bd3786\"],[0.5555555555555556,\"#d8576b\"],[0.6666666666666666,\"#ed7953\"],[0.7777777777777778,\"#fb9f3a\"],[0.8888888888888888,\"#fdca26\"],[1.0,\"#f0f921\"]]}],\"mesh3d\":[{\"type\":\"mesh3d\",\"colorbar\":{\"outlinewidth\":0,\"ticks\":\"\"}}],\"scatter\":[{\"fillpattern\":{\"fillmode\":\"overlay\",\"size\":10,\"solidity\":0.2},\"type\":\"scatter\"}],\"parcoords\":[{\"type\":\"parcoords\",\"line\":{\"colorbar\":{\"outlinewidth\":0,\"ticks\":\"\"}}}],\"scatterpolargl\":[{\"type\":\"scatterpolargl\",\"marker\":{\"colorbar\":{\"outlinewidth\":0,\"ticks\":\"\"}}}],\"bar\":[{\"error_x\":{\"color\":\"#2a3f5f\"},\"error_y\":{\"color\":\"#2a3f5f\"},\"marker\":{\"line\":{\"color\":\"#E5ECF6\",\"width\":0.5},\"pattern\":{\"fillmode\":\"overlay\",\"size\":10,\"solidity\":0.2}},\"type\":\"bar\"}],\"scattergeo\":[{\"type\":\"scattergeo\",\"marker\":{\"colorbar\":{\"outlinewidth\":0,\"ticks\":\"\"}}}],\"scatterpolar\":[{\"type\":\"scatterpolar\",\"marker\":{\"colorbar\":{\"outlinewidth\":0,\"ticks\":\"\"}}}],\"histogram\":[{\"marker\":{\"pattern\":{\"fillmode\":\"overlay\",\"size\":10,\"solidity\":0.2}},\"type\":\"histogram\"}],\"scattergl\":[{\"type\":\"scattergl\",\"marker\":{\"colorbar\":{\"outlinewidth\":0,\"ticks\":\"\"}}}],\"scatter3d\":[{\"type\":\"scatter3d\",\"line\":{\"colorbar\":{\"outlinewidth\":0,\"ticks\":\"\"}},\"marker\":{\"colorbar\":{\"outlinewidth\":0,\"ticks\":\"\"}}}],\"scattermapbox\":[{\"type\":\"scattermapbox\",\"marker\":{\"colorbar\":{\"outlinewidth\":0,\"ticks\":\"\"}}}],\"scatterternary\":[{\"type\":\"scatterternary\",\"marker\":{\"colorbar\":{\"outlinewidth\":0,\"ticks\":\"\"}}}],\"scattercarpet\":[{\"type\":\"scattercarpet\",\"marker\":{\"colorbar\":{\"outlinewidth\":0,\"ticks\":\"\"}}}],\"carpet\":[{\"aaxis\":{\"endlinecolor\":\"#2a3f5f\",\"gridcolor\":\"white\",\"linecolor\":\"white\",\"minorgridcolor\":\"white\",\"startlinecolor\":\"#2a3f5f\"},\"baxis\":{\"endlinecolor\":\"#2a3f5f\",\"gridcolor\":\"white\",\"linecolor\":\"white\",\"minorgridcolor\":\"white\",\"startlinecolor\":\"#2a3f5f\"},\"type\":\"carpet\"}],\"table\":[{\"cells\":{\"fill\":{\"color\":\"#EBF0F8\"},\"line\":{\"color\":\"white\"}},\"header\":{\"fill\":{\"color\":\"#C8D4E3\"},\"line\":{\"color\":\"white\"}},\"type\":\"table\"}],\"barpolar\":[{\"marker\":{\"line\":{\"color\":\"#E5ECF6\",\"width\":0.5},\"pattern\":{\"fillmode\":\"overlay\",\"size\":10,\"solidity\":0.2}},\"type\":\"barpolar\"}],\"pie\":[{\"automargin\":true,\"type\":\"pie\"}]},\"layout\":{\"autotypenumbers\":\"strict\",\"colorway\":[\"#636efa\",\"#EF553B\",\"#00cc96\",\"#ab63fa\",\"#FFA15A\",\"#19d3f3\",\"#FF6692\",\"#B6E880\",\"#FF97FF\",\"#FECB52\"],\"font\":{\"color\":\"#2a3f5f\"},\"hovermode\":\"closest\",\"hoverlabel\":{\"align\":\"left\"},\"paper_bgcolor\":\"white\",\"plot_bgcolor\":\"#E5ECF6\",\"polar\":{\"bgcolor\":\"#E5ECF6\",\"angularaxis\":{\"gridcolor\":\"white\",\"linecolor\":\"white\",\"ticks\":\"\"},\"radialaxis\":{\"gridcolor\":\"white\",\"linecolor\":\"white\",\"ticks\":\"\"}},\"ternary\":{\"bgcolor\":\"#E5ECF6\",\"aaxis\":{\"gridcolor\":\"white\",\"linecolor\":\"white\",\"ticks\":\"\"},\"baxis\":{\"gridcolor\":\"white\",\"linecolor\":\"white\",\"ticks\":\"\"},\"caxis\":{\"gridcolor\":\"white\",\"linecolor\":\"white\",\"ticks\":\"\"}},\"coloraxis\":{\"colorbar\":{\"outlinewidth\":0,\"ticks\":\"\"}},\"colorscale\":{\"sequential\":[[0.0,\"#0d0887\"],[0.1111111111111111,\"#46039f\"],[0.2222222222222222,\"#7201a8\"],[0.3333333333333333,\"#9c179e\"],[0.4444444444444444,\"#bd3786\"],[0.5555555555555556,\"#d8576b\"],[0.6666666666666666,\"#ed7953\"],[0.7777777777777778,\"#fb9f3a\"],[0.8888888888888888,\"#fdca26\"],[1.0,\"#f0f921\"]],\"sequentialminus\":[[0.0,\"#0d0887\"],[0.1111111111111111,\"#46039f\"],[0.2222222222222222,\"#7201a8\"],[0.3333333333333333,\"#9c179e\"],[0.4444444444444444,\"#bd3786\"],[0.5555555555555556,\"#d8576b\"],[0.6666666666666666,\"#ed7953\"],[0.7777777777777778,\"#fb9f3a\"],[0.8888888888888888,\"#fdca26\"],[1.0,\"#f0f921\"]],\"diverging\":[[0,\"#8e0152\"],[0.1,\"#c51b7d\"],[0.2,\"#de77ae\"],[0.3,\"#f1b6da\"],[0.4,\"#fde0ef\"],[0.5,\"#f7f7f7\"],[0.6,\"#e6f5d0\"],[0.7,\"#b8e186\"],[0.8,\"#7fbc41\"],[0.9,\"#4d9221\"],[1,\"#276419\"]]},\"xaxis\":{\"gridcolor\":\"white\",\"linecolor\":\"white\",\"ticks\":\"\",\"title\":{\"standoff\":15},\"zerolinecolor\":\"white\",\"automargin\":true,\"zerolinewidth\":2},\"yaxis\":{\"gridcolor\":\"white\",\"linecolor\":\"white\",\"ticks\":\"\",\"title\":{\"standoff\":15},\"zerolinecolor\":\"white\",\"automargin\":true,\"zerolinewidth\":2},\"scene\":{\"xaxis\":{\"backgroundcolor\":\"#E5ECF6\",\"gridcolor\":\"white\",\"linecolor\":\"white\",\"showbackground\":true,\"ticks\":\"\",\"zerolinecolor\":\"white\",\"gridwidth\":2},\"yaxis\":{\"backgroundcolor\":\"#E5ECF6\",\"gridcolor\":\"white\",\"linecolor\":\"white\",\"showbackground\":true,\"ticks\":\"\",\"zerolinecolor\":\"white\",\"gridwidth\":2},\"zaxis\":{\"backgroundcolor\":\"#E5ECF6\",\"gridcolor\":\"white\",\"linecolor\":\"white\",\"showbackground\":true,\"ticks\":\"\",\"zerolinecolor\":\"white\",\"gridwidth\":2}},\"shapedefaults\":{\"line\":{\"color\":\"#2a3f5f\"}},\"annotationdefaults\":{\"arrowcolor\":\"#2a3f5f\",\"arrowhead\":0,\"arrowwidth\":1},\"geo\":{\"bgcolor\":\"white\",\"landcolor\":\"#E5ECF6\",\"subunitcolor\":\"white\",\"showland\":true,\"showlakes\":true,\"lakecolor\":\"white\"},\"title\":{\"x\":0.05},\"mapbox\":{\"style\":\"light\"}}},\"xaxis\":{\"anchor\":\"y\",\"domain\":[0.0,1.0],\"matches\":\"x5\",\"showticklabels\":false},\"yaxis\":{\"anchor\":\"x\",\"domain\":[0.8400000000000001,1.0],\"tickformat\":\",d\"},\"xaxis2\":{\"anchor\":\"y2\",\"domain\":[0.0,1.0],\"matches\":\"x5\",\"showticklabels\":false},\"yaxis2\":{\"anchor\":\"x2\",\"domain\":[0.7100000000000001,0.79],\"dtick\":\"L1\"},\"xaxis3\":{\"anchor\":\"y3\",\"domain\":[0.0,1.0],\"matches\":\"x5\",\"showticklabels\":false},\"yaxis3\":{\"anchor\":\"x3\",\"domain\":[0.5,0.66],\"tickformat\":\",d\"},\"xaxis4\":{\"anchor\":\"y4\",\"domain\":[0.0,1.0],\"matches\":\"x5\",\"showticklabels\":false},\"yaxis4\":{\"anchor\":\"x4\",\"domain\":[0.29,0.45],\"tickformat\":\",d\"},\"xaxis5\":{\"anchor\":\"y5\",\"domain\":[0.0,1.0],\"hoverformat\":\"%Y-%m-%d\",\"showticklabels\":true,\"tickformat\":\"%Y-%m-%d\"},\"yaxis5\":{\"anchor\":\"x5\",\"domain\":[0.0,0.24],\"tickformat\":\",d\"},\"annotations\":[{\"font\":{\"size\":16},\"showarrow\":false,\"text\":\"\\uac00\\uaca9\",\"x\":0.5,\"xanchor\":\"center\",\"xref\":\"paper\",\"y\":1.0,\"yanchor\":\"bottom\",\"yref\":\"paper\"},{\"font\":{\"size\":16},\"showarrow\":false,\"text\":\"\\uc794\\uace0\\uc218\\ub7c9\",\"x\":0.5,\"xanchor\":\"center\",\"xref\":\"paper\",\"y\":0.79,\"yanchor\":\"bottom\",\"yref\":\"paper\"},{\"font\":{\"size\":16},\"showarrow\":false,\"text\":\"\\uc794\\uace0\\uac00\\uce58\",\"x\":0.5,\"xanchor\":\"center\",\"xref\":\"paper\",\"y\":0.66,\"yanchor\":\"bottom\",\"yref\":\"paper\"},{\"font\":{\"size\":16},\"showarrow\":false,\"text\":\"\\uc2e4\\ud604\\uc190\\uc775\",\"x\":0.5,\"xanchor\":\"center\",\"xref\":\"paper\",\"y\":0.45,\"yanchor\":\"bottom\",\"yref\":\"paper\"},{\"font\":{\"size\":16},\"showarrow\":false,\"text\":\"\\ucd1d\\uc790\\uc0b0\\uac00\\uce58\",\"x\":0.5,\"xanchor\":\"center\",\"xref\":\"paper\",\"y\":0.24,\"yanchor\":\"bottom\",\"yref\":\"paper\"}],\"margin\":{\"b\":25,\"l\":25,\"r\":25,\"t\":80},\"title\":{\"text\":\"\\ubc31\\ud14c\\uc2a4\\ud2b8 \\uacb0\\uacfc: 005930, 2023-01-02~2023-01-31\",\"x\":0.5,\"y\":0.98},\"uniformtext\":{\"minsize\":12,\"mode\":\"show\"},\"height\":800,\"hovermode\":\"x unified\",\"showlegend\":false},                        {\"modeBarButtonsToRemove\": [\"resetScale2d\", \"lasso2d\", \"zoomIn2d\", \"zoomOut2d\", \"select2d\"], \"displaylogo\": false, \"responsive\": true}                    ).then(function(){\n",
       "                            \n",
       "var gd = document.getElementById('a408c393-db72-462d-a65a-438c65c46733');\n",
       "var x = new MutationObserver(function (mutations, observer) {{\n",
       "        var display = window.getComputedStyle(gd).display;\n",
       "        if (!display || display === 'none') {{\n",
       "            console.log([gd, 'removed!']);\n",
       "            Plotly.purge(gd);\n",
       "            observer.disconnect();\n",
       "        }}\n",
       "}});\n",
       "\n",
       "// Listen for the removal of the full notebook cells\n",
       "var notebookContainer = gd.closest('#notebook-container');\n",
       "if (notebookContainer) {{\n",
       "    x.observe(notebookContainer, {childList: true});\n",
       "}}\n",
       "\n",
       "// Listen for the clearing of the current output cell\n",
       "var outputEl = gd.closest('.output');\n",
       "if (outputEl) {{\n",
       "    x.observe(outputEl, {childList: true});\n",
       "}}\n",
       "\n",
       "                        })                };                });            </script>        </div>"
      ]
     },
     "metadata": {},
     "output_type": "display_data"
    }
   ],
   "source": [
    "kq.backtest_plot_stock_daily(df_result8)"
   ]
  },
  {
   "cell_type": "code",
   "execution_count": 29,
   "metadata": {},
   "outputs": [],
   "source": [
    "df_result9, df_position9, logger = kq.backtest_stock_daily(\n",
    "    \"005930\",\n",
    "    trade_func, \n",
    "    \"2023-01-02\",\n",
    "    \"2023-01-03\",\n",
    "    init_cash=100_000, \n",
    "    return_position=True,\n",
    "    return_logger=True,\n",
    ")"
   ]
  },
  {
   "cell_type": "code",
   "execution_count": 30,
   "metadata": {},
   "outputs": [
    {
     "data": {
      "text/plain": [
       "1"
      ]
     },
     "execution_count": 30,
     "metadata": {},
     "output_type": "execute_result"
    }
   ],
   "source": [
    "from dateutil.parser import parse\n",
    "\n",
    "date = parse(\"2023-01-04\")\n",
    "order_qty = trade_func(\n",
    "    \"005930\", \n",
    "    date, \n",
    "    df_result9, \n",
    "    df_position9, \n",
    "    logger,\n",
    ")\n",
    "\n",
    "order_qty"
   ]
  },
  {
   "cell_type": "code",
   "execution_count": 31,
   "metadata": {},
   "outputs": [
    {
     "name": "stderr",
     "output_type": "stream",
     "text": [
      "[2023-01-04] 종목: 005930, 주문전 보유수량:      0 주문수량:      1, 매매수량:      1, 주문후 보유수량:      1\n"
     ]
    }
   ],
   "source": [
    "\n",
    "df_result10, df_position10 = kq.backtest_update_stock_daily(\n",
    "    \"005930\",\n",
    "    order_qty,\n",
    "    date,\n",
    "    df_result9,\n",
    "    df_position9,\n",
    ")"
   ]
  },
  {
   "cell_type": "code",
   "execution_count": 32,
   "metadata": {},
   "outputs": [
    {
     "data": {
      "text/plain": [
       "True"
      ]
     },
     "execution_count": 32,
     "metadata": {},
     "output_type": "execute_result"
    }
   ],
   "source": [
    "df_result8.iloc[:3].equals(df_result10)"
   ]
  }
 ],
 "metadata": {
  "kernelspec": {
   "display_name": "Python 3 (ipykernel)",
   "language": "python",
   "name": "python3"
  },
  "language_info": {
   "codemirror_mode": {
    "name": "ipython",
    "version": 3
   },
   "file_extension": ".py",
   "mimetype": "text/x-python",
   "name": "python",
   "nbconvert_exporter": "python",
   "pygments_lexer": "ipython3",
   "version": "3.10.13"
  },
  "orig_nbformat": 4
 },
 "nbformat": 4,
 "nbformat_minor": 2
}
