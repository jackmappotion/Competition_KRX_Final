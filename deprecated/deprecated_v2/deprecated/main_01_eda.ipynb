{
 "cells": [
  {
   "cell_type": "code",
   "execution_count": 3,
   "metadata": {},
   "outputs": [],
   "source": [
    "import pandas as pd\n",
    "\n",
    "import kquant as kq\n",
    "\n",
    "from tqdm import tqdm"
   ]
  },
  {
   "cell_type": "code",
   "execution_count": 4,
   "metadata": {},
   "outputs": [
    {
     "data": {
      "text/html": [
       "<div>\n",
       "<style scoped>\n",
       "    .dataframe tbody tr th:only-of-type {\n",
       "        vertical-align: middle;\n",
       "    }\n",
       "\n",
       "    .dataframe tbody tr th {\n",
       "        vertical-align: top;\n",
       "    }\n",
       "\n",
       "    .dataframe thead th {\n",
       "        text-align: right;\n",
       "    }\n",
       "</style>\n",
       "<table border=\"1\" class=\"dataframe\">\n",
       "  <thead>\n",
       "    <tr style=\"text-align: right;\">\n",
       "      <th></th>\n",
       "      <th>ISIN</th>\n",
       "      <th>SYMBOL</th>\n",
       "      <th>NAME</th>\n",
       "      <th>NAME_EN</th>\n",
       "      <th>SEC_TYPE</th>\n",
       "      <th>ADMIN_ISSUE</th>\n",
       "      <th>MARKET</th>\n",
       "    </tr>\n",
       "  </thead>\n",
       "  <tbody>\n",
       "    <tr>\n",
       "      <th>0</th>\n",
       "      <td>HK0000057197</td>\n",
       "      <td>900110</td>\n",
       "      <td>이스트아시아홀딩스</td>\n",
       "      <td>East Asia Holdings</td>\n",
       "      <td>FS</td>\n",
       "      <td>0</td>\n",
       "      <td>코스닥</td>\n",
       "    </tr>\n",
       "    <tr>\n",
       "      <th>1</th>\n",
       "      <td>HK0000214814</td>\n",
       "      <td>900270</td>\n",
       "      <td>헝셩그룹</td>\n",
       "      <td>HENG SHENG GROUP</td>\n",
       "      <td>FS</td>\n",
       "      <td>0</td>\n",
       "      <td>코스닥</td>\n",
       "    </tr>\n",
       "    <tr>\n",
       "      <th>2</th>\n",
       "      <td>HK0000295359</td>\n",
       "      <td>900260</td>\n",
       "      <td>로스웰</td>\n",
       "      <td>Rothwell</td>\n",
       "      <td>FS</td>\n",
       "      <td>0</td>\n",
       "      <td>코스닥</td>\n",
       "    </tr>\n",
       "    <tr>\n",
       "      <th>3</th>\n",
       "      <td>HK0000307485</td>\n",
       "      <td>900290</td>\n",
       "      <td>GRT</td>\n",
       "      <td>GRT</td>\n",
       "      <td>FS</td>\n",
       "      <td>0</td>\n",
       "      <td>코스닥</td>\n",
       "    </tr>\n",
       "    <tr>\n",
       "      <th>4</th>\n",
       "      <td>HK0000312568</td>\n",
       "      <td>900300</td>\n",
       "      <td>오가닉티코스메틱</td>\n",
       "      <td>ORGANIC TEA COSMETICS</td>\n",
       "      <td>FS</td>\n",
       "      <td>91</td>\n",
       "      <td>코스닥</td>\n",
       "    </tr>\n",
       "    <tr>\n",
       "      <th>...</th>\n",
       "      <td>...</td>\n",
       "      <td>...</td>\n",
       "      <td>...</td>\n",
       "      <td>...</td>\n",
       "      <td>...</td>\n",
       "      <td>...</td>\n",
       "      <td>...</td>\n",
       "    </tr>\n",
       "    <tr>\n",
       "      <th>3,753</th>\n",
       "      <td>KYG2114A1094</td>\n",
       "      <td>900120</td>\n",
       "      <td>씨케이에이치</td>\n",
       "      <td>CKH</td>\n",
       "      <td>FS</td>\n",
       "      <td>0</td>\n",
       "      <td>코스닥</td>\n",
       "    </tr>\n",
       "    <tr>\n",
       "      <th>3,754</th>\n",
       "      <td>KYG2115T1076</td>\n",
       "      <td>900250</td>\n",
       "      <td>크리스탈신소재</td>\n",
       "      <td>Crystal New Material</td>\n",
       "      <td>FS</td>\n",
       "      <td>0</td>\n",
       "      <td>코스닥</td>\n",
       "    </tr>\n",
       "    <tr>\n",
       "      <th>3,755</th>\n",
       "      <td>KYG3931T1076</td>\n",
       "      <td>900070</td>\n",
       "      <td>글로벌에스엠</td>\n",
       "      <td>GSMT</td>\n",
       "      <td>FS</td>\n",
       "      <td>0</td>\n",
       "      <td>코스닥</td>\n",
       "    </tr>\n",
       "    <tr>\n",
       "      <th>3,756</th>\n",
       "      <td>KYG5307W1015</td>\n",
       "      <td>900140</td>\n",
       "      <td>엘브이엠씨홀딩스</td>\n",
       "      <td>LVMC Holdings</td>\n",
       "      <td>FS</td>\n",
       "      <td>0</td>\n",
       "      <td>유가증권</td>\n",
       "    </tr>\n",
       "    <tr>\n",
       "      <th>3,757</th>\n",
       "      <td>USU652221081</td>\n",
       "      <td>900100</td>\n",
       "      <td>애머릿지</td>\n",
       "      <td>Ameridge</td>\n",
       "      <td>FS</td>\n",
       "      <td>0</td>\n",
       "      <td>코스닥</td>\n",
       "    </tr>\n",
       "  </tbody>\n",
       "</table>\n",
       "<p>3758 rows × 7 columns</p>\n",
       "</div>"
      ],
      "text/plain": [
       "               ISIN  SYMBOL                NAME                NAME_EN  \\\n",
       "0      HK0000057197  900110  이스트아시아홀딩스     East Asia Holdings   \n",
       "1      HK0000214814  900270            헝셩그룹       HENG SHENG GROUP   \n",
       "2      HK0000295359  900260              로스웰               Rothwell   \n",
       "3      HK0000307485  900290                 GRT                    GRT   \n",
       "4      HK0000312568  900300    오가닉티코스메틱  ORGANIC TEA COSMETICS   \n",
       "...             ...     ...                 ...                    ...   \n",
       "3,753  KYG2114A1094  900120        씨케이에이치                    CKH   \n",
       "3,754  KYG2115T1076  900250      크리스탈신소재   Crystal New Material   \n",
       "3,755  KYG3931T1076  900070        글로벌에스엠                   GSMT   \n",
       "3,756  KYG5307W1015  900140    엘브이엠씨홀딩스          LVMC Holdings   \n",
       "3,757  USU652221081  900100            애머릿지               Ameridge   \n",
       "\n",
       "      SEC_TYPE  ADMIN_ISSUE    MARKET  \n",
       "0           FS            0    코스닥  \n",
       "1           FS            0    코스닥  \n",
       "2           FS            0    코스닥  \n",
       "3           FS            0    코스닥  \n",
       "4           FS           91    코스닥  \n",
       "...        ...          ...       ...  \n",
       "3,753       FS            0    코스닥  \n",
       "3,754       FS            0    코스닥  \n",
       "3,755       FS            0    코스닥  \n",
       "3,756       FS            0  유가증권  \n",
       "3,757       FS            0    코스닥  \n",
       "\n",
       "[3758 rows x 7 columns]"
      ]
     },
     "execution_count": 4,
     "metadata": {},
     "output_type": "execute_result"
    }
   ],
   "source": [
    "df_symbols = kq.symbol_stock()\n",
    "df_symbols"
   ]
  },
  {
   "cell_type": "code",
   "execution_count": 5,
   "metadata": {},
   "outputs": [
    {
     "data": {
      "text/plain": [
       "MARKET\n",
       "유가증권    2086\n",
       "코스닥      1672\n",
       "Name: count, dtype: Int64"
      ]
     },
     "execution_count": 5,
     "metadata": {},
     "output_type": "execute_result"
    }
   ],
   "source": [
    "df_symbols[\"MARKET\"].value_counts()"
   ]
  },
  {
   "cell_type": "code",
   "execution_count": 6,
   "metadata": {},
   "outputs": [
    {
     "data": {
      "text/plain": [
       "SEC_TYPE\n",
       "ST    2572\n",
       "EF     760\n",
       "EN     376\n",
       "RT      23\n",
       "FS      13\n",
       "DR       9\n",
       "MF       3\n",
       "IF       1\n",
       "SC       1\n",
       "Name: count, dtype: Int64"
      ]
     },
     "execution_count": 6,
     "metadata": {},
     "output_type": "execute_result"
    }
   ],
   "source": [
    "\"\"\"\n",
    "{\n",
    "    \"ST\": \"주권(주식)\",\n",
    "    \"EF\": \"상장지수펀드 (ETF: Exchange Traded Fund)\",\n",
    "    \"EN\": \"상장지수증권 (ETN: Exchange Traded Note)\",\n",
    "    \"FS\": \"외국주권\",\n",
    "    \"DR\": \"주식예탁증서 (DR:Depository Receipt)\",\n",
    "    \"RT\": \"부동산투자회사\",\n",
    "    \"IF\": \"사회간접자본투융자회사\",\n",
    "    \"MF\": \"증권투자회사\",\n",
    "    \"SC\": \"선박투자회사\",\n",
    "}\n",
    "\"\"\"\n",
    "df_symbols[\"SEC_TYPE\"].value_counts()"
   ]
  },
  {
   "cell_type": "code",
   "execution_count": 7,
   "metadata": {},
   "outputs": [
    {
     "data": {
      "text/plain": [
       "ADMIN_ISSUE\n",
       "0     3,590\n",
       "60       95\n",
       "91       62\n",
       "50       11\n",
       "Name: count, dtype: int64"
      ]
     },
     "execution_count": 7,
     "metadata": {},
     "output_type": "execute_result"
    }
   ],
   "source": [
    "\"\"\"\n",
    "{\n",
    "    0: \"정상\",\n",
    "    10: \"시초가산출\",\n",
    "    20: \"투자주의\",\n",
    "    21: \"투자경고\",\n",
    "    22: \"투자위험\",\n",
    "    30: \"불성실공시\",\n",
    "    40: \"투자유의\",\n",
    "    50: \"관리지정\",\n",
    "    60: \"거래정지\",\n",
    "    61: \"거래중단\",\n",
    "    70: \"정리매매\",\n",
    "    80: \"단기과열\",\n",
    "    89: \"공매도X\",\n",
    "    91: \"기타\",\n",
    "},\n",
    "\"\"\"\n",
    "df_symbols[\"ADMIN_ISSUE\"].value_counts()"
   ]
  },
  {
   "cell_type": "code",
   "execution_count": 8,
   "metadata": {},
   "outputs": [],
   "source": [
    "df_symbols_using = df_symbols[\n",
    "    (df_symbols[\"MARKET\"].isin([\"코스닥\", \"유가증권\"]))\n",
    "    & (df_symbols[\"ADMIN_ISSUE\"] == 0)\n",
    "    & df_symbols[\"SEC_TYPE\"].isin([\"ST\", \"EF\", \"EN\"])\n",
    "]"
   ]
  },
  {
   "cell_type": "code",
   "execution_count": 14,
   "metadata": {},
   "outputs": [],
   "source": [
    "symbols = sorted(set(df_symbols_using[\"SYMBOL\"]))"
   ]
  },
  {
   "cell_type": "code",
   "execution_count": 16,
   "metadata": {},
   "outputs": [
    {
     "name": "stderr",
     "output_type": "stream",
     "text": [
      "100%|██████████| 3545/3545 [05:32<00:00, 10.67it/s]\n"
     ]
    }
   ],
   "source": [
    "stock_df_list = list()\n",
    "for symbol in tqdm(symbols):\n",
    "    _df = kq.daily_stock(symbol)\n",
    "    stock_df_list.append(_df)"
   ]
  },
  {
   "cell_type": "code",
   "execution_count": 17,
   "metadata": {},
   "outputs": [],
   "source": [
    "stock_df = pd.concat(stock_df_list, axis=0)"
   ]
  }
 ],
 "metadata": {
  "kernelspec": {
   "display_name": "Python 3 (ipykernel)",
   "language": "python",
   "name": "python3"
  },
  "orig_nbformat": 4
 },
 "nbformat": 4,
 "nbformat_minor": 2
}
