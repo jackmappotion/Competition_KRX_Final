{
 "cells": [
  {
   "cell_type": "code",
   "execution_count": 1,
   "metadata": {},
   "outputs": [],
   "source": [
    "import kquant as kq\n",
    "from tqdm import tqdm"
   ]
  },
  {
   "cell_type": "code",
   "execution_count": 2,
   "metadata": {},
   "outputs": [],
   "source": [
    "# set API account\n",
    "def set_api_account():\n",
    "    kq.set_api(\"KRX2308020\", \"EQDkUcyI3dK6oIAXqAR8BXOK4bKxHHmH\")\n",
    "    return None"
   ]
  },
  {
   "cell_type": "code",
   "execution_count": 3,
   "metadata": {},
   "outputs": [],
   "source": [
    "set_api_account()"
   ]
  },
  {
   "cell_type": "code",
   "execution_count": 4,
   "metadata": {},
   "outputs": [],
   "source": [
    "class DATA_LOADER:\n",
    "    class SYMBOL_LOADER:\n",
    "        @staticmethod\n",
    "        def load_symbols_df():\n",
    "            symbols_df = kq.symbol_stock()\n",
    "            return symbols_df\n",
    "\n",
    "        class SYMBOL_FILTER:\n",
    "            @staticmethod\n",
    "            def filter__market(symbols_df):\n",
    "                filtered_symbols_df = symbols_df[\n",
    "                    (symbols_df[\"MARKET\"].isin([\"코스닥\", \"유가증권\"]))\n",
    "                ].copy()\n",
    "                return filtered_symbols_df\n",
    "\n",
    "            @staticmethod\n",
    "            def filter__admin_issue(symbols_df):\n",
    "                filtered_symbols_df = symbols_df[\n",
    "                    (symbols_df[\"ADMIN_ISSUE\"] == 0)\n",
    "                ].copy()\n",
    "                return filtered_symbols_df\n",
    "\n",
    "            @staticmethod\n",
    "            def filter_sec_type(symbols_df):\n",
    "                filtered_symbols_df = symbols_df[\n",
    "                    symbols_df[\"SEC_TYPE\"].isin([\"ST\", \"EF\", \"EN\"])\n",
    "                ].copy()\n",
    "                return filtered_symbols_df\n",
    "\n",
    "        def filter_symbols_df(self, symbols_df):\n",
    "            symbol_filter = self.SYMBOL_FILTER()\n",
    "            filtered_symbols_df = symbol_filter.filter__market(symbols_df)\n",
    "            filtered_symbols_df = symbol_filter.filter__admin_issue(filtered_symbols_df)\n",
    "            filtered_symbols_df = symbol_filter.filter_sec_type(filtered_symbols_df)\n",
    "            return filtered_symbols_df\n",
    "\n",
    "        @staticmethod\n",
    "        def get_symbols(symbols_df):\n",
    "            symbols = sorted(set(symbols_df[\"SYMBOL\"]))\n",
    "            return symbols\n",
    "\n",
    "        # SYMBOL_LOADER PIPELINE\n",
    "        def __call__(self):\n",
    "            symbols_df = self.load_symbols_df()\n",
    "            filtered_symbols_df = self.filter_symbols_df(symbols_df)\n",
    "            symbols = self.get_symbols(filtered_symbols_df)\n",
    "            return symbols\n",
    "\n",
    "    class STOCK_LOADER:\n",
    "        def __init__(self, symbols) -> None:\n",
    "            self.symbols = symbols\n",
    "\n",
    "        @staticmethod\n",
    "        def load_stock_data_df(symbols):\n",
    "            stock_data_df_list = list()\n",
    "            for symbol in tqdm(symbols):\n",
    "                _stock_data_df = kq.daily_stock(symbol)\n",
    "                stock_data_df_list.append(_stock_data_df)\n",
    "            stock_data_df = pd.concat(stock_data_df_list, axis=0)\n",
    "            return stock_data_df\n",
    "\n",
    "        class STOCK_FILTER:\n",
    "            @staticmethod\n",
    "            def filter__zero_row(stock_data_df):\n",
    "                columns = [\"VOLUME\", \"OPEN\", \"HIGH\", \"LOW\", \"CLOSE\"]\n",
    "                filtered_stock_data_df = stock_data_df[\n",
    "                    (stock_data_df.loc[:, columns].all(axis=1))\n",
    "                ].copy()\n",
    "                return filtered_stock_data_df\n",
    "\n",
    "            @staticmethod\n",
    "            def filter__na_row(stock_data_df):\n",
    "                columns = [\"VOLUME\", \"OPEN\", \"HIGH\", \"LOW\", \"CLOSE\"]\n",
    "                filtered_stock_data_df = stock_data_df[\n",
    "                    ~(stock_data_df[columns].isna().any(axis=1))\n",
    "                ].copy()\n",
    "                return filtered_stock_data_df\n",
    "\n",
    "            @staticmethod\n",
    "            def filter__cnt(stock_data_df):\n",
    "                stock_cnt_series = stock_data_df.groupby(\"SYMBOL\").count()[\"CLOSE\"]\n",
    "                stock_mode_cnt = stock_cnt_series.mode()[0]\n",
    "\n",
    "                cnt_filtered_series = stock_cnt_series[\n",
    "                    stock_cnt_series == stock_mode_cnt\n",
    "                ]\n",
    "                cnt_filtered_stocks = cnt_filtered_series.index\n",
    "\n",
    "                filtered_stock_data_df = stock_data_df[\n",
    "                    stock_data_df[\"SYMBOL\"].isin(cnt_filtered_stocks)\n",
    "                ].copy()\n",
    "                return filtered_stock_data_df\n",
    "\n",
    "        def filter_stock_data_df(self, stock_data_df):\n",
    "            stock_filter = self.STOCK_FILTER()\n",
    "            filtered_stock_data_df = stock_filter.filter__zero_row(stock_data_df)\n",
    "            filtered_stock_data_df = stock_filter.filter__na_row(filtered_stock_data_df)\n",
    "            filtered_stock_data_df = stock_filter.filter__cnt(filtered_stock_data_df)\n",
    "            return filtered_stock_data_df\n",
    "\n",
    "        def __call__(self):\n",
    "            stock_data_df = self.load_stock_data_df(self.symbols)\n",
    "            filtered_stock_data_df = self.filter_stock_data_df(stock_data_df)\n",
    "            return filtered_stock_data_df"
   ]
  },
  {
   "cell_type": "code",
   "execution_count": 5,
   "metadata": {},
   "outputs": [],
   "source": [
    "data_loader = DATA_LOADER()\n",
    "\n",
    "symbol_loader = data_loader.SYMBOL_LOADER()\n",
    "symbols = symbol_loader()"
   ]
  },
  {
   "cell_type": "code",
   "execution_count": 6,
   "metadata": {},
   "outputs": [],
   "source": [
    "## TEMPOLARY\n",
    "symbols = symbols[:30]"
   ]
  },
  {
   "cell_type": "code",
   "execution_count": 7,
   "metadata": {},
   "outputs": [
    {
     "name": "stderr",
     "output_type": "stream",
     "text": [
      "100%|██████████| 30/30 [00:14<00:00,  2.01it/s]\n"
     ]
    }
   ],
   "source": [
    "stock_loader = data_loader.STOCK_LOADER(symbols)\n",
    "stocks_df = stock_loader()"
   ]
  },
  {
   "cell_type": "code",
   "execution_count": 8,
   "metadata": {},
   "outputs": [],
   "source": [
    "symbols = sorted(set(stocks_df[\"SYMBOL\"]))"
   ]
  },
  {
   "cell_type": "code",
   "execution_count": 9,
   "metadata": {},
   "outputs": [],
   "source": [
    "symbol = symbols[0]"
   ]
  },
  {
   "cell_type": "code",
   "execution_count": 10,
   "metadata": {},
   "outputs": [],
   "source": [
    "stock_df = stocks_df[stocks_df[\"SYMBOL\"] == symbol]"
   ]
  },
  {
   "cell_type": "code",
   "execution_count": 11,
   "metadata": {},
   "outputs": [],
   "source": [
    "# 기술적 분석\n",
    "# SIMILARITY MODEL\n",
    "\n",
    "class SIMILARITY_MODEL:\n",
    "    \"\"\"\n",
    "    def __init__(self, stock_df, CFG, n) -> None:\n",
    "        self.stock_df = stock_df\n",
    "        self.CFG = CFG\n",
    "        self.n = n\n",
    "\n",
    "        return None\n",
    "    \"\"\"\n",
    "\n",
    "    def __init__(self, stock_df, CFG, n) -> None:\n",
    "        self.stock_df = stock_df\n",
    "        self.CFG = CFG\n",
    "        self.n = n\n",
    "\n",
    "        return None\n",
    "\n",
    "    def get_x_y_dataset(self, array_ist):\n",
    "        CFG = self.CFG\n",
    "        i_window = CFG[\"input_window\"]\n",
    "        o_window = CFG[\"output_window\"]\n",
    "\n",
    "        x_dataset = list()\n",
    "        y_dataset = list()\n",
    "\n",
    "        for idx in range(len(array_ist) - i_window - o_window + 1):\n",
    "            _x = array_ist[idx : idx + i_window]\n",
    "            _y = array_ist[idx + i_window : idx + i_window + o_window]\n",
    "            x_dataset.append(_x)\n",
    "            y_dataset.append(_y)\n",
    "\n",
    "        x_dataset = np.array(x_dataset)\n",
    "        y_dataset = np.array(y_dataset).sum(axis=1)\n",
    "        final_x = array_ist[-i_window:]\n",
    "\n",
    "        return (final_x, x_dataset, y_dataset)\n",
    "\n",
    "    class SIMILARITY_MODEL_MAIN:\n",
    "        def get_similarity_main_df(self, x_dataset, y_dataset, final_x, n):\n",
    "            def get_cosine_similarity(array_1, array_2):\n",
    "                cosine_similarity = np.dot(array_1, array_2) / (\n",
    "                    np.linalg.norm(array_1) * np.linalg.norm(array_2)\n",
    "                )\n",
    "                return cosine_similarity\n",
    "\n",
    "            similarity_results = list()\n",
    "            for x_data, y_data in zip(x_dataset, y_dataset):\n",
    "                _similarity_score = get_cosine_similarity(x_data, final_x)\n",
    "                similarity_results.append(\n",
    "                    {\n",
    "                        \"similarity_score\": _similarity_score,\n",
    "                        \"actual_y\": y_data,\n",
    "                    }\n",
    "                )\n",
    "            similarity_df = pd.DataFrame(similarity_results)\n",
    "            similarity_main_df = similarity_df.nlargest(n, \"similarity_score\")\n",
    "            return similarity_main_df\n",
    "\n",
    "        @staticmethod\n",
    "        def get_pred_y(similarity_df):\n",
    "            pred_y = (\n",
    "                similarity_df[\"similarity_score\"] * similarity_df[\"actual_y\"]\n",
    "            ).mean()\n",
    "            return pred_y\n",
    "\n",
    "        def __call__(self, final_x, x_dataset, y_dataset, n):\n",
    "            similarity_main_df = self.get_similarity_main_df(\n",
    "                x_dataset, y_dataset, final_x, n\n",
    "            )\n",
    "            pred_y = self.get_pred_y(similarity_main_df)\n",
    "            return pred_y\n",
    "\n",
    "    def __call__(self):\n",
    "        stock_df = self.stock_df\n",
    "        array_list = stock_df[\"CHG_PCT\"].values\n",
    "        final_x, x_dataset, y_dataset = self.get_x_y_dataset(array_list)\n",
    "\n",
    "        similarity_model_main = self.SIMILARITY_MODEL_MAIN()\n",
    "        pred_y = similarity_model_main(final_x, x_dataset, y_dataset, self.n)\n",
    "        return pred_y"
   ]
  },
  {
   "cell_type": "code",
   "execution_count": 12,
   "metadata": {},
   "outputs": [],
   "source": [
    "CFG = {\n",
    "    \"dataset_window\": 200,\n",
    "    \"input_window\": 15,\n",
    "    \"output_window\": 5,\n",
    "}"
   ]
  },
  {
   "cell_type": "code",
   "execution_count": 13,
   "metadata": {},
   "outputs": [
    {
     "data": {
      "text/plain": [
       "0.7378725327341311"
      ]
     },
     "execution_count": 13,
     "metadata": {},
     "output_type": "execute_result"
    }
   ],
   "source": [
    "similarity_model = SIMILARITY_MODEL(stock_df, CFG, 5)\n",
    "pred_y = similarity_model()\n",
    "pred_y"
   ]
  },
  {
   "cell_type": "code",
   "execution_count": 14,
   "metadata": {},
   "outputs": [],
   "source": [
    "# 당기순이익\n",
    "stock_net_profit_df = kq.account_history(symbol, \"122700\")\n",
    "stock_net_profit_df.sort_values(\"YEARMONTH\", inplace=True)\n",
    "stock_net_profit_latest_df = stock_net_profit_df.tail(1)"
   ]
  },
  {
   "cell_type": "code",
   "execution_count": 15,
   "metadata": {},
   "outputs": [
    {
     "ename": "NameError",
     "evalue": "name 'lr' is not defined",
     "output_type": "error",
     "traceback": [
      "\u001b[0;31m---------------------------------------------------------------------------\u001b[0m",
      "\u001b[0;31mNameError\u001b[0m                                 Traceback (most recent call last)",
      "\u001b[1;32m/Users/jack/Desktop/things/project/krx/_krx_final/krx_gcp/main_pipeline_modulized.ipynb Cell 15\u001b[0m line \u001b[0;36m2\n\u001b[1;32m      <a href='vscode-notebook-cell:/Users/jack/Desktop/things/project/krx/_krx_final/krx_gcp/main_pipeline_modulized.ipynb#X20sZmlsZQ%3D%3D?line=0'>1</a>\u001b[0m stock_net_profit_array_list \u001b[39m=\u001b[39m stock_net_profit_df[\u001b[39m\"\u001b[39m\u001b[39mVALUE\u001b[39m\u001b[39m\"\u001b[39m]\u001b[39m.\u001b[39mvalues\n\u001b[0;32m----> <a href='vscode-notebook-cell:/Users/jack/Desktop/things/project/krx/_krx_final/krx_gcp/main_pipeline_modulized.ipynb#X20sZmlsZQ%3D%3D?line=1'>2</a>\u001b[0m lr\u001b[39m.\u001b[39mfit(\n\u001b[1;32m      <a href='vscode-notebook-cell:/Users/jack/Desktop/things/project/krx/_krx_final/krx_gcp/main_pipeline_modulized.ipynb#X20sZmlsZQ%3D%3D?line=2'>3</a>\u001b[0m     np\u001b[39m.\u001b[39marange(\u001b[39mlen\u001b[39m(stock_net_profit_array_list))\u001b[39m.\u001b[39mreshape(\u001b[39m-\u001b[39m\u001b[39m1\u001b[39m, \u001b[39m1\u001b[39m),\n\u001b[1;32m      <a href='vscode-notebook-cell:/Users/jack/Desktop/things/project/krx/_krx_final/krx_gcp/main_pipeline_modulized.ipynb#X20sZmlsZQ%3D%3D?line=3'>4</a>\u001b[0m     np\u001b[39m.\u001b[39marray(stock_net_profit_array_list)\u001b[39m.\u001b[39mreshape(\u001b[39m-\u001b[39m\u001b[39m1\u001b[39m, \u001b[39m1\u001b[39m),\n\u001b[1;32m      <a href='vscode-notebook-cell:/Users/jack/Desktop/things/project/krx/_krx_final/krx_gcp/main_pipeline_modulized.ipynb#X20sZmlsZQ%3D%3D?line=4'>5</a>\u001b[0m )\n\u001b[1;32m      <a href='vscode-notebook-cell:/Users/jack/Desktop/things/project/krx/_krx_final/krx_gcp/main_pipeline_modulized.ipynb#X20sZmlsZQ%3D%3D?line=5'>6</a>\u001b[0m stock_net_profit_coef \u001b[39m=\u001b[39m lr\u001b[39m.\u001b[39mcoef_\n",
      "\u001b[0;31mNameError\u001b[0m: name 'lr' is not defined"
     ]
    }
   ],
   "source": [
    "stock_net_profit_array_list = stock_net_profit_df[\"VALUE\"].values\n",
    "lr.fit(\n",
    "    np.arange(len(stock_net_profit_array_list)).reshape(-1, 1),\n",
    "    np.array(stock_net_profit_array_list).reshape(-1, 1),\n",
    ")\n",
    "stock_net_profit_coef = lr.coef_"
   ]
  },
  {
   "cell_type": "code",
   "execution_count": 16,
   "metadata": {},
   "outputs": [],
   "source": [
    "# 총자본 (총자산 - 총부채)\n",
    "stock_total_capitial_df = kq.account_history(symbol, \"115000\")\n",
    "stock_total_capitial_df.sort_values(\"YEARMONTH\", inplace=True)\n",
    "stock_total_capitial_latest_df = stock_total_capitial_df.tail(1)"
   ]
  },
  {
   "cell_type": "code",
   "execution_count": 161,
   "metadata": {},
   "outputs": [],
   "source": [
    "stock_total_capital_array_list = stock_total_capitial_df[\"VALUE\"].values\n",
    "lr.fit(\n",
    "    np.arange(len(stock_total_capital_array_list)).reshape(-1, 1),\n",
    "    np.array(stock_total_capital_array_list).reshape(-1, 1),\n",
    ")\n",
    "stock_total_capital_coef = lr.coef_"
   ]
  },
  {
   "cell_type": "code",
   "execution_count": 169,
   "metadata": {},
   "outputs": [],
   "source": [
    "stock_latest_df = stock_df.tail(1)\n",
    "\n",
    "# 시가총액\n",
    "stock_marketcap = stock_latest_df[\"MARKETCAP\"].values[0]\n",
    "# 총 주식 수\n",
    "stock_shares = stock_latest_df[\"SHARES\"].values[0]\n",
    "# 한 주의 가격\n",
    "stock_price = stock_latest_df[\"CLOSE\"].values[0]\n",
    "# 당기 순이익\n",
    "stock_net_profit = stock_net_profit_latest_df[\"VALUE\"].values[0]\n",
    "\n",
    "# 총 자본(총 자산 - 총 부채)\n",
    "stock_total_capital = stock_total_capitial_latest_df[\"VALUE\"].values[0]"
   ]
  },
  {
   "cell_type": "code",
   "execution_count": 170,
   "metadata": {},
   "outputs": [],
   "source": [
    "stock_eps = stock_net_profit / stock_shares\n",
    "stock_per = stock_marketcap / stock_net_profit\n",
    "stock_pbr = stock_price / (stock_total_capital / stock_shares)"
   ]
  },
  {
   "cell_type": "code",
   "execution_count": 171,
   "metadata": {},
   "outputs": [
    {
     "data": {
      "text/plain": [
       "744.9901650037334"
      ]
     },
     "execution_count": 171,
     "metadata": {},
     "output_type": "execute_result"
    }
   ],
   "source": [
    "stock_price / (stock_total_capital / stock_shares)"
   ]
  },
  {
   "cell_type": "code",
   "execution_count": 172,
   "metadata": {},
   "outputs": [
    {
     "data": {
      "text/plain": [
       "13065.865553621126"
      ]
     },
     "execution_count": 172,
     "metadata": {},
     "output_type": "execute_result"
    }
   ],
   "source": [
    "stock_marketcap / stock_net_profit"
   ]
  },
  {
   "cell_type": "code",
   "execution_count": 173,
   "metadata": {},
   "outputs": [
    {
     "data": {
      "text/plain": [
       "0.7730065764530116"
      ]
     },
     "execution_count": 173,
     "metadata": {},
     "output_type": "execute_result"
    }
   ],
   "source": [
    "stock_eps"
   ]
  },
  {
   "cell_type": "code",
   "execution_count": 174,
   "metadata": {},
   "outputs": [
    {
     "data": {
      "text/plain": [
       "13065.865553621126"
      ]
     },
     "execution_count": 174,
     "metadata": {},
     "output_type": "execute_result"
    }
   ],
   "source": [
    "stock_per"
   ]
  },
  {
   "cell_type": "code",
   "execution_count": 175,
   "metadata": {},
   "outputs": [
    {
     "data": {
      "text/plain": [
       "744.9901650037334"
      ]
     },
     "execution_count": 175,
     "metadata": {},
     "output_type": "execute_result"
    }
   ],
   "source": [
    "stock_pbr"
   ]
  }
 ],
 "metadata": {
  "kernelspec": {
   "display_name": "Python 3 (ipykernel)",
   "language": "python",
   "name": "python3"
  },
  "language_info": {
   "codemirror_mode": {
    "name": "ipython",
    "version": 3
   },
   "file_extension": ".py",
   "mimetype": "text/x-python",
   "name": "python",
   "nbconvert_exporter": "python",
   "pygments_lexer": "ipython3",
   "version": "3.10.13"
  },
  "orig_nbformat": 4
 },
 "nbformat": 4,
 "nbformat_minor": 2
}
