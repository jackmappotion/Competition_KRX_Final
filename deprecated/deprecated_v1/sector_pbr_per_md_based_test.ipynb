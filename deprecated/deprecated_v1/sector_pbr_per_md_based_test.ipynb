{
 "cells": [
  {
   "cell_type": "code",
   "execution_count": 1,
   "metadata": {},
   "outputs": [
    {
     "name": "stdout",
     "output_type": "stream",
     "text": [
      "Requirement already satisfied: boto3 in ./anaconda3/envs/sector_f/lib/python3.10/site-packages (1.28.54)\n",
      "Requirement already satisfied: botocore<1.32.0,>=1.31.54 in ./anaconda3/envs/sector_f/lib/python3.10/site-packages (from boto3) (1.31.54)\n",
      "Requirement already satisfied: jmespath<2.0.0,>=0.7.1 in ./anaconda3/envs/sector_f/lib/python3.10/site-packages (from boto3) (1.0.1)\n",
      "Requirement already satisfied: s3transfer<0.7.0,>=0.6.0 in ./anaconda3/envs/sector_f/lib/python3.10/site-packages (from boto3) (0.6.2)\n",
      "Requirement already satisfied: python-dateutil<3.0.0,>=2.1 in ./anaconda3/envs/sector_f/lib/python3.10/site-packages (from botocore<1.32.0,>=1.31.54->boto3) (2.8.2)\n",
      "Requirement already satisfied: urllib3<1.27,>=1.25.4 in ./anaconda3/envs/sector_f/lib/python3.10/site-packages (from botocore<1.32.0,>=1.31.54->boto3) (1.26.16)\n",
      "Requirement already satisfied: six>=1.5 in ./anaconda3/envs/sector_f/lib/python3.10/site-packages (from python-dateutil<3.0.0,>=2.1->botocore<1.32.0,>=1.31.54->boto3) (1.16.0)\n"
     ]
    }
   ],
   "source": [
    "!pip install boto3"
   ]
  },
  {
   "cell_type": "code",
   "execution_count": 2,
   "metadata": {},
   "outputs": [
    {
     "name": "stdout",
     "output_type": "stream",
     "text": [
      "Requirement already satisfied: pandas_ta in ./anaconda3/envs/sector_f/lib/python3.10/site-packages (0.3.14b0)\n",
      "Requirement already satisfied: pandas in ./anaconda3/envs/sector_f/lib/python3.10/site-packages (from pandas_ta) (2.1.1)\n",
      "Requirement already satisfied: numpy>=1.22.4 in ./anaconda3/envs/sector_f/lib/python3.10/site-packages (from pandas->pandas_ta) (1.26.0)\n",
      "Requirement already satisfied: python-dateutil>=2.8.2 in ./anaconda3/envs/sector_f/lib/python3.10/site-packages (from pandas->pandas_ta) (2.8.2)\n",
      "Requirement already satisfied: pytz>=2020.1 in ./anaconda3/envs/sector_f/lib/python3.10/site-packages (from pandas->pandas_ta) (2023.3.post1)\n",
      "Requirement already satisfied: tzdata>=2022.1 in ./anaconda3/envs/sector_f/lib/python3.10/site-packages (from pandas->pandas_ta) (2023.3)\n",
      "Requirement already satisfied: six>=1.5 in ./anaconda3/envs/sector_f/lib/python3.10/site-packages (from python-dateutil>=2.8.2->pandas->pandas_ta) (1.16.0)\n"
     ]
    }
   ],
   "source": [
    "!pip install pandas_ta"
   ]
  },
  {
   "cell_type": "code",
   "execution_count": 3,
   "metadata": {},
   "outputs": [],
   "source": [
    "import kquant as kq\n",
    "from krx_competition_20 import trade_func"
   ]
  },
  {
   "cell_type": "code",
   "execution_count": 4,
   "metadata": {},
   "outputs": [
    {
     "name": "stderr",
     "output_type": "stream",
     "text": [
      "[2023-08-22] 종목: 001540, 주문전 보유수량:      0 주문수량: 47,187, 매매수량: 47,187, 주문후 보유수량: 47,187\n",
      "[2023-08-22] 종목: 196700, 주문전 보유수량:      0 주문수량: 183,953, 매매수량: 183,953, 주문후 보유수량: 183,953\n"
     ]
    }
   ],
   "source": [
    "import datetime as dt\n",
    "dict_df_result_1, dict_df_position_1, logger = kq.backtest_stock_port_daily(\n",
    "    trade_func,\n",
    "    \"2023-08-22\",\n",
    "    \"2023-08-22\",\n",
    "    init_cash=1_000_000_000,\n",
    "    return_position=True,\n",
    "    return_logger=True,\n",
    ")"
   ]
  },
  {
   "cell_type": "code",
   "execution_count": 5,
   "metadata": {},
   "outputs": [
    {
     "name": "stderr",
     "output_type": "stream",
     "text": [
      "[2023-08-23] 종목: 043370, 주문전 보유수량:      0 주문수량:  7,172, 매매수량:  7,172, 주문후 보유수량:  7,172\n",
      "[2023-08-23] 종목: 078160, 주문전 보유수량:      0 주문수량:  7,604, 매매수량:  7,604, 주문후 보유수량:  7,604\n",
      "[2023-08-23] 종목: 086450, 주문전 보유수량:      0 주문수량:  4,174, 매매수량:  4,174, 주문후 보유수량:  4,174\n"
     ]
    }
   ],
   "source": [
    "date = dt.date(2023, 8, 23)\n",
    "symbols_and_orders = trade_func(\n",
    "    date,\n",
    "    dict_df_result_1,\n",
    "    dict_df_position_1,\n",
    "    logger,\n",
    ")\n",
    "dict_df_result_2, dict_df_position_2 = kq.backtest_update_stock_port_daily(\n",
    "    symbols_and_orders,\n",
    "    date,\n",
    "    dict_df_result_1,\n",
    "    dict_df_position_1,\n",
    ")"
   ]
  },
  {
   "cell_type": "code",
   "execution_count": 6,
   "metadata": {},
   "outputs": [
    {
     "name": "stderr",
     "output_type": "stream",
     "text": [
      "[2023-08-24] 종목: 196700, 주문전 보유수량: 183,953 주문수량: -183,953, 매매수량: -183,953, 주문후 보유수량:      0\n",
      "[2023-08-24] 종목: 072020, 주문전 보유수량:      0 주문수량:  4,262, 매매수량:  4,262, 주문후 보유수량:  4,262\n"
     ]
    }
   ],
   "source": [
    "date = dt.date(2023, 8, 24)\n",
    "\n",
    "symbols_and_orders = trade_func(\n",
    "    date,\n",
    "    dict_df_result_2,\n",
    "    dict_df_position_2,\n",
    "    logger,\n",
    ")\n",
    "\n",
    "dict_df_result_3, dict_df_position_3 = kq.backtest_update_stock_port_daily(\n",
    "    symbols_and_orders,\n",
    "    date,\n",
    "    dict_df_result_2,\n",
    "    dict_df_position_2,\n",
    ")"
   ]
  },
  {
   "cell_type": "code",
   "execution_count": 7,
   "metadata": {},
   "outputs": [
    {
     "data": {
      "text/plain": [
       "1005683275"
      ]
     },
     "execution_count": 7,
     "metadata": {},
     "output_type": "execute_result"
    }
   ],
   "source": [
    "date = dt.date(2023, 9, 22)\n",
    "\n",
    "dict_df_result_4, dict_df_position_4 = kq.backtest_update_stock_port_daily(\n",
    "    [],\n",
    "    date,\n",
    "    dict_df_result_3,\n",
    "    dict_df_position_3,\n",
    ")\n",
    "result = dict_df_result_4[\"TOTAL\"][\"TOTAL_VALUE\"].tail(1).values[0]\n",
    "result"
   ]
  },
  {
   "cell_type": "code",
   "execution_count": 8,
   "metadata": {},
   "outputs": [
    {
     "data": {
      "text/plain": [
       "1005683275"
      ]
     },
     "execution_count": 8,
     "metadata": {},
     "output_type": "execute_result"
    }
   ],
   "source": [
    "result"
   ]
  },
  {
   "cell_type": "code",
   "execution_count": 9,
   "metadata": {},
   "outputs": [
    {
     "name": "stderr",
     "output_type": "stream",
     "text": [
      "종료일 수정: 2023-09-10 -> 2023-09-08\n",
      "[2023-08-22] 종목: 049070, 주문전 보유수량:      0 주문수량:  8,533, 매매수량:  8,533, 주문후 보유수량:  8,533\n",
      "[2023-08-22] 종목: 092300, 주문전 보유수량:      0 주문수량: 30,874, 매매수량: 30,874, 주문후 보유수량: 30,874\n",
      "[2023-08-22] 종목: 210540, 주문전 보유수량:      0 주문수량: 11,018, 매매수량: 11,018, 주문후 보유수량: 11,018\n",
      "[2023-08-22] 종목: 347770, 주문전 보유수량:      0 주문수량: 42,222, 매매수량: 42,222, 주문후 보유수량: 42,222\n",
      "[2023-08-23] 종목: 000760, 주문전 보유수량:      0 주문수량:  2,482, 매매수량:  2,482, 주문후 보유수량:  2,482\n",
      "[2023-08-23] 종목: 011210, 주문전 보유수량:      0 주문수량:    701, 매매수량:    701, 주문후 보유수량:    701\n",
      "[2023-08-23] 종목: 016740, 주문전 보유수량:      0 주문수량:  9,882, 매매수량:  9,882, 주문후 보유수량:  9,882\n",
      "[2023-08-23] 종목: 017940, 주문전 보유수량:      0 주문수량:    758, 매매수량:    758, 주문후 보유수량:    758\n",
      "[2023-08-23] 종목: 069960, 주문전 보유수량:      0 주문수량:    478, 매매수량:    478, 주문후 보유수량:    478\n",
      "[2023-08-24] 종목: 004020, 주문전 보유수량:      0 주문수량:    478, 매매수량:    478, 주문후 보유수량:    478\n",
      "[2023-08-24] 종목: 004450, 주문전 보유수량:      0 주문수량:    510, 매매수량:    510, 주문후 보유수량:    510\n",
      "[2023-08-24] 종목: 084010, 주문전 보유수량:      0 주문수량:  1,028, 매매수량:  1,028, 주문후 보유수량:  1,028\n",
      "[2023-08-25] 종목: 014710, 주문전 보유수량:      0 주문수량:    525, 매매수량:    525, 주문후 보유수량:    525\n",
      "[2023-08-25] 종목: 033920, 주문전 보유수량:      0 주문수량:    569, 매매수량:    569, 주문후 보유수량:    569\n",
      "[2023-08-25] 종목: 058730, 주문전 보유수량:      0 주문수량:    820, 매매수량:    820, 주문후 보유수량:    820\n",
      "[2023-08-25] 종목: 267270, 주문전 보유수량:      0 주문수량:     36, 매매수량:     36, 주문후 보유수량:     36\n",
      "[2023-08-28] 종목: 347770, 주문전 보유수량: 42,222 주문수량: -42,222, 매매수량: -42,222, 주문후 보유수량:      0\n",
      "[2023-08-28] 종목: 002380, 주문전 보유수량:      0 주문수량:      3, 매매수량:      3, 주문후 보유수량:      3\n",
      "[2023-08-28] 종목: 042110, 주문전 보유수량:      0 주문수량:    467, 매매수량:    467, 주문후 보유수량:    467\n",
      "[2023-08-28] 종목: 100590, 주문전 보유수량:      0 주문수량:    132, 매매수량:    132, 주문후 보유수량:    132\n",
      "[2023-08-28] 종목: 236200, 주문전 보유수량:      0 주문수량:     34, 매매수량:     34, 주문후 보유수량:     34\n",
      "[2023-08-29] 종목: 048870, 주문전 보유수량:      0 주문수량: 28,471, 매매수량: 28,471, 주문후 보유수량: 28,471\n",
      "[2023-08-29] 종목: 053450, 주문전 보유수량:      0 주문수량:  8,049, 매매수량:  8,049, 주문후 보유수량:  8,049\n",
      "[2023-08-29] 종목: 160980, 주문전 보유수량:      0 주문수량:  3,869, 매매수량:  3,869, 주문후 보유수량:  3,869\n",
      "[2023-08-30] 종목: 050860, 주문전 보유수량:      0 주문수량:  5,681, 매매수량:  5,681, 주문후 보유수량:  5,681\n",
      "[2023-08-30] 종목: 051490, 주문전 보유수량:      0 주문수량:  1,916, 매매수량:  1,916, 주문후 보유수량:  1,916\n",
      "[2023-08-30] 종목: 073560, 주문전 보유수량:      0 주문수량:  7,766, 매매수량:  7,766, 주문후 보유수량:  7,766\n",
      "[2023-08-31] 종목: 043370, 주문전 보유수량:      0 주문수량:    380, 매매수량:    380, 주문후 보유수량:    380\n",
      "[2023-08-31] 종목: 143160, 주문전 보유수량:      0 주문수량:    132, 매매수량:    132, 주문후 보유수량:    132\n",
      "[2023-08-31] 종목: 348350, 주문전 보유수량:      0 주문수량:    242, 매매수량:    242, 주문후 보유수량:    242\n",
      "[2023-09-01] 종목: 048870, 주문전 보유수량: 28,471 주문수량: -28,471, 매매수량: -28,471, 주문후 보유수량:      0\n",
      "[2023-09-01] 종목: 049070, 주문전 보유수량:  8,533 주문수량: -8,533, 매매수량: -8,533, 주문후 보유수량:      0\n",
      "[2023-09-01] 종목: 000500, 주문전 보유수량:      0 주문수량:     26, 매매수량:     26, 주문후 보유수량:     26\n",
      "[2023-09-01] 종목: 007340, 주문전 보유수량:      0 주문수량:      5, 매매수량:      5, 주문후 보유수량:      5\n",
      "[2023-09-01] 종목: 052790, 주문전 보유수량:      0 주문수량:     84, 매매수량:     84, 주문후 보유수량:     84\n",
      "[2023-09-01] 종목: 123420, 주문전 보유수량:      0 주문수량:     70, 매매수량:     70, 주문후 보유수량:     70\n",
      "[2023-09-01] 종목: 201490, 주문전 보유수량:      0 주문수량:    153, 매매수량:    153, 주문후 보유수량:    153\n",
      "[2023-09-04] 종목: 004020, 주문전 보유수량:    478 주문수량:   -478, 매매수량:   -478, 주문후 보유수량:      0\n",
      "[2023-09-04] 종목: 014710, 주문전 보유수량:    525 주문수량:   -525, 매매수량:   -525, 주문후 보유수량:      0\n",
      "[2023-09-04] 종목: 053450, 주문전 보유수량:  8,049 주문수량: -8,049, 매매수량: -8,049, 주문후 보유수량:      0\n",
      "[2023-09-04] 종목: 073560, 주문전 보유수량:  7,766 주문수량: -7,766, 매매수량: -7,766, 주문후 보유수량:      0\n",
      "[2023-09-04] 종목: 100590, 주문전 보유수량:    132 주문수량:   -132, 매매수량:   -132, 주문후 보유수량:      0\n",
      "[2023-09-04] 종목: 160980, 주문전 보유수량:  3,869 주문수량: -3,869, 매매수량: -3,869, 주문후 보유수량:      0\n",
      "[2023-09-04] 종목: 002240, 주문전 보유수량:      0 주문수량:  4,298, 매매수량:  4,298, 주문후 보유수량:  4,298\n",
      "[2023-09-04] 종목: 016580, 주문전 보유수량:      0 주문수량:  5,631, 매매수량:  5,631, 주문후 보유수량:  5,631\n",
      "[2023-09-04] 종목: 155660, 주문전 보유수량:      0 주문수량: 17,092, 매매수량: 17,092, 주문후 보유수량: 17,092\n",
      "[2023-09-05] 종목: 000500, 주문전 보유수량:     26 주문수량:    -26, 매매수량:    -26, 주문후 보유수량:      0\n",
      "[2023-09-05] 종목: 002380, 주문전 보유수량:      3 주문수량:     -3, 매매수량:     -3, 주문후 보유수량:      0\n",
      "[2023-09-05] 종목: 007340, 주문전 보유수량:      5 주문수량:     -5, 매매수량:     -5, 주문후 보유수량:      0\n",
      "[2023-09-05] 종목: 043370, 주문전 보유수량:    380 주문수량:   -380, 매매수량:   -380, 주문후 보유수량:      0\n",
      "[2023-09-05] 종목: 092300, 주문전 보유수량: 30,874 주문수량: -30,874, 매매수량: -30,874, 주문후 보유수량:      0\n",
      "[2023-09-05] 종목: 348350, 주문전 보유수량:    242 주문수량:   -242, 매매수량:   -242, 주문후 보유수량:      0\n",
      "[2023-09-05] 종목: 032960, 주문전 보유수량:      0 주문수량:  3,282, 매매수량:  3,282, 주문후 보유수량:  3,282\n",
      "[2023-09-05] 종목: 044780, 주문전 보유수량:      0 주문수량: 27,875, 매매수량: 27,875, 주문후 보유수량: 27,875\n",
      "[2023-09-05] 종목: 065680, 주문전 보유수량:      0 주문수량:  3,050, 매매수량:  3,050, 주문후 보유수량:  3,050\n",
      "[2023-09-05] 종목: 136490, 주문전 보유수량:      0 주문수량:  6,111, 매매수량:  6,111, 주문후 보유수량:  6,111\n",
      "[2023-09-06] 종목: 016740, 주문전 보유수량:  9,882 주문수량: -9,882, 매매수량: -9,882, 주문후 보유수량:      0\n",
      "[2023-09-06] 종목: 025530, 주문전 보유수량:      0 주문수량: 13,225, 매매수량: 13,225, 주문후 보유수량: 13,225\n",
      "[2023-09-06] 종목: 033130, 주문전 보유수량:      0 주문수량: 28,537, 매매수량: 28,537, 주문후 보유수량: 28,537\n",
      "[2023-09-06] 종목: 053620, 주문전 보유수량:      0 주문수량:  7,461, 매매수량:  7,461, 주문후 보유수량:  7,461\n",
      "[2023-09-07] 종목: 065680, 주문전 보유수량:  3,050 주문수량: -3,050, 매매수량: -3,050, 주문후 보유수량:      0\n",
      "[2023-09-07] 종목: 071200, 주문전 보유수량:      0 주문수량:  3,763, 매매수량:  3,763, 주문후 보유수량:  3,763\n",
      "[2023-09-07] 종목: 088910, 주문전 보유수량:      0 주문수량:  9,551, 매매수량:  9,551, 주문후 보유수량:  9,551\n",
      "[2023-09-07] 종목: 131090, 주문전 보유수량:      0 주문수량: 16,010, 매매수량: 16,010, 주문후 보유수량: 16,010\n",
      "[2023-09-08] 종목: 011210, 주문전 보유수량:    701 주문수량:   -701, 매매수량:   -701, 주문후 보유수량:      0\n",
      "[2023-09-08] 종목: 051490, 주문전 보유수량:  1,916 주문수량: -1,916, 매매수량: -1,916, 주문후 보유수량:      0\n",
      "[2023-09-08] 종목: 080220, 주문전 보유수량:      0 주문수량:  3,441, 매매수량:  3,441, 주문후 보유수량:  3,441\n",
      "[2023-09-08] 종목: 083450, 주문전 보유수량:      0 주문수량:    650, 매매수량:    650, 주문후 보유수량:    650\n",
      "[2023-09-08] 종목: 141000, 주문전 보유수량:      0 주문수량:  1,946, 매매수량:  1,946, 주문후 보유수량:  1,946\n"
     ]
    }
   ],
   "source": [
    "import kquant as kq\n",
    "\n",
    "# loop\n",
    "dict_df_result = kq.backtest_stock_port_daily(\n",
    "    trade_func,\n",
    "    \"2023-08-22\",  # 실제 심사에서는 투자기간 시작일\n",
    "    \"2023-09-10\",  # 실제 심사에서는 투자기간 종료일\n",
    "    init_cash=1_000_000_000,  # 10억원\n",
    ")"
   ]
  }
 ],
 "metadata": {
  "kernelspec": {
   "display_name": "Python 3 (ipykernel)",
   "language": "python",
   "name": "python3"
  },
  "language_info": {
   "codemirror_mode": {
    "name": "ipython",
    "version": 3
   },
   "file_extension": ".py",
   "mimetype": "text/x-python",
   "name": "python",
   "nbconvert_exporter": "python",
   "pygments_lexer": "ipython3",
   "version": "3.10.12"
  },
  "orig_nbformat": 4
 },
 "nbformat": 4,
 "nbformat_minor": 2
}
