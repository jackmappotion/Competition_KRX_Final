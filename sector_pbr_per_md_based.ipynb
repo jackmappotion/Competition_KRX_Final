{
 "cells": [
  {
   "cell_type": "code",
   "execution_count": 1,
   "metadata": {},
   "outputs": [],
   "source": [
    "import kquant as kq\n",
    "from krx_competition_20 import trade_func"
   ]
  },
  {
   "cell_type": "code",
   "execution_count": 2,
   "metadata": {},
   "outputs": [
    {
     "ename": "FileNotFoundError",
     "evalue": "[Errno 2] No such file or directory: '/home/jack/anaconda3/envs/sector_main/lib/python3.10/site-packages/krx_competition_20/processor/data/symbol_sector_dict.json'",
     "output_type": "error",
     "traceback": [
      "\u001b[0;31m---------------------------------------------------------------------------\u001b[0m",
      "\u001b[0;31mFileNotFoundError\u001b[0m                         Traceback (most recent call last)",
      "\u001b[1;32m/Users/jack/Desktop/things/project/krx/krx_github/sector_pbr_per_md_based.ipynb Cell 2\u001b[0m line \u001b[0;36m4\n\u001b[1;32m      <a href='vscode-notebook-cell:/Users/jack/Desktop/things/project/krx/krx_github/sector_pbr_per_md_based.ipynb#W1sZmlsZQ%3D%3D?line=0'>1</a>\u001b[0m \u001b[39mimport\u001b[39;00m \u001b[39mkquant\u001b[39;00m \u001b[39mas\u001b[39;00m \u001b[39mkq\u001b[39;00m\n\u001b[1;32m      <a href='vscode-notebook-cell:/Users/jack/Desktop/things/project/krx/krx_github/sector_pbr_per_md_based.ipynb#W1sZmlsZQ%3D%3D?line=2'>3</a>\u001b[0m \u001b[39m# loop\u001b[39;00m\n\u001b[0;32m----> <a href='vscode-notebook-cell:/Users/jack/Desktop/things/project/krx/krx_github/sector_pbr_per_md_based.ipynb#W1sZmlsZQ%3D%3D?line=3'>4</a>\u001b[0m dict_df_result \u001b[39m=\u001b[39m kq\u001b[39m.\u001b[39;49mbacktest_stock_port_daily(\n\u001b[1;32m      <a href='vscode-notebook-cell:/Users/jack/Desktop/things/project/krx/krx_github/sector_pbr_per_md_based.ipynb#W1sZmlsZQ%3D%3D?line=4'>5</a>\u001b[0m     trade_func,\n\u001b[1;32m      <a href='vscode-notebook-cell:/Users/jack/Desktop/things/project/krx/krx_github/sector_pbr_per_md_based.ipynb#W1sZmlsZQ%3D%3D?line=5'>6</a>\u001b[0m     \u001b[39m\"\u001b[39;49m\u001b[39m2023-08-22\u001b[39;49m\u001b[39m\"\u001b[39;49m,  \u001b[39m# 실제 심사에서는 투자기간 시작일\u001b[39;49;00m\n\u001b[1;32m      <a href='vscode-notebook-cell:/Users/jack/Desktop/things/project/krx/krx_github/sector_pbr_per_md_based.ipynb#W1sZmlsZQ%3D%3D?line=6'>7</a>\u001b[0m     \u001b[39m\"\u001b[39;49m\u001b[39m2023-09-22\u001b[39;49m\u001b[39m\"\u001b[39;49m,  \u001b[39m# 실제 심사에서는 투자기간 종료일\u001b[39;49;00m\n\u001b[1;32m      <a href='vscode-notebook-cell:/Users/jack/Desktop/things/project/krx/krx_github/sector_pbr_per_md_based.ipynb#W1sZmlsZQ%3D%3D?line=7'>8</a>\u001b[0m     init_cash\u001b[39m=\u001b[39;49m\u001b[39m1_000_000_000\u001b[39;49m,  \u001b[39m# 10억원\u001b[39;49;00m\n\u001b[1;32m      <a href='vscode-notebook-cell:/Users/jack/Desktop/things/project/krx/krx_github/sector_pbr_per_md_based.ipynb#W1sZmlsZQ%3D%3D?line=8'>9</a>\u001b[0m )\n",
      "File \u001b[0;32mkquant/analysis/stock/backtest/__init__.py:2194\u001b[0m, in \u001b[0;36mkquant.analysis.stock.backtest.backtest_stock_port_daily\u001b[0;34m()\u001b[0m\n",
      "File \u001b[0;32m~/anaconda3/envs/sector_main/lib/python3.10/site-packages/krx_competition_20/trade_func.py:53\u001b[0m, in \u001b[0;36mtrade_func\u001b[0;34m(date, dict_df_result, dict_df_position, logger)\u001b[0m\n\u001b[1;32m     49\u001b[0m \u001b[39m\u001b[39m\u001b[39m\"\"\"\u001b[39;00m\n\u001b[1;32m     50\u001b[0m \u001b[39mSYMBOL_SECTOR_PROCESSOR\u001b[39;00m\n\u001b[1;32m     51\u001b[0m \u001b[39m\"\"\"\u001b[39;00m\n\u001b[1;32m     52\u001b[0m symbol_sector_processor \u001b[39m=\u001b[39m SYMBOL_SECTOR_PROCESSOR(total_symbols)\n\u001b[0;32m---> 53\u001b[0m sampled_symbol_df \u001b[39m=\u001b[39m symbol_sector_processor()\n\u001b[1;32m     55\u001b[0m \u001b[39m\u001b[39m\u001b[39m\"\"\"\u001b[39;00m\n\u001b[1;32m     56\u001b[0m \u001b[39mSCORE_PROCESSOR\u001b[39;00m\n\u001b[1;32m     57\u001b[0m \u001b[39m\"\"\"\u001b[39;00m\n\u001b[1;32m     58\u001b[0m sectors \u001b[39m=\u001b[39m \u001b[39msorted\u001b[39m(\u001b[39mset\u001b[39m(sampled_symbol_df[\u001b[39m\"\u001b[39m\u001b[39mSECTOR\u001b[39m\u001b[39m\"\u001b[39m]))\n",
      "File \u001b[0;32m~/anaconda3/envs/sector_main/lib/python3.10/site-packages/krx_competition_20/processor/sector_processor.py:124\u001b[0m, in \u001b[0;36mSYMBOL_SECTOR_PROCESSOR.__call__\u001b[0;34m(self)\u001b[0m\n\u001b[1;32m    121\u001b[0m symbols \u001b[39m=\u001b[39m \u001b[39mself\u001b[39m\u001b[39m.\u001b[39msymbols\n\u001b[1;32m    122\u001b[0m CFG \u001b[39m=\u001b[39m \u001b[39mself\u001b[39m\u001b[39m.\u001b[39mCFG\n\u001b[0;32m--> 124\u001b[0m symbol_sector_dict \u001b[39m=\u001b[39m \u001b[39mself\u001b[39;49m\u001b[39m.\u001b[39;49mload_symbol_sector_dict()\n\u001b[1;32m    126\u001b[0m symbol_df \u001b[39m=\u001b[39m \u001b[39mself\u001b[39m\u001b[39m.\u001b[39mformat_symbol_df(symbols\u001b[39m=\u001b[39msymbols)\n\u001b[1;32m    127\u001b[0m symbol_df \u001b[39m=\u001b[39m \u001b[39mself\u001b[39m\u001b[39m.\u001b[39mappend_sector(\n\u001b[1;32m    128\u001b[0m     symbol_df\u001b[39m=\u001b[39msymbol_df, symbol_sector_dict\u001b[39m=\u001b[39msymbol_sector_dict\n\u001b[1;32m    129\u001b[0m )\n",
      "File \u001b[0;32m~/anaconda3/envs/sector_main/lib/python3.10/site-packages/krx_competition_20/processor/sector_processor.py:38\u001b[0m, in \u001b[0;36mSYMBOL_SECTOR_PROCESSOR.load_symbol_sector_dict\u001b[0;34m()\u001b[0m\n\u001b[1;32m     36\u001b[0m module_dir \u001b[39m=\u001b[39m os\u001b[39m.\u001b[39mpath\u001b[39m.\u001b[39mdirname(\u001b[39m__file__\u001b[39m)\n\u001b[1;32m     37\u001b[0m json_file_path \u001b[39m=\u001b[39m os\u001b[39m.\u001b[39mpath\u001b[39m.\u001b[39mjoin(module_dir,\u001b[39m'\u001b[39m\u001b[39mdata\u001b[39m\u001b[39m'\u001b[39m,\u001b[39m'\u001b[39m\u001b[39msymbol_sector_dict.json\u001b[39m\u001b[39m'\u001b[39m)\n\u001b[0;32m---> 38\u001b[0m \u001b[39mwith\u001b[39;00m \u001b[39mopen\u001b[39;49m(json_file_path, \u001b[39m\"\u001b[39;49m\u001b[39mr\u001b[39;49m\u001b[39m\"\u001b[39;49m) \u001b[39mas\u001b[39;00m f:\n\u001b[1;32m     39\u001b[0m     symbol_sector_dict \u001b[39m=\u001b[39m json\u001b[39m.\u001b[39mload(f)\n\u001b[1;32m     41\u001b[0m \u001b[39mreturn\u001b[39;00m symbol_sector_dict\n",
      "\u001b[0;31mFileNotFoundError\u001b[0m: [Errno 2] No such file or directory: '/home/jack/anaconda3/envs/sector_main/lib/python3.10/site-packages/krx_competition_20/processor/data/symbol_sector_dict.json'"
     ]
    }
   ],
   "source": [
    "import kquant as kq\n",
    "\n",
    "# loop\n",
    "dict_df_result = kq.backtest_stock_port_daily(\n",
    "    trade_func,\n",
    "    \"2023-08-22\",  # 실제 심사에서는 투자기간 시작일\n",
    "    \"2023-09-22\",  # 실제 심사에서는 투자기간 종료일\n",
    "    init_cash=1_000_000_000,  # 10억원\n",
    ")"
   ]
  },
  {
   "cell_type": "code",
   "execution_count": null,
   "metadata": {},
   "outputs": [],
   "source": []
  }
 ],
 "metadata": {
  "kernelspec": {
   "display_name": "Python 3 (ipykernel)",
   "language": "python",
   "name": "python3"
  },
  "language_info": {
   "codemirror_mode": {
    "name": "ipython",
    "version": 3
   },
   "file_extension": ".py",
   "mimetype": "text/x-python",
   "name": "python",
   "nbconvert_exporter": "python",
   "pygments_lexer": "ipython3",
   "version": "3.10.12"
  },
  "orig_nbformat": 4
 },
 "nbformat": 4,
 "nbformat_minor": 2
}
