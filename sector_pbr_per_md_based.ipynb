{
 "cells": [
  {
   "cell_type": "code",
   "execution_count": null,
   "metadata": {},
   "outputs": [],
   "source": [
    "import kquant as kq\n",
    "from krx_competition_20 import trade_func"
   ]
  },
  {
   "cell_type": "code",
   "execution_count": null,
   "metadata": {},
   "outputs": [],
   "source": [
    "import datetime as dt\n",
    "dict_df_result_1, dict_df_position_1, logger = kq.backtest_stock_port_daily(\n",
    "    trade_func,\n",
    "    \"2023-08-22\",\n",
    "    \"2023-08-22\",\n",
    "    init_cash=1_000_000_000,\n",
    "    return_position=True,\n",
    "    return_logger=True,\n",
    ")"
   ]
  },
  {
   "cell_type": "code",
   "execution_count": null,
   "metadata": {},
   "outputs": [],
   "source": [
    "date = dt.date(2023, 8, 23)\n",
    "symbols_and_orders = trade_func(\n",
    "    date,\n",
    "    dict_df_result_1,\n",
    "    dict_df_position_1,\n",
    "    logger,\n",
    ")\n",
    "dict_df_result_2, dict_df_position_2 = kq.backtest_update_stock_port_daily(\n",
    "    symbols_and_orders,\n",
    "    date,\n",
    "    dict_df_result_1,\n",
    "    dict_df_position_1,\n",
    ")"
   ]
  },
  {
   "cell_type": "code",
   "execution_count": null,
   "metadata": {},
   "outputs": [],
   "source": [
    "date = dt.date(2023, 8, 24)\n",
    "\n",
    "symbols_and_orders = trade_func(\n",
    "    date,\n",
    "    dict_df_result_2,\n",
    "    dict_df_position_2,\n",
    "    logger,\n",
    ")\n",
    "\n",
    "dict_df_result_3, dict_df_position_3 = kq.backtest_update_stock_port_daily(\n",
    "    symbols_and_orders,\n",
    "    date,\n",
    "    dict_df_result_2,\n",
    "    dict_df_position_2,\n",
    ")"
   ]
  },
  {
   "cell_type": "code",
   "execution_count": null,
   "metadata": {},
   "outputs": [],
   "source": [
    "date = dt.date(2023, 9, 22)\n",
    "\n",
    "dict_df_result_4, dict_df_position_4 = kq.backtest_update_stock_port_daily(\n",
    "    [],\n",
    "    date,\n",
    "    dict_df_result_3,\n",
    "    dict_df_position_3,\n",
    ")\n",
    "result = dict_df_result_4[\"TOTAL\"][\"TOTAL_VALUE\"].tail(1).values[0]\n",
    "result"
   ]
  },
  {
   "cell_type": "code",
   "execution_count": null,
   "metadata": {},
   "outputs": [],
   "source": [
    "result"
   ]
  },
  {
   "cell_type": "code",
   "execution_count": null,
   "metadata": {},
   "outputs": [],
   "source": [
    "import kquant as kq\n",
    "\n",
    "# loop\n",
    "dict_df_result = kq.backtest_stock_port_daily(\n",
    "    trade_func,\n",
    "    \"2023-08-22\",  # 실제 심사에서는 투자기간 시작일\n",
    "    \"2023-09-10\",  # 실제 심사에서는 투자기간 종료일\n",
    "    init_cash=1_000_000_000,  # 10억원\n",
    ")"
   ]
  }
 ],
 "metadata": {
  "language_info": {
   "name": "python"
  },
  "orig_nbformat": 4
 },
 "nbformat": 4,
 "nbformat_minor": 2
}
